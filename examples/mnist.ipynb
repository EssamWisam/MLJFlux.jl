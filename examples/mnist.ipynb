{
 "cells": [
  {
   "cell_type": "code",
   "execution_count": 1,
   "metadata": {},
   "outputs": [
    {
     "name": "stderr",
     "output_type": "stream",
     "text": [
      "┌ Info: Recompiling stale cache file /home/ayush99/.julia/compiled/v1.1/MLJFlux/fHjkl.ji for MLJFlux [094fc8d1-fd35-5302-93ea-dabda2abf845]\n",
      "└ @ Base loading.jl:1184\n",
      "┌ Info: Recompiling stale cache file /home/ayush99/.julia/compiled/v1.1/MLJ/rAU56.ji for MLJ [add582a8-e3ab-11e8-2d5e-e98b27df1bc7]\n",
      "└ @ Base loading.jl:1184\n"
     ]
    }
   ],
   "source": [
    "using Flux\n",
    "using Flux.Data.MNIST\n",
    "using MLJFlux\n",
    "using CategoricalArrays\n",
    "using MLJBase\n",
    "using MLJ"
   ]
  },
  {
   "cell_type": "markdown",
   "metadata": {},
   "source": [
    "\n",
    "Loading the MNIST dataset:\n",
    "(Of type ColorTypes.Gray) "
   ]
  },
  {
   "cell_type": "code",
   "execution_count": 2,
   "metadata": {},
   "outputs": [],
   "source": [
    "train_labels, train_imgs = CategoricalArray(MNIST.labels()), MNIST.images();"
   ]
  },
  {
   "cell_type": "code",
   "execution_count": 3,
   "metadata": {},
   "outputs": [
    {
     "data": {
      "text/plain": [
       "(28, 28)"
      ]
     },
     "execution_count": 3,
     "metadata": {},
     "output_type": "execute_result"
    }
   ],
   "source": [
    "train_imgs[1] |> size"
   ]
  },
  {
   "cell_type": "markdown",
   "metadata": {},
   "source": [
    "Every neural network should be derived from MLJFlux.Builder. \n",
    "The *fit* method just builds the Flux neural network chain"
   ]
  },
  {
   "cell_type": "code",
   "execution_count": 4,
   "metadata": {},
   "outputs": [],
   "source": [
    "struct densenet <: MLJFlux.Builder\n",
    "    d1\n",
    "    d2\n",
    "end\n",
    "\n",
    "function MLJFlux.fit(model::densenet, a, b)\n",
    "    return Chain(vec, Dense(prod(a), model.d1), Dense(model.d1, model.d2), Dense(model.d2, b))\n",
    "end"
   ]
  },
  {
   "cell_type": "code",
   "execution_count": 5,
   "metadata": {},
   "outputs": [
    {
     "data": {
      "text/plain": [
       "UnivariateNeuralNetworkClassifier(builder = \u001b[34mdensenet @ 1…71\u001b[39m,\n",
       "                                  optimiser = ADAM(0.0003, (0.9, 0.999), IdDict{Any,Any}()),\n",
       "                                  loss = Flux.mse,\n",
       "                                  n = 1,\n",
       "                                  batch_size = 1,\n",
       "                                  lambda = 0.0,\n",
       "                                  alpha = 0.0,\n",
       "                                  optimiser_changes_trigger_retraining = false,)\u001b[34m @ 1…50\u001b[39m"
      ]
     },
     "execution_count": 5,
     "metadata": {},
     "output_type": "execute_result"
    }
   ],
   "source": [
    "builder = densenet(25, 20)\n",
    "\n",
    "model = UnivariateNeuralNetworkClassifier(builder=builder, optimiser = ADAM(0.0003), loss=Flux.mse, n=1)"
   ]
  },
  {
   "cell_type": "code",
   "execution_count": 6,
   "metadata": {},
   "outputs": [],
   "source": [
    "mach = machine(model, train_imgs[1:10], train_labels[1:10]);"
   ]
  },
  {
   "cell_type": "code",
   "execution_count": null,
   "metadata": {},
   "outputs": [
    {
     "name": "stderr",
     "output_type": "stream",
     "text": [
      "┌ Info: Training \u001b[34mMachine{UnivariateNeuralNetworkClassifier} @ 1…98\u001b[39m.\n",
      "└ @ MLJ /home/ayush99/.julia/packages/MLJ/XYSFt/src/machines.jl:135\n",
      "\u001b[33mOptimising neural net:100%[=========================] Time: 0:00:07\u001b[39m\n"
     ]
    }
   ],
   "source": [
    "fit!(mach)"
   ]
  },
  {
   "cell_type": "markdown",
   "metadata": {},
   "source": [
    "Now, *model* can be used just like any other MLJ model. We can call *fit*, *predict* or *update* methds on this.\n",
    "\n",
    "We can also do things like hyperparameter tuning with this by creating a machine."
   ]
  },
  {
   "cell_type": "markdown",
   "metadata": {},
   "source": [
    "Creating a new model with greater number of epochs will results in continuation of training of the earlier model:"
   ]
  },
  {
   "cell_type": "code",
   "execution_count": 1,
   "metadata": {},
   "outputs": [
    {
     "ename": "UndefVarError",
     "evalue": "UndefVarError: model not defined",
     "output_type": "error",
     "traceback": [
      "UndefVarError: model not defined",
      "",
      "Stacktrace:",
      " [1] top-level scope at In[1]:1"
     ]
    }
   ],
   "source": [
    "model.n = 2\n",
    "fit!(mach)"
   ]
  },
  {
   "cell_type": "code",
   "execution_count": null,
   "metadata": {},
   "outputs": [],
   "source": []
  }
 ],
 "metadata": {
  "kernelspec": {
   "display_name": "Julia 1.1.1",
   "language": "julia",
   "name": "julia-1.1"
  },
  "language_info": {
   "file_extension": ".jl",
   "mimetype": "application/julia",
   "name": "julia",
   "version": "1.1.1"
  }
 },
 "nbformat": 4,
 "nbformat_minor": 2
}
