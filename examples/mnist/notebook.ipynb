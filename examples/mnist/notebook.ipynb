{
 "cells": [
  {
   "cell_type": "markdown",
   "metadata": {},
   "source": [
    "# Using MLJ to classifiy the MNIST image dataset"
   ]
  },
  {
   "cell_type": "code",
   "execution_count": 1,
   "metadata": {},
   "outputs": [
    {
     "name": "stderr",
     "output_type": "stream",
     "text": [
      "\u001b[32m\u001b[1m  Activating\u001b[22m\u001b[39m project at `~/GoogleDrive/Julia/MLJ/MLJFlux/examples/mnist`\n"
     ]
    }
   ],
   "source": [
    "using Pkg\n",
    "const DIR = @__DIR__\n",
    "Pkg.activate(DIR)\n",
    "Pkg.instantiate()"
   ]
  },
  {
   "cell_type": "markdown",
   "metadata": {},
   "source": [
    "**Julia version** is assumed to be ^1.7"
   ]
  },
  {
   "cell_type": "code",
   "execution_count": 2,
   "metadata": {},
   "outputs": [
    {
     "name": "stderr",
     "output_type": "stream",
     "text": [
      "┌ Info: Precompiling MLJ [add582a8-e3ab-11e8-2d5e-e98b27df1bc7]\n",
      "└ @ Base loading.jl:1423\n"
     ]
    }
   ],
   "source": [
    "using MLJ\n",
    "using Flux\n",
    "import MLJFlux\n",
    "import MLJIteration # for `skip`\n",
    "\n",
    "using Plots\n",
    "gr(size=(600, 300*(sqrt(5)-1)));"
   ]
  },
  {
   "cell_type": "markdown",
   "metadata": {},
   "source": [
    "## Basic training"
   ]
  },
  {
   "cell_type": "markdown",
   "metadata": {},
   "source": [
    "Downloading the MNIST image dataset:"
   ]
  },
  {
   "cell_type": "code",
   "execution_count": 3,
   "metadata": {},
   "outputs": [
    {
     "name": "stderr",
     "output_type": "stream",
     "text": [
      "┌ Info: Precompiling MLDatasets [eb30cadb-4394-5ae3-aed4-317e484a6458]\n",
      "└ @ Base loading.jl:1423\n",
      "┌ Warning: MNIST.traindata() is deprecated, use `MNIST(split=:train)[:]` instead.\n",
      "└ @ MLDatasets /Users/anthony/.julia/packages/MLDatasets/eZ0Va/src/datasets/vision/mnist.jl:187\n"
     ]
    }
   ],
   "source": [
    "import MLDatasets: MNIST\n",
    "\n",
    "ENV[\"DATADEPS_ALWAYS_ACCEPT\"] = true\n",
    "images, labels = MNIST.traindata();"
   ]
  },
  {
   "cell_type": "markdown",
   "metadata": {},
   "source": [
    "In MLJ, integers cannot be used for encoding categorical data, so we\n",
    "must force the labels to have the `Multiclass` [scientific\n",
    "type](https://juliaai.github.io/ScientificTypes.jl/dev/). For\n",
    "more on this, see [Working with Categorical\n",
    "Data](https://alan-turing-institute.github.io/MLJ.jl/dev/working_with_categorical_data/)."
   ]
  },
  {
   "cell_type": "code",
   "execution_count": 4,
   "metadata": {},
   "outputs": [],
   "source": [
    "labels = coerce(labels, Multiclass);\n",
    "images = coerce(images, GrayImage);"
   ]
  },
  {
   "cell_type": "markdown",
   "metadata": {},
   "source": [
    "Checking scientific types:"
   ]
  },
  {
   "cell_type": "code",
   "execution_count": 5,
   "metadata": {},
   "outputs": [],
   "source": [
    "@assert scitype(images) <: AbstractVector{<:Image}\n",
    "@assert scitype(labels) <: AbstractVector{<:Finite}"
   ]
  },
  {
   "cell_type": "markdown",
   "metadata": {},
   "source": [
    "Looks good."
   ]
  },
  {
   "cell_type": "markdown",
   "metadata": {},
   "source": [
    "For general instructions on coercing image data, see [Type coercion\n",
    "for image\n",
    "data](https://alan-turing-institute.github.io/ScientificTypes.jl/dev/#Type-coercion-for-image-data-1)"
   ]
  },
  {
   "cell_type": "code",
   "execution_count": 6,
   "metadata": {},
   "outputs": [
    {
     "data": {
      "image/svg+xml": [
       "<?xml version=\"1.0\" encoding=\"UTF-8\"?>\n",
       "<!DOCTYPE svg PUBLIC \"-//W3C//DTD SVG 1.1//EN\"\n",
       " \"http://www.w3.org/Graphics/SVG/1.1/DTD/svg11.dtd\">\n",
       "<svg xmlns=\"http://www.w3.org/2000/svg\" version=\"1.1\"\n",
       "     width=\"150mm\" height=\"150mm\"\n",
       "     viewBox=\"0 0 28 28\" preserveAspectRatio=\"none\"\n",
       "     shape-rendering=\"crispEdges\" stroke=\"none\">\n",
       "<rect width=\".81\" height=\".81\" x=\"0\" y=\"0\" fill=\"#000000\" />\n",
       "<rect width=\".81\" height=\".81\" x=\"1\" y=\"0\" fill=\"#000000\" />\n",
       "<rect width=\".81\" height=\".81\" x=\"2\" y=\"0\" fill=\"#000000\" />\n",
       "<rect width=\".81\" height=\".81\" x=\"3\" y=\"0\" fill=\"#000000\" />\n",
       "<rect width=\".81\" height=\".81\" x=\"4\" y=\"0\" fill=\"#000000\" />\n",
       "<rect width=\".81\" height=\".81\" x=\"5\" y=\"0\" fill=\"#000000\" />\n",
       "<rect width=\".81\" height=\".81\" x=\"6\" y=\"0\" fill=\"#000000\" />\n",
       "<rect width=\".81\" height=\".81\" x=\"7\" y=\"0\" fill=\"#000000\" />\n",
       "<rect width=\".81\" height=\".81\" x=\"8\" y=\"0\" fill=\"#000000\" />\n",
       "<rect width=\".81\" height=\".81\" x=\"9\" y=\"0\" fill=\"#000000\" />\n",
       "<rect width=\".81\" height=\".81\" x=\"10\" y=\"0\" fill=\"#000000\" />\n",
       "<rect width=\".81\" height=\".81\" x=\"11\" y=\"0\" fill=\"#000000\" />\n",
       "<rect width=\".81\" height=\".81\" x=\"12\" y=\"0\" fill=\"#000000\" />\n",
       "<rect width=\".81\" height=\".81\" x=\"13\" y=\"0\" fill=\"#000000\" />\n",
       "<rect width=\".81\" height=\".81\" x=\"14\" y=\"0\" fill=\"#000000\" />\n",
       "<rect width=\".81\" height=\".81\" x=\"15\" y=\"0\" fill=\"#000000\" />\n",
       "<rect width=\".81\" height=\".81\" x=\"16\" y=\"0\" fill=\"#000000\" />\n",
       "<rect width=\".81\" height=\".81\" x=\"17\" y=\"0\" fill=\"#000000\" />\n",
       "<rect width=\".81\" height=\".81\" x=\"18\" y=\"0\" fill=\"#000000\" />\n",
       "<rect width=\".81\" height=\".81\" x=\"19\" y=\"0\" fill=\"#000000\" />\n",
       "<rect width=\".81\" height=\".81\" x=\"20\" y=\"0\" fill=\"#000000\" />\n",
       "<rect width=\".81\" height=\".81\" x=\"21\" y=\"0\" fill=\"#000000\" />\n",
       "<rect width=\".81\" height=\".81\" x=\"22\" y=\"0\" fill=\"#000000\" />\n",
       "<rect width=\".81\" height=\".81\" x=\"23\" y=\"0\" fill=\"#000000\" />\n",
       "<rect width=\".81\" height=\".81\" x=\"24\" y=\"0\" fill=\"#000000\" />\n",
       "<rect width=\".81\" height=\".81\" x=\"25\" y=\"0\" fill=\"#000000\" />\n",
       "<rect width=\".81\" height=\".81\" x=\"26\" y=\"0\" fill=\"#000000\" />\n",
       "<rect width=\".81\" height=\".81\" x=\"27\" y=\"0\" fill=\"#000000\" />\n",
       "<rect width=\".81\" height=\".81\" x=\"0\" y=\"1\" fill=\"#000000\" />\n",
       "<rect width=\".81\" height=\".81\" x=\"1\" y=\"1\" fill=\"#000000\" />\n",
       "<rect width=\".81\" height=\".81\" x=\"2\" y=\"1\" fill=\"#000000\" />\n",
       "<rect width=\".81\" height=\".81\" x=\"3\" y=\"1\" fill=\"#000000\" />\n",
       "<rect width=\".81\" height=\".81\" x=\"4\" y=\"1\" fill=\"#000000\" />\n",
       "<rect width=\".81\" height=\".81\" x=\"5\" y=\"1\" fill=\"#000000\" />\n",
       "<rect width=\".81\" height=\".81\" x=\"6\" y=\"1\" fill=\"#000000\" />\n",
       "<rect width=\".81\" height=\".81\" x=\"7\" y=\"1\" fill=\"#000000\" />\n",
       "<rect width=\".81\" height=\".81\" x=\"8\" y=\"1\" fill=\"#000000\" />\n",
       "<rect width=\".81\" height=\".81\" x=\"9\" y=\"1\" fill=\"#000000\" />\n",
       "<rect width=\".81\" height=\".81\" x=\"10\" y=\"1\" fill=\"#000000\" />\n",
       "<rect width=\".81\" height=\".81\" x=\"11\" y=\"1\" fill=\"#000000\" />\n",
       "<rect width=\".81\" height=\".81\" x=\"12\" y=\"1\" fill=\"#000000\" />\n",
       "<rect width=\".81\" height=\".81\" x=\"13\" y=\"1\" fill=\"#000000\" />\n",
       "<rect width=\".81\" height=\".81\" x=\"14\" y=\"1\" fill=\"#000000\" />\n",
       "<rect width=\".81\" height=\".81\" x=\"15\" y=\"1\" fill=\"#000000\" />\n",
       "<rect width=\".81\" height=\".81\" x=\"16\" y=\"1\" fill=\"#000000\" />\n",
       "<rect width=\".81\" height=\".81\" x=\"17\" y=\"1\" fill=\"#000000\" />\n",
       "<rect width=\".81\" height=\".81\" x=\"18\" y=\"1\" fill=\"#000000\" />\n",
       "<rect width=\".81\" height=\".81\" x=\"19\" y=\"1\" fill=\"#000000\" />\n",
       "<rect width=\".81\" height=\".81\" x=\"20\" y=\"1\" fill=\"#000000\" />\n",
       "<rect width=\".81\" height=\".81\" x=\"21\" y=\"1\" fill=\"#000000\" />\n",
       "<rect width=\".81\" height=\".81\" x=\"22\" y=\"1\" fill=\"#000000\" />\n",
       "<rect width=\".81\" height=\".81\" x=\"23\" y=\"1\" fill=\"#000000\" />\n",
       "<rect width=\".81\" height=\".81\" x=\"24\" y=\"1\" fill=\"#000000\" />\n",
       "<rect width=\".81\" height=\".81\" x=\"25\" y=\"1\" fill=\"#000000\" />\n",
       "<rect width=\".81\" height=\".81\" x=\"26\" y=\"1\" fill=\"#000000\" />\n",
       "<rect width=\".81\" height=\".81\" x=\"27\" y=\"1\" fill=\"#000000\" />\n",
       "<rect width=\".81\" height=\".81\" x=\"0\" y=\"2\" fill=\"#000000\" />\n",
       "<rect width=\".81\" height=\".81\" x=\"1\" y=\"2\" fill=\"#000000\" />\n",
       "<rect width=\".81\" height=\".81\" x=\"2\" y=\"2\" fill=\"#000000\" />\n",
       "<rect width=\".81\" height=\".81\" x=\"3\" y=\"2\" fill=\"#000000\" />\n",
       "<rect width=\".81\" height=\".81\" x=\"4\" y=\"2\" fill=\"#000000\" />\n",
       "<rect width=\".81\" height=\".81\" x=\"5\" y=\"2\" fill=\"#000000\" />\n",
       "<rect width=\".81\" height=\".81\" x=\"6\" y=\"2\" fill=\"#000000\" />\n",
       "<rect width=\".81\" height=\".81\" x=\"7\" y=\"2\" fill=\"#000000\" />\n",
       "<rect width=\".81\" height=\".81\" x=\"8\" y=\"2\" fill=\"#000000\" />\n",
       "<rect width=\".81\" height=\".81\" x=\"9\" y=\"2\" fill=\"#000000\" />\n",
       "<rect width=\".81\" height=\".81\" x=\"10\" y=\"2\" fill=\"#000000\" />\n",
       "<rect width=\".81\" height=\".81\" x=\"11\" y=\"2\" fill=\"#000000\" />\n",
       "<rect width=\".81\" height=\".81\" x=\"12\" y=\"2\" fill=\"#000000\" />\n",
       "<rect width=\".81\" height=\".81\" x=\"13\" y=\"2\" fill=\"#000000\" />\n",
       "<rect width=\".81\" height=\".81\" x=\"14\" y=\"2\" fill=\"#000000\" />\n",
       "<rect width=\".81\" height=\".81\" x=\"15\" y=\"2\" fill=\"#000000\" />\n",
       "<rect width=\".81\" height=\".81\" x=\"16\" y=\"2\" fill=\"#000000\" />\n",
       "<rect width=\".81\" height=\".81\" x=\"17\" y=\"2\" fill=\"#000000\" />\n",
       "<rect width=\".81\" height=\".81\" x=\"18\" y=\"2\" fill=\"#000000\" />\n",
       "<rect width=\".81\" height=\".81\" x=\"19\" y=\"2\" fill=\"#000000\" />\n",
       "<rect width=\".81\" height=\".81\" x=\"20\" y=\"2\" fill=\"#000000\" />\n",
       "<rect width=\".81\" height=\".81\" x=\"21\" y=\"2\" fill=\"#000000\" />\n",
       "<rect width=\".81\" height=\".81\" x=\"22\" y=\"2\" fill=\"#000000\" />\n",
       "<rect width=\".81\" height=\".81\" x=\"23\" y=\"2\" fill=\"#000000\" />\n",
       "<rect width=\".81\" height=\".81\" x=\"24\" y=\"2\" fill=\"#000000\" />\n",
       "<rect width=\".81\" height=\".81\" x=\"25\" y=\"2\" fill=\"#000000\" />\n",
       "<rect width=\".81\" height=\".81\" x=\"26\" y=\"2\" fill=\"#000000\" />\n",
       "<rect width=\".81\" height=\".81\" x=\"27\" y=\"2\" fill=\"#000000\" />\n",
       "<rect width=\".81\" height=\".81\" x=\"0\" y=\"3\" fill=\"#000000\" />\n",
       "<rect width=\".81\" height=\".81\" x=\"1\" y=\"3\" fill=\"#000000\" />\n",
       "<rect width=\".81\" height=\".81\" x=\"2\" y=\"3\" fill=\"#000000\" />\n",
       "<rect width=\".81\" height=\".81\" x=\"3\" y=\"3\" fill=\"#000000\" />\n",
       "<rect width=\".81\" height=\".81\" x=\"4\" y=\"3\" fill=\"#000000\" />\n",
       "<rect width=\".81\" height=\".81\" x=\"5\" y=\"3\" fill=\"#000000\" />\n",
       "<rect width=\".81\" height=\".81\" x=\"6\" y=\"3\" fill=\"#000000\" />\n",
       "<rect width=\".81\" height=\".81\" x=\"7\" y=\"3\" fill=\"#000000\" />\n",
       "<rect width=\".81\" height=\".81\" x=\"8\" y=\"3\" fill=\"#000000\" />\n",
       "<rect width=\".81\" height=\".81\" x=\"9\" y=\"3\" fill=\"#000000\" />\n",
       "<rect width=\".81\" height=\".81\" x=\"10\" y=\"3\" fill=\"#000000\" />\n",
       "<rect width=\".81\" height=\".81\" x=\"11\" y=\"3\" fill=\"#000000\" />\n",
       "<rect width=\".81\" height=\".81\" x=\"12\" y=\"3\" fill=\"#000000\" />\n",
       "<rect width=\".81\" height=\".81\" x=\"13\" y=\"3\" fill=\"#000000\" />\n",
       "<rect width=\".81\" height=\".81\" x=\"14\" y=\"3\" fill=\"#000000\" />\n",
       "<rect width=\".81\" height=\".81\" x=\"15\" y=\"3\" fill=\"#000000\" />\n",
       "<rect width=\".81\" height=\".81\" x=\"16\" y=\"3\" fill=\"#000000\" />\n",
       "<rect width=\".81\" height=\".81\" x=\"17\" y=\"3\" fill=\"#000000\" />\n",
       "<rect width=\".81\" height=\".81\" x=\"18\" y=\"3\" fill=\"#000000\" />\n",
       "<rect width=\".81\" height=\".81\" x=\"19\" y=\"3\" fill=\"#000000\" />\n",
       "<rect width=\".81\" height=\".81\" x=\"20\" y=\"3\" fill=\"#000000\" />\n",
       "<rect width=\".81\" height=\".81\" x=\"21\" y=\"3\" fill=\"#000000\" />\n",
       "<rect width=\".81\" height=\".81\" x=\"22\" y=\"3\" fill=\"#000000\" />\n",
       "<rect width=\".81\" height=\".81\" x=\"23\" y=\"3\" fill=\"#000000\" />\n",
       "<rect width=\".81\" height=\".81\" x=\"24\" y=\"3\" fill=\"#000000\" />\n",
       "<rect width=\".81\" height=\".81\" x=\"25\" y=\"3\" fill=\"#000000\" />\n",
       "<rect width=\".81\" height=\".81\" x=\"26\" y=\"3\" fill=\"#000000\" />\n",
       "<rect width=\".81\" height=\".81\" x=\"27\" y=\"3\" fill=\"#000000\" />\n",
       "<rect width=\".81\" height=\".81\" x=\"0\" y=\"4\" fill=\"#000000\" />\n",
       "<rect width=\".81\" height=\".81\" x=\"1\" y=\"4\" fill=\"#000000\" />\n",
       "<rect width=\".81\" height=\".81\" x=\"2\" y=\"4\" fill=\"#000000\" />\n",
       "<rect width=\".81\" height=\".81\" x=\"3\" y=\"4\" fill=\"#000000\" />\n",
       "<rect width=\".81\" height=\".81\" x=\"4\" y=\"4\" fill=\"#000000\" />\n",
       "<rect width=\".81\" height=\".81\" x=\"5\" y=\"4\" fill=\"#000000\" />\n",
       "<rect width=\".81\" height=\".81\" x=\"6\" y=\"4\" fill=\"#000000\" />\n",
       "<rect width=\".81\" height=\".81\" x=\"7\" y=\"4\" fill=\"#000000\" />\n",
       "<rect width=\".81\" height=\".81\" x=\"8\" y=\"4\" fill=\"#000000\" />\n",
       "<rect width=\".81\" height=\".81\" x=\"9\" y=\"4\" fill=\"#000000\" />\n",
       "<rect width=\".81\" height=\".81\" x=\"10\" y=\"4\" fill=\"#000000\" />\n",
       "<rect width=\".81\" height=\".81\" x=\"11\" y=\"4\" fill=\"#000000\" />\n",
       "<rect width=\".81\" height=\".81\" x=\"12\" y=\"4\" fill=\"#000000\" />\n",
       "<rect width=\".81\" height=\".81\" x=\"13\" y=\"4\" fill=\"#000000\" />\n",
       "<rect width=\".81\" height=\".81\" x=\"14\" y=\"4\" fill=\"#000000\" />\n",
       "<rect width=\".81\" height=\".81\" x=\"15\" y=\"4\" fill=\"#000000\" />\n",
       "<rect width=\".81\" height=\".81\" x=\"16\" y=\"4\" fill=\"#000000\" />\n",
       "<rect width=\".81\" height=\".81\" x=\"17\" y=\"4\" fill=\"#000000\" />\n",
       "<rect width=\".81\" height=\".81\" x=\"18\" y=\"4\" fill=\"#000000\" />\n",
       "<rect width=\".81\" height=\".81\" x=\"19\" y=\"4\" fill=\"#000000\" />\n",
       "<rect width=\".81\" height=\".81\" x=\"20\" y=\"4\" fill=\"#000000\" />\n",
       "<rect width=\".81\" height=\".81\" x=\"21\" y=\"4\" fill=\"#000000\" />\n",
       "<rect width=\".81\" height=\".81\" x=\"22\" y=\"4\" fill=\"#000000\" />\n",
       "<rect width=\".81\" height=\".81\" x=\"23\" y=\"4\" fill=\"#373737\" />\n",
       "<rect width=\".81\" height=\".81\" x=\"24\" y=\"4\" fill=\"#888888\" />\n",
       "<rect width=\".81\" height=\".81\" x=\"25\" y=\"4\" fill=\"#000000\" />\n",
       "<rect width=\".81\" height=\".81\" x=\"26\" y=\"4\" fill=\"#000000\" />\n",
       "<rect width=\".81\" height=\".81\" x=\"27\" y=\"4\" fill=\"#000000\" />\n",
       "<rect width=\".81\" height=\".81\" x=\"0\" y=\"5\" fill=\"#000000\" />\n",
       "<rect width=\".81\" height=\".81\" x=\"1\" y=\"5\" fill=\"#000000\" />\n",
       "<rect width=\".81\" height=\".81\" x=\"2\" y=\"5\" fill=\"#000000\" />\n",
       "<rect width=\".81\" height=\".81\" x=\"3\" y=\"5\" fill=\"#000000\" />\n",
       "<rect width=\".81\" height=\".81\" x=\"4\" y=\"5\" fill=\"#000000\" />\n",
       "<rect width=\".81\" height=\".81\" x=\"5\" y=\"5\" fill=\"#000000\" />\n",
       "<rect width=\".81\" height=\".81\" x=\"6\" y=\"5\" fill=\"#000000\" />\n",
       "<rect width=\".81\" height=\".81\" x=\"7\" y=\"5\" fill=\"#000000\" />\n",
       "<rect width=\".81\" height=\".81\" x=\"8\" y=\"5\" fill=\"#000000\" />\n",
       "<rect width=\".81\" height=\".81\" x=\"9\" y=\"5\" fill=\"#000000\" />\n",
       "<rect width=\".81\" height=\".81\" x=\"10\" y=\"5\" fill=\"#000000\" />\n",
       "<rect width=\".81\" height=\".81\" x=\"11\" y=\"5\" fill=\"#000000\" />\n",
       "<rect width=\".81\" height=\".81\" x=\"12\" y=\"5\" fill=\"#000000\" />\n",
       "<rect width=\".81\" height=\".81\" x=\"13\" y=\"5\" fill=\"#000000\" />\n",
       "<rect width=\".81\" height=\".81\" x=\"14\" y=\"5\" fill=\"#000000\" />\n",
       "<rect width=\".81\" height=\".81\" x=\"15\" y=\"5\" fill=\"#000000\" />\n",
       "<rect width=\".81\" height=\".81\" x=\"16\" y=\"5\" fill=\"#000000\" />\n",
       "<rect width=\".81\" height=\".81\" x=\"17\" y=\"5\" fill=\"#000000\" />\n",
       "<rect width=\".81\" height=\".81\" x=\"18\" y=\"5\" fill=\"#000000\" />\n",
       "<rect width=\".81\" height=\".81\" x=\"19\" y=\"5\" fill=\"#000000\" />\n",
       "<rect width=\".81\" height=\".81\" x=\"20\" y=\"5\" fill=\"#000000\" />\n",
       "<rect width=\".81\" height=\".81\" x=\"21\" y=\"5\" fill=\"#000000\" />\n",
       "<rect width=\".81\" height=\".81\" x=\"22\" y=\"5\" fill=\"#000000\" />\n",
       "<rect width=\".81\" height=\".81\" x=\"23\" y=\"5\" fill=\"#ACACAC\" />\n",
       "<rect width=\".81\" height=\".81\" x=\"24\" y=\"5\" fill=\"#FDFDFD\" />\n",
       "<rect width=\".81\" height=\".81\" x=\"25\" y=\"5\" fill=\"#000000\" />\n",
       "<rect width=\".81\" height=\".81\" x=\"26\" y=\"5\" fill=\"#000000\" />\n",
       "<rect width=\".81\" height=\".81\" x=\"27\" y=\"5\" fill=\"#000000\" />\n",
       "<rect width=\".81\" height=\".81\" x=\"0\" y=\"6\" fill=\"#000000\" />\n",
       "<rect width=\".81\" height=\".81\" x=\"1\" y=\"6\" fill=\"#000000\" />\n",
       "<rect width=\".81\" height=\".81\" x=\"2\" y=\"6\" fill=\"#000000\" />\n",
       "<rect width=\".81\" height=\".81\" x=\"3\" y=\"6\" fill=\"#000000\" />\n",
       "<rect width=\".81\" height=\".81\" x=\"4\" y=\"6\" fill=\"#000000\" />\n",
       "<rect width=\".81\" height=\".81\" x=\"5\" y=\"6\" fill=\"#000000\" />\n",
       "<rect width=\".81\" height=\".81\" x=\"6\" y=\"6\" fill=\"#000000\" />\n",
       "<rect width=\".81\" height=\".81\" x=\"7\" y=\"6\" fill=\"#000000\" />\n",
       "<rect width=\".81\" height=\".81\" x=\"8\" y=\"6\" fill=\"#000000\" />\n",
       "<rect width=\".81\" height=\".81\" x=\"9\" y=\"6\" fill=\"#000000\" />\n",
       "<rect width=\".81\" height=\".81\" x=\"10\" y=\"6\" fill=\"#000000\" />\n",
       "<rect width=\".81\" height=\".81\" x=\"11\" y=\"6\" fill=\"#000000\" />\n",
       "<rect width=\".81\" height=\".81\" x=\"12\" y=\"6\" fill=\"#000000\" />\n",
       "<rect width=\".81\" height=\".81\" x=\"13\" y=\"6\" fill=\"#000000\" />\n",
       "<rect width=\".81\" height=\".81\" x=\"14\" y=\"6\" fill=\"#000000\" />\n",
       "<rect width=\".81\" height=\".81\" x=\"15\" y=\"6\" fill=\"#000000\" />\n",
       "<rect width=\".81\" height=\".81\" x=\"16\" y=\"6\" fill=\"#000000\" />\n",
       "<rect width=\".81\" height=\".81\" x=\"17\" y=\"6\" fill=\"#000000\" />\n",
       "<rect width=\".81\" height=\".81\" x=\"18\" y=\"6\" fill=\"#000000\" />\n",
       "<rect width=\".81\" height=\".81\" x=\"19\" y=\"6\" fill=\"#000000\" />\n",
       "<rect width=\".81\" height=\".81\" x=\"20\" y=\"6\" fill=\"#000000\" />\n",
       "<rect width=\".81\" height=\".81\" x=\"21\" y=\"6\" fill=\"#000000\" />\n",
       "<rect width=\".81\" height=\".81\" x=\"22\" y=\"6\" fill=\"#121212\" />\n",
       "<rect width=\".81\" height=\".81\" x=\"23\" y=\"6\" fill=\"#E2E2E2\" />\n",
       "<rect width=\".81\" height=\".81\" x=\"24\" y=\"6\" fill=\"#FDFDFD\" />\n",
       "<rect width=\".81\" height=\".81\" x=\"25\" y=\"6\" fill=\"#000000\" />\n",
       "<rect width=\".81\" height=\".81\" x=\"26\" y=\"6\" fill=\"#000000\" />\n",
       "<rect width=\".81\" height=\".81\" x=\"27\" y=\"6\" fill=\"#000000\" />\n",
       "<rect width=\".81\" height=\".81\" x=\"0\" y=\"7\" fill=\"#000000\" />\n",
       "<rect width=\".81\" height=\".81\" x=\"1\" y=\"7\" fill=\"#000000\" />\n",
       "<rect width=\".81\" height=\".81\" x=\"2\" y=\"7\" fill=\"#000000\" />\n",
       "<rect width=\".81\" height=\".81\" x=\"3\" y=\"7\" fill=\"#000000\" />\n",
       "<rect width=\".81\" height=\".81\" x=\"4\" y=\"7\" fill=\"#000000\" />\n",
       "<rect width=\".81\" height=\".81\" x=\"5\" y=\"7\" fill=\"#000000\" />\n",
       "<rect width=\".81\" height=\".81\" x=\"6\" y=\"7\" fill=\"#000000\" />\n",
       "<rect width=\".81\" height=\".81\" x=\"7\" y=\"7\" fill=\"#313131\" />\n",
       "<rect width=\".81\" height=\".81\" x=\"8\" y=\"7\" fill=\"#121212\" />\n",
       "<rect width=\".81\" height=\".81\" x=\"9\" y=\"7\" fill=\"#000000\" />\n",
       "<rect width=\".81\" height=\".81\" x=\"10\" y=\"7\" fill=\"#000000\" />\n",
       "<rect width=\".81\" height=\".81\" x=\"11\" y=\"7\" fill=\"#000000\" />\n",
       "<rect width=\".81\" height=\".81\" x=\"12\" y=\"7\" fill=\"#000000\" />\n",
       "<rect width=\".81\" height=\".81\" x=\"13\" y=\"7\" fill=\"#000000\" />\n",
       "<rect width=\".81\" height=\".81\" x=\"14\" y=\"7\" fill=\"#000000\" />\n",
       "<rect width=\".81\" height=\".81\" x=\"15\" y=\"7\" fill=\"#000000\" />\n",
       "<rect width=\".81\" height=\".81\" x=\"16\" y=\"7\" fill=\"#000000\" />\n",
       "<rect width=\".81\" height=\".81\" x=\"17\" y=\"7\" fill=\"#000000\" />\n",
       "<rect width=\".81\" height=\".81\" x=\"18\" y=\"7\" fill=\"#000000\" />\n",
       "<rect width=\".81\" height=\".81\" x=\"19\" y=\"7\" fill=\"#000000\" />\n",
       "<rect width=\".81\" height=\".81\" x=\"20\" y=\"7\" fill=\"#000000\" />\n",
       "<rect width=\".81\" height=\".81\" x=\"21\" y=\"7\" fill=\"#000000\" />\n",
       "<rect width=\".81\" height=\".81\" x=\"22\" y=\"7\" fill=\"#ABABAB\" />\n",
       "<rect width=\".81\" height=\".81\" x=\"23\" y=\"7\" fill=\"#FDFDFD\" />\n",
       "<rect width=\".81\" height=\".81\" x=\"24\" y=\"7\" fill=\"#FDFDFD\" />\n",
       "<rect width=\".81\" height=\".81\" x=\"25\" y=\"7\" fill=\"#000000\" />\n",
       "<rect width=\".81\" height=\".81\" x=\"26\" y=\"7\" fill=\"#000000\" />\n",
       "<rect width=\".81\" height=\".81\" x=\"27\" y=\"7\" fill=\"#000000\" />\n",
       "<rect width=\".81\" height=\".81\" x=\"0\" y=\"8\" fill=\"#000000\" />\n",
       "<rect width=\".81\" height=\".81\" x=\"1\" y=\"8\" fill=\"#000000\" />\n",
       "<rect width=\".81\" height=\".81\" x=\"2\" y=\"8\" fill=\"#000000\" />\n",
       "<rect width=\".81\" height=\".81\" x=\"3\" y=\"8\" fill=\"#000000\" />\n",
       "<rect width=\".81\" height=\".81\" x=\"4\" y=\"8\" fill=\"#000000\" />\n",
       "<rect width=\".81\" height=\".81\" x=\"5\" y=\"8\" fill=\"#000000\" />\n",
       "<rect width=\".81\" height=\".81\" x=\"6\" y=\"8\" fill=\"#1E1E1E\" />\n",
       "<rect width=\".81\" height=\".81\" x=\"7\" y=\"8\" fill=\"#EEEEEE\" />\n",
       "<rect width=\".81\" height=\".81\" x=\"8\" y=\"8\" fill=\"#DBDBDB\" />\n",
       "<rect width=\".81\" height=\".81\" x=\"9\" y=\"8\" fill=\"#505050\" />\n",
       "<rect width=\".81\" height=\".81\" x=\"10\" y=\"8\" fill=\"#000000\" />\n",
       "<rect width=\".81\" height=\".81\" x=\"11\" y=\"8\" fill=\"#000000\" />\n",
       "<rect width=\".81\" height=\".81\" x=\"12\" y=\"8\" fill=\"#000000\" />\n",
       "<rect width=\".81\" height=\".81\" x=\"13\" y=\"8\" fill=\"#000000\" />\n",
       "<rect width=\".81\" height=\".81\" x=\"14\" y=\"8\" fill=\"#000000\" />\n",
       "<rect width=\".81\" height=\".81\" x=\"15\" y=\"8\" fill=\"#000000\" />\n",
       "<rect width=\".81\" height=\".81\" x=\"16\" y=\"8\" fill=\"#000000\" />\n",
       "<rect width=\".81\" height=\".81\" x=\"17\" y=\"8\" fill=\"#000000\" />\n",
       "<rect width=\".81\" height=\".81\" x=\"18\" y=\"8\" fill=\"#000000\" />\n",
       "<rect width=\".81\" height=\".81\" x=\"19\" y=\"8\" fill=\"#000000\" />\n",
       "<rect width=\".81\" height=\".81\" x=\"20\" y=\"8\" fill=\"#000000\" />\n",
       "<rect width=\".81\" height=\".81\" x=\"21\" y=\"8\" fill=\"#171717\" />\n",
       "<rect width=\".81\" height=\".81\" x=\"22\" y=\"8\" fill=\"#DBDBDB\" />\n",
       "<rect width=\".81\" height=\".81\" x=\"23\" y=\"8\" fill=\"#FDFDFD\" />\n",
       "<rect width=\".81\" height=\".81\" x=\"24\" y=\"8\" fill=\"#D4D4D4\" />\n",
       "<rect width=\".81\" height=\".81\" x=\"25\" y=\"8\" fill=\"#000000\" />\n",
       "<rect width=\".81\" height=\".81\" x=\"26\" y=\"8\" fill=\"#000000\" />\n",
       "<rect width=\".81\" height=\".81\" x=\"27\" y=\"8\" fill=\"#000000\" />\n",
       "<rect width=\".81\" height=\".81\" x=\"0\" y=\"9\" fill=\"#000000\" />\n",
       "<rect width=\".81\" height=\".81\" x=\"1\" y=\"9\" fill=\"#000000\" />\n",
       "<rect width=\".81\" height=\".81\" x=\"2\" y=\"9\" fill=\"#000000\" />\n",
       "<rect width=\".81\" height=\".81\" x=\"3\" y=\"9\" fill=\"#000000\" />\n",
       "<rect width=\".81\" height=\".81\" x=\"4\" y=\"9\" fill=\"#000000\" />\n",
       "<rect width=\".81\" height=\".81\" x=\"5\" y=\"9\" fill=\"#000000\" />\n",
       "<rect width=\".81\" height=\".81\" x=\"6\" y=\"9\" fill=\"#242424\" />\n",
       "<rect width=\".81\" height=\".81\" x=\"7\" y=\"9\" fill=\"#FDFDFD\" />\n",
       "<rect width=\".81\" height=\".81\" x=\"8\" y=\"9\" fill=\"#FDFDFD\" />\n",
       "<rect width=\".81\" height=\".81\" x=\"9\" y=\"9\" fill=\"#9C9C9C\" />\n",
       "<rect width=\".81\" height=\".81\" x=\"10\" y=\"9\" fill=\"#0E0E0E\" />\n",
       "<rect width=\".81\" height=\".81\" x=\"11\" y=\"9\" fill=\"#000000\" />\n",
       "<rect width=\".81\" height=\".81\" x=\"12\" y=\"9\" fill=\"#000000\" />\n",
       "<rect width=\".81\" height=\".81\" x=\"13\" y=\"9\" fill=\"#000000\" />\n",
       "<rect width=\".81\" height=\".81\" x=\"14\" y=\"9\" fill=\"#000000\" />\n",
       "<rect width=\".81\" height=\".81\" x=\"15\" y=\"9\" fill=\"#000000\" />\n",
       "<rect width=\".81\" height=\".81\" x=\"16\" y=\"9\" fill=\"#000000\" />\n",
       "<rect width=\".81\" height=\".81\" x=\"17\" y=\"9\" fill=\"#000000\" />\n",
       "<rect width=\".81\" height=\".81\" x=\"18\" y=\"9\" fill=\"#000000\" />\n",
       "<rect width=\".81\" height=\".81\" x=\"19\" y=\"9\" fill=\"#000000\" />\n",
       "<rect width=\".81\" height=\".81\" x=\"20\" y=\"9\" fill=\"#000000\" />\n",
       "<rect width=\".81\" height=\".81\" x=\"21\" y=\"9\" fill=\"#424242\" />\n",
       "<rect width=\".81\" height=\".81\" x=\"22\" y=\"9\" fill=\"#FDFDFD\" />\n",
       "<rect width=\".81\" height=\".81\" x=\"23\" y=\"9\" fill=\"#FDFDFD\" />\n",
       "<rect width=\".81\" height=\".81\" x=\"24\" y=\"9\" fill=\"#878787\" />\n",
       "<rect width=\".81\" height=\".81\" x=\"25\" y=\"9\" fill=\"#000000\" />\n",
       "<rect width=\".81\" height=\".81\" x=\"26\" y=\"9\" fill=\"#000000\" />\n",
       "<rect width=\".81\" height=\".81\" x=\"27\" y=\"9\" fill=\"#000000\" />\n",
       "<rect width=\".81\" height=\".81\" x=\"0\" y=\"10\" fill=\"#000000\" />\n",
       "<rect width=\".81\" height=\".81\" x=\"1\" y=\"10\" fill=\"#000000\" />\n",
       "<rect width=\".81\" height=\".81\" x=\"2\" y=\"10\" fill=\"#000000\" />\n",
       "<rect width=\".81\" height=\".81\" x=\"3\" y=\"10\" fill=\"#000000\" />\n",
       "<rect width=\".81\" height=\".81\" x=\"4\" y=\"10\" fill=\"#000000\" />\n",
       "<rect width=\".81\" height=\".81\" x=\"5\" y=\"10\" fill=\"#000000\" />\n",
       "<rect width=\".81\" height=\".81\" x=\"6\" y=\"10\" fill=\"#5E5E5E\" />\n",
       "<rect width=\".81\" height=\".81\" x=\"7\" y=\"10\" fill=\"#FDFDFD\" />\n",
       "<rect width=\".81\" height=\".81\" x=\"8\" y=\"10\" fill=\"#FDFDFD\" />\n",
       "<rect width=\".81\" height=\".81\" x=\"9\" y=\"10\" fill=\"#6B6B6B\" />\n",
       "<rect width=\".81\" height=\".81\" x=\"10\" y=\"10\" fill=\"#010101\" />\n",
       "<rect width=\".81\" height=\".81\" x=\"11\" y=\"10\" fill=\"#000000\" />\n",
       "<rect width=\".81\" height=\".81\" x=\"12\" y=\"10\" fill=\"#000000\" />\n",
       "<rect width=\".81\" height=\".81\" x=\"13\" y=\"10\" fill=\"#000000\" />\n",
       "<rect width=\".81\" height=\".81\" x=\"14\" y=\"10\" fill=\"#000000\" />\n",
       "<rect width=\".81\" height=\".81\" x=\"15\" y=\"10\" fill=\"#000000\" />\n",
       "<rect width=\".81\" height=\".81\" x=\"16\" y=\"10\" fill=\"#000000\" />\n",
       "<rect width=\".81\" height=\".81\" x=\"17\" y=\"10\" fill=\"#000000\" />\n",
       "<rect width=\".81\" height=\".81\" x=\"18\" y=\"10\" fill=\"#000000\" />\n",
       "<rect width=\".81\" height=\".81\" x=\"19\" y=\"10\" fill=\"#000000\" />\n",
       "<rect width=\".81\" height=\".81\" x=\"20\" y=\"10\" fill=\"#181818\" />\n",
       "<rect width=\".81\" height=\".81\" x=\"21\" y=\"10\" fill=\"#D5D5D5\" />\n",
       "<rect width=\".81\" height=\".81\" x=\"22\" y=\"10\" fill=\"#FDFDFD\" />\n",
       "<rect width=\".81\" height=\".81\" x=\"23\" y=\"10\" fill=\"#FDFDFD\" />\n",
       "<rect width=\".81\" height=\".81\" x=\"24\" y=\"10\" fill=\"#848484\" />\n",
       "<rect width=\".81\" height=\".81\" x=\"25\" y=\"10\" fill=\"#000000\" />\n",
       "<rect width=\".81\" height=\".81\" x=\"26\" y=\"10\" fill=\"#000000\" />\n",
       "<rect width=\".81\" height=\".81\" x=\"27\" y=\"10\" fill=\"#000000\" />\n",
       "<rect width=\".81\" height=\".81\" x=\"0\" y=\"11\" fill=\"#000000\" />\n",
       "<rect width=\".81\" height=\".81\" x=\"1\" y=\"11\" fill=\"#000000\" />\n",
       "<rect width=\".81\" height=\".81\" x=\"2\" y=\"11\" fill=\"#000000\" />\n",
       "<rect width=\".81\" height=\".81\" x=\"3\" y=\"11\" fill=\"#000000\" />\n",
       "<rect width=\".81\" height=\".81\" x=\"4\" y=\"11\" fill=\"#000000\" />\n",
       "<rect width=\".81\" height=\".81\" x=\"5\" y=\"11\" fill=\"#000000\" />\n",
       "<rect width=\".81\" height=\".81\" x=\"6\" y=\"11\" fill=\"#9A9A9A\" />\n",
       "<rect width=\".81\" height=\".81\" x=\"7\" y=\"11\" fill=\"#FDFDFD\" />\n",
       "<rect width=\".81\" height=\".81\" x=\"8\" y=\"11\" fill=\"#FDFDFD\" />\n",
       "<rect width=\".81\" height=\".81\" x=\"9\" y=\"11\" fill=\"#FDFDFD\" />\n",
       "<rect width=\".81\" height=\".81\" x=\"10\" y=\"11\" fill=\"#9A9A9A\" />\n",
       "<rect width=\".81\" height=\".81\" x=\"11\" y=\"11\" fill=\"#8B8B8B\" />\n",
       "<rect width=\".81\" height=\".81\" x=\"12\" y=\"11\" fill=\"#0B0B0B\" />\n",
       "<rect width=\".81\" height=\".81\" x=\"13\" y=\"11\" fill=\"#000000\" />\n",
       "<rect width=\".81\" height=\".81\" x=\"14\" y=\"11\" fill=\"#000000\" />\n",
       "<rect width=\".81\" height=\".81\" x=\"15\" y=\"11\" fill=\"#000000\" />\n",
       "<rect width=\".81\" height=\".81\" x=\"16\" y=\"11\" fill=\"#000000\" />\n",
       "<rect width=\".81\" height=\".81\" x=\"17\" y=\"11\" fill=\"#000000\" />\n",
       "<rect width=\".81\" height=\".81\" x=\"18\" y=\"11\" fill=\"#000000\" />\n",
       "<rect width=\".81\" height=\".81\" x=\"19\" y=\"11\" fill=\"#000000\" />\n",
       "<rect width=\".81\" height=\".81\" x=\"20\" y=\"11\" fill=\"#727272\" />\n",
       "<rect width=\".81\" height=\".81\" x=\"21\" y=\"11\" fill=\"#FDFDFD\" />\n",
       "<rect width=\".81\" height=\".81\" x=\"22\" y=\"11\" fill=\"#FDFDFD\" />\n",
       "<rect width=\".81\" height=\".81\" x=\"23\" y=\"11\" fill=\"#F4F4F4\" />\n",
       "<rect width=\".81\" height=\".81\" x=\"24\" y=\"11\" fill=\"#101010\" />\n",
       "<rect width=\".81\" height=\".81\" x=\"25\" y=\"11\" fill=\"#000000\" />\n",
       "<rect width=\".81\" height=\".81\" x=\"26\" y=\"11\" fill=\"#000000\" />\n",
       "<rect width=\".81\" height=\".81\" x=\"27\" y=\"11\" fill=\"#000000\" />\n",
       "<rect width=\".81\" height=\".81\" x=\"0\" y=\"12\" fill=\"#000000\" />\n",
       "<rect width=\".81\" height=\".81\" x=\"1\" y=\"12\" fill=\"#000000\" />\n",
       "<rect width=\".81\" height=\".81\" x=\"2\" y=\"12\" fill=\"#000000\" />\n",
       "<rect width=\".81\" height=\".81\" x=\"3\" y=\"12\" fill=\"#000000\" />\n",
       "<rect width=\".81\" height=\".81\" x=\"4\" y=\"12\" fill=\"#000000\" />\n",
       "<rect width=\".81\" height=\".81\" x=\"5\" y=\"12\" fill=\"#030303\" />\n",
       "<rect width=\".81\" height=\".81\" x=\"6\" y=\"12\" fill=\"#AAAAAA\" />\n",
       "<rect width=\".81\" height=\".81\" x=\"7\" y=\"12\" fill=\"#FDFDFD\" />\n",
       "<rect width=\".81\" height=\".81\" x=\"8\" y=\"12\" fill=\"#FDFDFD\" />\n",
       "<rect width=\".81\" height=\".81\" x=\"9\" y=\"12\" fill=\"#FDFDFD\" />\n",
       "<rect width=\".81\" height=\".81\" x=\"10\" y=\"12\" fill=\"#FDFDFD\" />\n",
       "<rect width=\".81\" height=\".81\" x=\"11\" y=\"12\" fill=\"#FDFDFD\" />\n",
       "<rect width=\".81\" height=\".81\" x=\"12\" y=\"12\" fill=\"#BEBEBE\" />\n",
       "<rect width=\".81\" height=\".81\" x=\"13\" y=\"12\" fill=\"#232323\" />\n",
       "<rect width=\".81\" height=\".81\" x=\"14\" y=\"12\" fill=\"#000000\" />\n",
       "<rect width=\".81\" height=\".81\" x=\"15\" y=\"12\" fill=\"#000000\" />\n",
       "<rect width=\".81\" height=\".81\" x=\"16\" y=\"12\" fill=\"#000000\" />\n",
       "<rect width=\".81\" height=\".81\" x=\"17\" y=\"12\" fill=\"#000000\" />\n",
       "<rect width=\".81\" height=\".81\" x=\"18\" y=\"12\" fill=\"#000000\" />\n",
       "<rect width=\".81\" height=\".81\" x=\"19\" y=\"12\" fill=\"#272727\" />\n",
       "<rect width=\".81\" height=\".81\" x=\"20\" y=\"12\" fill=\"#DDDDDD\" />\n",
       "<rect width=\".81\" height=\".81\" x=\"21\" y=\"12\" fill=\"#FDFDFD\" />\n",
       "<rect width=\".81\" height=\".81\" x=\"22\" y=\"12\" fill=\"#FDFDFD\" />\n",
       "<rect width=\".81\" height=\".81\" x=\"23\" y=\"12\" fill=\"#858585\" />\n",
       "<rect width=\".81\" height=\".81\" x=\"24\" y=\"12\" fill=\"#000000\" />\n",
       "<rect width=\".81\" height=\".81\" x=\"25\" y=\"12\" fill=\"#000000\" />\n",
       "<rect width=\".81\" height=\".81\" x=\"26\" y=\"12\" fill=\"#000000\" />\n",
       "<rect width=\".81\" height=\".81\" x=\"27\" y=\"12\" fill=\"#000000\" />\n",
       "<rect width=\".81\" height=\".81\" x=\"0\" y=\"13\" fill=\"#000000\" />\n",
       "<rect width=\".81\" height=\".81\" x=\"1\" y=\"13\" fill=\"#000000\" />\n",
       "<rect width=\".81\" height=\".81\" x=\"2\" y=\"13\" fill=\"#000000\" />\n",
       "<rect width=\".81\" height=\".81\" x=\"3\" y=\"13\" fill=\"#000000\" />\n",
       "<rect width=\".81\" height=\".81\" x=\"4\" y=\"13\" fill=\"#000000\" />\n",
       "<rect width=\".81\" height=\".81\" x=\"5\" y=\"13\" fill=\"#121212\" />\n",
       "<rect width=\".81\" height=\".81\" x=\"6\" y=\"13\" fill=\"#FDFDFD\" />\n",
       "<rect width=\".81\" height=\".81\" x=\"7\" y=\"13\" fill=\"#FDFDFD\" />\n",
       "<rect width=\".81\" height=\".81\" x=\"8\" y=\"13\" fill=\"#FDFDFD\" />\n",
       "<rect width=\".81\" height=\".81\" x=\"9\" y=\"13\" fill=\"#CDCDCD\" />\n",
       "<rect width=\".81\" height=\".81\" x=\"10\" y=\"13\" fill=\"#5A5A5A\" />\n",
       "<rect width=\".81\" height=\".81\" x=\"11\" y=\"13\" fill=\"#BEBEBE\" />\n",
       "<rect width=\".81\" height=\".81\" x=\"12\" y=\"13\" fill=\"#FDFDFD\" />\n",
       "<rect width=\".81\" height=\".81\" x=\"13\" y=\"13\" fill=\"#F1F1F1\" />\n",
       "<rect width=\".81\" height=\".81\" x=\"14\" y=\"13\" fill=\"#515151\" />\n",
       "<rect width=\".81\" height=\".81\" x=\"15\" y=\"13\" fill=\"#000000\" />\n",
       "<rect width=\".81\" height=\".81\" x=\"16\" y=\"13\" fill=\"#000000\" />\n",
       "<rect width=\".81\" height=\".81\" x=\"17\" y=\"13\" fill=\"#000000\" />\n",
       "<rect width=\".81\" height=\".81\" x=\"18\" y=\"13\" fill=\"#000000\" />\n",
       "<rect width=\".81\" height=\".81\" x=\"19\" y=\"13\" fill=\"#949494\" />\n",
       "<rect width=\".81\" height=\".81\" x=\"20\" y=\"13\" fill=\"#FDFDFD\" />\n",
       "<rect width=\".81\" height=\".81\" x=\"21\" y=\"13\" fill=\"#FDFDFD\" />\n",
       "<rect width=\".81\" height=\".81\" x=\"22\" y=\"13\" fill=\"#C3C3C3\" />\n",
       "<rect width=\".81\" height=\".81\" x=\"23\" y=\"13\" fill=\"#0B0B0B\" />\n",
       "<rect width=\".81\" height=\".81\" x=\"24\" y=\"13\" fill=\"#000000\" />\n",
       "<rect width=\".81\" height=\".81\" x=\"25\" y=\"13\" fill=\"#000000\" />\n",
       "<rect width=\".81\" height=\".81\" x=\"26\" y=\"13\" fill=\"#000000\" />\n",
       "<rect width=\".81\" height=\".81\" x=\"27\" y=\"13\" fill=\"#000000\" />\n",
       "<rect width=\".81\" height=\".81\" x=\"0\" y=\"14\" fill=\"#000000\" />\n",
       "<rect width=\".81\" height=\".81\" x=\"1\" y=\"14\" fill=\"#000000\" />\n",
       "<rect width=\".81\" height=\".81\" x=\"2\" y=\"14\" fill=\"#000000\" />\n",
       "<rect width=\".81\" height=\".81\" x=\"3\" y=\"14\" fill=\"#000000\" />\n",
       "<rect width=\".81\" height=\".81\" x=\"4\" y=\"14\" fill=\"#000000\" />\n",
       "<rect width=\".81\" height=\".81\" x=\"5\" y=\"14\" fill=\"#121212\" />\n",
       "<rect width=\".81\" height=\".81\" x=\"6\" y=\"14\" fill=\"#FDFDFD\" />\n",
       "<rect width=\".81\" height=\".81\" x=\"7\" y=\"14\" fill=\"#FDFDFD\" />\n",
       "<rect width=\".81\" height=\".81\" x=\"8\" y=\"14\" fill=\"#C6C6C6\" />\n",
       "<rect width=\".81\" height=\".81\" x=\"9\" y=\"14\" fill=\"#0B0B0B\" />\n",
       "<rect width=\".81\" height=\".81\" x=\"10\" y=\"14\" fill=\"#000000\" />\n",
       "<rect width=\".81\" height=\".81\" x=\"11\" y=\"14\" fill=\"#020202\" />\n",
       "<rect width=\".81\" height=\".81\" x=\"12\" y=\"14\" fill=\"#464646\" />\n",
       "<rect width=\".81\" height=\".81\" x=\"13\" y=\"14\" fill=\"#E1E1E1\" />\n",
       "<rect width=\".81\" height=\".81\" x=\"14\" y=\"14\" fill=\"#F0F0F0\" />\n",
       "<rect width=\".81\" height=\".81\" x=\"15\" y=\"14\" fill=\"#2D2D2D\" />\n",
       "<rect width=\".81\" height=\".81\" x=\"16\" y=\"14\" fill=\"#000000\" />\n",
       "<rect width=\".81\" height=\".81\" x=\"17\" y=\"14\" fill=\"#000000\" />\n",
       "<rect width=\".81\" height=\".81\" x=\"18\" y=\"14\" fill=\"#2E2E2E\" />\n",
       "<rect width=\".81\" height=\".81\" x=\"19\" y=\"14\" fill=\"#E5E5E5\" />\n",
       "<rect width=\".81\" height=\".81\" x=\"20\" y=\"14\" fill=\"#FDFDFD\" />\n",
       "<rect width=\".81\" height=\".81\" x=\"21\" y=\"14\" fill=\"#FDFDFD\" />\n",
       "<rect width=\".81\" height=\".81\" x=\"22\" y=\"14\" fill=\"#505050\" />\n",
       "<rect width=\".81\" height=\".81\" x=\"23\" y=\"14\" fill=\"#000000\" />\n",
       "<rect width=\".81\" height=\".81\" x=\"24\" y=\"14\" fill=\"#000000\" />\n",
       "<rect width=\".81\" height=\".81\" x=\"25\" y=\"14\" fill=\"#000000\" />\n",
       "<rect width=\".81\" height=\".81\" x=\"26\" y=\"14\" fill=\"#000000\" />\n",
       "<rect width=\".81\" height=\".81\" x=\"27\" y=\"14\" fill=\"#000000\" />\n",
       "<rect width=\".81\" height=\".81\" x=\"0\" y=\"15\" fill=\"#000000\" />\n",
       "<rect width=\".81\" height=\".81\" x=\"1\" y=\"15\" fill=\"#000000\" />\n",
       "<rect width=\".81\" height=\".81\" x=\"2\" y=\"15\" fill=\"#000000\" />\n",
       "<rect width=\".81\" height=\".81\" x=\"3\" y=\"15\" fill=\"#000000\" />\n",
       "<rect width=\".81\" height=\".81\" x=\"4\" y=\"15\" fill=\"#000000\" />\n",
       "<rect width=\".81\" height=\".81\" x=\"5\" y=\"15\" fill=\"#121212\" />\n",
       "<rect width=\".81\" height=\".81\" x=\"6\" y=\"15\" fill=\"#FDFDFD\" />\n",
       "<rect width=\".81\" height=\".81\" x=\"7\" y=\"15\" fill=\"#FDFDFD\" />\n",
       "<rect width=\".81\" height=\".81\" x=\"8\" y=\"15\" fill=\"#B6B6B6\" />\n",
       "<rect width=\".81\" height=\".81\" x=\"9\" y=\"15\" fill=\"#000000\" />\n",
       "<rect width=\".81\" height=\".81\" x=\"10\" y=\"15\" fill=\"#000000\" />\n",
       "<rect width=\".81\" height=\".81\" x=\"11\" y=\"15\" fill=\"#000000\" />\n",
       "<rect width=\".81\" height=\".81\" x=\"12\" y=\"15\" fill=\"#000000\" />\n",
       "<rect width=\".81\" height=\".81\" x=\"13\" y=\"15\" fill=\"#A0A0A0\" />\n",
       "<rect width=\".81\" height=\".81\" x=\"14\" y=\"15\" fill=\"#FDFDFD\" />\n",
       "<rect width=\".81\" height=\".81\" x=\"15\" y=\"15\" fill=\"#BABABA\" />\n",
       "<rect width=\".81\" height=\".81\" x=\"16\" y=\"15\" fill=\"#101010\" />\n",
       "<rect width=\".81\" height=\".81\" x=\"17\" y=\"15\" fill=\"#000000\" />\n",
       "<rect width=\".81\" height=\".81\" x=\"18\" y=\"15\" fill=\"#828282\" />\n",
       "<rect width=\".81\" height=\".81\" x=\"19\" y=\"15\" fill=\"#FDFDFD\" />\n",
       "<rect width=\".81\" height=\".81\" x=\"20\" y=\"15\" fill=\"#FDFDFD\" />\n",
       "<rect width=\".81\" height=\".81\" x=\"21\" y=\"15\" fill=\"#C6C6C6\" />\n",
       "<rect width=\".81\" height=\".81\" x=\"22\" y=\"15\" fill=\"#090909\" />\n",
       "<rect width=\".81\" height=\".81\" x=\"23\" y=\"15\" fill=\"#000000\" />\n",
       "<rect width=\".81\" height=\".81\" x=\"24\" y=\"15\" fill=\"#000000\" />\n",
       "<rect width=\".81\" height=\".81\" x=\"25\" y=\"15\" fill=\"#000000\" />\n",
       "<rect width=\".81\" height=\".81\" x=\"26\" y=\"15\" fill=\"#000000\" />\n",
       "<rect width=\".81\" height=\".81\" x=\"27\" y=\"15\" fill=\"#000000\" />\n",
       "<rect width=\".81\" height=\".81\" x=\"0\" y=\"16\" fill=\"#000000\" />\n",
       "<rect width=\".81\" height=\".81\" x=\"1\" y=\"16\" fill=\"#000000\" />\n",
       "<rect width=\".81\" height=\".81\" x=\"2\" y=\"16\" fill=\"#000000\" />\n",
       "<rect width=\".81\" height=\".81\" x=\"3\" y=\"16\" fill=\"#000000\" />\n",
       "<rect width=\".81\" height=\".81\" x=\"4\" y=\"16\" fill=\"#000000\" />\n",
       "<rect width=\".81\" height=\".81\" x=\"5\" y=\"16\" fill=\"#7E7E7E\" />\n",
       "<rect width=\".81\" height=\".81\" x=\"6\" y=\"16\" fill=\"#FDFDFD\" />\n",
       "<rect width=\".81\" height=\".81\" x=\"7\" y=\"16\" fill=\"#FDFDFD\" />\n",
       "<rect width=\".81\" height=\".81\" x=\"8\" y=\"16\" fill=\"#F7F7F7\" />\n",
       "<rect width=\".81\" height=\".81\" x=\"9\" y=\"16\" fill=\"#2B2B2B\" />\n",
       "<rect width=\".81\" height=\".81\" x=\"10\" y=\"16\" fill=\"#000000\" />\n",
       "<rect width=\".81\" height=\".81\" x=\"11\" y=\"16\" fill=\"#000000\" />\n",
       "<rect width=\".81\" height=\".81\" x=\"12\" y=\"16\" fill=\"#000000\" />\n",
       "<rect width=\".81\" height=\".81\" x=\"13\" y=\"16\" fill=\"#6C6C6C\" />\n",
       "<rect width=\".81\" height=\".81\" x=\"14\" y=\"16\" fill=\"#FDFDFD\" />\n",
       "<rect width=\".81\" height=\".81\" x=\"15\" y=\"16\" fill=\"#FDFDFD\" />\n",
       "<rect width=\".81\" height=\".81\" x=\"16\" y=\"16\" fill=\"#5D5D5D\" />\n",
       "<rect width=\".81\" height=\".81\" x=\"17\" y=\"16\" fill=\"#000000\" />\n",
       "<rect width=\".81\" height=\".81\" x=\"18\" y=\"16\" fill=\"#B7B7B7\" />\n",
       "<rect width=\".81\" height=\".81\" x=\"19\" y=\"16\" fill=\"#FDFDFD\" />\n",
       "<rect width=\".81\" height=\".81\" x=\"20\" y=\"16\" fill=\"#FDFDFD\" />\n",
       "<rect width=\".81\" height=\".81\" x=\"21\" y=\"16\" fill=\"#515151\" />\n",
       "<rect width=\".81\" height=\".81\" x=\"22\" y=\"16\" fill=\"#000000\" />\n",
       "<rect width=\".81\" height=\".81\" x=\"23\" y=\"16\" fill=\"#000000\" />\n",
       "<rect width=\".81\" height=\".81\" x=\"24\" y=\"16\" fill=\"#000000\" />\n",
       "<rect width=\".81\" height=\".81\" x=\"25\" y=\"16\" fill=\"#000000\" />\n",
       "<rect width=\".81\" height=\".81\" x=\"26\" y=\"16\" fill=\"#000000\" />\n",
       "<rect width=\".81\" height=\".81\" x=\"27\" y=\"16\" fill=\"#000000\" />\n",
       "<rect width=\".81\" height=\".81\" x=\"0\" y=\"17\" fill=\"#000000\" />\n",
       "<rect width=\".81\" height=\".81\" x=\"1\" y=\"17\" fill=\"#000000\" />\n",
       "<rect width=\".81\" height=\".81\" x=\"2\" y=\"17\" fill=\"#000000\" />\n",
       "<rect width=\".81\" height=\".81\" x=\"3\" y=\"17\" fill=\"#000000\" />\n",
       "<rect width=\".81\" height=\".81\" x=\"4\" y=\"17\" fill=\"#000000\" />\n",
       "<rect width=\".81\" height=\".81\" x=\"5\" y=\"17\" fill=\"#888888\" />\n",
       "<rect width=\".81\" height=\".81\" x=\"6\" y=\"17\" fill=\"#FDFDFD\" />\n",
       "<rect width=\".81\" height=\".81\" x=\"7\" y=\"17\" fill=\"#FBFBFB\" />\n",
       "<rect width=\".81\" height=\".81\" x=\"8\" y=\"17\" fill=\"#F1F1F1\" />\n",
       "<rect width=\".81\" height=\".81\" x=\"9\" y=\"17\" fill=\"#9A9A9A\" />\n",
       "<rect width=\".81\" height=\".81\" x=\"10\" y=\"17\" fill=\"#000000\" />\n",
       "<rect width=\".81\" height=\".81\" x=\"11\" y=\"17\" fill=\"#000000\" />\n",
       "<rect width=\".81\" height=\".81\" x=\"12\" y=\"17\" fill=\"#000000\" />\n",
       "<rect width=\".81\" height=\".81\" x=\"13\" y=\"17\" fill=\"#010101\" />\n",
       "<rect width=\".81\" height=\".81\" x=\"14\" y=\"17\" fill=\"#777777\" />\n",
       "<rect width=\".81\" height=\".81\" x=\"15\" y=\"17\" fill=\"#FDFDFD\" />\n",
       "<rect width=\".81\" height=\".81\" x=\"16\" y=\"17\" fill=\"#FCFCFC\" />\n",
       "<rect width=\".81\" height=\".81\" x=\"17\" y=\"17\" fill=\"#F9F9F9\" />\n",
       "<rect width=\".81\" height=\".81\" x=\"18\" y=\"17\" fill=\"#FDFDFD\" />\n",
       "<rect width=\".81\" height=\".81\" x=\"19\" y=\"17\" fill=\"#FDFDFD\" />\n",
       "<rect width=\".81\" height=\".81\" x=\"20\" y=\"17\" fill=\"#C9C9C9\" />\n",
       "<rect width=\".81\" height=\".81\" x=\"21\" y=\"17\" fill=\"#020202\" />\n",
       "<rect width=\".81\" height=\".81\" x=\"22\" y=\"17\" fill=\"#000000\" />\n",
       "<rect width=\".81\" height=\".81\" x=\"23\" y=\"17\" fill=\"#000000\" />\n",
       "<rect width=\".81\" height=\".81\" x=\"24\" y=\"17\" fill=\"#000000\" />\n",
       "<rect width=\".81\" height=\".81\" x=\"25\" y=\"17\" fill=\"#000000\" />\n",
       "<rect width=\".81\" height=\".81\" x=\"26\" y=\"17\" fill=\"#000000\" />\n",
       "<rect width=\".81\" height=\".81\" x=\"27\" y=\"17\" fill=\"#000000\" />\n",
       "<rect width=\".81\" height=\".81\" x=\"0\" y=\"18\" fill=\"#000000\" />\n",
       "<rect width=\".81\" height=\".81\" x=\"1\" y=\"18\" fill=\"#000000\" />\n",
       "<rect width=\".81\" height=\".81\" x=\"2\" y=\"18\" fill=\"#000000\" />\n",
       "<rect width=\".81\" height=\".81\" x=\"3\" y=\"18\" fill=\"#000000\" />\n",
       "<rect width=\".81\" height=\".81\" x=\"4\" y=\"18\" fill=\"#000000\" />\n",
       "<rect width=\".81\" height=\".81\" x=\"5\" y=\"18\" fill=\"#AFAFAF\" />\n",
       "<rect width=\".81\" height=\".81\" x=\"6\" y=\"18\" fill=\"#E1E1E1\" />\n",
       "<rect width=\".81\" height=\".81\" x=\"7\" y=\"18\" fill=\"#5D5D5D\" />\n",
       "<rect width=\".81\" height=\".81\" x=\"8\" y=\"18\" fill=\"#000000\" />\n",
       "<rect width=\".81\" height=\".81\" x=\"9\" y=\"18\" fill=\"#000000\" />\n",
       "<rect width=\".81\" height=\".81\" x=\"10\" y=\"18\" fill=\"#000000\" />\n",
       "<rect width=\".81\" height=\".81\" x=\"11\" y=\"18\" fill=\"#000000\" />\n",
       "<rect width=\".81\" height=\".81\" x=\"12\" y=\"18\" fill=\"#000000\" />\n",
       "<rect width=\".81\" height=\".81\" x=\"13\" y=\"18\" fill=\"#000000\" />\n",
       "<rect width=\".81\" height=\".81\" x=\"14\" y=\"18\" fill=\"#191919\" />\n",
       "<rect width=\".81\" height=\".81\" x=\"15\" y=\"18\" fill=\"#969696\" />\n",
       "<rect width=\".81\" height=\".81\" x=\"16\" y=\"18\" fill=\"#FDFDFD\" />\n",
       "<rect width=\".81\" height=\".81\" x=\"17\" y=\"18\" fill=\"#FDFDFD\" />\n",
       "<rect width=\".81\" height=\".81\" x=\"18\" y=\"18\" fill=\"#FDFDFD\" />\n",
       "<rect width=\".81\" height=\".81\" x=\"19\" y=\"18\" fill=\"#FAFAFA\" />\n",
       "<rect width=\".81\" height=\".81\" x=\"20\" y=\"18\" fill=\"#4E4E4E\" />\n",
       "<rect width=\".81\" height=\".81\" x=\"21\" y=\"18\" fill=\"#000000\" />\n",
       "<rect width=\".81\" height=\".81\" x=\"22\" y=\"18\" fill=\"#000000\" />\n",
       "<rect width=\".81\" height=\".81\" x=\"23\" y=\"18\" fill=\"#000000\" />\n",
       "<rect width=\".81\" height=\".81\" x=\"24\" y=\"18\" fill=\"#000000\" />\n",
       "<rect width=\".81\" height=\".81\" x=\"25\" y=\"18\" fill=\"#000000\" />\n",
       "<rect width=\".81\" height=\".81\" x=\"26\" y=\"18\" fill=\"#000000\" />\n",
       "<rect width=\".81\" height=\".81\" x=\"27\" y=\"18\" fill=\"#000000\" />\n",
       "<rect width=\".81\" height=\".81\" x=\"0\" y=\"19\" fill=\"#000000\" />\n",
       "<rect width=\".81\" height=\".81\" x=\"1\" y=\"19\" fill=\"#000000\" />\n",
       "<rect width=\".81\" height=\".81\" x=\"2\" y=\"19\" fill=\"#000000\" />\n",
       "<rect width=\".81\" height=\".81\" x=\"3\" y=\"19\" fill=\"#000000\" />\n",
       "<rect width=\".81\" height=\".81\" x=\"4\" y=\"19\" fill=\"#000000\" />\n",
       "<rect width=\".81\" height=\".81\" x=\"5\" y=\"19\" fill=\"#1A1A1A\" />\n",
       "<rect width=\".81\" height=\".81\" x=\"6\" y=\"19\" fill=\"#ACACAC\" />\n",
       "<rect width=\".81\" height=\".81\" x=\"7\" y=\"19\" fill=\"#525252\" />\n",
       "<rect width=\".81\" height=\".81\" x=\"8\" y=\"19\" fill=\"#000000\" />\n",
       "<rect width=\".81\" height=\".81\" x=\"9\" y=\"19\" fill=\"#000000\" />\n",
       "<rect width=\".81\" height=\".81\" x=\"10\" y=\"19\" fill=\"#000000\" />\n",
       "<rect width=\".81\" height=\".81\" x=\"11\" y=\"19\" fill=\"#000000\" />\n",
       "<rect width=\".81\" height=\".81\" x=\"12\" y=\"19\" fill=\"#000000\" />\n",
       "<rect width=\".81\" height=\".81\" x=\"13\" y=\"19\" fill=\"#000000\" />\n",
       "<rect width=\".81\" height=\".81\" x=\"14\" y=\"19\" fill=\"#000000\" />\n",
       "<rect width=\".81\" height=\".81\" x=\"15\" y=\"19\" fill=\"#1B1B1B\" />\n",
       "<rect width=\".81\" height=\".81\" x=\"16\" y=\"19\" fill=\"#BBBBBB\" />\n",
       "<rect width=\".81\" height=\".81\" x=\"17\" y=\"19\" fill=\"#F9F9F9\" />\n",
       "<rect width=\".81\" height=\".81\" x=\"18\" y=\"19\" fill=\"#CFCFCF\" />\n",
       "<rect width=\".81\" height=\".81\" x=\"19\" y=\"19\" fill=\"#B6B6B6\" />\n",
       "<rect width=\".81\" height=\".81\" x=\"20\" y=\"19\" fill=\"#000000\" />\n",
       "<rect width=\".81\" height=\".81\" x=\"21\" y=\"19\" fill=\"#000000\" />\n",
       "<rect width=\".81\" height=\".81\" x=\"22\" y=\"19\" fill=\"#000000\" />\n",
       "<rect width=\".81\" height=\".81\" x=\"23\" y=\"19\" fill=\"#000000\" />\n",
       "<rect width=\".81\" height=\".81\" x=\"24\" y=\"19\" fill=\"#000000\" />\n",
       "<rect width=\".81\" height=\".81\" x=\"25\" y=\"19\" fill=\"#000000\" />\n",
       "<rect width=\".81\" height=\".81\" x=\"26\" y=\"19\" fill=\"#000000\" />\n",
       "<rect width=\".81\" height=\".81\" x=\"27\" y=\"19\" fill=\"#000000\" />\n",
       "<rect width=\".81\" height=\".81\" x=\"0\" y=\"20\" fill=\"#000000\" />\n",
       "<rect width=\".81\" height=\".81\" x=\"1\" y=\"20\" fill=\"#000000\" />\n",
       "<rect width=\".81\" height=\".81\" x=\"2\" y=\"20\" fill=\"#000000\" />\n",
       "<rect width=\".81\" height=\".81\" x=\"3\" y=\"20\" fill=\"#000000\" />\n",
       "<rect width=\".81\" height=\".81\" x=\"4\" y=\"20\" fill=\"#000000\" />\n",
       "<rect width=\".81\" height=\".81\" x=\"5\" y=\"20\" fill=\"#A6A6A6\" />\n",
       "<rect width=\".81\" height=\".81\" x=\"6\" y=\"20\" fill=\"#FDFDFD\" />\n",
       "<rect width=\".81\" height=\".81\" x=\"7\" y=\"20\" fill=\"#525252\" />\n",
       "<rect width=\".81\" height=\".81\" x=\"8\" y=\"20\" fill=\"#000000\" />\n",
       "<rect width=\".81\" height=\".81\" x=\"9\" y=\"20\" fill=\"#000000\" />\n",
       "<rect width=\".81\" height=\".81\" x=\"10\" y=\"20\" fill=\"#000000\" />\n",
       "<rect width=\".81\" height=\".81\" x=\"11\" y=\"20\" fill=\"#000000\" />\n",
       "<rect width=\".81\" height=\".81\" x=\"12\" y=\"20\" fill=\"#000000\" />\n",
       "<rect width=\".81\" height=\".81\" x=\"13\" y=\"20\" fill=\"#000000\" />\n",
       "<rect width=\".81\" height=\".81\" x=\"14\" y=\"20\" fill=\"#000000\" />\n",
       "<rect width=\".81\" height=\".81\" x=\"15\" y=\"20\" fill=\"#000000\" />\n",
       "<rect width=\".81\" height=\".81\" x=\"16\" y=\"20\" fill=\"#000000\" />\n",
       "<rect width=\".81\" height=\".81\" x=\"17\" y=\"20\" fill=\"#404040\" />\n",
       "<rect width=\".81\" height=\".81\" x=\"18\" y=\"20\" fill=\"#020202\" />\n",
       "<rect width=\".81\" height=\".81\" x=\"19\" y=\"20\" fill=\"#000000\" />\n",
       "<rect width=\".81\" height=\".81\" x=\"20\" y=\"20\" fill=\"#000000\" />\n",
       "<rect width=\".81\" height=\".81\" x=\"21\" y=\"20\" fill=\"#000000\" />\n",
       "<rect width=\".81\" height=\".81\" x=\"22\" y=\"20\" fill=\"#000000\" />\n",
       "<rect width=\".81\" height=\".81\" x=\"23\" y=\"20\" fill=\"#000000\" />\n",
       "<rect width=\".81\" height=\".81\" x=\"24\" y=\"20\" fill=\"#000000\" />\n",
       "<rect width=\".81\" height=\".81\" x=\"25\" y=\"20\" fill=\"#000000\" />\n",
       "<rect width=\".81\" height=\".81\" x=\"26\" y=\"20\" fill=\"#000000\" />\n",
       "<rect width=\".81\" height=\".81\" x=\"27\" y=\"20\" fill=\"#000000\" />\n",
       "<rect width=\".81\" height=\".81\" x=\"0\" y=\"21\" fill=\"#000000\" />\n",
       "<rect width=\".81\" height=\".81\" x=\"1\" y=\"21\" fill=\"#000000\" />\n",
       "<rect width=\".81\" height=\".81\" x=\"2\" y=\"21\" fill=\"#000000\" />\n",
       "<rect width=\".81\" height=\".81\" x=\"3\" y=\"21\" fill=\"#000000\" />\n",
       "<rect width=\".81\" height=\".81\" x=\"4\" y=\"21\" fill=\"#000000\" />\n",
       "<rect width=\".81\" height=\".81\" x=\"5\" y=\"21\" fill=\"#FFFFFF\" />\n",
       "<rect width=\".81\" height=\".81\" x=\"6\" y=\"21\" fill=\"#F2F2F2\" />\n",
       "<rect width=\".81\" height=\".81\" x=\"7\" y=\"21\" fill=\"#383838\" />\n",
       "<rect width=\".81\" height=\".81\" x=\"8\" y=\"21\" fill=\"#000000\" />\n",
       "<rect width=\".81\" height=\".81\" x=\"9\" y=\"21\" fill=\"#000000\" />\n",
       "<rect width=\".81\" height=\".81\" x=\"10\" y=\"21\" fill=\"#000000\" />\n",
       "<rect width=\".81\" height=\".81\" x=\"11\" y=\"21\" fill=\"#000000\" />\n",
       "<rect width=\".81\" height=\".81\" x=\"12\" y=\"21\" fill=\"#000000\" />\n",
       "<rect width=\".81\" height=\".81\" x=\"13\" y=\"21\" fill=\"#000000\" />\n",
       "<rect width=\".81\" height=\".81\" x=\"14\" y=\"21\" fill=\"#000000\" />\n",
       "<rect width=\".81\" height=\".81\" x=\"15\" y=\"21\" fill=\"#000000\" />\n",
       "<rect width=\".81\" height=\".81\" x=\"16\" y=\"21\" fill=\"#000000\" />\n",
       "<rect width=\".81\" height=\".81\" x=\"17\" y=\"21\" fill=\"#000000\" />\n",
       "<rect width=\".81\" height=\".81\" x=\"18\" y=\"21\" fill=\"#000000\" />\n",
       "<rect width=\".81\" height=\".81\" x=\"19\" y=\"21\" fill=\"#000000\" />\n",
       "<rect width=\".81\" height=\".81\" x=\"20\" y=\"21\" fill=\"#000000\" />\n",
       "<rect width=\".81\" height=\".81\" x=\"21\" y=\"21\" fill=\"#000000\" />\n",
       "<rect width=\".81\" height=\".81\" x=\"22\" y=\"21\" fill=\"#000000\" />\n",
       "<rect width=\".81\" height=\".81\" x=\"23\" y=\"21\" fill=\"#000000\" />\n",
       "<rect width=\".81\" height=\".81\" x=\"24\" y=\"21\" fill=\"#000000\" />\n",
       "<rect width=\".81\" height=\".81\" x=\"25\" y=\"21\" fill=\"#000000\" />\n",
       "<rect width=\".81\" height=\".81\" x=\"26\" y=\"21\" fill=\"#000000\" />\n",
       "<rect width=\".81\" height=\".81\" x=\"27\" y=\"21\" fill=\"#000000\" />\n",
       "<rect width=\".81\" height=\".81\" x=\"0\" y=\"22\" fill=\"#000000\" />\n",
       "<rect width=\".81\" height=\".81\" x=\"1\" y=\"22\" fill=\"#000000\" />\n",
       "<rect width=\".81\" height=\".81\" x=\"2\" y=\"22\" fill=\"#000000\" />\n",
       "<rect width=\".81\" height=\".81\" x=\"3\" y=\"22\" fill=\"#000000\" />\n",
       "<rect width=\".81\" height=\".81\" x=\"4\" y=\"22\" fill=\"#000000\" />\n",
       "<rect width=\".81\" height=\".81\" x=\"5\" y=\"22\" fill=\"#F7F7F7\" />\n",
       "<rect width=\".81\" height=\".81\" x=\"6\" y=\"22\" fill=\"#C3C3C3\" />\n",
       "<rect width=\".81\" height=\".81\" x=\"7\" y=\"22\" fill=\"#272727\" />\n",
       "<rect width=\".81\" height=\".81\" x=\"8\" y=\"22\" fill=\"#000000\" />\n",
       "<rect width=\".81\" height=\".81\" x=\"9\" y=\"22\" fill=\"#000000\" />\n",
       "<rect width=\".81\" height=\".81\" x=\"10\" y=\"22\" fill=\"#000000\" />\n",
       "<rect width=\".81\" height=\".81\" x=\"11\" y=\"22\" fill=\"#000000\" />\n",
       "<rect width=\".81\" height=\".81\" x=\"12\" y=\"22\" fill=\"#000000\" />\n",
       "<rect width=\".81\" height=\".81\" x=\"13\" y=\"22\" fill=\"#000000\" />\n",
       "<rect width=\".81\" height=\".81\" x=\"14\" y=\"22\" fill=\"#000000\" />\n",
       "<rect width=\".81\" height=\".81\" x=\"15\" y=\"22\" fill=\"#000000\" />\n",
       "<rect width=\".81\" height=\".81\" x=\"16\" y=\"22\" fill=\"#000000\" />\n",
       "<rect width=\".81\" height=\".81\" x=\"17\" y=\"22\" fill=\"#000000\" />\n",
       "<rect width=\".81\" height=\".81\" x=\"18\" y=\"22\" fill=\"#000000\" />\n",
       "<rect width=\".81\" height=\".81\" x=\"19\" y=\"22\" fill=\"#000000\" />\n",
       "<rect width=\".81\" height=\".81\" x=\"20\" y=\"22\" fill=\"#000000\" />\n",
       "<rect width=\".81\" height=\".81\" x=\"21\" y=\"22\" fill=\"#000000\" />\n",
       "<rect width=\".81\" height=\".81\" x=\"22\" y=\"22\" fill=\"#000000\" />\n",
       "<rect width=\".81\" height=\".81\" x=\"23\" y=\"22\" fill=\"#000000\" />\n",
       "<rect width=\".81\" height=\".81\" x=\"24\" y=\"22\" fill=\"#000000\" />\n",
       "<rect width=\".81\" height=\".81\" x=\"25\" y=\"22\" fill=\"#000000\" />\n",
       "<rect width=\".81\" height=\".81\" x=\"26\" y=\"22\" fill=\"#000000\" />\n",
       "<rect width=\".81\" height=\".81\" x=\"27\" y=\"22\" fill=\"#000000\" />\n",
       "<rect width=\".81\" height=\".81\" x=\"0\" y=\"23\" fill=\"#000000\" />\n",
       "<rect width=\".81\" height=\".81\" x=\"1\" y=\"23\" fill=\"#000000\" />\n",
       "<rect width=\".81\" height=\".81\" x=\"2\" y=\"23\" fill=\"#000000\" />\n",
       "<rect width=\".81\" height=\".81\" x=\"3\" y=\"23\" fill=\"#000000\" />\n",
       "<rect width=\".81\" height=\".81\" x=\"4\" y=\"23\" fill=\"#000000\" />\n",
       "<rect width=\".81\" height=\".81\" x=\"5\" y=\"23\" fill=\"#7F7F7F\" />\n",
       "<rect width=\".81\" height=\".81\" x=\"6\" y=\"23\" fill=\"#404040\" />\n",
       "<rect width=\".81\" height=\".81\" x=\"7\" y=\"23\" fill=\"#000000\" />\n",
       "<rect width=\".81\" height=\".81\" x=\"8\" y=\"23\" fill=\"#000000\" />\n",
       "<rect width=\".81\" height=\".81\" x=\"9\" y=\"23\" fill=\"#000000\" />\n",
       "<rect width=\".81\" height=\".81\" x=\"10\" y=\"23\" fill=\"#000000\" />\n",
       "<rect width=\".81\" height=\".81\" x=\"11\" y=\"23\" fill=\"#000000\" />\n",
       "<rect width=\".81\" height=\".81\" x=\"12\" y=\"23\" fill=\"#000000\" />\n",
       "<rect width=\".81\" height=\".81\" x=\"13\" y=\"23\" fill=\"#000000\" />\n",
       "<rect width=\".81\" height=\".81\" x=\"14\" y=\"23\" fill=\"#000000\" />\n",
       "<rect width=\".81\" height=\".81\" x=\"15\" y=\"23\" fill=\"#000000\" />\n",
       "<rect width=\".81\" height=\".81\" x=\"16\" y=\"23\" fill=\"#000000\" />\n",
       "<rect width=\".81\" height=\".81\" x=\"17\" y=\"23\" fill=\"#000000\" />\n",
       "<rect width=\".81\" height=\".81\" x=\"18\" y=\"23\" fill=\"#000000\" />\n",
       "<rect width=\".81\" height=\".81\" x=\"19\" y=\"23\" fill=\"#000000\" />\n",
       "<rect width=\".81\" height=\".81\" x=\"20\" y=\"23\" fill=\"#000000\" />\n",
       "<rect width=\".81\" height=\".81\" x=\"21\" y=\"23\" fill=\"#000000\" />\n",
       "<rect width=\".81\" height=\".81\" x=\"22\" y=\"23\" fill=\"#000000\" />\n",
       "<rect width=\".81\" height=\".81\" x=\"23\" y=\"23\" fill=\"#000000\" />\n",
       "<rect width=\".81\" height=\".81\" x=\"24\" y=\"23\" fill=\"#000000\" />\n",
       "<rect width=\".81\" height=\".81\" x=\"25\" y=\"23\" fill=\"#000000\" />\n",
       "<rect width=\".81\" height=\".81\" x=\"26\" y=\"23\" fill=\"#000000\" />\n",
       "<rect width=\".81\" height=\".81\" x=\"27\" y=\"23\" fill=\"#000000\" />\n",
       "<rect width=\".81\" height=\".81\" x=\"0\" y=\"24\" fill=\"#000000\" />\n",
       "<rect width=\".81\" height=\".81\" x=\"1\" y=\"24\" fill=\"#000000\" />\n",
       "<rect width=\".81\" height=\".81\" x=\"2\" y=\"24\" fill=\"#000000\" />\n",
       "<rect width=\".81\" height=\".81\" x=\"3\" y=\"24\" fill=\"#000000\" />\n",
       "<rect width=\".81\" height=\".81\" x=\"4\" y=\"24\" fill=\"#000000\" />\n",
       "<rect width=\".81\" height=\".81\" x=\"5\" y=\"24\" fill=\"#000000\" />\n",
       "<rect width=\".81\" height=\".81\" x=\"6\" y=\"24\" fill=\"#000000\" />\n",
       "<rect width=\".81\" height=\".81\" x=\"7\" y=\"24\" fill=\"#000000\" />\n",
       "<rect width=\".81\" height=\".81\" x=\"8\" y=\"24\" fill=\"#000000\" />\n",
       "<rect width=\".81\" height=\".81\" x=\"9\" y=\"24\" fill=\"#000000\" />\n",
       "<rect width=\".81\" height=\".81\" x=\"10\" y=\"24\" fill=\"#000000\" />\n",
       "<rect width=\".81\" height=\".81\" x=\"11\" y=\"24\" fill=\"#000000\" />\n",
       "<rect width=\".81\" height=\".81\" x=\"12\" y=\"24\" fill=\"#000000\" />\n",
       "<rect width=\".81\" height=\".81\" x=\"13\" y=\"24\" fill=\"#000000\" />\n",
       "<rect width=\".81\" height=\".81\" x=\"14\" y=\"24\" fill=\"#000000\" />\n",
       "<rect width=\".81\" height=\".81\" x=\"15\" y=\"24\" fill=\"#000000\" />\n",
       "<rect width=\".81\" height=\".81\" x=\"16\" y=\"24\" fill=\"#000000\" />\n",
       "<rect width=\".81\" height=\".81\" x=\"17\" y=\"24\" fill=\"#000000\" />\n",
       "<rect width=\".81\" height=\".81\" x=\"18\" y=\"24\" fill=\"#000000\" />\n",
       "<rect width=\".81\" height=\".81\" x=\"19\" y=\"24\" fill=\"#000000\" />\n",
       "<rect width=\".81\" height=\".81\" x=\"20\" y=\"24\" fill=\"#000000\" />\n",
       "<rect width=\".81\" height=\".81\" x=\"21\" y=\"24\" fill=\"#000000\" />\n",
       "<rect width=\".81\" height=\".81\" x=\"22\" y=\"24\" fill=\"#000000\" />\n",
       "<rect width=\".81\" height=\".81\" x=\"23\" y=\"24\" fill=\"#000000\" />\n",
       "<rect width=\".81\" height=\".81\" x=\"24\" y=\"24\" fill=\"#000000\" />\n",
       "<rect width=\".81\" height=\".81\" x=\"25\" y=\"24\" fill=\"#000000\" />\n",
       "<rect width=\".81\" height=\".81\" x=\"26\" y=\"24\" fill=\"#000000\" />\n",
       "<rect width=\".81\" height=\".81\" x=\"27\" y=\"24\" fill=\"#000000\" />\n",
       "<rect width=\".81\" height=\".81\" x=\"0\" y=\"25\" fill=\"#000000\" />\n",
       "<rect width=\".81\" height=\".81\" x=\"1\" y=\"25\" fill=\"#000000\" />\n",
       "<rect width=\".81\" height=\".81\" x=\"2\" y=\"25\" fill=\"#000000\" />\n",
       "<rect width=\".81\" height=\".81\" x=\"3\" y=\"25\" fill=\"#000000\" />\n",
       "<rect width=\".81\" height=\".81\" x=\"4\" y=\"25\" fill=\"#000000\" />\n",
       "<rect width=\".81\" height=\".81\" x=\"5\" y=\"25\" fill=\"#000000\" />\n",
       "<rect width=\".81\" height=\".81\" x=\"6\" y=\"25\" fill=\"#000000\" />\n",
       "<rect width=\".81\" height=\".81\" x=\"7\" y=\"25\" fill=\"#000000\" />\n",
       "<rect width=\".81\" height=\".81\" x=\"8\" y=\"25\" fill=\"#000000\" />\n",
       "<rect width=\".81\" height=\".81\" x=\"9\" y=\"25\" fill=\"#000000\" />\n",
       "<rect width=\".81\" height=\".81\" x=\"10\" y=\"25\" fill=\"#000000\" />\n",
       "<rect width=\".81\" height=\".81\" x=\"11\" y=\"25\" fill=\"#000000\" />\n",
       "<rect width=\".81\" height=\".81\" x=\"12\" y=\"25\" fill=\"#000000\" />\n",
       "<rect width=\".81\" height=\".81\" x=\"13\" y=\"25\" fill=\"#000000\" />\n",
       "<rect width=\".81\" height=\".81\" x=\"14\" y=\"25\" fill=\"#000000\" />\n",
       "<rect width=\".81\" height=\".81\" x=\"15\" y=\"25\" fill=\"#000000\" />\n",
       "<rect width=\".81\" height=\".81\" x=\"16\" y=\"25\" fill=\"#000000\" />\n",
       "<rect width=\".81\" height=\".81\" x=\"17\" y=\"25\" fill=\"#000000\" />\n",
       "<rect width=\".81\" height=\".81\" x=\"18\" y=\"25\" fill=\"#000000\" />\n",
       "<rect width=\".81\" height=\".81\" x=\"19\" y=\"25\" fill=\"#000000\" />\n",
       "<rect width=\".81\" height=\".81\" x=\"20\" y=\"25\" fill=\"#000000\" />\n",
       "<rect width=\".81\" height=\".81\" x=\"21\" y=\"25\" fill=\"#000000\" />\n",
       "<rect width=\".81\" height=\".81\" x=\"22\" y=\"25\" fill=\"#000000\" />\n",
       "<rect width=\".81\" height=\".81\" x=\"23\" y=\"25\" fill=\"#000000\" />\n",
       "<rect width=\".81\" height=\".81\" x=\"24\" y=\"25\" fill=\"#000000\" />\n",
       "<rect width=\".81\" height=\".81\" x=\"25\" y=\"25\" fill=\"#000000\" />\n",
       "<rect width=\".81\" height=\".81\" x=\"26\" y=\"25\" fill=\"#000000\" />\n",
       "<rect width=\".81\" height=\".81\" x=\"27\" y=\"25\" fill=\"#000000\" />\n",
       "<rect width=\".81\" height=\".81\" x=\"0\" y=\"26\" fill=\"#000000\" />\n",
       "<rect width=\".81\" height=\".81\" x=\"1\" y=\"26\" fill=\"#000000\" />\n",
       "<rect width=\".81\" height=\".81\" x=\"2\" y=\"26\" fill=\"#000000\" />\n",
       "<rect width=\".81\" height=\".81\" x=\"3\" y=\"26\" fill=\"#000000\" />\n",
       "<rect width=\".81\" height=\".81\" x=\"4\" y=\"26\" fill=\"#000000\" />\n",
       "<rect width=\".81\" height=\".81\" x=\"5\" y=\"26\" fill=\"#000000\" />\n",
       "<rect width=\".81\" height=\".81\" x=\"6\" y=\"26\" fill=\"#000000\" />\n",
       "<rect width=\".81\" height=\".81\" x=\"7\" y=\"26\" fill=\"#000000\" />\n",
       "<rect width=\".81\" height=\".81\" x=\"8\" y=\"26\" fill=\"#000000\" />\n",
       "<rect width=\".81\" height=\".81\" x=\"9\" y=\"26\" fill=\"#000000\" />\n",
       "<rect width=\".81\" height=\".81\" x=\"10\" y=\"26\" fill=\"#000000\" />\n",
       "<rect width=\".81\" height=\".81\" x=\"11\" y=\"26\" fill=\"#000000\" />\n",
       "<rect width=\".81\" height=\".81\" x=\"12\" y=\"26\" fill=\"#000000\" />\n",
       "<rect width=\".81\" height=\".81\" x=\"13\" y=\"26\" fill=\"#000000\" />\n",
       "<rect width=\".81\" height=\".81\" x=\"14\" y=\"26\" fill=\"#000000\" />\n",
       "<rect width=\".81\" height=\".81\" x=\"15\" y=\"26\" fill=\"#000000\" />\n",
       "<rect width=\".81\" height=\".81\" x=\"16\" y=\"26\" fill=\"#000000\" />\n",
       "<rect width=\".81\" height=\".81\" x=\"17\" y=\"26\" fill=\"#000000\" />\n",
       "<rect width=\".81\" height=\".81\" x=\"18\" y=\"26\" fill=\"#000000\" />\n",
       "<rect width=\".81\" height=\".81\" x=\"19\" y=\"26\" fill=\"#000000\" />\n",
       "<rect width=\".81\" height=\".81\" x=\"20\" y=\"26\" fill=\"#000000\" />\n",
       "<rect width=\".81\" height=\".81\" x=\"21\" y=\"26\" fill=\"#000000\" />\n",
       "<rect width=\".81\" height=\".81\" x=\"22\" y=\"26\" fill=\"#000000\" />\n",
       "<rect width=\".81\" height=\".81\" x=\"23\" y=\"26\" fill=\"#000000\" />\n",
       "<rect width=\".81\" height=\".81\" x=\"24\" y=\"26\" fill=\"#000000\" />\n",
       "<rect width=\".81\" height=\".81\" x=\"25\" y=\"26\" fill=\"#000000\" />\n",
       "<rect width=\".81\" height=\".81\" x=\"26\" y=\"26\" fill=\"#000000\" />\n",
       "<rect width=\".81\" height=\".81\" x=\"27\" y=\"26\" fill=\"#000000\" />\n",
       "<rect width=\".81\" height=\".81\" x=\"0\" y=\"27\" fill=\"#000000\" />\n",
       "<rect width=\".81\" height=\".81\" x=\"1\" y=\"27\" fill=\"#000000\" />\n",
       "<rect width=\".81\" height=\".81\" x=\"2\" y=\"27\" fill=\"#000000\" />\n",
       "<rect width=\".81\" height=\".81\" x=\"3\" y=\"27\" fill=\"#000000\" />\n",
       "<rect width=\".81\" height=\".81\" x=\"4\" y=\"27\" fill=\"#000000\" />\n",
       "<rect width=\".81\" height=\".81\" x=\"5\" y=\"27\" fill=\"#000000\" />\n",
       "<rect width=\".81\" height=\".81\" x=\"6\" y=\"27\" fill=\"#000000\" />\n",
       "<rect width=\".81\" height=\".81\" x=\"7\" y=\"27\" fill=\"#000000\" />\n",
       "<rect width=\".81\" height=\".81\" x=\"8\" y=\"27\" fill=\"#000000\" />\n",
       "<rect width=\".81\" height=\".81\" x=\"9\" y=\"27\" fill=\"#000000\" />\n",
       "<rect width=\".81\" height=\".81\" x=\"10\" y=\"27\" fill=\"#000000\" />\n",
       "<rect width=\".81\" height=\".81\" x=\"11\" y=\"27\" fill=\"#000000\" />\n",
       "<rect width=\".81\" height=\".81\" x=\"12\" y=\"27\" fill=\"#000000\" />\n",
       "<rect width=\".81\" height=\".81\" x=\"13\" y=\"27\" fill=\"#000000\" />\n",
       "<rect width=\".81\" height=\".81\" x=\"14\" y=\"27\" fill=\"#000000\" />\n",
       "<rect width=\".81\" height=\".81\" x=\"15\" y=\"27\" fill=\"#000000\" />\n",
       "<rect width=\".81\" height=\".81\" x=\"16\" y=\"27\" fill=\"#000000\" />\n",
       "<rect width=\".81\" height=\".81\" x=\"17\" y=\"27\" fill=\"#000000\" />\n",
       "<rect width=\".81\" height=\".81\" x=\"18\" y=\"27\" fill=\"#000000\" />\n",
       "<rect width=\".81\" height=\".81\" x=\"19\" y=\"27\" fill=\"#000000\" />\n",
       "<rect width=\".81\" height=\".81\" x=\"20\" y=\"27\" fill=\"#000000\" />\n",
       "<rect width=\".81\" height=\".81\" x=\"21\" y=\"27\" fill=\"#000000\" />\n",
       "<rect width=\".81\" height=\".81\" x=\"22\" y=\"27\" fill=\"#000000\" />\n",
       "<rect width=\".81\" height=\".81\" x=\"23\" y=\"27\" fill=\"#000000\" />\n",
       "<rect width=\".81\" height=\".81\" x=\"24\" y=\"27\" fill=\"#000000\" />\n",
       "<rect width=\".81\" height=\".81\" x=\"25\" y=\"27\" fill=\"#000000\" />\n",
       "<rect width=\".81\" height=\".81\" x=\"26\" y=\"27\" fill=\"#000000\" />\n",
       "<rect width=\".81\" height=\".81\" x=\"27\" y=\"27\" fill=\"#000000\" />\n",
       "</svg>"
      ],
      "text/plain": [
       "28×28 Array{Gray{N0f8},2} with eltype Gray{FixedPointNumbers.N0f8}:\n",
       " Gray{N0f8}(0.0)  Gray{N0f8}(0.0)  …  Gray{N0f8}(0.0)  Gray{N0f8}(0.0)\n",
       " Gray{N0f8}(0.0)  Gray{N0f8}(0.0)     Gray{N0f8}(0.0)  Gray{N0f8}(0.0)\n",
       " Gray{N0f8}(0.0)  Gray{N0f8}(0.0)     Gray{N0f8}(0.0)  Gray{N0f8}(0.0)\n",
       " Gray{N0f8}(0.0)  Gray{N0f8}(0.0)     Gray{N0f8}(0.0)  Gray{N0f8}(0.0)\n",
       " Gray{N0f8}(0.0)  Gray{N0f8}(0.0)     Gray{N0f8}(0.0)  Gray{N0f8}(0.0)\n",
       " Gray{N0f8}(0.0)  Gray{N0f8}(0.0)  …  Gray{N0f8}(0.0)  Gray{N0f8}(0.0)\n",
       " Gray{N0f8}(0.0)  Gray{N0f8}(0.0)     Gray{N0f8}(0.0)  Gray{N0f8}(0.0)\n",
       " Gray{N0f8}(0.0)  Gray{N0f8}(0.0)     Gray{N0f8}(0.0)  Gray{N0f8}(0.0)\n",
       " Gray{N0f8}(0.0)  Gray{N0f8}(0.0)     Gray{N0f8}(0.0)  Gray{N0f8}(0.0)\n",
       " Gray{N0f8}(0.0)  Gray{N0f8}(0.0)     Gray{N0f8}(0.0)  Gray{N0f8}(0.0)\n",
       " Gray{N0f8}(0.0)  Gray{N0f8}(0.0)  …  Gray{N0f8}(0.0)  Gray{N0f8}(0.0)\n",
       " Gray{N0f8}(0.0)  Gray{N0f8}(0.0)     Gray{N0f8}(0.0)  Gray{N0f8}(0.0)\n",
       " Gray{N0f8}(0.0)  Gray{N0f8}(0.0)     Gray{N0f8}(0.0)  Gray{N0f8}(0.0)\n",
       " ⋮                                 ⋱                   \n",
       " Gray{N0f8}(0.0)  Gray{N0f8}(0.0)     Gray{N0f8}(0.0)  Gray{N0f8}(0.0)\n",
       " Gray{N0f8}(0.0)  Gray{N0f8}(0.0)     Gray{N0f8}(0.0)  Gray{N0f8}(0.0)\n",
       " Gray{N0f8}(0.0)  Gray{N0f8}(0.0)     Gray{N0f8}(0.0)  Gray{N0f8}(0.0)\n",
       " Gray{N0f8}(0.0)  Gray{N0f8}(0.0)     Gray{N0f8}(0.0)  Gray{N0f8}(0.0)\n",
       " Gray{N0f8}(0.0)  Gray{N0f8}(0.0)  …  Gray{N0f8}(0.0)  Gray{N0f8}(0.0)\n",
       " Gray{N0f8}(0.0)  Gray{N0f8}(0.0)     Gray{N0f8}(0.0)  Gray{N0f8}(0.0)\n",
       " Gray{N0f8}(0.0)  Gray{N0f8}(0.0)     Gray{N0f8}(0.0)  Gray{N0f8}(0.0)\n",
       " Gray{N0f8}(0.0)  Gray{N0f8}(0.0)     Gray{N0f8}(0.0)  Gray{N0f8}(0.0)\n",
       " Gray{N0f8}(0.0)  Gray{N0f8}(0.0)     Gray{N0f8}(0.0)  Gray{N0f8}(0.0)\n",
       " Gray{N0f8}(0.0)  Gray{N0f8}(0.0)  …  Gray{N0f8}(0.0)  Gray{N0f8}(0.0)\n",
       " Gray{N0f8}(0.0)  Gray{N0f8}(0.0)     Gray{N0f8}(0.0)  Gray{N0f8}(0.0)\n",
       " Gray{N0f8}(0.0)  Gray{N0f8}(0.0)     Gray{N0f8}(0.0)  Gray{N0f8}(0.0)"
      ]
     },
     "execution_count": 6,
     "metadata": {},
     "output_type": "execute_result"
    }
   ],
   "source": [
    "images[1]"
   ]
  },
  {
   "cell_type": "markdown",
   "metadata": {},
   "source": [
    "We start by defining a suitable `Builder` object. This is a recipe\n",
    "for building the neural network. Our builder will work for images of\n",
    "any (constant) size, whether they be color or black and white (ie,\n",
    "single or multi-channel).  The architecture always consists of six\n",
    "alternating convolution and max-pool layers, and a final dense\n",
    "layer; the filter size and the number of channels after each\n",
    "convolution layer is customisable."
   ]
  },
  {
   "cell_type": "code",
   "execution_count": 7,
   "metadata": {},
   "outputs": [],
   "source": [
    "import MLJFlux\n",
    "struct MyConvBuilder\n",
    "    filter_size::Int\n",
    "    channels1::Int\n",
    "    channels2::Int\n",
    "    channels3::Int\n",
    "end\n",
    "\n",
    "make2d(x::AbstractArray) = reshape(x, :, size(x)[end])\n",
    "\n",
    "function MLJFlux.build(b::MyConvBuilder, rng, n_in, n_out, n_channels)\n",
    "    k, c1, c2, c3 = b.filter_size, b.channels1, b.channels2, b.channels3\n",
    "    mod(k, 2) == 1 || error(\"`filter_size` must be odd. \")\n",
    "    p = div(k - 1, 2) # padding to preserve image size\n",
    "    init = Flux.glorot_uniform(rng)\n",
    "    front = Chain(\n",
    "        Conv((k, k), n_channels => c1, pad=(p, p), relu, init=init),\n",
    "        MaxPool((2, 2)),\n",
    "        Conv((k, k), c1 => c2, pad=(p, p), relu, init=init),\n",
    "        MaxPool((2, 2)),\n",
    "        Conv((k, k), c2 => c3, pad=(p, p), relu, init=init),\n",
    "        MaxPool((2 ,2)),\n",
    "        make2d)\n",
    "    d = Flux.outputsize(front, (n_in..., n_channels, 1)) |> first\n",
    "    return Chain(front, Dense(d, n_out, init=init))\n",
    "end"
   ]
  },
  {
   "cell_type": "markdown",
   "metadata": {},
   "source": [
    "**Note.** There is no final `softmax` here, as this is applied by\n",
    "default in all MLJFLux classifiers. Customisation of this behaviour\n",
    "is controlled using using the `finaliser` hyperparameter of the\n",
    "classifier."
   ]
  },
  {
   "cell_type": "markdown",
   "metadata": {},
   "source": [
    "We now define the MLJ model. If you have a GPU, substitute\n",
    "`acceleration=CUDALibs()` below:"
   ]
  },
  {
   "cell_type": "code",
   "execution_count": 8,
   "metadata": {},
   "outputs": [
    {
     "name": "stderr",
     "output_type": "stream",
     "text": [
      "┌ Info: For silent loading, specify `verbosity=0`. \n",
      "└ @ Main /Users/anthony/.julia/packages/MLJModels/lDzCR/src/loading.jl:168\n"
     ]
    },
    {
     "name": "stdout",
     "output_type": "stream",
     "text": [
      "import MLJFlux ✔\n"
     ]
    },
    {
     "data": {
      "text/plain": [
       "ImageClassifier(\n",
       "  builder = MyConvBuilder(3, 16, 32, 32), \n",
       "  finaliser = NNlib.softmax, \n",
       "  optimiser = Adam(0.001, (0.9, 0.999), 1.0e-8, IdDict{Any, Any}()), \n",
       "  loss = Flux.Losses.crossentropy, \n",
       "  epochs = 10, \n",
       "  batch_size = 50, \n",
       "  lambda = 0.0, \n",
       "  alpha = 0.0, \n",
       "  rng = 123, \n",
       "  optimiser_changes_trigger_retraining = false, \n",
       "  acceleration = CPU1{Nothing}(nothing))"
      ]
     },
     "execution_count": 8,
     "metadata": {},
     "output_type": "execute_result"
    }
   ],
   "source": [
    "ImageClassifier = @load ImageClassifier\n",
    "clf = ImageClassifier(builder=MyConvBuilder(3, 16, 32, 32),\n",
    "                      batch_size=50,\n",
    "                      epochs=10,\n",
    "                      rng=123)"
   ]
  },
  {
   "cell_type": "markdown",
   "metadata": {},
   "source": [
    "You can add Flux options `optimiser=...` and `loss=...` here. At\n",
    "present, `loss` must be a Flux-compatible loss, not an MLJ\n",
    "measure. To run on a GPU, set `acceleration=CUDALib()`."
   ]
  },
  {
   "cell_type": "markdown",
   "metadata": {},
   "source": [
    "Binding the model with data in an MLJ machine:"
   ]
  },
  {
   "cell_type": "code",
   "execution_count": 9,
   "metadata": {},
   "outputs": [],
   "source": [
    "mach = machine(clf, images, labels);"
   ]
  },
  {
   "cell_type": "markdown",
   "metadata": {},
   "source": [
    "Training for 10 epochs on the first 500 images:"
   ]
  },
  {
   "cell_type": "code",
   "execution_count": 10,
   "metadata": {},
   "outputs": [
    {
     "name": "stderr",
     "output_type": "stream",
     "text": [
      "┌ Info: Training machine(ImageClassifier(builder = MyConvBuilder(3, 16, 32, 32), …), …).\n",
      "└ @ MLJBase /Users/anthony/.julia/packages/MLJBase/Fl6Zc/src/machines.jl:498\n",
      "┌ Info: Loss is 2.291\n",
      "└ @ MLJFlux /Users/anthony/.julia/packages/MLJFlux/n3YAv/src/core.jl:127\n",
      "┌ Info: Loss is 2.208\n",
      "└ @ MLJFlux /Users/anthony/.julia/packages/MLJFlux/n3YAv/src/core.jl:127\n",
      "┌ Info: Loss is 2.049\n",
      "└ @ MLJFlux /Users/anthony/.julia/packages/MLJFlux/n3YAv/src/core.jl:127\n",
      "┌ Info: Loss is 1.685\n",
      "└ @ MLJFlux /Users/anthony/.julia/packages/MLJFlux/n3YAv/src/core.jl:127\n",
      "┌ Info: Loss is 1.075\n",
      "└ @ MLJFlux /Users/anthony/.julia/packages/MLJFlux/n3YAv/src/core.jl:127\n",
      "┌ Info: Loss is 0.628\n",
      "└ @ MLJFlux /Users/anthony/.julia/packages/MLJFlux/n3YAv/src/core.jl:127\n",
      "┌ Info: Loss is 0.4639\n",
      "└ @ MLJFlux /Users/anthony/.julia/packages/MLJFlux/n3YAv/src/core.jl:127\n",
      "┌ Info: Loss is 0.361\n",
      "└ @ MLJFlux /Users/anthony/.julia/packages/MLJFlux/n3YAv/src/core.jl:127\n",
      "┌ Info: Loss is 0.2921\n",
      "└ @ MLJFlux /Users/anthony/.julia/packages/MLJFlux/n3YAv/src/core.jl:127\n",
      "┌ Info: Loss is 0.2478\n",
      "└ @ MLJFlux /Users/anthony/.julia/packages/MLJFlux/n3YAv/src/core.jl:127\n"
     ]
    }
   ],
   "source": [
    "fit!(mach, rows=1:500, verbosity=2);"
   ]
  },
  {
   "cell_type": "markdown",
   "metadata": {},
   "source": [
    "Inspecting:"
   ]
  },
  {
   "cell_type": "code",
   "execution_count": 11,
   "metadata": {},
   "outputs": [
    {
     "data": {
      "text/plain": [
       "(training_losses = Float32[2.3242702, 2.2908378, 2.20822, 2.0489829, 1.6850392, 1.0751165, 0.6279615, 0.46388212, 0.36103815, 0.29207793, 0.2478443],)"
      ]
     },
     "execution_count": 11,
     "metadata": {},
     "output_type": "execute_result"
    }
   ],
   "source": [
    "report(mach)"
   ]
  },
  {
   "cell_type": "code",
   "execution_count": 12,
   "metadata": {},
   "outputs": [
    {
     "data": {
      "text/plain": [
       "(chain = Chain(Chain(Chain(Conv((3, 3), 1 => 16, relu, pad=1), MaxPool((2, 2)), Conv((3, 3), 16 => 32, relu, pad=1), MaxPool((2, 2)), Conv((3, 3), 32 => 32, relu, pad=1), MaxPool((2, 2)), make2d), Dense(288 => 10)), softmax),)"
      ]
     },
     "execution_count": 12,
     "metadata": {},
     "output_type": "execute_result"
    }
   ],
   "source": [
    "chain = fitted_params(mach)"
   ]
  },
  {
   "cell_type": "code",
   "execution_count": 13,
   "metadata": {},
   "outputs": [
    {
     "data": {
      "text/plain": [
       "16-element Vector{Float32}:\n",
       "  0.011803599\n",
       "  0.05579675\n",
       "  8.461591f-5\n",
       "  0.013422165\n",
       " -0.001925053\n",
       "  0.011568692\n",
       " -0.00051727734\n",
       " -0.0003228416\n",
       "  0.03614383\n",
       "  0.06365696\n",
       " -0.0005846103\n",
       " -0.004092362\n",
       "  0.0036211032\n",
       "  0.0031117066\n",
       "  0.02764553\n",
       "  0.05152524"
      ]
     },
     "execution_count": 13,
     "metadata": {},
     "output_type": "execute_result"
    }
   ],
   "source": [
    "Flux.params(chain)[2]"
   ]
  },
  {
   "cell_type": "markdown",
   "metadata": {},
   "source": [
    "Adding 20 more epochs:"
   ]
  },
  {
   "cell_type": "code",
   "execution_count": 14,
   "metadata": {},
   "outputs": [
    {
     "name": "stderr",
     "output_type": "stream",
     "text": [
      "┌ Info: Updating machine(ImageClassifier(builder = MyConvBuilder(3, 16, 32, 32), …), …).\n",
      "└ @ MLJBase /Users/anthony/.julia/packages/MLJBase/Fl6Zc/src/machines.jl:499\n",
      "\u001b[33mOptimising neural net: 100%[=========================] Time: 0:00:08\u001b[39m\n"
     ]
    }
   ],
   "source": [
    "clf.epochs = clf.epochs + 20\n",
    "fit!(mach, rows=1:500);"
   ]
  },
  {
   "cell_type": "markdown",
   "metadata": {},
   "source": [
    "Computing an out-of-sample estimate of the loss:"
   ]
  },
  {
   "cell_type": "code",
   "execution_count": 15,
   "metadata": {},
   "outputs": [
    {
     "data": {
      "text/plain": [
       "0.36284238f0"
      ]
     },
     "execution_count": 15,
     "metadata": {},
     "output_type": "execute_result"
    }
   ],
   "source": [
    "predicted_labels = predict(mach, rows=501:1000);\n",
    "cross_entropy(predicted_labels, labels[501:1000]) |> mean"
   ]
  },
  {
   "cell_type": "markdown",
   "metadata": {},
   "source": [
    "Or, in one line:"
   ]
  },
  {
   "cell_type": "code",
   "execution_count": 16,
   "metadata": {},
   "outputs": [
    {
     "data": {
      "text/plain": [
       "PerformanceEvaluation object with these fields:\n",
       "  measure, operation, measurement, per_fold,\n",
       "  per_observation, fitted_params_per_fold,\n",
       "  report_per_fold, train_test_rows\n",
       "Extract:\n",
       "┌────────────────────────────────┬───────────┬─────────────┬────────────────┐\n",
       "│\u001b[22m measure                        \u001b[0m│\u001b[22m operation \u001b[0m│\u001b[22m measurement \u001b[0m│\u001b[22m per_fold       \u001b[0m│\n",
       "├────────────────────────────────┼───────────┼─────────────┼────────────────┤\n",
       "│ LogLoss(                       │ predict   │ 0.363       │ Float32[0.363] │\n",
       "│   tol = 2.220446049250313e-16) │           │             │                │\n",
       "└────────────────────────────────┴───────────┴─────────────┴────────────────┘\n"
      ]
     },
     "execution_count": 16,
     "metadata": {},
     "output_type": "execute_result"
    }
   ],
   "source": [
    "evaluate!(mach,\n",
    "          resampling=Holdout(fraction_train=0.5),\n",
    "          measure=cross_entropy,\n",
    "          rows=1:1000,\n",
    "          verbosity=0)"
   ]
  },
  {
   "cell_type": "markdown",
   "metadata": {},
   "source": [
    "## Wrapping the MLJFlux model with iteration controls"
   ]
  },
  {
   "cell_type": "markdown",
   "metadata": {},
   "source": [
    "Any iterative MLJFlux model can be wrapped in *iteration controls*,\n",
    "as we demonstrate next. For more on MLJ's `IteratedModel` wrapper,\n",
    "see the [MLJ\n",
    "documentation](https://alan-turing-institute.github.io/MLJ.jl/dev/controlling_iterative_models/)."
   ]
  },
  {
   "cell_type": "markdown",
   "metadata": {},
   "source": [
    "The \"self-iterating\" classifier, called `iterated_clf` below, is for\n",
    "iterating the image classifier defined above until one of the\n",
    "following stopping criterion apply:"
   ]
  },
  {
   "cell_type": "markdown",
   "metadata": {},
   "source": [
    "- `Patience(3)`: 3 consecutive increases in the loss\n",
    "- `InvalidValue()`: an out-of-sample loss, or a training loss, is `NaN`, `Inf`, or `-Inf`\n",
    "- `TimeLimit(t=5/60)`: training time has exceeded 5 minutes"
   ]
  },
  {
   "cell_type": "markdown",
   "metadata": {},
   "source": [
    "These checks (and other controls) will be applied every two epochs\n",
    "(because of the `Step(2)` control). Additionally, training a\n",
    "machine bound to `iterated_clf` will:"
   ]
  },
  {
   "cell_type": "markdown",
   "metadata": {},
   "source": [
    "- save a snapshot of the machine every three control cycles (every six epochs)\n",
    "- record traces of the out-of-sample loss and training losses for plotting\n",
    "- record mean value traces of each Flux parameter for plotting"
   ]
  },
  {
   "cell_type": "markdown",
   "metadata": {},
   "source": [
    "For a complete list of controls, see [this\n",
    "table](https://alan-turing-institute.github.io/MLJ.jl/dev/controlling_iterative_models/#Controls-provided)."
   ]
  },
  {
   "cell_type": "markdown",
   "metadata": {},
   "source": [
    "### Wrapping the classifier"
   ]
  },
  {
   "cell_type": "markdown",
   "metadata": {},
   "source": [
    "Some helpers"
   ]
  },
  {
   "cell_type": "code",
   "execution_count": 17,
   "metadata": {},
   "outputs": [],
   "source": [
    "make2d(x::AbstractArray) = reshape(x, :, size(x)[end])\n",
    "make1d(x::AbstractArray) = reshape(x, length(x));"
   ]
  },
  {
   "cell_type": "markdown",
   "metadata": {},
   "source": [
    "To extract Flux params from an MLJFlux machine"
   ]
  },
  {
   "cell_type": "code",
   "execution_count": 18,
   "metadata": {},
   "outputs": [],
   "source": [
    "parameters(mach) = make1d.(Flux.params(fitted_params(mach)));"
   ]
  },
  {
   "cell_type": "markdown",
   "metadata": {},
   "source": [
    "To store the traces:"
   ]
  },
  {
   "cell_type": "code",
   "execution_count": 19,
   "metadata": {},
   "outputs": [
    {
     "data": {
      "text/plain": [
       "Any[]"
      ]
     },
     "execution_count": 19,
     "metadata": {},
     "output_type": "execute_result"
    }
   ],
   "source": [
    "losses = []\n",
    "training_losses = []\n",
    "parameter_means = Float32[];\n",
    "epochs = []"
   ]
  },
  {
   "cell_type": "markdown",
   "metadata": {},
   "source": [
    "To update the traces:"
   ]
  },
  {
   "cell_type": "code",
   "execution_count": 20,
   "metadata": {},
   "outputs": [
    {
     "data": {
      "text/plain": [
       "update_epochs (generic function with 1 method)"
      ]
     },
     "execution_count": 20,
     "metadata": {},
     "output_type": "execute_result"
    }
   ],
   "source": [
    "update_loss(loss) = push!(losses, loss)\n",
    "update_training_loss(losses) = push!(training_losses, losses[end])\n",
    "update_means(mach) = append!(parameter_means, mean.(parameters(mach)));\n",
    "update_epochs(epoch) = push!(epochs, epoch)"
   ]
  },
  {
   "cell_type": "markdown",
   "metadata": {},
   "source": [
    "The controls to apply:"
   ]
  },
  {
   "cell_type": "code",
   "execution_count": 21,
   "metadata": {},
   "outputs": [],
   "source": [
    "save_control =\n",
    "    MLJIteration.skip(Save(joinpath(DIR, \"mnist.jlso\")), predicate=3)\n",
    "\n",
    "controls=[Step(2),\n",
    "          Patience(3),\n",
    "          InvalidValue(),\n",
    "          TimeLimit(5/60),\n",
    "          save_control,\n",
    "          WithLossDo(),\n",
    "          WithLossDo(update_loss),\n",
    "          WithTrainingLossesDo(update_training_loss),\n",
    "          Callback(update_means),\n",
    "          WithIterationsDo(update_epochs)\n",
    "];"
   ]
  },
  {
   "cell_type": "markdown",
   "metadata": {},
   "source": [
    "The \"self-iterating\" classifier:"
   ]
  },
  {
   "cell_type": "code",
   "execution_count": 22,
   "metadata": {},
   "outputs": [
    {
     "data": {
      "text/plain": [
       "ProbabilisticIteratedModel(\n",
       "  model = ImageClassifier(\n",
       "        builder = MyConvBuilder(3, 16, 32, 32), \n",
       "        finaliser = NNlib.softmax, \n",
       "        optimiser = Adam(0.001, (0.9, 0.999), 1.0e-8, IdDict{Any, Any}()), \n",
       "        loss = Flux.Losses.crossentropy, \n",
       "        epochs = 30, \n",
       "        batch_size = 50, \n",
       "        lambda = 0.0, \n",
       "        alpha = 0.0, \n",
       "        rng = 123, \n",
       "        optimiser_changes_trigger_retraining = false, \n",
       "        acceleration = CPU1{Nothing}(nothing)), \n",
       "  controls = Any[Step(2), Patience(3), InvalidValue(), TimeLimit(Dates.Millisecond(300000)), IterationControl.Skip{Save{typeof(Serialization.serialize)}, IterationControl.var\"#8#9\"{Int64}}(Save{typeof(Serialization.serialize)}(\"/Users/anthony/GoogleDrive/Julia/MLJ/MLJFlux/examples/mnist/mnist.jlso\", Serialization.serialize), IterationControl.var\"#8#9\"{Int64}(3)), WithLossDo{IterationControl.var\"#20#22\"}(IterationControl.var\"#20#22\"(), false, nothing), WithLossDo{typeof(update_loss)}(update_loss, false, nothing), WithTrainingLossesDo{typeof(update_training_loss)}(update_training_loss, false, nothing), Callback{typeof(update_means)}(update_means, false, nothing, false), WithIterationsDo{typeof(update_epochs)}(update_epochs, false, nothing)], \n",
       "  resampling = Holdout(\n",
       "        fraction_train = 0.7, \n",
       "        shuffle = false, \n",
       "        rng = Random._GLOBAL_RNG()), \n",
       "  measure = LogLoss(\n",
       "        tol = 2.220446049250313e-16), \n",
       "  weights = nothing, \n",
       "  class_weights = nothing, \n",
       "  operation = MLJModelInterface.predict, \n",
       "  retrain = false, \n",
       "  check_measure = true, \n",
       "  iteration_parameter = nothing, \n",
       "  cache = true)"
      ]
     },
     "execution_count": 22,
     "metadata": {},
     "output_type": "execute_result"
    }
   ],
   "source": [
    "iterated_clf = IteratedModel(model=clf,\n",
    "                       controls=controls,\n",
    "                       resampling=Holdout(fraction_train=0.7),\n",
    "                       measure=log_loss)"
   ]
  },
  {
   "cell_type": "markdown",
   "metadata": {},
   "source": [
    "### Binding the wrapped model to data:"
   ]
  },
  {
   "cell_type": "code",
   "execution_count": 23,
   "metadata": {},
   "outputs": [],
   "source": [
    "mach = machine(iterated_clf, images, labels);"
   ]
  },
  {
   "cell_type": "markdown",
   "metadata": {},
   "source": [
    "### Training"
   ]
  },
  {
   "cell_type": "code",
   "execution_count": 24,
   "metadata": {},
   "outputs": [
    {
     "name": "stderr",
     "output_type": "stream",
     "text": [
      "┌ Info: Training machine(ProbabilisticIteratedModel(model = ImageClassifier(builder = MyConvBuilder(3, 16, 32, 32), …), …), …).\n",
      "└ @ MLJBase /Users/anthony/.julia/packages/MLJBase/Fl6Zc/src/machines.jl:498\n",
      "┌ Info: No iteration parameter specified. Using `iteration_parameter=:(epochs)`. \n",
      "└ @ MLJIteration /Users/anthony/.julia/packages/MLJIteration/J0pbp/src/core.jl:62\n",
      "┌ Info: loss: 2.224743\n",
      "└ @ IterationControl /Users/anthony/.julia/packages/IterationControl/wJWPx/src/controls.jl:278\n",
      "┌ Info: loss: 1.968148\n",
      "└ @ IterationControl /Users/anthony/.julia/packages/IterationControl/wJWPx/src/controls.jl:278\n",
      "┌ Info: Saving \"/Users/anthony/GoogleDrive/Julia/MLJ/MLJFlux/examples/mnist/mnist1.jlso\". \n",
      "└ @ MLJIteration /Users/anthony/.julia/packages/MLJIteration/J0pbp/src/controls.jl:203\n",
      "┌ Info: loss: 1.2209107\n",
      "└ @ IterationControl /Users/anthony/.julia/packages/IterationControl/wJWPx/src/controls.jl:278\n",
      "┌ Info: loss: 0.5940933\n",
      "└ @ IterationControl /Users/anthony/.julia/packages/IterationControl/wJWPx/src/controls.jl:278\n",
      "┌ Info: loss: 0.46833506\n",
      "└ @ IterationControl /Users/anthony/.julia/packages/IterationControl/wJWPx/src/controls.jl:278\n",
      "┌ Info: Saving \"/Users/anthony/GoogleDrive/Julia/MLJ/MLJFlux/examples/mnist/mnist2.jlso\". \n",
      "└ @ MLJIteration /Users/anthony/.julia/packages/MLJIteration/J0pbp/src/controls.jl:203\n",
      "┌ Info: loss: 0.42414027\n",
      "└ @ IterationControl /Users/anthony/.julia/packages/IterationControl/wJWPx/src/controls.jl:278\n",
      "┌ Info: loss: 0.40840885\n",
      "└ @ IterationControl /Users/anthony/.julia/packages/IterationControl/wJWPx/src/controls.jl:278\n",
      "┌ Info: loss: 0.40475494\n",
      "└ @ IterationControl /Users/anthony/.julia/packages/IterationControl/wJWPx/src/controls.jl:278\n",
      "┌ Info: Saving \"/Users/anthony/GoogleDrive/Julia/MLJ/MLJFlux/examples/mnist/mnist3.jlso\". \n",
      "└ @ MLJIteration /Users/anthony/.julia/packages/MLJIteration/J0pbp/src/controls.jl:203\n",
      "┌ Info: loss: 0.40977737\n",
      "└ @ IterationControl /Users/anthony/.julia/packages/IterationControl/wJWPx/src/controls.jl:278\n",
      "┌ Info: loss: 0.42039925\n",
      "└ @ IterationControl /Users/anthony/.julia/packages/IterationControl/wJWPx/src/controls.jl:278\n",
      "┌ Info: loss: 0.4321642\n",
      "└ @ IterationControl /Users/anthony/.julia/packages/IterationControl/wJWPx/src/controls.jl:278\n",
      "┌ Info: final loss: 0.4321642\n",
      "└ @ IterationControl /Users/anthony/.julia/packages/IterationControl/wJWPx/src/train.jl:44\n",
      "┌ Info: final training loss: 0.043363843\n",
      "└ @ IterationControl /Users/anthony/.julia/packages/IterationControl/wJWPx/src/train.jl:46\n",
      "┌ Info: Stop triggered by Patience(3) stopping criterion. \n",
      "└ @ IterationControl /Users/anthony/.julia/packages/IterationControl/wJWPx/src/stopping_controls.jl:54\n",
      "┌ Info: Total of 22 iterations. \n",
      "└ @ MLJIteration /Users/anthony/.julia/packages/MLJIteration/J0pbp/src/core.jl:35\n"
     ]
    }
   ],
   "source": [
    "fit!(mach, rows=1:500);"
   ]
  },
  {
   "cell_type": "markdown",
   "metadata": {},
   "source": [
    "### Comparison of the training and out-of-sample losses:"
   ]
  },
  {
   "cell_type": "code",
   "execution_count": 25,
   "metadata": {},
   "outputs": [],
   "source": [
    "plot(epochs, losses,\n",
    "     xlab = \"epoch\",\n",
    "     ylab = \"cross entropy\",\n",
    "     label=\"out-of-sample\")\n",
    "plot!(epochs, training_losses, label=\"training\")\n",
    "\n",
    "savefig(joinpath(DIR, \"loss.png\"))"
   ]
  },
  {
   "cell_type": "markdown",
   "metadata": {},
   "source": [
    "### Evolution of weights"
   ]
  },
  {
   "cell_type": "code",
   "execution_count": 26,
   "metadata": {},
   "outputs": [
    {
     "data": {
      "image/svg+xml": [
       "<?xml version=\"1.0\" encoding=\"utf-8\"?>\n",
       "<svg xmlns=\"http://www.w3.org/2000/svg\" xmlns:xlink=\"http://www.w3.org/1999/xlink\" width=\"600\" height=\"370.75\" viewBox=\"0 0 2400 1483\">\n",
       "<defs>\n",
       "  <clipPath id=\"clip270\">\n",
       "    <rect x=\"0\" y=\"0\" width=\"2400\" height=\"1483\"/>\n",
       "  </clipPath>\n",
       "</defs>\n",
       "<path clip-path=\"url(#clip270)\" d=\"\n",
       "M0 1483 L2400 1483 L2400 -2.27374e-13 L0 -2.27374e-13  Z\n",
       "  \" fill=\"#ffffff\" fill-rule=\"evenodd\" fill-opacity=\"1\"/>\n",
       "<defs>\n",
       "  <clipPath id=\"clip271\">\n",
       "    <rect x=\"480\" y=\"0\" width=\"1681\" height=\"1483\"/>\n",
       "  </clipPath>\n",
       "</defs>\n",
       "<path clip-path=\"url(#clip270)\" d=\"\n",
       "M222.871 1313.37 L2352.76 1313.37 L2352.76 119.038 L222.871 119.038  Z\n",
       "  \" fill=\"#ffffff\" fill-rule=\"evenodd\" fill-opacity=\"1\"/>\n",
       "<defs>\n",
       "  <clipPath id=\"clip272\">\n",
       "    <rect x=\"222\" y=\"119\" width=\"2131\" height=\"1195\"/>\n",
       "  </clipPath>\n",
       "</defs>\n",
       "<polyline clip-path=\"url(#clip272)\" style=\"stroke:#000000; stroke-linecap:butt; stroke-linejoin:round; stroke-width:1.99962; stroke-opacity:0.1; fill:none\" points=\"\n",
       "  584.55,1313.37 584.55,119.038 \n",
       "  \"/>\n",
       "<polyline clip-path=\"url(#clip272)\" style=\"stroke:#000000; stroke-linecap:butt; stroke-linejoin:round; stroke-width:1.99962; stroke-opacity:0.1; fill:none\" points=\"\n",
       "  1086.88,1313.37 1086.88,119.038 \n",
       "  \"/>\n",
       "<polyline clip-path=\"url(#clip272)\" style=\"stroke:#000000; stroke-linecap:butt; stroke-linejoin:round; stroke-width:1.99962; stroke-opacity:0.1; fill:none\" points=\"\n",
       "  1589.21,1313.37 1589.21,119.038 \n",
       "  \"/>\n",
       "<polyline clip-path=\"url(#clip272)\" style=\"stroke:#000000; stroke-linecap:butt; stroke-linejoin:round; stroke-width:1.99962; stroke-opacity:0.1; fill:none\" points=\"\n",
       "  2091.54,1313.37 2091.54,119.038 \n",
       "  \"/>\n",
       "<polyline clip-path=\"url(#clip270)\" style=\"stroke:#000000; stroke-linecap:butt; stroke-linejoin:round; stroke-width:3.99924; stroke-opacity:1; fill:none\" points=\"\n",
       "  222.871,1313.37 2352.76,1313.37 \n",
       "  \"/>\n",
       "<polyline clip-path=\"url(#clip270)\" style=\"stroke:#000000; stroke-linecap:butt; stroke-linejoin:round; stroke-width:3.99924; stroke-opacity:1; fill:none\" points=\"\n",
       "  584.55,1313.37 584.55,1294.47 \n",
       "  \"/>\n",
       "<polyline clip-path=\"url(#clip270)\" style=\"stroke:#000000; stroke-linecap:butt; stroke-linejoin:round; stroke-width:3.99924; stroke-opacity:1; fill:none\" points=\"\n",
       "  1086.88,1313.37 1086.88,1294.47 \n",
       "  \"/>\n",
       "<polyline clip-path=\"url(#clip270)\" style=\"stroke:#000000; stroke-linecap:butt; stroke-linejoin:round; stroke-width:3.99924; stroke-opacity:1; fill:none\" points=\"\n",
       "  1589.21,1313.37 1589.21,1294.47 \n",
       "  \"/>\n",
       "<polyline clip-path=\"url(#clip270)\" style=\"stroke:#000000; stroke-linecap:butt; stroke-linejoin:round; stroke-width:3.99924; stroke-opacity:1; fill:none\" points=\"\n",
       "  2091.54,1313.37 2091.54,1294.47 \n",
       "  \"/>\n",
       "<path clip-path=\"url(#clip270)\" d=\"M574.827 1341.2 L593.184 1341.2 L593.184 1345.14 L579.11 1345.14 L579.11 1353.61 Q580.128 1353.26 581.147 1353.1 Q582.165 1352.91 583.184 1352.91 Q588.971 1352.91 592.35 1356.08 Q595.73 1359.25 595.73 1364.67 Q595.73 1370.25 592.258 1373.35 Q588.786 1376.43 582.466 1376.43 Q580.29 1376.43 578.022 1376.06 Q575.776 1375.69 573.369 1374.95 L573.369 1370.25 Q575.452 1371.38 577.675 1371.94 Q579.897 1372.49 582.374 1372.49 Q586.378 1372.49 588.716 1370.39 Q591.054 1368.28 591.054 1364.67 Q591.054 1361.06 588.716 1358.95 Q586.378 1356.85 582.374 1356.85 Q580.499 1356.85 578.624 1357.26 Q576.772 1357.68 574.827 1358.56 L574.827 1341.2 Z\" fill=\"#000000\" fill-rule=\"evenodd\" fill-opacity=\"1\" /><path clip-path=\"url(#clip270)\" d=\"M1061.57 1371.82 L1069.21 1371.82 L1069.21 1345.46 L1060.9 1347.13 L1060.9 1342.87 L1069.16 1341.2 L1073.84 1341.2 L1073.84 1371.82 L1081.48 1371.82 L1081.48 1375.76 L1061.57 1375.76 L1061.57 1371.82 Z\" fill=\"#000000\" fill-rule=\"evenodd\" fill-opacity=\"1\" /><path clip-path=\"url(#clip270)\" d=\"M1100.92 1344.28 Q1097.31 1344.28 1095.48 1347.84 Q1093.67 1351.38 1093.67 1358.51 Q1093.67 1365.62 1095.48 1369.18 Q1097.31 1372.72 1100.92 1372.72 Q1104.55 1372.72 1106.36 1369.18 Q1108.19 1365.62 1108.19 1358.51 Q1108.19 1351.38 1106.36 1347.84 Q1104.55 1344.28 1100.92 1344.28 M1100.92 1340.58 Q1106.73 1340.58 1109.79 1345.18 Q1112.86 1349.76 1112.86 1358.51 Q1112.86 1367.24 1109.79 1371.84 Q1106.73 1376.43 1100.92 1376.43 Q1095.11 1376.43 1092.03 1371.84 Q1088.98 1367.24 1088.98 1358.51 Q1088.98 1349.76 1092.03 1345.18 Q1095.11 1340.58 1100.92 1340.58 Z\" fill=\"#000000\" fill-rule=\"evenodd\" fill-opacity=\"1\" /><path clip-path=\"url(#clip270)\" d=\"M1564.4 1371.82 L1572.04 1371.82 L1572.04 1345.46 L1563.73 1347.13 L1563.73 1342.87 L1571.99 1341.2 L1576.67 1341.2 L1576.67 1371.82 L1584.3 1371.82 L1584.3 1375.76 L1564.4 1375.76 L1564.4 1371.82 Z\" fill=\"#000000\" fill-rule=\"evenodd\" fill-opacity=\"1\" /><path clip-path=\"url(#clip270)\" d=\"M1593.8 1341.2 L1612.15 1341.2 L1612.15 1345.14 L1598.08 1345.14 L1598.08 1353.61 Q1599.1 1353.26 1600.11 1353.1 Q1601.13 1352.91 1602.15 1352.91 Q1607.94 1352.91 1611.32 1356.08 Q1614.7 1359.25 1614.7 1364.67 Q1614.7 1370.25 1611.23 1373.35 Q1607.75 1376.43 1601.43 1376.43 Q1599.26 1376.43 1596.99 1376.06 Q1594.74 1375.69 1592.34 1374.95 L1592.34 1370.25 Q1594.42 1371.38 1596.64 1371.94 Q1598.86 1372.49 1601.34 1372.49 Q1605.35 1372.49 1607.68 1370.39 Q1610.02 1368.28 1610.02 1364.67 Q1610.02 1361.06 1607.68 1358.95 Q1605.35 1356.85 1601.34 1356.85 Q1599.47 1356.85 1597.59 1357.26 Q1595.74 1357.68 1593.8 1358.56 L1593.8 1341.2 Z\" fill=\"#000000\" fill-rule=\"evenodd\" fill-opacity=\"1\" /><path clip-path=\"url(#clip270)\" d=\"M2070.32 1371.82 L2086.64 1371.82 L2086.64 1375.76 L2064.69 1375.76 L2064.69 1371.82 Q2067.35 1369.07 2071.94 1364.44 Q2076.54 1359.79 2077.72 1358.44 Q2079.97 1355.92 2080.85 1354.19 Q2081.75 1352.43 2081.75 1350.74 Q2081.75 1347.98 2079.81 1346.25 Q2077.89 1344.51 2074.78 1344.51 Q2072.59 1344.51 2070.13 1345.27 Q2067.7 1346.04 2064.92 1347.59 L2064.92 1342.87 Q2067.75 1341.73 2070.2 1341.16 Q2072.65 1340.58 2074.69 1340.58 Q2080.06 1340.58 2083.26 1343.26 Q2086.45 1345.95 2086.45 1350.44 Q2086.45 1352.57 2085.64 1354.49 Q2084.85 1356.38 2082.75 1358.98 Q2082.17 1359.65 2079.07 1362.86 Q2075.96 1366.06 2070.32 1371.82 Z\" fill=\"#000000\" fill-rule=\"evenodd\" fill-opacity=\"1\" /><path clip-path=\"url(#clip270)\" d=\"M2106.45 1344.28 Q2102.84 1344.28 2101.01 1347.84 Q2099.21 1351.38 2099.21 1358.51 Q2099.21 1365.62 2101.01 1369.18 Q2102.84 1372.72 2106.45 1372.72 Q2110.09 1372.72 2111.89 1369.18 Q2113.72 1365.62 2113.72 1358.51 Q2113.72 1351.38 2111.89 1347.84 Q2110.09 1344.28 2106.45 1344.28 M2106.45 1340.58 Q2112.26 1340.58 2115.32 1345.18 Q2118.4 1349.76 2118.4 1358.51 Q2118.4 1367.24 2115.32 1371.84 Q2112.26 1376.43 2106.45 1376.43 Q2100.64 1376.43 2097.56 1371.84 Q2094.51 1367.24 2094.51 1358.51 Q2094.51 1349.76 2097.56 1345.18 Q2100.64 1340.58 2106.45 1340.58 Z\" fill=\"#000000\" fill-rule=\"evenodd\" fill-opacity=\"1\" /><path clip-path=\"url(#clip270)\" d=\"M1226.16 1438.92 L1226.16 1441.78 L1199.23 1441.78 Q1199.62 1447.83 1202.86 1451.01 Q1206.14 1454.16 1211.97 1454.16 Q1215.34 1454.16 1218.49 1453.33 Q1221.67 1452.51 1224.79 1450.85 L1224.79 1456.39 Q1221.64 1457.73 1218.33 1458.43 Q1215.02 1459.13 1211.62 1459.13 Q1203.09 1459.13 1198.09 1454.16 Q1193.12 1449.2 1193.12 1440.73 Q1193.12 1431.98 1197.83 1426.86 Q1202.58 1421.7 1210.6 1421.7 Q1217.79 1421.7 1221.96 1426.35 Q1226.16 1430.96 1226.16 1438.92 M1220.31 1437.2 Q1220.24 1432.4 1217.6 1429.53 Q1214.99 1426.67 1210.66 1426.67 Q1205.76 1426.67 1202.8 1429.44 Q1199.87 1432.2 1199.43 1437.23 L1220.31 1437.2 Z\" fill=\"#000000\" fill-rule=\"evenodd\" fill-opacity=\"1\" /><path clip-path=\"url(#clip270)\" d=\"M1241.44 1452.86 L1241.44 1471.76 L1235.55 1471.76 L1235.55 1422.56 L1241.44 1422.56 L1241.44 1427.97 Q1243.29 1424.79 1246.09 1423.26 Q1248.92 1421.7 1252.83 1421.7 Q1259.33 1421.7 1263.37 1426.86 Q1267.44 1432.01 1267.44 1440.41 Q1267.44 1448.82 1263.37 1453.97 Q1259.33 1459.13 1252.83 1459.13 Q1248.92 1459.13 1246.09 1457.6 Q1243.29 1456.04 1241.44 1452.86 M1261.36 1440.41 Q1261.36 1433.95 1258.69 1430.3 Q1256.05 1426.6 1251.4 1426.6 Q1246.75 1426.6 1244.08 1430.3 Q1241.44 1433.95 1241.44 1440.41 Q1241.44 1446.87 1244.08 1450.57 Q1246.75 1454.23 1251.4 1454.23 Q1256.05 1454.23 1258.69 1450.57 Q1261.36 1446.87 1261.36 1440.41 Z\" fill=\"#000000\" fill-rule=\"evenodd\" fill-opacity=\"1\" /><path clip-path=\"url(#clip270)\" d=\"M1290.96 1426.67 Q1286.25 1426.67 1283.52 1430.36 Q1280.78 1434.02 1280.78 1440.41 Q1280.78 1446.81 1283.48 1450.5 Q1286.22 1454.16 1290.96 1454.16 Q1295.64 1454.16 1298.38 1450.47 Q1301.12 1446.78 1301.12 1440.41 Q1301.12 1434.08 1298.38 1430.39 Q1295.64 1426.67 1290.96 1426.67 M1290.96 1421.7 Q1298.6 1421.7 1302.96 1426.67 Q1307.32 1431.63 1307.32 1440.41 Q1307.32 1449.17 1302.96 1454.16 Q1298.6 1459.13 1290.96 1459.13 Q1283.29 1459.13 1278.93 1454.16 Q1274.6 1449.17 1274.6 1440.41 Q1274.6 1431.63 1278.93 1426.67 Q1283.29 1421.7 1290.96 1421.7 Z\" fill=\"#000000\" fill-rule=\"evenodd\" fill-opacity=\"1\" /><path clip-path=\"url(#clip270)\" d=\"M1342.69 1423.93 L1342.69 1429.4 Q1340.2 1428.04 1337.69 1427.37 Q1335.21 1426.67 1332.66 1426.67 Q1326.96 1426.67 1323.81 1430.3 Q1320.66 1433.89 1320.66 1440.41 Q1320.66 1446.94 1323.81 1450.57 Q1326.96 1454.16 1332.66 1454.16 Q1335.21 1454.16 1337.69 1453.49 Q1340.2 1452.79 1342.69 1451.43 L1342.69 1456.84 Q1340.24 1457.98 1337.59 1458.55 Q1334.98 1459.13 1332.02 1459.13 Q1323.97 1459.13 1319.23 1454.07 Q1314.49 1449.01 1314.49 1440.41 Q1314.49 1431.7 1319.26 1426.7 Q1324.07 1421.7 1332.41 1421.7 Q1335.11 1421.7 1337.69 1422.28 Q1340.27 1422.82 1342.69 1423.93 Z\" fill=\"#000000\" fill-rule=\"evenodd\" fill-opacity=\"1\" /><path clip-path=\"url(#clip270)\" d=\"M1382.5 1436.69 L1382.5 1458.2 L1376.65 1458.2 L1376.65 1436.88 Q1376.65 1431.82 1374.67 1429.31 Q1372.7 1426.79 1368.75 1426.79 Q1364.01 1426.79 1361.27 1429.82 Q1358.54 1432.84 1358.54 1438.06 L1358.54 1458.2 L1352.65 1458.2 L1352.65 1408.69 L1358.54 1408.69 L1358.54 1428.1 Q1360.64 1424.89 1363.47 1423.29 Q1366.33 1421.7 1370.06 1421.7 Q1376.2 1421.7 1379.35 1425.52 Q1382.5 1429.31 1382.5 1436.69 Z\" fill=\"#000000\" fill-rule=\"evenodd\" fill-opacity=\"1\" /><polyline clip-path=\"url(#clip272)\" style=\"stroke:#000000; stroke-linecap:butt; stroke-linejoin:round; stroke-width:1.99962; stroke-opacity:0.1; fill:none\" points=\"\n",
       "  222.871,1251.4 2352.76,1251.4 \n",
       "  \"/>\n",
       "<polyline clip-path=\"url(#clip272)\" style=\"stroke:#000000; stroke-linecap:butt; stroke-linejoin:round; stroke-width:1.99962; stroke-opacity:0.1; fill:none\" points=\"\n",
       "  222.871,1062.42 2352.76,1062.42 \n",
       "  \"/>\n",
       "<polyline clip-path=\"url(#clip272)\" style=\"stroke:#000000; stroke-linecap:butt; stroke-linejoin:round; stroke-width:1.99962; stroke-opacity:0.1; fill:none\" points=\"\n",
       "  222.871,873.44 2352.76,873.44 \n",
       "  \"/>\n",
       "<polyline clip-path=\"url(#clip272)\" style=\"stroke:#000000; stroke-linecap:butt; stroke-linejoin:round; stroke-width:1.99962; stroke-opacity:0.1; fill:none\" points=\"\n",
       "  222.871,684.46 2352.76,684.46 \n",
       "  \"/>\n",
       "<polyline clip-path=\"url(#clip272)\" style=\"stroke:#000000; stroke-linecap:butt; stroke-linejoin:round; stroke-width:1.99962; stroke-opacity:0.1; fill:none\" points=\"\n",
       "  222.871,495.481 2352.76,495.481 \n",
       "  \"/>\n",
       "<polyline clip-path=\"url(#clip272)\" style=\"stroke:#000000; stroke-linecap:butt; stroke-linejoin:round; stroke-width:1.99962; stroke-opacity:0.1; fill:none\" points=\"\n",
       "  222.871,306.501 2352.76,306.501 \n",
       "  \"/>\n",
       "<polyline clip-path=\"url(#clip270)\" style=\"stroke:#000000; stroke-linecap:butt; stroke-linejoin:round; stroke-width:3.99924; stroke-opacity:1; fill:none\" points=\"\n",
       "  222.871,1313.37 222.871,119.038 \n",
       "  \"/>\n",
       "<polyline clip-path=\"url(#clip270)\" style=\"stroke:#000000; stroke-linecap:butt; stroke-linejoin:round; stroke-width:3.99924; stroke-opacity:1; fill:none\" points=\"\n",
       "  222.871,1251.4 241.769,1251.4 \n",
       "  \"/>\n",
       "<polyline clip-path=\"url(#clip270)\" style=\"stroke:#000000; stroke-linecap:butt; stroke-linejoin:round; stroke-width:3.99924; stroke-opacity:1; fill:none\" points=\"\n",
       "  222.871,1062.42 241.769,1062.42 \n",
       "  \"/>\n",
       "<polyline clip-path=\"url(#clip270)\" style=\"stroke:#000000; stroke-linecap:butt; stroke-linejoin:round; stroke-width:3.99924; stroke-opacity:1; fill:none\" points=\"\n",
       "  222.871,873.44 241.769,873.44 \n",
       "  \"/>\n",
       "<polyline clip-path=\"url(#clip270)\" style=\"stroke:#000000; stroke-linecap:butt; stroke-linejoin:round; stroke-width:3.99924; stroke-opacity:1; fill:none\" points=\"\n",
       "  222.871,684.46 241.769,684.46 \n",
       "  \"/>\n",
       "<polyline clip-path=\"url(#clip270)\" style=\"stroke:#000000; stroke-linecap:butt; stroke-linejoin:round; stroke-width:3.99924; stroke-opacity:1; fill:none\" points=\"\n",
       "  222.871,495.481 241.769,495.481 \n",
       "  \"/>\n",
       "<polyline clip-path=\"url(#clip270)\" style=\"stroke:#000000; stroke-linecap:butt; stroke-linejoin:round; stroke-width:3.99924; stroke-opacity:1; fill:none\" points=\"\n",
       "  222.871,306.501 241.769,306.501 \n",
       "  \"/>\n",
       "<path clip-path=\"url(#clip270)\" d=\"M50.9921 1251.85 L80.6679 1251.85 L80.6679 1255.79 L50.9921 1255.79 L50.9921 1251.85 Z\" fill=\"#000000\" fill-rule=\"evenodd\" fill-opacity=\"1\" /><path clip-path=\"url(#clip270)\" d=\"M100.76 1237.2 Q97.1493 1237.2 95.3206 1240.76 Q93.515 1244.31 93.515 1251.43 Q93.515 1258.54 95.3206 1262.1 Q97.1493 1265.64 100.76 1265.64 Q104.395 1265.64 106.2 1262.1 Q108.029 1258.54 108.029 1251.43 Q108.029 1244.31 106.2 1240.76 Q104.395 1237.2 100.76 1237.2 M100.76 1233.5 Q106.571 1233.5 109.626 1238.1 Q112.705 1242.69 112.705 1251.43 Q112.705 1260.16 109.626 1264.76 Q106.571 1269.35 100.76 1269.35 Q94.9502 1269.35 91.8715 1264.76 Q88.816 1260.16 88.816 1251.43 Q88.816 1242.69 91.8715 1238.1 Q94.9502 1233.5 100.76 1233.5 Z\" fill=\"#000000\" fill-rule=\"evenodd\" fill-opacity=\"1\" /><path clip-path=\"url(#clip270)\" d=\"M120.922 1262.8 L125.807 1262.8 L125.807 1268.68 L120.922 1268.68 L120.922 1262.8 Z\" fill=\"#000000\" fill-rule=\"evenodd\" fill-opacity=\"1\" /><path clip-path=\"url(#clip270)\" d=\"M145.992 1237.2 Q142.381 1237.2 140.552 1240.76 Q138.746 1244.31 138.746 1251.43 Q138.746 1258.54 140.552 1262.1 Q142.381 1265.64 145.992 1265.64 Q149.626 1265.64 151.431 1262.1 Q153.26 1258.54 153.26 1251.43 Q153.26 1244.31 151.431 1240.76 Q149.626 1237.2 145.992 1237.2 M145.992 1233.5 Q151.802 1233.5 154.857 1238.1 Q157.936 1242.69 157.936 1251.43 Q157.936 1260.16 154.857 1264.76 Q151.802 1269.35 145.992 1269.35 Q140.181 1269.35 137.103 1264.76 Q134.047 1260.16 134.047 1251.43 Q134.047 1242.69 137.103 1238.1 Q140.181 1233.5 145.992 1233.5 Z\" fill=\"#000000\" fill-rule=\"evenodd\" fill-opacity=\"1\" /><path clip-path=\"url(#clip270)\" d=\"M166.964 1264.74 L174.603 1264.74 L174.603 1238.38 L166.292 1240.05 L166.292 1235.79 L174.556 1234.12 L179.232 1234.12 L179.232 1264.74 L186.871 1264.74 L186.871 1268.68 L166.964 1268.68 L166.964 1264.74 Z\" fill=\"#000000\" fill-rule=\"evenodd\" fill-opacity=\"1\" /><path clip-path=\"url(#clip270)\" d=\"M99.5335 1048.22 Q95.9224 1048.22 94.0937 1051.79 Q92.2882 1055.33 92.2882 1062.45 Q92.2882 1069.56 94.0937 1073.12 Q95.9224 1076.66 99.5335 1076.66 Q103.168 1076.66 104.973 1073.12 Q106.802 1069.56 106.802 1062.45 Q106.802 1055.33 104.973 1051.79 Q103.168 1048.22 99.5335 1048.22 M99.5335 1044.52 Q105.344 1044.52 108.399 1049.12 Q111.478 1053.71 111.478 1062.45 Q111.478 1071.18 108.399 1075.79 Q105.344 1080.37 99.5335 1080.37 Q93.7234 1080.37 90.6447 1075.79 Q87.5892 1071.18 87.5892 1062.45 Q87.5892 1053.71 90.6447 1049.12 Q93.7234 1044.52 99.5335 1044.52 Z\" fill=\"#000000\" fill-rule=\"evenodd\" fill-opacity=\"1\" /><path clip-path=\"url(#clip270)\" d=\"M119.695 1073.82 L124.58 1073.82 L124.58 1079.7 L119.695 1079.7 L119.695 1073.82 Z\" fill=\"#000000\" fill-rule=\"evenodd\" fill-opacity=\"1\" /><path clip-path=\"url(#clip270)\" d=\"M144.765 1048.22 Q141.154 1048.22 139.325 1051.79 Q137.519 1055.33 137.519 1062.45 Q137.519 1069.56 139.325 1073.12 Q141.154 1076.66 144.765 1076.66 Q148.399 1076.66 150.205 1073.12 Q152.033 1069.56 152.033 1062.45 Q152.033 1055.33 150.205 1051.79 Q148.399 1048.22 144.765 1048.22 M144.765 1044.52 Q150.575 1044.52 153.63 1049.12 Q156.709 1053.71 156.709 1062.45 Q156.709 1071.18 153.63 1075.79 Q150.575 1080.37 144.765 1080.37 Q138.955 1080.37 135.876 1075.79 Q132.82 1071.18 132.82 1062.45 Q132.82 1053.71 135.876 1049.12 Q138.955 1044.52 144.765 1044.52 Z\" fill=\"#000000\" fill-rule=\"evenodd\" fill-opacity=\"1\" /><path clip-path=\"url(#clip270)\" d=\"M174.927 1048.22 Q171.316 1048.22 169.487 1051.79 Q167.681 1055.33 167.681 1062.45 Q167.681 1069.56 169.487 1073.12 Q171.316 1076.66 174.927 1076.66 Q178.561 1076.66 180.366 1073.12 Q182.195 1069.56 182.195 1062.45 Q182.195 1055.33 180.366 1051.79 Q178.561 1048.22 174.927 1048.22 M174.927 1044.52 Q180.737 1044.52 183.792 1049.12 Q186.871 1053.71 186.871 1062.45 Q186.871 1071.18 183.792 1075.79 Q180.737 1080.37 174.927 1080.37 Q169.116 1080.37 166.038 1075.79 Q162.982 1071.18 162.982 1062.45 Q162.982 1053.71 166.038 1049.12 Q169.116 1044.52 174.927 1044.52 Z\" fill=\"#000000\" fill-rule=\"evenodd\" fill-opacity=\"1\" /><path clip-path=\"url(#clip270)\" d=\"M100.76 859.241 Q97.1493 859.241 95.3206 862.806 Q93.515 866.347 93.515 873.475 Q93.515 880.58 95.3206 884.144 Q97.1493 887.685 100.76 887.685 Q104.395 887.685 106.2 884.144 Q108.029 880.58 108.029 873.475 Q108.029 866.347 106.2 862.806 Q104.395 859.241 100.76 859.241 M100.76 855.539 Q106.571 855.539 109.626 860.144 Q112.705 864.727 112.705 873.475 Q112.705 882.2 109.626 886.806 Q106.571 891.388 100.76 891.388 Q94.9502 891.388 91.8715 886.806 Q88.816 882.2 88.816 873.475 Q88.816 864.727 91.8715 860.144 Q94.9502 855.539 100.76 855.539 Z\" fill=\"#000000\" fill-rule=\"evenodd\" fill-opacity=\"1\" /><path clip-path=\"url(#clip270)\" d=\"M120.922 884.838 L125.807 884.838 L125.807 890.717 L120.922 890.717 L120.922 884.838 Z\" fill=\"#000000\" fill-rule=\"evenodd\" fill-opacity=\"1\" /><path clip-path=\"url(#clip270)\" d=\"M145.992 859.241 Q142.381 859.241 140.552 862.806 Q138.746 866.347 138.746 873.475 Q138.746 880.58 140.552 884.144 Q142.381 887.685 145.992 887.685 Q149.626 887.685 151.431 884.144 Q153.26 880.58 153.26 873.475 Q153.26 866.347 151.431 862.806 Q149.626 859.241 145.992 859.241 M145.992 855.539 Q151.802 855.539 154.857 860.144 Q157.936 864.727 157.936 873.475 Q157.936 882.2 154.857 886.806 Q151.802 891.388 145.992 891.388 Q140.181 891.388 137.103 886.806 Q134.047 882.2 134.047 873.475 Q134.047 864.727 137.103 860.144 Q140.181 855.539 145.992 855.539 Z\" fill=\"#000000\" fill-rule=\"evenodd\" fill-opacity=\"1\" /><path clip-path=\"url(#clip270)\" d=\"M166.964 886.782 L174.603 886.782 L174.603 860.422 L166.292 862.088 L166.292 857.83 L174.556 856.163 L179.232 856.163 L179.232 886.782 L186.871 886.782 L186.871 890.717 L166.964 890.717 L166.964 886.782 Z\" fill=\"#000000\" fill-rule=\"evenodd\" fill-opacity=\"1\" /><path clip-path=\"url(#clip270)\" d=\"M101.131 670.262 Q97.5197 670.262 95.691 673.826 Q93.8854 677.367 93.8854 684.495 Q93.8854 691.6 95.691 695.164 Q97.5197 698.705 101.131 698.705 Q104.765 698.705 106.571 695.164 Q108.399 691.6 108.399 684.495 Q108.399 677.367 106.571 673.826 Q104.765 670.262 101.131 670.262 M101.131 666.559 Q106.941 666.559 109.996 671.164 Q113.075 675.747 113.075 684.495 Q113.075 693.22 109.996 697.826 Q106.941 702.408 101.131 702.408 Q95.3206 702.408 92.2419 697.826 Q89.1864 693.22 89.1864 684.495 Q89.1864 675.747 92.2419 671.164 Q95.3206 666.559 101.131 666.559 Z\" fill=\"#000000\" fill-rule=\"evenodd\" fill-opacity=\"1\" /><path clip-path=\"url(#clip270)\" d=\"M121.293 695.859 L126.177 695.859 L126.177 701.737 L121.293 701.737 L121.293 695.859 Z\" fill=\"#000000\" fill-rule=\"evenodd\" fill-opacity=\"1\" /><path clip-path=\"url(#clip270)\" d=\"M146.362 670.262 Q142.751 670.262 140.922 673.826 Q139.117 677.367 139.117 684.495 Q139.117 691.6 140.922 695.164 Q142.751 698.705 146.362 698.705 Q149.996 698.705 151.802 695.164 Q153.63 691.6 153.63 684.495 Q153.63 677.367 151.802 673.826 Q149.996 670.262 146.362 670.262 M146.362 666.559 Q152.172 666.559 155.228 671.164 Q158.306 675.747 158.306 684.495 Q158.306 693.22 155.228 697.826 Q152.172 702.408 146.362 702.408 Q140.552 702.408 137.473 697.826 Q134.418 693.22 134.418 684.495 Q134.418 675.747 137.473 671.164 Q140.552 666.559 146.362 666.559 Z\" fill=\"#000000\" fill-rule=\"evenodd\" fill-opacity=\"1\" /><path clip-path=\"url(#clip270)\" d=\"M170.552 697.803 L186.871 697.803 L186.871 701.737 L164.927 701.737 L164.927 697.803 Q167.589 695.049 172.172 690.42 Q176.778 685.768 177.959 684.426 Q180.204 681.903 181.084 680.167 Q181.987 678.408 181.987 676.719 Q181.987 673.965 180.042 672.229 Q178.121 670.493 175.019 670.493 Q172.82 670.493 170.366 671.257 Q167.936 672.021 165.158 673.571 L165.158 668.85 Q167.982 667.716 170.436 667.137 Q172.89 666.559 174.927 666.559 Q180.297 666.559 183.491 669.244 Q186.686 671.928 186.686 676.418 Q186.686 678.547 185.876 680.468 Q185.089 682.366 182.982 684.958 Q182.403 685.629 179.302 688.846 Q176.2 692.04 170.552 697.803 Z\" fill=\"#000000\" fill-rule=\"evenodd\" fill-opacity=\"1\" /><path clip-path=\"url(#clip270)\" d=\"M100.182 481.282 Q96.5706 481.282 94.7419 484.846 Q92.9363 488.387 92.9363 495.516 Q92.9363 502.621 94.7419 506.185 Q96.5706 509.726 100.182 509.726 Q103.816 509.726 105.621 506.185 Q107.45 502.621 107.45 495.516 Q107.45 488.387 105.621 484.846 Q103.816 481.282 100.182 481.282 M100.182 477.579 Q105.992 477.579 109.047 482.185 Q112.126 486.767 112.126 495.516 Q112.126 504.241 109.047 508.846 Q105.992 513.429 100.182 513.429 Q94.3715 513.429 91.2928 508.846 Q88.2373 504.241 88.2373 495.516 Q88.2373 486.767 91.2928 482.185 Q94.3715 477.579 100.182 477.579 Z\" fill=\"#000000\" fill-rule=\"evenodd\" fill-opacity=\"1\" /><path clip-path=\"url(#clip270)\" d=\"M120.344 506.879 L125.228 506.879 L125.228 512.758 L120.344 512.758 L120.344 506.879 Z\" fill=\"#000000\" fill-rule=\"evenodd\" fill-opacity=\"1\" /><path clip-path=\"url(#clip270)\" d=\"M145.413 481.282 Q141.802 481.282 139.973 484.846 Q138.168 488.387 138.168 495.516 Q138.168 502.621 139.973 506.185 Q141.802 509.726 145.413 509.726 Q149.047 509.726 150.853 506.185 Q152.681 502.621 152.681 495.516 Q152.681 488.387 150.853 484.846 Q149.047 481.282 145.413 481.282 M145.413 477.579 Q151.223 477.579 154.279 482.185 Q157.357 486.767 157.357 495.516 Q157.357 504.241 154.279 508.846 Q151.223 513.429 145.413 513.429 Q139.603 513.429 136.524 508.846 Q133.469 504.241 133.469 495.516 Q133.469 486.767 136.524 482.185 Q139.603 477.579 145.413 477.579 Z\" fill=\"#000000\" fill-rule=\"evenodd\" fill-opacity=\"1\" /><path clip-path=\"url(#clip270)\" d=\"M179.741 494.127 Q183.098 494.844 184.973 497.112 Q186.871 499.381 186.871 502.713 Q186.871 507.828 183.353 510.628 Q179.834 513.429 173.353 513.429 Q171.177 513.429 168.862 512.989 Q166.57 512.572 164.117 511.716 L164.117 507.203 Q166.061 508.337 168.376 508.916 Q170.691 509.494 173.214 509.494 Q177.612 509.494 179.903 507.759 Q182.218 506.023 182.218 502.713 Q182.218 499.658 180.066 497.946 Q177.936 496.21 174.116 496.21 L170.089 496.21 L170.089 492.368 L174.302 492.368 Q177.751 492.368 179.579 491.003 Q181.408 489.614 181.408 487.022 Q181.408 484.36 179.51 482.949 Q177.635 481.514 174.116 481.514 Q172.195 481.514 169.996 481.93 Q167.797 482.347 165.158 483.226 L165.158 479.06 Q167.82 478.32 170.135 477.95 Q172.473 477.579 174.533 477.579 Q179.857 477.579 182.959 480.009 Q186.061 482.416 186.061 486.536 Q186.061 489.406 184.417 491.396 Q182.774 493.363 179.741 494.127 Z\" fill=\"#000000\" fill-rule=\"evenodd\" fill-opacity=\"1\" /><path clip-path=\"url(#clip270)\" d=\"M99.0474 292.303 Q95.4363 292.303 93.6076 295.867 Q91.8021 299.408 91.8021 306.536 Q91.8021 313.641 93.6076 317.205 Q95.4363 320.746 99.0474 320.746 Q102.682 320.746 104.487 317.205 Q106.316 313.641 106.316 306.536 Q106.316 299.408 104.487 295.867 Q102.682 292.303 99.0474 292.303 M99.0474 288.6 Q104.858 288.6 107.913 293.205 Q110.992 297.788 110.992 306.536 Q110.992 315.261 107.913 319.867 Q104.858 324.449 99.0474 324.449 Q93.2373 324.449 90.1586 319.867 Q87.103 315.261 87.103 306.536 Q87.103 297.788 90.1586 293.205 Q93.2373 288.6 99.0474 288.6 Z\" fill=\"#000000\" fill-rule=\"evenodd\" fill-opacity=\"1\" /><path clip-path=\"url(#clip270)\" d=\"M119.209 317.899 L124.094 317.899 L124.094 323.778 L119.209 323.778 L119.209 317.899 Z\" fill=\"#000000\" fill-rule=\"evenodd\" fill-opacity=\"1\" /><path clip-path=\"url(#clip270)\" d=\"M144.279 292.303 Q140.668 292.303 138.839 295.867 Q137.033 299.408 137.033 306.536 Q137.033 313.641 138.839 317.205 Q140.668 320.746 144.279 320.746 Q147.913 320.746 149.718 317.205 Q151.547 313.641 151.547 306.536 Q151.547 299.408 149.718 295.867 Q147.913 292.303 144.279 292.303 M144.279 288.6 Q150.089 288.6 153.144 293.205 Q156.223 297.788 156.223 306.536 Q156.223 315.261 153.144 319.867 Q150.089 324.449 144.279 324.449 Q138.469 324.449 135.39 319.867 Q132.334 315.261 132.334 306.536 Q132.334 297.788 135.39 293.205 Q138.469 288.6 144.279 288.6 Z\" fill=\"#000000\" fill-rule=\"evenodd\" fill-opacity=\"1\" /><path clip-path=\"url(#clip270)\" d=\"M177.288 293.298 L165.482 311.743 L177.288 311.743 L177.288 293.298 M176.061 289.224 L181.94 289.224 L181.94 311.743 L186.871 311.743 L186.871 315.631 L181.94 315.631 L181.94 323.778 L177.288 323.778 L177.288 315.631 L161.686 315.631 L161.686 311.118 L176.061 289.224 Z\" fill=\"#000000\" fill-rule=\"evenodd\" fill-opacity=\"1\" /><path clip-path=\"url(#clip270)\" d=\"M670.03 12.0937 L704.787 12.0937 L704.787 18.9789 L678.213 18.9789 L678.213 36.7995 L702.194 36.7995 L702.194 43.6848 L678.213 43.6848 L678.213 72.5622 L670.03 72.5622 L670.03 12.0937 Z\" fill=\"#000000\" fill-rule=\"evenodd\" fill-opacity=\"1\" /><path clip-path=\"url(#clip270)\" d=\"M717.426 9.54212 L724.88 9.54212 L724.88 72.5622 L717.426 72.5622 L717.426 9.54212 Z\" fill=\"#000000\" fill-rule=\"evenodd\" fill-opacity=\"1\" /><path clip-path=\"url(#clip270)\" d=\"M739.706 54.6606 L739.706 27.2007 L747.16 27.2007 L747.16 54.3771 Q747.16 60.8168 749.671 64.0569 Q752.183 67.2565 757.206 67.2565 Q763.242 67.2565 766.725 63.4089 Q770.25 59.5613 770.25 52.9191 L770.25 27.2007 L777.703 27.2007 L777.703 72.5622 L770.25 72.5622 L770.25 65.596 Q767.536 69.7271 763.93 71.7522 Q760.365 73.7368 755.626 73.7368 Q747.808 73.7368 743.757 68.8766 Q739.706 64.0164 739.706 54.6606 M758.462 26.1072 L758.462 26.1072 Z\" fill=\"#000000\" fill-rule=\"evenodd\" fill-opacity=\"1\" /><path clip-path=\"url(#clip270)\" d=\"M830.77 27.2007 L814.364 49.2739 L831.621 72.5622 L822.83 72.5622 L809.624 54.7416 L796.419 72.5622 L787.628 72.5622 L805.25 48.8284 L789.127 27.2007 L797.917 27.2007 L809.949 43.3607 L821.98 27.2007 L830.77 27.2007 Z\" fill=\"#000000\" fill-rule=\"evenodd\" fill-opacity=\"1\" /><path clip-path=\"url(#clip270)\" d=\"M875.735 65.758 L875.735 89.8158 L868.241 89.8158 L868.241 27.2007 L875.735 27.2007 L875.735 34.0859 Q878.085 30.0358 881.65 28.0917 Q885.255 26.1072 890.237 26.1072 Q898.501 26.1072 903.646 32.6684 Q908.831 39.2296 908.831 49.922 Q908.831 60.6143 903.646 67.1755 Q898.501 73.7368 890.237 73.7368 Q885.255 73.7368 881.65 71.7927 Q878.085 69.8081 875.735 65.758 M901.094 49.922 Q901.094 41.7002 897.691 37.0425 Q894.329 32.3444 888.415 32.3444 Q882.5 32.3444 879.097 37.0425 Q875.735 41.7002 875.735 49.922 Q875.735 58.1437 879.097 62.8419 Q882.5 67.4996 888.415 67.4996 Q894.329 67.4996 897.691 62.8419 Q901.094 58.1437 901.094 49.922 Z\" fill=\"#000000\" fill-rule=\"evenodd\" fill-opacity=\"1\" /><path clip-path=\"url(#clip270)\" d=\"M941.805 49.76 Q932.772 49.76 929.288 51.8255 Q925.804 53.8911 925.804 58.8728 Q925.804 62.8419 928.397 65.191 Q931.03 67.4996 935.527 67.4996 Q941.724 67.4996 945.451 63.1254 Q949.219 58.7108 949.219 51.4205 L949.219 49.76 L941.805 49.76 M956.672 46.6819 L956.672 72.5622 L949.219 72.5622 L949.219 65.677 Q946.667 69.8081 942.859 71.7927 Q939.051 73.7368 933.542 73.7368 Q926.574 73.7368 922.442 69.8486 Q918.351 65.92 918.351 59.3588 Q918.351 51.704 923.455 47.8159 Q928.6 43.9278 938.767 43.9278 L949.219 43.9278 L949.219 43.1987 Q949.219 38.0551 945.816 35.2605 Q942.454 32.4254 936.337 32.4254 Q932.448 32.4254 928.762 33.3569 Q925.075 34.2884 921.672 36.1515 L921.672 29.2663 Q925.764 27.6867 929.612 26.9172 Q933.461 26.1072 937.106 26.1072 Q946.95 26.1072 951.811 31.2103 Q956.672 36.3135 956.672 46.6819 Z\" fill=\"#000000\" fill-rule=\"evenodd\" fill-opacity=\"1\" /><path clip-path=\"url(#clip270)\" d=\"M998.316 34.1669 Q997.06 33.4379 995.561 33.1139 Q994.103 32.7494 992.32 32.7494 Q986.001 32.7494 982.598 36.8805 Q979.236 40.9712 979.236 48.6664 L979.236 72.5622 L971.742 72.5622 L971.742 27.2007 L979.236 27.2007 L979.236 34.2479 Q981.585 30.1168 985.353 28.1322 Q989.12 26.1072 994.508 26.1072 Q995.277 26.1072 996.209 26.2287 Q997.141 26.3097 998.275 26.5122 L998.316 34.1669 Z\" fill=\"#000000\" fill-rule=\"evenodd\" fill-opacity=\"1\" /><path clip-path=\"url(#clip270)\" d=\"M1026.75 49.76 Q1017.72 49.76 1014.24 51.8255 Q1010.75 53.8911 1010.75 58.8728 Q1010.75 62.8419 1013.34 65.191 Q1015.98 67.4996 1020.47 67.4996 Q1026.67 67.4996 1030.4 63.1254 Q1034.17 58.7108 1034.17 51.4205 L1034.17 49.76 L1026.75 49.76 M1041.62 46.6819 L1041.62 72.5622 L1034.17 72.5622 L1034.17 65.677 Q1031.61 69.8081 1027.81 71.7927 Q1024 73.7368 1018.49 73.7368 Q1011.52 73.7368 1007.39 69.8486 Q1003.3 65.92 1003.3 59.3588 Q1003.3 51.704 1008.4 47.8159 Q1013.55 43.9278 1023.71 43.9278 L1034.17 43.9278 L1034.17 43.1987 Q1034.17 38.0551 1030.76 35.2605 Q1027.4 32.4254 1021.28 32.4254 Q1017.4 32.4254 1013.71 33.3569 Q1010.02 34.2884 1006.62 36.1515 L1006.62 29.2663 Q1010.71 27.6867 1014.56 26.9172 Q1018.41 26.1072 1022.05 26.1072 Q1031.9 26.1072 1036.76 31.2103 Q1041.62 36.3135 1041.62 46.6819 Z\" fill=\"#000000\" fill-rule=\"evenodd\" fill-opacity=\"1\" /><path clip-path=\"url(#clip270)\" d=\"M1092.3 35.9085 Q1095.09 30.8863 1098.98 28.4968 Q1102.87 26.1072 1108.14 26.1072 Q1115.22 26.1072 1119.07 31.0888 Q1122.92 36.03 1122.92 45.1833 L1122.92 72.5622 L1115.43 72.5622 L1115.43 45.4263 Q1115.43 38.9056 1113.12 35.7465 Q1110.81 32.5874 1106.07 32.5874 Q1100.28 32.5874 1096.91 36.435 Q1093.55 40.2826 1093.55 46.9249 L1093.55 72.5622 L1086.06 72.5622 L1086.06 45.4263 Q1086.06 38.8651 1083.75 35.7465 Q1081.44 32.5874 1076.62 32.5874 Q1070.91 32.5874 1067.55 36.4755 Q1064.18 40.3231 1064.18 46.9249 L1064.18 72.5622 L1056.69 72.5622 L1056.69 27.2007 L1064.18 27.2007 L1064.18 34.2479 Q1066.74 30.0763 1070.3 28.0917 Q1073.86 26.1072 1078.77 26.1072 Q1083.71 26.1072 1087.15 28.6183 Q1090.64 31.1293 1092.3 35.9085 Z\" fill=\"#000000\" fill-rule=\"evenodd\" fill-opacity=\"1\" /><path clip-path=\"url(#clip270)\" d=\"M1176.6 48.0184 L1176.6 51.6635 L1142.33 51.6635 Q1142.81 59.3588 1146.94 63.4089 Q1151.12 67.4186 1158.53 67.4186 Q1162.82 67.4186 1166.83 66.3655 Q1170.88 65.3125 1174.85 63.2064 L1174.85 70.2536 Q1170.84 71.9547 1166.63 72.8457 Q1162.42 73.7368 1158.08 73.7368 Q1147.23 73.7368 1140.87 67.4186 Q1134.55 61.1003 1134.55 50.327 Q1134.55 39.1891 1140.54 32.6684 Q1146.58 26.1072 1156.79 26.1072 Q1165.94 26.1072 1171.25 32.0204 Q1176.6 37.8931 1176.6 48.0184 M1169.14 45.8313 Q1169.06 39.7156 1165.7 36.0705 Q1162.38 32.4254 1156.87 32.4254 Q1150.63 32.4254 1146.86 35.949 Q1143.14 39.4726 1142.57 45.8718 L1169.14 45.8313 Z\" fill=\"#000000\" fill-rule=\"evenodd\" fill-opacity=\"1\" /><path clip-path=\"url(#clip270)\" d=\"M1196.2 14.3213 L1196.2 27.2007 L1211.56 27.2007 L1211.56 32.9924 L1196.2 32.9924 L1196.2 57.6172 Q1196.2 63.1659 1197.7 64.7455 Q1199.24 66.325 1203.9 66.325 L1211.56 66.325 L1211.56 72.5622 L1203.9 72.5622 Q1195.27 72.5622 1191.99 69.3626 Q1188.71 66.1225 1188.71 57.6172 L1188.71 32.9924 L1183.24 32.9924 L1183.24 27.2007 L1188.71 27.2007 L1188.71 14.3213 L1196.2 14.3213 Z\" fill=\"#000000\" fill-rule=\"evenodd\" fill-opacity=\"1\" /><path clip-path=\"url(#clip270)\" d=\"M1260.17 48.0184 L1260.17 51.6635 L1225.9 51.6635 Q1226.38 59.3588 1230.51 63.4089 Q1234.69 67.4186 1242.1 67.4186 Q1246.39 67.4186 1250.4 66.3655 Q1254.45 65.3125 1258.42 63.2064 L1258.42 70.2536 Q1254.41 71.9547 1250.2 72.8457 Q1245.99 73.7368 1241.65 73.7368 Q1230.8 73.7368 1224.44 67.4186 Q1218.12 61.1003 1218.12 50.327 Q1218.12 39.1891 1224.11 32.6684 Q1230.15 26.1072 1240.36 26.1072 Q1249.51 26.1072 1254.82 32.0204 Q1260.17 37.8931 1260.17 48.0184 M1252.71 45.8313 Q1252.63 39.7156 1249.27 36.0705 Q1245.95 32.4254 1240.44 32.4254 Q1234.2 32.4254 1230.43 35.949 Q1226.71 39.4726 1226.14 45.8718 L1252.71 45.8313 Z\" fill=\"#000000\" fill-rule=\"evenodd\" fill-opacity=\"1\" /><path clip-path=\"url(#clip270)\" d=\"M1298.69 34.1669 Q1297.43 33.4379 1295.94 33.1139 Q1294.48 32.7494 1292.69 32.7494 Q1286.38 32.7494 1282.97 36.8805 Q1279.61 40.9712 1279.61 48.6664 L1279.61 72.5622 L1272.12 72.5622 L1272.12 27.2007 L1279.61 27.2007 L1279.61 34.2479 Q1281.96 30.1168 1285.73 28.1322 Q1289.49 26.1072 1294.88 26.1072 Q1295.65 26.1072 1296.58 26.2287 Q1297.52 26.3097 1298.65 26.5122 L1298.69 34.1669 Z\" fill=\"#000000\" fill-rule=\"evenodd\" fill-opacity=\"1\" /><path clip-path=\"url(#clip270)\" d=\"M1368.2 35.9085 Q1371 30.8863 1374.89 28.4968 Q1378.78 26.1072 1384.04 26.1072 Q1391.13 26.1072 1394.98 31.0888 Q1398.83 36.03 1398.83 45.1833 L1398.83 72.5622 L1391.33 72.5622 L1391.33 45.4263 Q1391.33 38.9056 1389.03 35.7465 Q1386.72 32.5874 1381.98 32.5874 Q1376.18 32.5874 1372.82 36.435 Q1369.46 40.2826 1369.46 46.9249 L1369.46 72.5622 L1361.97 72.5622 L1361.97 45.4263 Q1361.97 38.8651 1359.66 35.7465 Q1357.35 32.5874 1352.53 32.5874 Q1346.81 32.5874 1343.45 36.4755 Q1340.09 40.3231 1340.09 46.9249 L1340.09 72.5622 L1332.6 72.5622 L1332.6 27.2007 L1340.09 27.2007 L1340.09 34.2479 Q1342.64 30.0763 1346.21 28.0917 Q1349.77 26.1072 1354.67 26.1072 Q1359.62 26.1072 1363.06 28.6183 Q1366.54 31.1293 1368.2 35.9085 Z\" fill=\"#000000\" fill-rule=\"evenodd\" fill-opacity=\"1\" /><path clip-path=\"url(#clip270)\" d=\"M1452.5 48.0184 L1452.5 51.6635 L1418.23 51.6635 Q1418.72 59.3588 1422.85 63.4089 Q1427.02 67.4186 1434.44 67.4186 Q1438.73 67.4186 1442.74 66.3655 Q1446.79 65.3125 1450.76 63.2064 L1450.76 70.2536 Q1446.75 71.9547 1442.54 72.8457 Q1438.32 73.7368 1433.99 73.7368 Q1423.13 73.7368 1416.77 67.4186 Q1410.45 61.1003 1410.45 50.327 Q1410.45 39.1891 1416.45 32.6684 Q1422.49 26.1072 1432.69 26.1072 Q1441.85 26.1072 1447.16 32.0204 Q1452.5 37.8931 1452.5 48.0184 M1445.05 45.8313 Q1444.97 39.7156 1441.61 36.0705 Q1438.28 32.4254 1432.78 32.4254 Q1426.54 32.4254 1422.77 35.949 Q1419.04 39.4726 1418.48 45.8718 L1445.05 45.8313 Z\" fill=\"#000000\" fill-rule=\"evenodd\" fill-opacity=\"1\" /><path clip-path=\"url(#clip270)\" d=\"M1485.36 49.76 Q1476.32 49.76 1472.84 51.8255 Q1469.35 53.8911 1469.35 58.8728 Q1469.35 62.8419 1471.95 65.191 Q1474.58 67.4996 1479.08 67.4996 Q1485.27 67.4996 1489 63.1254 Q1492.77 58.7108 1492.77 51.4205 L1492.77 49.76 L1485.36 49.76 M1500.22 46.6819 L1500.22 72.5622 L1492.77 72.5622 L1492.77 65.677 Q1490.22 69.8081 1486.41 71.7927 Q1482.6 73.7368 1477.09 73.7368 Q1470.12 73.7368 1465.99 69.8486 Q1461.9 65.92 1461.9 59.3588 Q1461.9 51.704 1467.01 47.8159 Q1472.15 43.9278 1482.32 43.9278 L1492.77 43.9278 L1492.77 43.1987 Q1492.77 38.0551 1489.37 35.2605 Q1486 32.4254 1479.89 32.4254 Q1476 32.4254 1472.31 33.3569 Q1468.63 34.2884 1465.22 36.1515 L1465.22 29.2663 Q1469.31 27.6867 1473.16 26.9172 Q1477.01 26.1072 1480.66 26.1072 Q1490.5 26.1072 1495.36 31.2103 Q1500.22 36.3135 1500.22 46.6819 Z\" fill=\"#000000\" fill-rule=\"evenodd\" fill-opacity=\"1\" /><path clip-path=\"url(#clip270)\" d=\"M1553.29 45.1833 L1553.29 72.5622 L1545.84 72.5622 L1545.84 45.4263 Q1545.84 38.9866 1543.32 35.787 Q1540.81 32.5874 1535.79 32.5874 Q1529.75 32.5874 1526.27 36.435 Q1522.79 40.2826 1522.79 46.9249 L1522.79 72.5622 L1515.29 72.5622 L1515.29 27.2007 L1522.79 27.2007 L1522.79 34.2479 Q1525.46 30.1573 1529.07 28.1322 Q1532.71 26.1072 1537.45 26.1072 Q1545.27 26.1072 1549.28 30.9673 Q1553.29 35.787 1553.29 45.1833 Z\" fill=\"#000000\" fill-rule=\"evenodd\" fill-opacity=\"1\" /><path clip-path=\"url(#clip270)\" d=\"M1590.19 27.2007 L1597.65 27.2007 L1606.96 62.5989 L1616.24 27.2007 L1625.03 27.2007 L1634.35 62.5989 L1643.62 27.2007 L1651.08 27.2007 L1639.21 72.5622 L1630.42 72.5622 L1620.66 35.382 L1610.85 72.5622 L1602.06 72.5622 L1590.19 27.2007 Z\" fill=\"#000000\" fill-rule=\"evenodd\" fill-opacity=\"1\" /><path clip-path=\"url(#clip270)\" d=\"M1701.19 48.0184 L1701.19 51.6635 L1666.92 51.6635 Q1667.4 59.3588 1671.54 63.4089 Q1675.71 67.4186 1683.12 67.4186 Q1687.41 67.4186 1691.43 66.3655 Q1695.48 65.3125 1699.45 63.2064 L1699.45 70.2536 Q1695.44 71.9547 1691.22 72.8457 Q1687.01 73.7368 1682.68 73.7368 Q1671.82 73.7368 1665.46 67.4186 Q1659.14 61.1003 1659.14 50.327 Q1659.14 39.1891 1665.13 32.6684 Q1671.17 26.1072 1681.38 26.1072 Q1690.53 26.1072 1695.84 32.0204 Q1701.19 37.8931 1701.19 48.0184 M1693.73 45.8313 Q1693.65 39.7156 1690.29 36.0705 Q1686.97 32.4254 1681.46 32.4254 Q1675.22 32.4254 1671.45 35.949 Q1667.73 39.4726 1667.16 45.8718 L1693.73 45.8313 Z\" fill=\"#000000\" fill-rule=\"evenodd\" fill-opacity=\"1\" /><path clip-path=\"url(#clip270)\" d=\"M1713.42 27.2007 L1720.88 27.2007 L1720.88 72.5622 L1713.42 72.5622 L1713.42 27.2007 M1713.42 9.54212 L1720.88 9.54212 L1720.88 18.9789 L1713.42 18.9789 L1713.42 9.54212 Z\" fill=\"#000000\" fill-rule=\"evenodd\" fill-opacity=\"1\" /><path clip-path=\"url(#clip270)\" d=\"M1766.33 49.3549 Q1766.33 41.2547 1762.96 36.7995 Q1759.64 32.3444 1753.61 32.3444 Q1747.61 32.3444 1744.25 36.7995 Q1740.93 41.2547 1740.93 49.3549 Q1740.93 57.4147 1744.25 61.8699 Q1747.61 66.325 1753.61 66.325 Q1759.64 66.325 1762.96 61.8699 Q1766.33 57.4147 1766.33 49.3549 M1773.78 66.9325 Q1773.78 78.5159 1768.64 84.1456 Q1763.49 89.8158 1752.88 89.8158 Q1748.95 89.8158 1745.46 89.2083 Q1741.98 88.6413 1738.7 87.4262 L1738.7 80.1765 Q1741.98 81.9585 1745.18 82.8091 Q1748.38 83.6596 1751.7 83.6596 Q1759.03 83.6596 1762.68 79.812 Q1766.33 76.0048 1766.33 68.2691 L1766.33 64.5835 Q1764.02 68.5931 1760.41 70.5777 Q1756.81 72.5622 1751.78 72.5622 Q1743.44 72.5622 1738.33 66.2035 Q1733.23 59.8448 1733.23 49.3549 Q1733.23 38.8246 1738.33 32.4659 Q1743.44 26.1072 1751.78 26.1072 Q1756.81 26.1072 1760.41 28.0917 Q1764.02 30.0763 1766.33 34.0859 L1766.33 27.2007 L1773.78 27.2007 L1773.78 66.9325 Z\" fill=\"#000000\" fill-rule=\"evenodd\" fill-opacity=\"1\" /><path clip-path=\"url(#clip270)\" d=\"M1826.85 45.1833 L1826.85 72.5622 L1819.39 72.5622 L1819.39 45.4263 Q1819.39 38.9866 1816.88 35.787 Q1814.37 32.5874 1809.35 32.5874 Q1803.31 32.5874 1799.83 36.435 Q1796.34 40.2826 1796.34 46.9249 L1796.34 72.5622 L1788.85 72.5622 L1788.85 9.54212 L1796.34 9.54212 L1796.34 34.2479 Q1799.02 30.1573 1802.62 28.1322 Q1806.27 26.1072 1811.01 26.1072 Q1818.83 26.1072 1822.84 30.9673 Q1826.85 35.787 1826.85 45.1833 Z\" fill=\"#000000\" fill-rule=\"evenodd\" fill-opacity=\"1\" /><path clip-path=\"url(#clip270)\" d=\"M1849.09 14.3213 L1849.09 27.2007 L1864.44 27.2007 L1864.44 32.9924 L1849.09 32.9924 L1849.09 57.6172 Q1849.09 63.1659 1850.59 64.7455 Q1852.12 66.325 1856.78 66.325 L1864.44 66.325 L1864.44 72.5622 L1856.78 72.5622 Q1848.15 72.5622 1844.87 69.3626 Q1841.59 66.1225 1841.59 57.6172 L1841.59 32.9924 L1836.12 32.9924 L1836.12 27.2007 L1841.59 27.2007 L1841.59 14.3213 L1849.09 14.3213 Z\" fill=\"#000000\" fill-rule=\"evenodd\" fill-opacity=\"1\" /><path clip-path=\"url(#clip270)\" d=\"M1903.17 28.5373 L1903.17 35.5845 Q1900.01 33.9644 1896.6 33.1544 Q1893.2 32.3444 1889.56 32.3444 Q1884.01 32.3444 1881.21 34.0454 Q1878.46 35.7465 1878.46 39.1486 Q1878.46 41.7407 1880.44 43.2392 Q1882.43 44.6973 1888.42 46.0338 L1890.97 46.6009 Q1898.91 48.3019 1902.23 51.4205 Q1905.6 54.4986 1905.6 60.0473 Q1905.6 66.3655 1900.57 70.0511 Q1895.59 73.7368 1886.84 73.7368 Q1883.2 73.7368 1879.23 73.0077 Q1875.3 72.3192 1870.92 70.9017 L1870.92 63.2064 Q1875.05 65.353 1879.06 66.4465 Q1883.07 67.4996 1887 67.4996 Q1892.27 67.4996 1895.1 65.7175 Q1897.94 63.8949 1897.94 60.6143 Q1897.94 57.5767 1895.87 55.9567 Q1893.85 54.3366 1886.92 52.8381 L1884.33 52.2305 Q1877.4 50.7725 1874.32 47.7754 Q1871.24 44.7378 1871.24 39.4726 Q1871.24 33.0734 1875.78 29.5903 Q1880.32 26.1072 1888.66 26.1072 Q1892.8 26.1072 1896.44 26.7147 Q1900.09 27.3222 1903.17 28.5373 Z\" fill=\"#000000\" fill-rule=\"evenodd\" fill-opacity=\"1\" /><polyline clip-path=\"url(#clip272)\" style=\"stroke:#009af9; stroke-linecap:butt; stroke-linejoin:round; stroke-width:3.99924; stroke-opacity:1; fill:none\" points=\"\n",
       "  283.151,1149.13 484.083,1000.77 685.016,752.493 885.948,493.656 1086.88,371.665 1287.81,329.341 1488.75,300.729 1689.68,268.407 1890.61,230.537 2091.54,190.993 \n",
       "  2292.48,152.839 \n",
       "  \"/>\n",
       "<polyline clip-path=\"url(#clip272)\" style=\"stroke:#e26f46; stroke-linecap:butt; stroke-linejoin:round; stroke-width:3.99924; stroke-opacity:1; fill:none\" points=\"\n",
       "  283.151,1057.17 484.083,960.943 685.016,825.644 885.948,704.981 1086.88,656.788 1287.81,636.822 1488.75,615.128 1689.68,595.801 1890.61,580.269 2091.54,569.406 \n",
       "  2292.48,558.063 \n",
       "  \"/>\n",
       "<polyline clip-path=\"url(#clip272)\" style=\"stroke:#3da44d; stroke-linecap:butt; stroke-linejoin:round; stroke-width:3.99924; stroke-opacity:1; fill:none\" points=\"\n",
       "  283.151,1040.91 484.083,985.128 685.016,898.031 885.948,822.173 1086.88,798.269 1287.81,794.324 1488.75,790.598 1689.68,783.371 1890.61,774.315 2091.54,764.981 \n",
       "  2292.48,755.871 \n",
       "  \"/>\n",
       "<polyline clip-path=\"url(#clip272)\" style=\"stroke:#c271d2; stroke-linecap:butt; stroke-linejoin:round; stroke-width:3.99924; stroke-opacity:1; fill:none\" points=\"\n",
       "  283.151,1071.29 484.083,994.302 685.016,884.565 885.948,810.518 1086.88,783.206 1287.81,772.097 1488.75,764.526 1689.68,757.163 1890.61,750.404 2091.54,745.312 \n",
       "  2292.48,740.996 \n",
       "  \"/>\n",
       "<polyline clip-path=\"url(#clip272)\" style=\"stroke:#ac8d18; stroke-linecap:butt; stroke-linejoin:round; stroke-width:3.99924; stroke-opacity:1; fill:none\" points=\"\n",
       "  283.151,1070.5 484.083,1042.55 685.016,1002.79 885.948,965.362 1086.88,956.197 1287.81,952.057 1488.75,949.283 1689.68,945.704 1890.61,943.235 2091.54,941.262 \n",
       "  2292.48,940.528 \n",
       "  \"/>\n",
       "<polyline clip-path=\"url(#clip272)\" style=\"stroke:#00a9ad; stroke-linecap:butt; stroke-linejoin:round; stroke-width:3.99924; stroke-opacity:1; fill:none\" points=\"\n",
       "  283.151,1049.81 484.083,998.809 685.016,949.437 885.948,915.746 1086.88,907.165 1287.81,902.951 1488.75,899.025 1689.68,895.025 1890.61,891.446 2091.54,888.665 \n",
       "  2292.48,886.656 \n",
       "  \"/>\n",
       "<polyline clip-path=\"url(#clip272)\" style=\"stroke:#ed5d92; stroke-linecap:butt; stroke-linejoin:round; stroke-width:3.99924; stroke-opacity:1; fill:none\" points=\"\n",
       "  283.151,1149.54 484.083,1176.71 685.016,1205.11 885.948,1233.36 1086.88,1249.27 1287.81,1257.77 1488.75,1263.45 1689.68,1268.03 1890.61,1272.31 2091.54,1276.27 \n",
       "  2292.48,1279.57 \n",
       "  \"/>\n",
       "<polyline clip-path=\"url(#clip272)\" style=\"stroke:#c68125; stroke-linecap:butt; stroke-linejoin:round; stroke-width:3.99924; stroke-opacity:1; fill:none\" points=\"\n",
       "  283.151,1091.18 484.083,1109.11 685.016,1117.32 885.948,1122.2 1086.88,1124.29 1287.81,1124.74 1488.75,1124.5 1689.68,1124.22 1890.61,1124.03 2091.54,1123.89 \n",
       "  2292.48,1123.75 \n",
       "  \"/>\n",
       "<path clip-path=\"url(#clip270)\" d=\"\n",
       "M1990.96 625.32 L2281.76 625.32 L2281.76 158.849 L1990.96 158.849  Z\n",
       "  \" fill=\"#ffffff\" fill-rule=\"evenodd\" fill-opacity=\"1\"/>\n",
       "<polyline clip-path=\"url(#clip270)\" style=\"stroke:#000000; stroke-linecap:butt; stroke-linejoin:round; stroke-width:3.99924; stroke-opacity:1; fill:none\" points=\"\n",
       "  1990.96,625.32 2281.76,625.32 2281.76,158.849 1990.96,158.849 1990.96,625.32 \n",
       "  \"/>\n",
       "<polyline clip-path=\"url(#clip270)\" style=\"stroke:#009af9; stroke-linecap:butt; stroke-linejoin:round; stroke-width:3.99924; stroke-opacity:1; fill:none\" points=\"\n",
       "  2014.63,210.679 2156.62,210.679 \n",
       "  \"/>\n",
       "<path clip-path=\"url(#clip270)\" d=\"M2194.13 230.362 Q2192.32 234.991 2190.61 236.403 Q2188.9 237.815 2186.03 237.815 L2182.62 237.815 L2182.62 234.25 L2185.12 234.25 Q2186.88 234.25 2187.86 233.417 Q2188.83 232.584 2190.01 229.483 L2190.77 227.539 L2180.29 202.035 L2184.8 202.035 L2192.9 222.308 L2201 202.035 L2205.52 202.035 L2194.13 230.362 Z\" fill=\"#000000\" fill-rule=\"evenodd\" fill-opacity=\"1\" /><path clip-path=\"url(#clip270)\" d=\"M2212.81 224.021 L2220.45 224.021 L2220.45 197.66 L2212.14 199.327 L2212.14 195.068 L2220.4 193.402 L2225.08 193.402 L2225.08 224.021 L2232.72 224.021 L2232.72 227.955 L2212.81 227.955 L2212.81 224.021 Z\" fill=\"#000000\" fill-rule=\"evenodd\" fill-opacity=\"1\" /><polyline clip-path=\"url(#clip270)\" style=\"stroke:#e26f46; stroke-linecap:butt; stroke-linejoin:round; stroke-width:3.99924; stroke-opacity:1; fill:none\" points=\"\n",
       "  2014.63,262.509 2156.62,262.509 \n",
       "  \"/>\n",
       "<path clip-path=\"url(#clip270)\" d=\"M2194.13 282.193 Q2192.32 286.821 2190.61 288.233 Q2188.9 289.645 2186.03 289.645 L2182.62 289.645 L2182.62 286.081 L2185.12 286.081 Q2186.88 286.081 2187.86 285.247 Q2188.83 284.414 2190.01 281.313 L2190.77 279.369 L2180.29 253.865 L2184.8 253.865 L2192.9 274.139 L2201 253.865 L2205.52 253.865 L2194.13 282.193 Z\" fill=\"#000000\" fill-rule=\"evenodd\" fill-opacity=\"1\" /><path clip-path=\"url(#clip270)\" d=\"M2216.03 275.851 L2232.35 275.851 L2232.35 279.786 L2210.4 279.786 L2210.4 275.851 Q2213.06 273.097 2217.65 268.468 Q2222.25 263.816 2223.43 262.474 Q2225.68 259.951 2226.56 258.216 Q2227.46 256.457 2227.46 254.767 Q2227.46 252.013 2225.52 250.277 Q2223.6 248.542 2220.49 248.542 Q2218.29 248.542 2215.84 249.305 Q2213.41 250.069 2210.63 251.62 L2210.63 246.898 Q2213.46 245.764 2215.91 245.186 Q2218.36 244.607 2220.4 244.607 Q2225.77 244.607 2228.97 247.292 Q2232.16 249.977 2232.16 254.466 Q2232.16 256.596 2231.35 258.517 Q2230.56 260.414 2228.46 263.006 Q2227.88 263.678 2224.78 266.895 Q2221.67 270.088 2216.03 275.851 Z\" fill=\"#000000\" fill-rule=\"evenodd\" fill-opacity=\"1\" /><polyline clip-path=\"url(#clip270)\" style=\"stroke:#3da44d; stroke-linecap:butt; stroke-linejoin:round; stroke-width:3.99924; stroke-opacity:1; fill:none\" points=\"\n",
       "  2014.63,314.339 2156.62,314.339 \n",
       "  \"/>\n",
       "<path clip-path=\"url(#clip270)\" d=\"M2194.13 334.023 Q2192.32 338.651 2190.61 340.063 Q2188.9 341.475 2186.03 341.475 L2182.62 341.475 L2182.62 337.911 L2185.12 337.911 Q2186.88 337.911 2187.86 337.078 Q2188.83 336.244 2190.01 333.143 L2190.77 331.199 L2180.29 305.695 L2184.8 305.695 L2192.9 325.969 L2201 305.695 L2205.52 305.695 L2194.13 334.023 Z\" fill=\"#000000\" fill-rule=\"evenodd\" fill-opacity=\"1\" /><path clip-path=\"url(#clip270)\" d=\"M2226.17 312.985 Q2229.52 313.703 2231.4 315.971 Q2233.29 318.239 2233.29 321.571 Q2233.29 326.686 2229.78 329.487 Q2226.26 332.287 2219.78 332.287 Q2217.6 332.287 2215.29 331.847 Q2212.99 331.431 2210.54 330.574 L2210.54 326.061 Q2212.48 327.195 2214.8 327.774 Q2217.11 328.352 2219.64 328.352 Q2224.04 328.352 2226.33 326.617 Q2228.64 324.881 2228.64 321.571 Q2228.64 318.516 2226.49 316.804 Q2224.36 315.068 2220.54 315.068 L2216.51 315.068 L2216.51 311.226 L2220.73 311.226 Q2224.17 311.226 2226 309.861 Q2227.83 308.472 2227.83 305.88 Q2227.83 303.219 2225.93 301.807 Q2224.06 300.372 2220.54 300.372 Q2218.62 300.372 2216.42 300.788 Q2214.22 301.205 2211.58 302.084 L2211.58 297.919 Q2214.24 297.178 2216.56 296.808 Q2218.9 296.437 2220.96 296.437 Q2226.28 296.437 2229.38 298.868 Q2232.48 301.274 2232.48 305.394 Q2232.48 308.264 2230.84 310.254 Q2229.2 312.221 2226.17 312.985 Z\" fill=\"#000000\" fill-rule=\"evenodd\" fill-opacity=\"1\" /><polyline clip-path=\"url(#clip270)\" style=\"stroke:#c271d2; stroke-linecap:butt; stroke-linejoin:round; stroke-width:3.99924; stroke-opacity:1; fill:none\" points=\"\n",
       "  2014.63,366.169 2156.62,366.169 \n",
       "  \"/>\n",
       "<path clip-path=\"url(#clip270)\" d=\"M2194.13 385.853 Q2192.32 390.482 2190.61 391.893 Q2188.9 393.305 2186.03 393.305 L2182.62 393.305 L2182.62 389.741 L2185.12 389.741 Q2186.88 389.741 2187.86 388.908 Q2188.83 388.075 2190.01 384.973 L2190.77 383.029 L2180.29 357.525 L2184.8 357.525 L2192.9 377.799 L2201 357.525 L2205.52 357.525 L2194.13 385.853 Z\" fill=\"#000000\" fill-rule=\"evenodd\" fill-opacity=\"1\" /><path clip-path=\"url(#clip270)\" d=\"M2224.85 352.966 L2213.04 371.411 L2224.85 371.411 L2224.85 352.966 M2223.62 348.892 L2229.5 348.892 L2229.5 371.411 L2234.43 371.411 L2234.43 375.299 L2229.5 375.299 L2229.5 383.446 L2224.85 383.446 L2224.85 375.299 L2209.24 375.299 L2209.24 370.786 L2223.62 348.892 Z\" fill=\"#000000\" fill-rule=\"evenodd\" fill-opacity=\"1\" /><polyline clip-path=\"url(#clip270)\" style=\"stroke:#ac8d18; stroke-linecap:butt; stroke-linejoin:round; stroke-width:3.99924; stroke-opacity:1; fill:none\" points=\"\n",
       "  2014.63,417.999 2156.62,417.999 \n",
       "  \"/>\n",
       "<path clip-path=\"url(#clip270)\" d=\"M2194.13 437.683 Q2192.32 442.312 2190.61 443.723 Q2188.9 445.135 2186.03 445.135 L2182.62 445.135 L2182.62 441.571 L2185.12 441.571 Q2186.88 441.571 2187.86 440.738 Q2188.83 439.905 2190.01 436.804 L2190.77 434.859 L2180.29 409.355 L2184.8 409.355 L2192.9 429.629 L2201 409.355 L2205.52 409.355 L2194.13 437.683 Z\" fill=\"#000000\" fill-rule=\"evenodd\" fill-opacity=\"1\" /><path clip-path=\"url(#clip270)\" d=\"M2212.04 400.723 L2230.4 400.723 L2230.4 404.657 L2216.33 404.657 L2216.33 413.128 Q2217.35 412.78 2218.36 412.618 Q2219.38 412.433 2220.4 412.433 Q2226.19 412.433 2229.57 415.604 Q2232.95 418.775 2232.95 424.19 Q2232.95 429.768 2229.48 432.869 Q2226 435.947 2219.68 435.947 Q2217.51 435.947 2215.24 435.577 Q2212.99 435.207 2210.59 434.466 L2210.59 429.768 Q2212.67 430.902 2214.89 431.457 Q2217.11 432.013 2219.59 432.013 Q2223.6 432.013 2225.93 429.907 Q2228.27 427.801 2228.27 424.19 Q2228.27 420.58 2225.93 418.474 Q2223.6 416.368 2219.59 416.368 Q2217.72 416.368 2215.84 416.784 Q2213.99 417.201 2212.04 418.08 L2212.04 400.723 Z\" fill=\"#000000\" fill-rule=\"evenodd\" fill-opacity=\"1\" /><polyline clip-path=\"url(#clip270)\" style=\"stroke:#00a9ad; stroke-linecap:butt; stroke-linejoin:round; stroke-width:3.99924; stroke-opacity:1; fill:none\" points=\"\n",
       "  2014.63,469.83 2156.62,469.83 \n",
       "  \"/>\n",
       "<path clip-path=\"url(#clip270)\" d=\"M2194.13 489.513 Q2192.32 494.142 2190.61 495.554 Q2188.9 496.965 2186.03 496.965 L2182.62 496.965 L2182.62 493.401 L2185.12 493.401 Q2186.88 493.401 2187.86 492.568 Q2188.83 491.735 2190.01 488.634 L2190.77 486.69 L2180.29 461.185 L2184.8 461.185 L2192.9 481.459 L2201 461.185 L2205.52 461.185 L2194.13 489.513 Z\" fill=\"#000000\" fill-rule=\"evenodd\" fill-opacity=\"1\" /><path clip-path=\"url(#clip270)\" d=\"M2222.58 467.966 Q2219.43 467.966 2217.58 470.119 Q2215.75 472.271 2215.75 476.02 Q2215.75 479.747 2217.58 481.922 Q2219.43 484.074 2222.58 484.074 Q2225.73 484.074 2227.55 481.922 Q2229.41 479.747 2229.41 476.02 Q2229.41 472.271 2227.55 470.119 Q2225.73 467.966 2222.58 467.966 M2231.86 453.317 L2231.86 457.575 Q2230.1 456.742 2228.29 456.302 Q2226.51 455.862 2224.75 455.862 Q2220.12 455.862 2217.67 458.987 Q2215.24 462.111 2214.89 468.429 Q2216.26 466.416 2218.32 465.351 Q2220.38 464.263 2222.85 464.263 Q2228.06 464.263 2231.07 467.434 Q2234.1 470.582 2234.1 476.02 Q2234.1 481.343 2230.96 484.56 Q2227.81 487.777 2222.58 487.777 Q2216.58 487.777 2213.41 483.195 Q2210.24 478.589 2210.24 469.864 Q2210.24 461.671 2214.13 456.811 Q2218.02 451.928 2224.57 451.928 Q2226.33 451.928 2228.11 452.275 Q2229.92 452.622 2231.86 453.317 Z\" fill=\"#000000\" fill-rule=\"evenodd\" fill-opacity=\"1\" /><polyline clip-path=\"url(#clip270)\" style=\"stroke:#ed5d92; stroke-linecap:butt; stroke-linejoin:round; stroke-width:3.99924; stroke-opacity:1; fill:none\" points=\"\n",
       "  2014.63,521.66 2156.62,521.66 \n",
       "  \"/>\n",
       "<path clip-path=\"url(#clip270)\" d=\"M2194.13 541.343 Q2192.32 545.972 2190.61 547.384 Q2188.9 548.796 2186.03 548.796 L2182.62 548.796 L2182.62 545.231 L2185.12 545.231 Q2186.88 545.231 2187.86 544.398 Q2188.83 543.565 2190.01 540.464 L2190.77 538.52 L2180.29 513.016 L2184.8 513.016 L2192.9 533.289 L2201 513.016 L2205.52 513.016 L2194.13 541.343 Z\" fill=\"#000000\" fill-rule=\"evenodd\" fill-opacity=\"1\" /><path clip-path=\"url(#clip270)\" d=\"M2210.82 504.383 L2233.04 504.383 L2233.04 506.373 L2220.49 538.936 L2215.61 538.936 L2227.42 508.317 L2210.82 508.317 L2210.82 504.383 Z\" fill=\"#000000\" fill-rule=\"evenodd\" fill-opacity=\"1\" /><polyline clip-path=\"url(#clip270)\" style=\"stroke:#c68125; stroke-linecap:butt; stroke-linejoin:round; stroke-width:3.99924; stroke-opacity:1; fill:none\" points=\"\n",
       "  2014.63,573.49 2156.62,573.49 \n",
       "  \"/>\n",
       "<path clip-path=\"url(#clip270)\" d=\"M2194.13 593.173 Q2192.32 597.802 2190.61 599.214 Q2188.9 600.626 2186.03 600.626 L2182.62 600.626 L2182.62 597.062 L2185.12 597.062 Q2186.88 597.062 2187.86 596.228 Q2188.83 595.395 2190.01 592.294 L2190.77 590.35 L2180.29 564.846 L2184.8 564.846 L2192.9 585.119 L2201 564.846 L2205.52 564.846 L2194.13 593.173 Z\" fill=\"#000000\" fill-rule=\"evenodd\" fill-opacity=\"1\" /><path clip-path=\"url(#clip270)\" d=\"M2222 574.358 Q2218.67 574.358 2216.74 576.14 Q2214.85 577.922 2214.85 581.046 Q2214.85 584.171 2216.74 585.953 Q2218.67 587.735 2222 587.735 Q2225.33 587.735 2227.25 585.953 Q2229.17 584.147 2229.17 581.046 Q2229.17 577.922 2227.25 576.14 Q2225.35 574.358 2222 574.358 M2217.32 572.367 Q2214.31 571.627 2212.62 569.567 Q2210.96 567.507 2210.96 564.545 Q2210.96 560.402 2213.9 557.995 Q2216.86 555.588 2222 555.588 Q2227.16 555.588 2230.1 557.995 Q2233.04 560.402 2233.04 564.545 Q2233.04 567.507 2231.35 569.567 Q2229.68 571.627 2226.7 572.367 Q2230.08 573.154 2231.95 575.445 Q2233.85 577.737 2233.85 581.046 Q2233.85 586.068 2230.77 588.753 Q2227.72 591.438 2222 591.438 Q2216.28 591.438 2213.2 588.753 Q2210.15 586.068 2210.15 581.046 Q2210.15 577.737 2212.04 575.445 Q2213.94 573.154 2217.32 572.367 M2215.61 564.985 Q2215.61 567.669 2217.28 569.174 Q2218.97 570.678 2222 570.678 Q2225.01 570.678 2226.7 569.174 Q2228.41 567.669 2228.41 564.985 Q2228.41 562.3 2226.7 560.796 Q2225.01 559.291 2222 559.291 Q2218.97 559.291 2217.28 560.796 Q2215.61 562.3 2215.61 564.985 Z\" fill=\"#000000\" fill-rule=\"evenodd\" fill-opacity=\"1\" /></svg>\n"
      ]
     },
     "execution_count": 26,
     "metadata": {},
     "output_type": "execute_result"
    }
   ],
   "source": [
    "n_epochs =  length(losses)\n",
    "n_parameters = div(length(parameter_means), n_epochs)\n",
    "parameter_means2 = reshape(copy(parameter_means), n_parameters, n_epochs)'\n",
    "plot(epochs, parameter_means2,\n",
    "     title=\"Flux parameter mean weights\",\n",
    "     xlab = \"epoch\")"
   ]
  },
  {
   "cell_type": "markdown",
   "metadata": {},
   "source": [
    "**Note.** The the higher the number, the deeper the chain parameter."
   ]
  },
  {
   "cell_type": "code",
   "execution_count": 27,
   "metadata": {},
   "outputs": [],
   "source": [
    "savefig(joinpath(DIR, \"weights.png\"))"
   ]
  },
  {
   "cell_type": "markdown",
   "metadata": {},
   "source": [
    "### Retrieving a snapshot for a prediction:"
   ]
  },
  {
   "cell_type": "code",
   "execution_count": 28,
   "metadata": {},
   "outputs": [
    {
     "data": {
      "text/plain": [
       "3-element CategoricalArrays.CategoricalArray{Int64,1,UInt32}:\n",
       " 7\n",
       " 9\n",
       " 5"
      ]
     },
     "execution_count": 28,
     "metadata": {},
     "output_type": "execute_result"
    }
   ],
   "source": [
    "mach2 = machine(joinpath(DIR, \"mnist3.jlso\"))\n",
    "predict_mode(mach2, images[501:503])"
   ]
  },
  {
   "cell_type": "markdown",
   "metadata": {},
   "source": [
    "### Restarting training"
   ]
  },
  {
   "cell_type": "markdown",
   "metadata": {},
   "source": [
    "Mutating `iterated_clf.controls` or `clf.epochs` (which is otherwise\n",
    "ignored) will allow you to restart training from where it left off."
   ]
  },
  {
   "cell_type": "code",
   "execution_count": 29,
   "metadata": {},
   "outputs": [
    {
     "name": "stderr",
     "output_type": "stream",
     "text": [
      "┌ Info: Updating machine(ProbabilisticIteratedModel(model = ImageClassifier(builder = MyConvBuilder(3, 16, 32, 32), …), …), …).\n",
      "└ @ MLJBase /Users/anthony/.julia/packages/MLJBase/Fl6Zc/src/machines.jl:499\n",
      "┌ Info: loss: 0.444918\n",
      "└ @ IterationControl /Users/anthony/.julia/packages/IterationControl/wJWPx/src/controls.jl:278\n",
      "┌ Info: loss: 0.4575673\n",
      "└ @ IterationControl /Users/anthony/.julia/packages/IterationControl/wJWPx/src/controls.jl:278\n",
      "┌ Info: Saving \"/Users/anthony/GoogleDrive/Julia/MLJ/MLJFlux/examples/mnist/mnist1.jlso\". \n",
      "└ @ MLJIteration /Users/anthony/.julia/packages/MLJIteration/J0pbp/src/controls.jl:203\n",
      "┌ Info: loss: 0.46934554\n",
      "└ @ IterationControl /Users/anthony/.julia/packages/IterationControl/wJWPx/src/controls.jl:278\n",
      "┌ Info: loss: 0.48012888\n",
      "└ @ IterationControl /Users/anthony/.julia/packages/IterationControl/wJWPx/src/controls.jl:278\n",
      "┌ Info: loss: 0.49023148\n",
      "└ @ IterationControl /Users/anthony/.julia/packages/IterationControl/wJWPx/src/controls.jl:278\n",
      "┌ Info: final loss: 0.49023148\n",
      "└ @ IterationControl /Users/anthony/.julia/packages/IterationControl/wJWPx/src/train.jl:44\n",
      "┌ Info: final training loss: 0.010609009\n",
      "└ @ IterationControl /Users/anthony/.julia/packages/IterationControl/wJWPx/src/train.jl:46\n",
      "┌ Info: Stop triggered by Patience(4) stopping criterion. \n",
      "└ @ IterationControl /Users/anthony/.julia/packages/IterationControl/wJWPx/src/stopping_controls.jl:54\n",
      "┌ Info: Total of 32 iterations. \n",
      "└ @ MLJIteration /Users/anthony/.julia/packages/MLJIteration/J0pbp/src/core.jl:35\n"
     ]
    },
    {
     "data": {
      "image/svg+xml": [
       "<?xml version=\"1.0\" encoding=\"utf-8\"?>\n",
       "<svg xmlns=\"http://www.w3.org/2000/svg\" xmlns:xlink=\"http://www.w3.org/1999/xlink\" width=\"600\" height=\"370.75\" viewBox=\"0 0 2400 1483\">\n",
       "<defs>\n",
       "  <clipPath id=\"clip320\">\n",
       "    <rect x=\"0\" y=\"0\" width=\"2400\" height=\"1483\"/>\n",
       "  </clipPath>\n",
       "</defs>\n",
       "<path clip-path=\"url(#clip320)\" d=\"\n",
       "M0 1483 L2400 1483 L2400 -2.27374e-13 L0 -2.27374e-13  Z\n",
       "  \" fill=\"#ffffff\" fill-rule=\"evenodd\" fill-opacity=\"1\"/>\n",
       "<defs>\n",
       "  <clipPath id=\"clip321\">\n",
       "    <rect x=\"480\" y=\"0\" width=\"1681\" height=\"1483\"/>\n",
       "  </clipPath>\n",
       "</defs>\n",
       "<path clip-path=\"url(#clip320)\" d=\"\n",
       "M215.914 1313.37 L2352.76 1313.37 L2352.76 47.2351 L215.914 47.2351  Z\n",
       "  \" fill=\"#ffffff\" fill-rule=\"evenodd\" fill-opacity=\"1\"/>\n",
       "<defs>\n",
       "  <clipPath id=\"clip322\">\n",
       "    <rect x=\"215\" y=\"47\" width=\"2138\" height=\"1267\"/>\n",
       "  </clipPath>\n",
       "</defs>\n",
       "<polyline clip-path=\"url(#clip322)\" style=\"stroke:#000000; stroke-linecap:butt; stroke-linejoin:round; stroke-width:1.99962; stroke-opacity:0.1; fill:none\" points=\"\n",
       "  477.979,1313.37 477.979,47.2351 \n",
       "  \"/>\n",
       "<polyline clip-path=\"url(#clip322)\" style=\"stroke:#000000; stroke-linecap:butt; stroke-linejoin:round; stroke-width:1.99962; stroke-opacity:0.1; fill:none\" points=\"\n",
       "  813.961,1313.37 813.961,47.2351 \n",
       "  \"/>\n",
       "<polyline clip-path=\"url(#clip322)\" style=\"stroke:#000000; stroke-linecap:butt; stroke-linejoin:round; stroke-width:1.99962; stroke-opacity:0.1; fill:none\" points=\"\n",
       "  1149.94,1313.37 1149.94,47.2351 \n",
       "  \"/>\n",
       "<polyline clip-path=\"url(#clip322)\" style=\"stroke:#000000; stroke-linecap:butt; stroke-linejoin:round; stroke-width:1.99962; stroke-opacity:0.1; fill:none\" points=\"\n",
       "  1485.92,1313.37 1485.92,47.2351 \n",
       "  \"/>\n",
       "<polyline clip-path=\"url(#clip322)\" style=\"stroke:#000000; stroke-linecap:butt; stroke-linejoin:round; stroke-width:1.99962; stroke-opacity:0.1; fill:none\" points=\"\n",
       "  1821.91,1313.37 1821.91,47.2351 \n",
       "  \"/>\n",
       "<polyline clip-path=\"url(#clip322)\" style=\"stroke:#000000; stroke-linecap:butt; stroke-linejoin:round; stroke-width:1.99962; stroke-opacity:0.1; fill:none\" points=\"\n",
       "  2157.89,1313.37 2157.89,47.2351 \n",
       "  \"/>\n",
       "<polyline clip-path=\"url(#clip320)\" style=\"stroke:#000000; stroke-linecap:butt; stroke-linejoin:round; stroke-width:3.99924; stroke-opacity:1; fill:none\" points=\"\n",
       "  215.914,1313.37 2352.76,1313.37 \n",
       "  \"/>\n",
       "<polyline clip-path=\"url(#clip320)\" style=\"stroke:#000000; stroke-linecap:butt; stroke-linejoin:round; stroke-width:3.99924; stroke-opacity:1; fill:none\" points=\"\n",
       "  477.979,1313.37 477.979,1294.47 \n",
       "  \"/>\n",
       "<polyline clip-path=\"url(#clip320)\" style=\"stroke:#000000; stroke-linecap:butt; stroke-linejoin:round; stroke-width:3.99924; stroke-opacity:1; fill:none\" points=\"\n",
       "  813.961,1313.37 813.961,1294.47 \n",
       "  \"/>\n",
       "<polyline clip-path=\"url(#clip320)\" style=\"stroke:#000000; stroke-linecap:butt; stroke-linejoin:round; stroke-width:3.99924; stroke-opacity:1; fill:none\" points=\"\n",
       "  1149.94,1313.37 1149.94,1294.47 \n",
       "  \"/>\n",
       "<polyline clip-path=\"url(#clip320)\" style=\"stroke:#000000; stroke-linecap:butt; stroke-linejoin:round; stroke-width:3.99924; stroke-opacity:1; fill:none\" points=\"\n",
       "  1485.92,1313.37 1485.92,1294.47 \n",
       "  \"/>\n",
       "<polyline clip-path=\"url(#clip320)\" style=\"stroke:#000000; stroke-linecap:butt; stroke-linejoin:round; stroke-width:3.99924; stroke-opacity:1; fill:none\" points=\"\n",
       "  1821.91,1313.37 1821.91,1294.47 \n",
       "  \"/>\n",
       "<polyline clip-path=\"url(#clip320)\" style=\"stroke:#000000; stroke-linecap:butt; stroke-linejoin:round; stroke-width:3.99924; stroke-opacity:1; fill:none\" points=\"\n",
       "  2157.89,1313.37 2157.89,1294.47 \n",
       "  \"/>\n",
       "<path clip-path=\"url(#clip320)\" d=\"M468.257 1341.2 L486.613 1341.2 L486.613 1345.14 L472.539 1345.14 L472.539 1353.61 Q473.558 1353.26 474.576 1353.1 Q475.595 1352.91 476.613 1352.91 Q482.4 1352.91 485.78 1356.08 Q489.16 1359.25 489.16 1364.67 Q489.16 1370.25 485.687 1373.35 Q482.215 1376.43 475.896 1376.43 Q473.72 1376.43 471.451 1376.06 Q469.206 1375.69 466.799 1374.95 L466.799 1370.25 Q468.882 1371.38 471.104 1371.94 Q473.326 1372.49 475.803 1372.49 Q479.808 1372.49 482.146 1370.39 Q484.484 1368.28 484.484 1364.67 Q484.484 1361.06 482.146 1358.95 Q479.808 1356.85 475.803 1356.85 Q473.928 1356.85 472.053 1357.26 Q470.201 1357.68 468.257 1358.56 L468.257 1341.2 Z\" fill=\"#000000\" fill-rule=\"evenodd\" fill-opacity=\"1\" /><path clip-path=\"url(#clip320)\" d=\"M788.648 1371.82 L796.287 1371.82 L796.287 1345.46 L787.977 1347.13 L787.977 1342.87 L796.241 1341.2 L800.917 1341.2 L800.917 1371.82 L808.556 1371.82 L808.556 1375.76 L788.648 1375.76 L788.648 1371.82 Z\" fill=\"#000000\" fill-rule=\"evenodd\" fill-opacity=\"1\" /><path clip-path=\"url(#clip320)\" d=\"M828 1344.28 Q824.389 1344.28 822.56 1347.84 Q820.755 1351.38 820.755 1358.51 Q820.755 1365.62 822.56 1369.18 Q824.389 1372.72 828 1372.72 Q831.634 1372.72 833.44 1369.18 Q835.268 1365.62 835.268 1358.51 Q835.268 1351.38 833.44 1347.84 Q831.634 1344.28 828 1344.28 M828 1340.58 Q833.81 1340.58 836.866 1345.18 Q839.944 1349.76 839.944 1358.51 Q839.944 1367.24 836.866 1371.84 Q833.81 1376.43 828 1376.43 Q822.19 1376.43 819.111 1371.84 Q816.056 1367.24 816.056 1358.51 Q816.056 1349.76 819.111 1345.18 Q822.19 1340.58 828 1340.58 Z\" fill=\"#000000\" fill-rule=\"evenodd\" fill-opacity=\"1\" /><path clip-path=\"url(#clip320)\" d=\"M1125.13 1371.82 L1132.77 1371.82 L1132.77 1345.46 L1124.46 1347.13 L1124.46 1342.87 L1132.72 1341.2 L1137.4 1341.2 L1137.4 1371.82 L1145.03 1371.82 L1145.03 1375.76 L1125.13 1375.76 L1125.13 1371.82 Z\" fill=\"#000000\" fill-rule=\"evenodd\" fill-opacity=\"1\" /><path clip-path=\"url(#clip320)\" d=\"M1154.53 1341.2 L1172.88 1341.2 L1172.88 1345.14 L1158.81 1345.14 L1158.81 1353.61 Q1159.83 1353.26 1160.84 1353.1 Q1161.86 1352.91 1162.88 1352.91 Q1168.67 1352.91 1172.05 1356.08 Q1175.43 1359.25 1175.43 1364.67 Q1175.43 1370.25 1171.96 1373.35 Q1168.48 1376.43 1162.16 1376.43 Q1159.99 1376.43 1157.72 1376.06 Q1155.47 1375.69 1153.07 1374.95 L1153.07 1370.25 Q1155.15 1371.38 1157.37 1371.94 Q1159.59 1372.49 1162.07 1372.49 Q1166.08 1372.49 1168.41 1370.39 Q1170.75 1368.28 1170.75 1364.67 Q1170.75 1361.06 1168.41 1358.95 Q1166.08 1356.85 1162.07 1356.85 Q1160.2 1356.85 1158.32 1357.26 Q1156.47 1357.68 1154.53 1358.56 L1154.53 1341.2 Z\" fill=\"#000000\" fill-rule=\"evenodd\" fill-opacity=\"1\" /><path clip-path=\"url(#clip320)\" d=\"M1464.7 1371.82 L1481.02 1371.82 L1481.02 1375.76 L1459.07 1375.76 L1459.07 1371.82 Q1461.73 1369.07 1466.32 1364.44 Q1470.92 1359.79 1472.1 1358.44 Q1474.35 1355.92 1475.23 1354.19 Q1476.13 1352.43 1476.13 1350.74 Q1476.13 1347.98 1474.19 1346.25 Q1472.27 1344.51 1469.16 1344.51 Q1466.97 1344.51 1464.51 1345.27 Q1462.08 1346.04 1459.3 1347.59 L1459.3 1342.87 Q1462.13 1341.73 1464.58 1341.16 Q1467.03 1340.58 1469.07 1340.58 Q1474.44 1340.58 1477.64 1343.26 Q1480.83 1345.95 1480.83 1350.44 Q1480.83 1352.57 1480.02 1354.49 Q1479.23 1356.38 1477.13 1358.98 Q1476.55 1359.65 1473.45 1362.86 Q1470.35 1366.06 1464.7 1371.82 Z\" fill=\"#000000\" fill-rule=\"evenodd\" fill-opacity=\"1\" /><path clip-path=\"url(#clip320)\" d=\"M1500.83 1344.28 Q1497.22 1344.28 1495.39 1347.84 Q1493.59 1351.38 1493.59 1358.51 Q1493.59 1365.62 1495.39 1369.18 Q1497.22 1372.72 1500.83 1372.72 Q1504.47 1372.72 1506.27 1369.18 Q1508.1 1365.62 1508.1 1358.51 Q1508.1 1351.38 1506.27 1347.84 Q1504.47 1344.28 1500.83 1344.28 M1500.83 1340.58 Q1506.64 1340.58 1509.7 1345.18 Q1512.78 1349.76 1512.78 1358.51 Q1512.78 1367.24 1509.7 1371.84 Q1506.64 1376.43 1500.83 1376.43 Q1495.02 1376.43 1491.94 1371.84 Q1488.89 1367.24 1488.89 1358.51 Q1488.89 1349.76 1491.94 1345.18 Q1495.02 1340.58 1500.83 1340.58 Z\" fill=\"#000000\" fill-rule=\"evenodd\" fill-opacity=\"1\" /><path clip-path=\"url(#clip320)\" d=\"M1801.18 1371.82 L1817.5 1371.82 L1817.5 1375.76 L1795.55 1375.76 L1795.55 1371.82 Q1798.21 1369.07 1802.8 1364.44 Q1807.4 1359.79 1808.58 1358.44 Q1810.83 1355.92 1811.71 1354.19 Q1812.61 1352.43 1812.61 1350.74 Q1812.61 1347.98 1810.67 1346.25 Q1808.75 1344.51 1805.64 1344.51 Q1803.44 1344.51 1800.99 1345.27 Q1798.56 1346.04 1795.78 1347.59 L1795.78 1342.87 Q1798.61 1341.73 1801.06 1341.16 Q1803.51 1340.58 1805.55 1340.58 Q1810.92 1340.58 1814.12 1343.26 Q1817.31 1345.95 1817.31 1350.44 Q1817.31 1352.57 1816.5 1354.49 Q1815.71 1356.38 1813.61 1358.98 Q1813.03 1359.65 1809.93 1362.86 Q1806.82 1366.06 1801.18 1371.82 Z\" fill=\"#000000\" fill-rule=\"evenodd\" fill-opacity=\"1\" /><path clip-path=\"url(#clip320)\" d=\"M1827.36 1341.2 L1845.71 1341.2 L1845.71 1345.14 L1831.64 1345.14 L1831.64 1353.61 Q1832.66 1353.26 1833.68 1353.1 Q1834.69 1352.91 1835.71 1352.91 Q1841.5 1352.91 1844.88 1356.08 Q1848.26 1359.25 1848.26 1364.67 Q1848.26 1370.25 1844.79 1373.35 Q1841.31 1376.43 1835 1376.43 Q1832.82 1376.43 1830.55 1376.06 Q1828.31 1375.69 1825.9 1374.95 L1825.9 1370.25 Q1827.98 1371.38 1830.2 1371.94 Q1832.43 1372.49 1834.9 1372.49 Q1838.91 1372.49 1841.25 1370.39 Q1843.58 1368.28 1843.58 1364.67 Q1843.58 1361.06 1841.25 1358.95 Q1838.91 1356.85 1834.9 1356.85 Q1833.03 1356.85 1831.15 1357.26 Q1829.3 1357.68 1827.36 1358.56 L1827.36 1341.2 Z\" fill=\"#000000\" fill-rule=\"evenodd\" fill-opacity=\"1\" /><path clip-path=\"url(#clip320)\" d=\"M2146.73 1357.12 Q2150.09 1357.84 2151.96 1360.11 Q2153.86 1362.38 2153.86 1365.71 Q2153.86 1370.83 2150.34 1373.63 Q2146.82 1376.43 2140.34 1376.43 Q2138.16 1376.43 2135.85 1375.99 Q2133.56 1375.57 2131.1 1374.71 L2131.1 1370.2 Q2133.05 1371.33 2135.36 1371.91 Q2137.68 1372.49 2140.2 1372.49 Q2144.6 1372.49 2146.89 1370.76 Q2149.21 1369.02 2149.21 1365.71 Q2149.21 1362.66 2147.05 1360.94 Q2144.92 1359.21 2141.1 1359.21 L2137.08 1359.21 L2137.08 1355.37 L2141.29 1355.37 Q2144.74 1355.37 2146.57 1354 Q2148.4 1352.61 2148.4 1350.02 Q2148.4 1347.36 2146.5 1345.95 Q2144.62 1344.51 2141.1 1344.51 Q2139.18 1344.51 2136.98 1344.93 Q2134.78 1345.34 2132.15 1346.22 L2132.15 1342.06 Q2134.81 1341.32 2137.12 1340.95 Q2139.46 1340.58 2141.52 1340.58 Q2146.85 1340.58 2149.95 1343.01 Q2153.05 1345.41 2153.05 1349.53 Q2153.05 1352.4 2151.41 1354.39 Q2149.76 1356.36 2146.73 1357.12 Z\" fill=\"#000000\" fill-rule=\"evenodd\" fill-opacity=\"1\" /><path clip-path=\"url(#clip320)\" d=\"M2172.72 1344.28 Q2169.11 1344.28 2167.28 1347.84 Q2165.48 1351.38 2165.48 1358.51 Q2165.48 1365.62 2167.28 1369.18 Q2169.11 1372.72 2172.72 1372.72 Q2176.36 1372.72 2178.16 1369.18 Q2179.99 1365.62 2179.99 1358.51 Q2179.99 1351.38 2178.16 1347.84 Q2176.36 1344.28 2172.72 1344.28 M2172.72 1340.58 Q2178.53 1340.58 2181.59 1345.18 Q2184.67 1349.76 2184.67 1358.51 Q2184.67 1367.24 2181.59 1371.84 Q2178.53 1376.43 2172.72 1376.43 Q2166.91 1376.43 2163.84 1371.84 Q2160.78 1367.24 2160.78 1358.51 Q2160.78 1349.76 2163.84 1345.18 Q2166.91 1340.58 2172.72 1340.58 Z\" fill=\"#000000\" fill-rule=\"evenodd\" fill-opacity=\"1\" /><path clip-path=\"url(#clip320)\" d=\"M1222.68 1438.92 L1222.68 1441.78 L1195.76 1441.78 Q1196.14 1447.83 1199.38 1451.01 Q1202.66 1454.16 1208.49 1454.16 Q1211.86 1454.16 1215.01 1453.33 Q1218.2 1452.51 1221.31 1450.85 L1221.31 1456.39 Q1218.16 1457.73 1214.85 1458.43 Q1211.54 1459.13 1208.14 1459.13 Q1199.61 1459.13 1194.61 1454.16 Q1189.64 1449.2 1189.64 1440.73 Q1189.64 1431.98 1194.36 1426.86 Q1199.1 1421.7 1207.12 1421.7 Q1214.31 1421.7 1218.48 1426.35 Q1222.68 1430.96 1222.68 1438.92 M1216.83 1437.2 Q1216.76 1432.4 1214.12 1429.53 Q1211.51 1426.67 1207.18 1426.67 Q1202.28 1426.67 1199.32 1429.44 Q1196.39 1432.2 1195.95 1437.23 L1216.83 1437.2 Z\" fill=\"#000000\" fill-rule=\"evenodd\" fill-opacity=\"1\" /><path clip-path=\"url(#clip320)\" d=\"M1237.96 1452.86 L1237.96 1471.76 L1232.07 1471.76 L1232.07 1422.56 L1237.96 1422.56 L1237.96 1427.97 Q1239.81 1424.79 1242.61 1423.26 Q1245.44 1421.7 1249.36 1421.7 Q1255.85 1421.7 1259.89 1426.86 Q1263.96 1432.01 1263.96 1440.41 Q1263.96 1448.82 1259.89 1453.97 Q1255.85 1459.13 1249.36 1459.13 Q1245.44 1459.13 1242.61 1457.6 Q1239.81 1456.04 1237.96 1452.86 M1257.89 1440.41 Q1257.89 1433.95 1255.21 1430.3 Q1252.57 1426.6 1247.92 1426.6 Q1243.28 1426.6 1240.6 1430.3 Q1237.96 1433.95 1237.96 1440.41 Q1237.96 1446.87 1240.6 1450.57 Q1243.28 1454.23 1247.92 1454.23 Q1252.57 1454.23 1255.21 1450.57 Q1257.89 1446.87 1257.89 1440.41 Z\" fill=\"#000000\" fill-rule=\"evenodd\" fill-opacity=\"1\" /><path clip-path=\"url(#clip320)\" d=\"M1287.49 1426.67 Q1282.78 1426.67 1280.04 1430.36 Q1277.3 1434.02 1277.3 1440.41 Q1277.3 1446.81 1280.01 1450.5 Q1282.74 1454.16 1287.49 1454.16 Q1292.16 1454.16 1294.9 1450.47 Q1297.64 1446.78 1297.64 1440.41 Q1297.64 1434.08 1294.9 1430.39 Q1292.16 1426.67 1287.49 1426.67 M1287.49 1421.7 Q1295.12 1421.7 1299.49 1426.67 Q1303.85 1431.63 1303.85 1440.41 Q1303.85 1449.17 1299.49 1454.16 Q1295.12 1459.13 1287.49 1459.13 Q1279.82 1459.13 1275.45 1454.16 Q1271.13 1449.17 1271.13 1440.41 Q1271.13 1431.63 1275.45 1426.67 Q1279.82 1421.7 1287.49 1421.7 Z\" fill=\"#000000\" fill-rule=\"evenodd\" fill-opacity=\"1\" /><path clip-path=\"url(#clip320)\" d=\"M1339.21 1423.93 L1339.21 1429.4 Q1336.72 1428.04 1334.21 1427.37 Q1331.73 1426.67 1329.18 1426.67 Q1323.48 1426.67 1320.33 1430.3 Q1317.18 1433.89 1317.18 1440.41 Q1317.18 1446.94 1320.33 1450.57 Q1323.48 1454.16 1329.18 1454.16 Q1331.73 1454.16 1334.21 1453.49 Q1336.72 1452.79 1339.21 1451.43 L1339.21 1456.84 Q1336.76 1457.98 1334.11 1458.55 Q1331.5 1459.13 1328.54 1459.13 Q1320.49 1459.13 1315.75 1454.07 Q1311.01 1449.01 1311.01 1440.41 Q1311.01 1431.7 1315.78 1426.7 Q1320.59 1421.7 1328.93 1421.7 Q1331.63 1421.7 1334.21 1422.28 Q1336.79 1422.82 1339.21 1423.93 Z\" fill=\"#000000\" fill-rule=\"evenodd\" fill-opacity=\"1\" /><path clip-path=\"url(#clip320)\" d=\"M1379.02 1436.69 L1379.02 1458.2 L1373.17 1458.2 L1373.17 1436.88 Q1373.17 1431.82 1371.19 1429.31 Q1369.22 1426.79 1365.27 1426.79 Q1360.53 1426.79 1357.8 1429.82 Q1355.06 1432.84 1355.06 1438.06 L1355.06 1458.2 L1349.17 1458.2 L1349.17 1408.69 L1355.06 1408.69 L1355.06 1428.1 Q1357.16 1424.89 1359.99 1423.29 Q1362.86 1421.7 1366.58 1421.7 Q1372.72 1421.7 1375.87 1425.52 Q1379.02 1429.31 1379.02 1436.69 Z\" fill=\"#000000\" fill-rule=\"evenodd\" fill-opacity=\"1\" /><polyline clip-path=\"url(#clip322)\" style=\"stroke:#000000; stroke-linecap:butt; stroke-linejoin:round; stroke-width:1.99962; stroke-opacity:0.1; fill:none\" points=\"\n",
       "  215.914,1283.21 2352.76,1283.21 \n",
       "  \"/>\n",
       "<polyline clip-path=\"url(#clip322)\" style=\"stroke:#000000; stroke-linecap:butt; stroke-linejoin:round; stroke-width:1.99962; stroke-opacity:0.1; fill:none\" points=\"\n",
       "  215.914,1015.6 2352.76,1015.6 \n",
       "  \"/>\n",
       "<polyline clip-path=\"url(#clip322)\" style=\"stroke:#000000; stroke-linecap:butt; stroke-linejoin:round; stroke-width:1.99962; stroke-opacity:0.1; fill:none\" points=\"\n",
       "  215.914,747.996 2352.76,747.996 \n",
       "  \"/>\n",
       "<polyline clip-path=\"url(#clip322)\" style=\"stroke:#000000; stroke-linecap:butt; stroke-linejoin:round; stroke-width:1.99962; stroke-opacity:0.1; fill:none\" points=\"\n",
       "  215.914,480.389 2352.76,480.389 \n",
       "  \"/>\n",
       "<polyline clip-path=\"url(#clip322)\" style=\"stroke:#000000; stroke-linecap:butt; stroke-linejoin:round; stroke-width:1.99962; stroke-opacity:0.1; fill:none\" points=\"\n",
       "  215.914,212.782 2352.76,212.782 \n",
       "  \"/>\n",
       "<polyline clip-path=\"url(#clip320)\" style=\"stroke:#000000; stroke-linecap:butt; stroke-linejoin:round; stroke-width:3.99924; stroke-opacity:1; fill:none\" points=\"\n",
       "  215.914,1313.37 215.914,47.2351 \n",
       "  \"/>\n",
       "<polyline clip-path=\"url(#clip320)\" style=\"stroke:#000000; stroke-linecap:butt; stroke-linejoin:round; stroke-width:3.99924; stroke-opacity:1; fill:none\" points=\"\n",
       "  215.914,1283.21 234.811,1283.21 \n",
       "  \"/>\n",
       "<polyline clip-path=\"url(#clip320)\" style=\"stroke:#000000; stroke-linecap:butt; stroke-linejoin:round; stroke-width:3.99924; stroke-opacity:1; fill:none\" points=\"\n",
       "  215.914,1015.6 234.811,1015.6 \n",
       "  \"/>\n",
       "<polyline clip-path=\"url(#clip320)\" style=\"stroke:#000000; stroke-linecap:butt; stroke-linejoin:round; stroke-width:3.99924; stroke-opacity:1; fill:none\" points=\"\n",
       "  215.914,747.996 234.811,747.996 \n",
       "  \"/>\n",
       "<polyline clip-path=\"url(#clip320)\" style=\"stroke:#000000; stroke-linecap:butt; stroke-linejoin:round; stroke-width:3.99924; stroke-opacity:1; fill:none\" points=\"\n",
       "  215.914,480.389 234.811,480.389 \n",
       "  \"/>\n",
       "<polyline clip-path=\"url(#clip320)\" style=\"stroke:#000000; stroke-linecap:butt; stroke-linejoin:round; stroke-width:3.99924; stroke-opacity:1; fill:none\" points=\"\n",
       "  215.914,212.782 234.811,212.782 \n",
       "  \"/>\n",
       "<path clip-path=\"url(#clip320)\" d=\"M122.738 1269.01 Q119.127 1269.01 117.298 1272.58 Q115.493 1276.12 115.493 1283.25 Q115.493 1290.35 117.298 1293.91 Q119.127 1297.46 122.738 1297.46 Q126.372 1297.46 128.178 1293.91 Q130.006 1290.35 130.006 1283.25 Q130.006 1276.12 128.178 1272.58 Q126.372 1269.01 122.738 1269.01 M122.738 1265.31 Q128.548 1265.31 131.604 1269.92 Q134.682 1274.5 134.682 1283.25 Q134.682 1291.97 131.604 1296.58 Q128.548 1301.16 122.738 1301.16 Q116.928 1301.16 113.849 1296.58 Q110.794 1291.97 110.794 1283.25 Q110.794 1274.5 113.849 1269.92 Q116.928 1265.31 122.738 1265.31 Z\" fill=\"#000000\" fill-rule=\"evenodd\" fill-opacity=\"1\" /><path clip-path=\"url(#clip320)\" d=\"M142.9 1294.61 L147.784 1294.61 L147.784 1300.49 L142.9 1300.49 L142.9 1294.61 Z\" fill=\"#000000\" fill-rule=\"evenodd\" fill-opacity=\"1\" /><path clip-path=\"url(#clip320)\" d=\"M167.969 1269.01 Q164.358 1269.01 162.529 1272.58 Q160.724 1276.12 160.724 1283.25 Q160.724 1290.35 162.529 1293.91 Q164.358 1297.46 167.969 1297.46 Q171.603 1297.46 173.409 1293.91 Q175.238 1290.35 175.238 1283.25 Q175.238 1276.12 173.409 1272.58 Q171.603 1269.01 167.969 1269.01 M167.969 1265.31 Q173.779 1265.31 176.835 1269.92 Q179.914 1274.5 179.914 1283.25 Q179.914 1291.97 176.835 1296.58 Q173.779 1301.16 167.969 1301.16 Q162.159 1301.16 159.08 1296.58 Q156.025 1291.97 156.025 1283.25 Q156.025 1274.5 159.08 1269.92 Q162.159 1265.31 167.969 1265.31 Z\" fill=\"#000000\" fill-rule=\"evenodd\" fill-opacity=\"1\" /><path clip-path=\"url(#clip320)\" d=\"M123.733 1001.41 Q120.122 1001.41 118.294 1004.97 Q116.488 1008.51 116.488 1015.64 Q116.488 1022.74 118.294 1026.31 Q120.122 1029.85 123.733 1029.85 Q127.368 1029.85 129.173 1026.31 Q131.002 1022.74 131.002 1015.64 Q131.002 1008.51 129.173 1004.97 Q127.368 1001.41 123.733 1001.41 M123.733 997.702 Q129.544 997.702 132.599 1002.31 Q135.678 1006.89 135.678 1015.64 Q135.678 1024.36 132.599 1028.97 Q129.544 1033.55 123.733 1033.55 Q117.923 1033.55 114.845 1028.97 Q111.789 1024.36 111.789 1015.64 Q111.789 1006.89 114.845 1002.31 Q117.923 997.702 123.733 997.702 Z\" fill=\"#000000\" fill-rule=\"evenodd\" fill-opacity=\"1\" /><path clip-path=\"url(#clip320)\" d=\"M143.895 1027 L148.78 1027 L148.78 1032.88 L143.895 1032.88 L143.895 1027 Z\" fill=\"#000000\" fill-rule=\"evenodd\" fill-opacity=\"1\" /><path clip-path=\"url(#clip320)\" d=\"M159.011 998.327 L177.367 998.327 L177.367 1002.26 L163.293 1002.26 L163.293 1010.73 Q164.312 1010.38 165.33 1010.22 Q166.349 1010.04 167.367 1010.04 Q173.154 1010.04 176.534 1013.21 Q179.914 1016.38 179.914 1021.79 Q179.914 1027.37 176.441 1030.47 Q172.969 1033.55 166.65 1033.55 Q164.474 1033.55 162.205 1033.18 Q159.96 1032.81 157.553 1032.07 L157.553 1027.37 Q159.636 1028.51 161.858 1029.06 Q164.08 1029.62 166.557 1029.62 Q170.562 1029.62 172.9 1027.51 Q175.238 1025.41 175.238 1021.79 Q175.238 1018.18 172.9 1016.08 Q170.562 1013.97 166.557 1013.97 Q164.682 1013.97 162.807 1014.39 Q160.955 1014.81 159.011 1015.68 L159.011 998.327 Z\" fill=\"#000000\" fill-rule=\"evenodd\" fill-opacity=\"1\" /><path clip-path=\"url(#clip320)\" d=\"M113.548 761.339 L121.187 761.339 L121.187 734.978 L112.877 736.645 L112.877 732.386 L121.141 730.72 L125.817 730.72 L125.817 761.339 L133.456 761.339 L133.456 765.273 L113.548 765.273 L113.548 761.339 Z\" fill=\"#000000\" fill-rule=\"evenodd\" fill-opacity=\"1\" /><path clip-path=\"url(#clip320)\" d=\"M142.9 759.395 L147.784 759.395 L147.784 765.273 L142.9 765.273 L142.9 759.395 Z\" fill=\"#000000\" fill-rule=\"evenodd\" fill-opacity=\"1\" /><path clip-path=\"url(#clip320)\" d=\"M167.969 733.798 Q164.358 733.798 162.529 737.362 Q160.724 740.903 160.724 748.031 Q160.724 755.136 162.529 758.7 Q164.358 762.241 167.969 762.241 Q171.603 762.241 173.409 758.7 Q175.238 755.136 175.238 748.031 Q175.238 740.903 173.409 737.362 Q171.603 733.798 167.969 733.798 M167.969 730.095 Q173.779 730.095 176.835 734.7 Q179.914 739.283 179.914 748.031 Q179.914 756.756 176.835 761.362 Q173.779 765.944 167.969 765.944 Q162.159 765.944 159.08 761.362 Q156.025 756.756 156.025 748.031 Q156.025 739.283 159.08 734.7 Q162.159 730.095 167.969 730.095 Z\" fill=\"#000000\" fill-rule=\"evenodd\" fill-opacity=\"1\" /><path clip-path=\"url(#clip320)\" d=\"M114.544 493.732 L122.182 493.732 L122.182 467.371 L113.872 469.037 L113.872 464.779 L122.136 463.112 L126.812 463.112 L126.812 493.732 L134.451 493.732 L134.451 497.666 L114.544 497.666 L114.544 493.732 Z\" fill=\"#000000\" fill-rule=\"evenodd\" fill-opacity=\"1\" /><path clip-path=\"url(#clip320)\" d=\"M143.895 491.787 L148.78 491.787 L148.78 497.666 L143.895 497.666 L143.895 491.787 Z\" fill=\"#000000\" fill-rule=\"evenodd\" fill-opacity=\"1\" /><path clip-path=\"url(#clip320)\" d=\"M159.011 463.112 L177.367 463.112 L177.367 467.047 L163.293 467.047 L163.293 475.517 Q164.312 475.17 165.33 475.008 Q166.349 474.823 167.367 474.823 Q173.154 474.823 176.534 477.994 Q179.914 481.165 179.914 486.58 Q179.914 492.158 176.441 495.259 Q172.969 498.337 166.65 498.337 Q164.474 498.337 162.205 497.967 Q159.96 497.596 157.553 496.856 L157.553 492.158 Q159.636 493.292 161.858 493.847 Q164.08 494.403 166.557 494.403 Q170.562 494.403 172.9 492.297 Q175.238 490.191 175.238 486.58 Q175.238 482.97 172.9 480.864 Q170.562 478.758 166.557 478.758 Q164.682 478.758 162.807 479.174 Q160.955 479.591 159.011 480.47 L159.011 463.112 Z\" fill=\"#000000\" fill-rule=\"evenodd\" fill-opacity=\"1\" /><path clip-path=\"url(#clip320)\" d=\"M116.766 226.124 L133.085 226.124 L133.085 230.059 L111.141 230.059 L111.141 226.124 Q113.803 223.37 118.386 218.741 Q122.993 214.09 124.173 212.747 Q126.419 210.225 127.298 208.489 Q128.201 206.73 128.201 205.04 Q128.201 202.286 126.257 200.551 Q124.335 198.815 121.233 198.815 Q119.034 198.815 116.581 199.578 Q114.15 200.342 111.372 201.893 L111.372 197.172 Q114.196 196.038 116.65 195.459 Q119.104 194.88 121.141 194.88 Q126.511 194.88 129.706 197.565 Q132.9 200.25 132.9 204.74 Q132.9 206.869 132.09 208.79 Q131.303 210.687 129.196 213.28 Q128.618 213.951 125.516 217.168 Q122.414 220.361 116.766 226.124 Z\" fill=\"#000000\" fill-rule=\"evenodd\" fill-opacity=\"1\" /><path clip-path=\"url(#clip320)\" d=\"M142.9 224.18 L147.784 224.18 L147.784 230.059 L142.9 230.059 L142.9 224.18 Z\" fill=\"#000000\" fill-rule=\"evenodd\" fill-opacity=\"1\" /><path clip-path=\"url(#clip320)\" d=\"M167.969 198.583 Q164.358 198.583 162.529 202.147 Q160.724 205.688 160.724 212.817 Q160.724 219.922 162.529 223.486 Q164.358 227.027 167.969 227.027 Q171.603 227.027 173.409 223.486 Q175.238 219.922 175.238 212.817 Q175.238 205.688 173.409 202.147 Q171.603 198.583 167.969 198.583 M167.969 194.88 Q173.779 194.88 176.835 199.486 Q179.914 204.068 179.914 212.817 Q179.914 221.542 176.835 226.147 Q173.779 230.73 167.969 230.73 Q162.159 230.73 159.08 226.147 Q156.025 221.542 156.025 212.817 Q156.025 204.068 159.08 199.486 Q162.159 194.88 167.969 194.88 Z\" fill=\"#000000\" fill-rule=\"evenodd\" fill-opacity=\"1\" /><path clip-path=\"url(#clip320)\" d=\"M26.2583 870.249 L31.7328 870.249 Q30.3642 872.732 29.6958 875.246 Q28.9955 877.728 28.9955 880.274 Q28.9955 885.97 32.624 889.12 Q36.2206 892.271 42.7455 892.271 Q49.2703 892.271 52.8988 889.12 Q56.4954 885.97 56.4954 880.274 Q56.4954 877.728 55.827 875.246 Q55.1268 872.732 53.7581 870.249 L59.169 870.249 Q60.3148 872.7 60.8877 875.341 Q61.4606 877.951 61.4606 880.91 Q61.4606 888.961 56.3999 893.703 Q51.3392 898.444 42.7455 898.444 Q34.0245 898.444 29.0274 893.671 Q24.0303 888.866 24.0303 880.528 Q24.0303 877.823 24.6032 875.246 Q25.1443 872.668 26.2583 870.249 Z\" fill=\"#000000\" fill-rule=\"evenodd\" fill-opacity=\"1\" /><path clip-path=\"url(#clip320)\" d=\"M30.3642 839.413 Q29.7913 840.4 29.5366 841.577 Q29.2502 842.723 29.2502 844.123 Q29.2502 849.088 32.4967 851.761 Q35.7114 854.402 41.7588 854.402 L60.5376 854.402 L60.5376 860.289 L24.8897 860.289 L24.8897 854.402 L30.4278 854.402 Q27.1813 852.556 25.6217 849.597 Q24.0303 846.637 24.0303 842.405 Q24.0303 841.8 24.1258 841.068 Q24.1894 840.336 24.3486 839.445 L30.3642 839.413 Z\" fill=\"#000000\" fill-rule=\"evenodd\" fill-opacity=\"1\" /><path clip-path=\"url(#clip320)\" d=\"M28.9955 820.893 Q28.9955 825.603 32.6877 828.339 Q36.3479 831.076 42.7455 831.076 Q49.143 831.076 52.8351 828.371 Q56.4954 825.634 56.4954 820.893 Q56.4954 816.215 52.8033 813.478 Q49.1112 810.741 42.7455 810.741 Q36.4116 810.741 32.7195 813.478 Q28.9955 816.215 28.9955 820.893 M24.0303 820.893 Q24.0303 813.255 28.9955 808.896 Q33.9608 804.536 42.7455 804.536 Q51.4983 804.536 56.4954 808.896 Q61.4606 813.255 61.4606 820.893 Q61.4606 828.562 56.4954 832.922 Q51.4983 837.25 42.7455 837.25 Q33.9608 837.25 28.9955 832.922 Q24.0303 828.562 24.0303 820.893 Z\" fill=\"#000000\" fill-rule=\"evenodd\" fill-opacity=\"1\" /><path clip-path=\"url(#clip320)\" d=\"M25.94 772.109 L31.4782 772.109 Q30.205 774.591 29.5685 777.264 Q28.9319 779.937 28.9319 782.801 Q28.9319 787.161 30.2687 789.357 Q31.6055 791.521 34.2791 791.521 Q36.3161 791.521 37.4938 789.961 Q38.6396 788.402 39.6899 783.692 L40.1355 781.687 Q41.4723 775.45 43.9231 772.841 Q46.3421 770.2 50.7026 770.2 Q55.6679 770.2 58.5643 774.146 Q61.4606 778.06 61.4606 784.933 Q61.4606 787.797 60.8877 790.916 Q60.3466 794.003 59.2327 797.44 L53.1852 797.44 Q54.8721 794.194 55.7315 791.043 Q56.5591 787.893 56.5591 784.806 Q56.5591 780.669 55.1586 778.442 Q53.7263 776.214 51.1482 776.214 Q48.7611 776.214 47.4879 777.837 Q46.2148 779.428 45.0371 784.87 L44.5597 786.906 Q43.4139 792.348 41.0586 794.767 Q38.6714 797.185 34.5337 797.185 Q29.5048 797.185 26.7675 793.621 Q24.0303 790.057 24.0303 783.501 Q24.0303 780.255 24.5077 777.391 Q24.9851 774.527 25.94 772.109 Z\" fill=\"#000000\" fill-rule=\"evenodd\" fill-opacity=\"1\" /><path clip-path=\"url(#clip320)\" d=\"M25.94 738.154 L31.4782 738.154 Q30.205 740.636 29.5685 743.31 Q28.9319 745.983 28.9319 748.847 Q28.9319 753.206 30.2687 755.402 Q31.6055 757.566 34.2791 757.566 Q36.3161 757.566 37.4938 756.007 Q38.6396 754.447 39.6899 749.738 L40.1355 747.733 Q41.4723 741.496 43.9231 738.886 Q46.3421 736.245 50.7026 736.245 Q55.6679 736.245 58.5643 740.191 Q61.4606 744.105 61.4606 750.979 Q61.4606 753.843 60.8877 756.961 Q60.3466 760.048 59.2327 763.485 L53.1852 763.485 Q54.8721 760.239 55.7315 757.089 Q56.5591 753.938 56.5591 750.851 Q56.5591 746.715 55.1586 744.487 Q53.7263 742.259 51.1482 742.259 Q48.7611 742.259 47.4879 743.882 Q46.2148 745.473 45.0371 750.915 L44.5597 752.952 Q43.4139 758.393 41.0586 760.812 Q38.6714 763.23 34.5337 763.23 Q29.5048 763.23 26.7675 759.666 Q24.0303 756.102 24.0303 749.547 Q24.0303 746.301 24.5077 743.437 Q24.9851 740.573 25.94 738.154 Z\" fill=\"#000000\" fill-rule=\"evenodd\" fill-opacity=\"1\" /><path clip-path=\"url(#clip320)\" d=\"M41.2495 675.719 L44.1141 675.719 L44.1141 702.64 Q50.1615 702.259 53.3444 699.013 Q56.4954 695.735 56.4954 689.911 Q56.4954 686.538 55.6679 683.388 Q54.8403 680.206 53.1852 677.087 L58.7234 677.087 Q60.0602 680.237 60.7604 683.547 Q61.4606 686.856 61.4606 690.261 Q61.4606 698.79 56.4954 703.786 Q51.5301 708.75 43.0638 708.75 Q34.3109 708.75 29.1865 704.041 Q24.0303 699.299 24.0303 691.28 Q24.0303 684.088 28.6773 679.919 Q33.2924 675.719 41.2495 675.719 M39.5308 681.574 Q34.7247 681.638 31.8601 684.279 Q28.9955 686.888 28.9955 691.216 Q28.9955 696.117 31.7646 699.076 Q34.5337 702.004 39.5626 702.449 L39.5308 681.574 Z\" fill=\"#000000\" fill-rule=\"evenodd\" fill-opacity=\"1\" /><path clip-path=\"url(#clip320)\" d=\"M39.0215 636.481 L60.5376 636.481 L60.5376 642.337 L39.2125 642.337 Q34.1518 642.337 31.6373 644.31 Q29.1229 646.283 29.1229 650.229 Q29.1229 654.97 32.1466 657.707 Q35.1703 660.444 40.3902 660.444 L60.5376 660.444 L60.5376 666.331 L24.8897 666.331 L24.8897 660.444 L30.4278 660.444 Q27.2131 658.343 25.6217 655.511 Q24.0303 652.647 24.0303 648.924 Q24.0303 642.782 27.8497 639.632 Q31.6373 636.481 39.0215 636.481 Z\" fill=\"#000000\" fill-rule=\"evenodd\" fill-opacity=\"1\" /><path clip-path=\"url(#clip320)\" d=\"M14.7682 619.011 L24.8897 619.011 L24.8897 606.95 L29.4411 606.95 L29.4411 619.011 L48.7929 619.011 Q53.1534 619.011 54.3947 617.833 Q55.636 616.624 55.636 612.965 L55.636 606.95 L60.5376 606.95 L60.5376 612.965 Q60.5376 619.743 58.0232 622.32 Q55.4769 624.898 48.7929 624.898 L29.4411 624.898 L29.4411 629.194 L24.8897 629.194 L24.8897 624.898 L14.7682 624.898 L14.7682 619.011 Z\" fill=\"#000000\" fill-rule=\"evenodd\" fill-opacity=\"1\" /><path clip-path=\"url(#clip320)\" d=\"M30.3642 578.596 Q29.7913 579.583 29.5366 580.76 Q29.2502 581.906 29.2502 583.306 Q29.2502 588.27 32.4967 590.943 Q35.7114 593.585 41.7588 593.585 L60.5376 593.585 L60.5376 599.472 L24.8897 599.472 L24.8897 593.585 L30.4278 593.585 Q27.1813 591.739 25.6217 588.78 Q24.0303 585.82 24.0303 581.588 Q24.0303 580.983 24.1258 580.251 Q24.1894 579.519 24.3486 578.628 L30.3642 578.596 Z\" fill=\"#000000\" fill-rule=\"evenodd\" fill-opacity=\"1\" /><path clip-path=\"url(#clip320)\" d=\"M28.9955 560.076 Q28.9955 564.785 32.6877 567.522 Q36.3479 570.259 42.7455 570.259 Q49.143 570.259 52.8351 567.554 Q56.4954 564.817 56.4954 560.076 Q56.4954 555.398 52.8033 552.661 Q49.1112 549.924 42.7455 549.924 Q36.4116 549.924 32.7195 552.661 Q28.9955 555.398 28.9955 560.076 M24.0303 560.076 Q24.0303 552.438 28.9955 548.079 Q33.9608 543.719 42.7455 543.719 Q51.4983 543.719 56.4954 548.079 Q61.4606 552.438 61.4606 560.076 Q61.4606 567.745 56.4954 572.105 Q51.4983 576.432 42.7455 576.432 Q33.9608 576.432 28.9955 572.105 Q24.0303 567.745 24.0303 560.076 Z\" fill=\"#000000\" fill-rule=\"evenodd\" fill-opacity=\"1\" /><path clip-path=\"url(#clip320)\" d=\"M55.1904 528.349 L74.0966 528.349 L74.0966 534.236 L24.8897 534.236 L24.8897 528.349 L30.3005 528.349 Q27.1177 526.503 25.5899 523.703 Q24.0303 520.87 24.0303 516.956 Q24.0303 510.464 29.1865 506.423 Q34.3427 502.35 42.7455 502.35 Q51.1482 502.35 56.3044 506.423 Q61.4606 510.464 61.4606 516.956 Q61.4606 520.87 59.9329 523.703 Q58.3733 526.503 55.1904 528.349 M42.7455 508.428 Q36.2843 508.428 32.624 511.101 Q28.9319 513.742 28.9319 518.388 Q28.9319 523.034 32.624 525.707 Q36.2843 528.349 42.7455 528.349 Q49.2067 528.349 52.8988 525.707 Q56.5591 523.034 56.5591 518.388 Q56.5591 513.742 52.8988 511.101 Q49.2067 508.428 42.7455 508.428 Z\" fill=\"#000000\" fill-rule=\"evenodd\" fill-opacity=\"1\" /><path clip-path=\"url(#clip320)\" d=\"M63.8478 477.814 Q70.2135 480.297 72.155 482.652 Q74.0966 485.006 74.0966 488.952 L74.0966 493.63 L69.195 493.63 L69.195 490.193 Q69.195 487.775 68.0492 486.438 Q66.9033 485.102 62.6383 483.479 L59.9647 482.429 L24.8897 496.844 L24.8897 490.639 L52.7715 479.501 L24.8897 468.363 L24.8897 462.158 L63.8478 477.814 Z\" fill=\"#000000\" fill-rule=\"evenodd\" fill-opacity=\"1\" /><polyline clip-path=\"url(#clip322)\" style=\"stroke:#009af9; stroke-linecap:butt; stroke-linejoin:round; stroke-width:3.99924; stroke-opacity:1; fill:none\" points=\"\n",
       "  276.39,92.4963 410.783,229.83 545.175,629.762 679.568,965.244 813.961,1032.55 948.353,1056.21 1082.75,1064.62 1217.14,1066.58 1351.53,1063.89 1485.92,1058.21 \n",
       "  1620.32,1051.91 1754.71,1045.08 1889.1,1038.31 2023.49,1032.01 2157.89,1026.24 2292.28,1020.83 \n",
       "  \"/>\n",
       "<polyline clip-path=\"url(#clip322)\" style=\"stroke:#e26f46; stroke-linecap:butt; stroke-linejoin:round; stroke-width:3.99924; stroke-opacity:1; fill:none\" points=\"\n",
       "  276.39,83.069 410.783,189.794 545.175,520.701 679.568,950.325 813.961,1093.35 948.353,1152.44 1082.75,1188.91 1217.14,1215.11 1351.53,1235.13 1485.92,1249.74 \n",
       "  1620.32,1260 1754.71,1266.95 1889.1,1271.32 2023.49,1274.21 2157.89,1276.16 2292.28,1277.53 \n",
       "  \"/>\n",
       "<path clip-path=\"url(#clip320)\" d=\"\n",
       "M1721.05 244.93 L2281.53 244.93 L2281.53 89.4395 L1721.05 89.4395  Z\n",
       "  \" fill=\"#ffffff\" fill-rule=\"evenodd\" fill-opacity=\"1\"/>\n",
       "<polyline clip-path=\"url(#clip320)\" style=\"stroke:#000000; stroke-linecap:butt; stroke-linejoin:round; stroke-width:3.99924; stroke-opacity:1; fill:none\" points=\"\n",
       "  1721.05,244.93 2281.53,244.93 2281.53,89.4395 1721.05,89.4395 1721.05,244.93 \n",
       "  \"/>\n",
       "<polyline clip-path=\"url(#clip320)\" style=\"stroke:#009af9; stroke-linecap:butt; stroke-linejoin:round; stroke-width:3.99924; stroke-opacity:1; fill:none\" points=\"\n",
       "  1744.79,141.27 1887.25,141.27 \n",
       "  \"/>\n",
       "<path clip-path=\"url(#clip320)\" d=\"M1922.89 135.611 Q1919.46 135.611 1917.47 138.296 Q1915.48 140.957 1915.48 145.609 Q1915.48 150.261 1917.45 152.946 Q1919.44 155.607 1922.89 155.607 Q1926.29 155.607 1928.28 152.922 Q1930.27 150.238 1930.27 145.609 Q1930.27 141.004 1928.28 138.319 Q1926.29 135.611 1922.89 135.611 M1922.89 132.001 Q1928.44 132.001 1931.61 135.611 Q1934.78 139.221 1934.78 145.609 Q1934.78 151.974 1931.61 155.607 Q1928.44 159.218 1922.89 159.218 Q1917.31 159.218 1914.14 155.607 Q1910.99 151.974 1910.99 145.609 Q1910.99 139.221 1914.14 135.611 Q1917.31 132.001 1922.89 132.001 Z\" fill=\"#000000\" fill-rule=\"evenodd\" fill-opacity=\"1\" /><path clip-path=\"url(#clip320)\" d=\"M1941.41 148.317 L1941.41 132.626 L1945.66 132.626 L1945.66 148.155 Q1945.66 151.835 1947.1 153.686 Q1948.53 155.515 1951.41 155.515 Q1954.85 155.515 1956.84 153.316 Q1958.86 151.117 1958.86 147.322 L1958.86 132.626 L1963.12 132.626 L1963.12 158.546 L1958.86 158.546 L1958.86 154.566 Q1957.31 156.926 1955.25 158.084 Q1953.21 159.218 1950.5 159.218 Q1946.03 159.218 1943.72 156.44 Q1941.41 153.663 1941.41 148.317 M1952.12 132.001 L1952.12 132.001 Z\" fill=\"#000000\" fill-rule=\"evenodd\" fill-opacity=\"1\" /><path clip-path=\"url(#clip320)\" d=\"M1976.1 125.266 L1976.1 132.626 L1984.88 132.626 L1984.88 135.935 L1976.1 135.935 L1976.1 150.006 Q1976.1 153.177 1976.96 154.08 Q1977.84 154.982 1980.5 154.982 L1984.88 154.982 L1984.88 158.546 L1980.5 158.546 Q1975.57 158.546 1973.7 156.718 Q1971.82 154.867 1971.82 150.006 L1971.82 135.935 L1968.7 135.935 L1968.7 132.626 L1971.82 132.626 L1971.82 125.266 L1976.1 125.266 Z\" fill=\"#000000\" fill-rule=\"evenodd\" fill-opacity=\"1\" /><path clip-path=\"url(#clip320)\" d=\"M1988.33 143.665 L2000.8 143.665 L2000.8 147.461 L1988.33 147.461 L1988.33 143.665 Z\" fill=\"#000000\" fill-rule=\"evenodd\" fill-opacity=\"1\" /><path clip-path=\"url(#clip320)\" d=\"M2018.51 135.611 Q2015.09 135.611 2013.09 138.296 Q2011.1 140.957 2011.1 145.609 Q2011.1 150.261 2013.07 152.946 Q2015.06 155.607 2018.51 155.607 Q2021.91 155.607 2023.9 152.922 Q2025.9 150.238 2025.9 145.609 Q2025.9 141.004 2023.9 138.319 Q2021.91 135.611 2018.51 135.611 M2018.51 132.001 Q2024.07 132.001 2027.24 135.611 Q2030.41 139.221 2030.41 145.609 Q2030.41 151.974 2027.24 155.607 Q2024.07 159.218 2018.51 159.218 Q2012.93 159.218 2009.76 155.607 Q2006.61 151.974 2006.61 145.609 Q2006.61 139.221 2009.76 135.611 Q2012.93 132.001 2018.51 132.001 Z\" fill=\"#000000\" fill-rule=\"evenodd\" fill-opacity=\"1\" /><path clip-path=\"url(#clip320)\" d=\"M2050.59 122.535 L2050.59 126.076 L2046.52 126.076 Q2044.23 126.076 2043.33 127.002 Q2042.45 127.927 2042.45 130.334 L2042.45 132.626 L2049.46 132.626 L2049.46 135.935 L2042.45 135.935 L2042.45 158.546 L2038.16 158.546 L2038.16 135.935 L2034.09 135.935 L2034.09 132.626 L2038.16 132.626 L2038.16 130.82 Q2038.16 126.492 2040.18 124.525 Q2042.19 122.535 2046.57 122.535 L2050.59 122.535 Z\" fill=\"#000000\" fill-rule=\"evenodd\" fill-opacity=\"1\" /><path clip-path=\"url(#clip320)\" d=\"M2049.41 143.665 L2061.89 143.665 L2061.89 147.461 L2049.41 147.461 L2049.41 143.665 Z\" fill=\"#000000\" fill-rule=\"evenodd\" fill-opacity=\"1\" /><path clip-path=\"url(#clip320)\" d=\"M2085.2 133.389 L2085.2 137.416 Q2083.4 136.491 2081.45 136.028 Q2079.51 135.565 2077.42 135.565 Q2074.25 135.565 2072.65 136.537 Q2071.08 137.509 2071.08 139.453 Q2071.08 140.934 2072.21 141.79 Q2073.35 142.624 2076.77 143.387 L2078.23 143.711 Q2082.77 144.683 2084.67 146.465 Q2086.59 148.224 2086.59 151.395 Q2086.59 155.005 2083.72 157.111 Q2080.87 159.218 2075.87 159.218 Q2073.79 159.218 2071.52 158.801 Q2069.27 158.408 2066.77 157.598 L2066.77 153.2 Q2069.14 154.427 2071.43 155.052 Q2073.72 155.653 2075.96 155.653 Q2078.97 155.653 2080.59 154.635 Q2082.21 153.594 2082.21 151.719 Q2082.21 149.983 2081.03 149.058 Q2079.88 148.132 2075.92 147.275 L2074.44 146.928 Q2070.48 146.095 2068.72 144.382 Q2066.96 142.647 2066.96 139.638 Q2066.96 135.981 2069.55 133.991 Q2072.15 132.001 2076.91 132.001 Q2079.27 132.001 2081.36 132.348 Q2083.44 132.695 2085.2 133.389 Z\" fill=\"#000000\" fill-rule=\"evenodd\" fill-opacity=\"1\" /><path clip-path=\"url(#clip320)\" d=\"M2105.15 145.517 Q2099.99 145.517 2098 146.697 Q2096.01 147.877 2096.01 150.724 Q2096.01 152.992 2097.49 154.334 Q2099 155.653 2101.57 155.653 Q2105.11 155.653 2107.24 153.154 Q2109.39 150.631 2109.39 146.465 L2109.39 145.517 L2105.15 145.517 M2113.65 143.758 L2113.65 158.546 L2109.39 158.546 L2109.39 154.612 Q2107.93 156.973 2105.76 158.107 Q2103.58 159.218 2100.43 159.218 Q2096.45 159.218 2094.09 156.996 Q2091.75 154.751 2091.75 151.002 Q2091.75 146.627 2094.67 144.406 Q2097.61 142.184 2103.42 142.184 L2109.39 142.184 L2109.39 141.767 Q2109.39 138.828 2107.45 137.231 Q2105.52 135.611 2102.03 135.611 Q2099.81 135.611 2097.7 136.143 Q2095.59 136.676 2093.65 137.74 L2093.65 133.806 Q2095.99 132.903 2098.19 132.464 Q2100.39 132.001 2102.47 132.001 Q2108.09 132.001 2110.87 134.917 Q2113.65 137.833 2113.65 143.758 Z\" fill=\"#000000\" fill-rule=\"evenodd\" fill-opacity=\"1\" /><path clip-path=\"url(#clip320)\" d=\"M2142.61 137.601 Q2144.2 134.732 2146.43 133.366 Q2148.65 132.001 2151.66 132.001 Q2155.71 132.001 2157.91 134.847 Q2160.11 137.671 2160.11 142.901 L2160.11 158.546 L2155.83 158.546 L2155.83 143.04 Q2155.83 139.314 2154.51 137.509 Q2153.19 135.704 2150.48 135.704 Q2147.17 135.704 2145.25 137.902 Q2143.33 140.101 2143.33 143.896 L2143.33 158.546 L2139.04 158.546 L2139.04 143.04 Q2139.04 139.291 2137.72 137.509 Q2136.4 135.704 2133.65 135.704 Q2130.39 135.704 2128.46 137.925 Q2126.54 140.124 2126.54 143.896 L2126.54 158.546 L2122.26 158.546 L2122.26 132.626 L2126.54 132.626 L2126.54 136.653 Q2128 134.269 2130.04 133.135 Q2132.08 132.001 2134.88 132.001 Q2137.7 132.001 2139.67 133.436 Q2141.66 134.87 2142.61 137.601 Z\" fill=\"#000000\" fill-rule=\"evenodd\" fill-opacity=\"1\" /><path clip-path=\"url(#clip320)\" d=\"M2172.72 154.658 L2172.72 168.406 L2168.44 168.406 L2168.44 132.626 L2172.72 132.626 L2172.72 136.56 Q2174.07 134.246 2176.1 133.135 Q2178.16 132.001 2181.01 132.001 Q2185.73 132.001 2188.67 135.75 Q2191.64 139.499 2191.64 145.609 Q2191.64 151.719 2188.67 155.468 Q2185.73 159.218 2181.01 159.218 Q2178.16 159.218 2176.1 158.107 Q2174.07 156.973 2172.72 154.658 M2187.21 145.609 Q2187.21 140.911 2185.27 138.249 Q2183.35 135.565 2179.97 135.565 Q2176.59 135.565 2174.64 138.249 Q2172.72 140.911 2172.72 145.609 Q2172.72 150.307 2174.64 152.992 Q2176.59 155.653 2179.97 155.653 Q2183.35 155.653 2185.27 152.992 Q2187.21 150.307 2187.21 145.609 Z\" fill=\"#000000\" fill-rule=\"evenodd\" fill-opacity=\"1\" /><path clip-path=\"url(#clip320)\" d=\"M2198.7 122.535 L2202.95 122.535 L2202.95 158.546 L2198.7 158.546 L2198.7 122.535 Z\" fill=\"#000000\" fill-rule=\"evenodd\" fill-opacity=\"1\" /><path clip-path=\"url(#clip320)\" d=\"M2234.04 144.521 L2234.04 146.604 L2214.46 146.604 Q2214.74 151.002 2217.1 153.316 Q2219.48 155.607 2223.72 155.607 Q2226.17 155.607 2228.46 155.005 Q2230.78 154.404 2233.05 153.2 L2233.05 157.227 Q2230.76 158.199 2228.35 158.708 Q2225.94 159.218 2223.46 159.218 Q2217.26 159.218 2213.63 155.607 Q2210.01 151.997 2210.01 145.841 Q2210.01 139.476 2213.44 135.75 Q2216.89 132.001 2222.72 132.001 Q2227.95 132.001 2230.99 135.38 Q2234.04 138.735 2234.04 144.521 M2229.78 143.272 Q2229.74 139.777 2227.82 137.694 Q2225.92 135.611 2222.77 135.611 Q2219.2 135.611 2217.05 137.625 Q2214.92 139.638 2214.6 143.295 L2229.78 143.272 Z\" fill=\"#000000\" fill-rule=\"evenodd\" fill-opacity=\"1\" /><polyline clip-path=\"url(#clip320)\" style=\"stroke:#e26f46; stroke-linecap:butt; stroke-linejoin:round; stroke-width:3.99924; stroke-opacity:1; fill:none\" points=\"\n",
       "  1744.79,193.1 1887.25,193.1 \n",
       "  \"/>\n",
       "<path clip-path=\"url(#clip320)\" d=\"M1918.4 177.096 L1918.4 184.456 L1927.17 184.456 L1927.17 187.765 L1918.4 187.765 L1918.4 201.837 Q1918.4 205.007 1919.25 205.91 Q1920.13 206.812 1922.79 206.812 L1927.17 206.812 L1927.17 210.377 L1922.79 210.377 Q1917.86 210.377 1915.99 208.548 Q1914.11 206.697 1914.11 201.837 L1914.11 187.765 L1910.99 187.765 L1910.99 184.456 L1914.11 184.456 L1914.11 177.096 L1918.4 177.096 Z\" fill=\"#000000\" fill-rule=\"evenodd\" fill-opacity=\"1\" /><path clip-path=\"url(#clip320)\" d=\"M1947.79 188.436 Q1947.08 188.02 1946.22 187.835 Q1945.39 187.626 1944.37 187.626 Q1940.76 187.626 1938.81 189.987 Q1936.89 192.325 1936.89 196.722 L1936.89 210.377 L1932.61 210.377 L1932.61 184.456 L1936.89 184.456 L1936.89 188.483 Q1938.23 186.122 1940.39 184.988 Q1942.54 183.831 1945.62 183.831 Q1946.06 183.831 1946.59 183.9 Q1947.12 183.947 1947.77 184.062 L1947.79 188.436 Z\" fill=\"#000000\" fill-rule=\"evenodd\" fill-opacity=\"1\" /><path clip-path=\"url(#clip320)\" d=\"M1964.04 197.347 Q1958.88 197.347 1956.89 198.527 Q1954.9 199.707 1954.9 202.554 Q1954.9 204.822 1956.38 206.164 Q1957.89 207.484 1960.46 207.484 Q1964 207.484 1966.13 204.984 Q1968.28 202.461 1968.28 198.296 L1968.28 197.347 L1964.04 197.347 M1972.54 195.588 L1972.54 210.377 L1968.28 210.377 L1968.28 206.442 Q1966.82 208.803 1964.65 209.937 Q1962.47 211.048 1959.32 211.048 Q1955.34 211.048 1952.98 208.826 Q1950.64 206.581 1950.64 202.832 Q1950.64 198.458 1953.56 196.236 Q1956.5 194.014 1962.31 194.014 L1968.28 194.014 L1968.28 193.597 Q1968.28 190.658 1966.34 189.061 Q1964.41 187.441 1960.92 187.441 Q1958.7 187.441 1956.59 187.974 Q1954.48 188.506 1952.54 189.57 L1952.54 185.636 Q1954.88 184.733 1957.08 184.294 Q1959.28 183.831 1961.36 183.831 Q1966.98 183.831 1969.76 186.747 Q1972.54 189.663 1972.54 195.588 Z\" fill=\"#000000\" fill-rule=\"evenodd\" fill-opacity=\"1\" /><path clip-path=\"url(#clip320)\" d=\"M1981.31 184.456 L1985.57 184.456 L1985.57 210.377 L1981.31 210.377 L1981.31 184.456 M1981.31 174.365 L1985.57 174.365 L1985.57 179.758 L1981.31 179.758 L1981.31 174.365 Z\" fill=\"#000000\" fill-rule=\"evenodd\" fill-opacity=\"1\" /><path clip-path=\"url(#clip320)\" d=\"M2016.03 194.731 L2016.03 210.377 L2011.78 210.377 L2011.78 194.87 Q2011.78 191.19 2010.34 189.362 Q2008.9 187.534 2006.03 187.534 Q2002.59 187.534 2000.59 189.732 Q1998.6 191.931 1998.6 195.727 L1998.6 210.377 L1994.32 210.377 L1994.32 184.456 L1998.6 184.456 L1998.6 188.483 Q2000.13 186.145 2002.19 184.988 Q2004.28 183.831 2006.98 183.831 Q2011.45 183.831 2013.74 186.608 Q2016.03 189.362 2016.03 194.731 Z\" fill=\"#000000\" fill-rule=\"evenodd\" fill-opacity=\"1\" /><path clip-path=\"url(#clip320)\" d=\"M2024.53 184.456 L2028.79 184.456 L2028.79 210.377 L2024.53 210.377 L2024.53 184.456 M2024.53 174.365 L2028.79 174.365 L2028.79 179.758 L2024.53 179.758 L2024.53 174.365 Z\" fill=\"#000000\" fill-rule=\"evenodd\" fill-opacity=\"1\" /><path clip-path=\"url(#clip320)\" d=\"M2059.25 194.731 L2059.25 210.377 L2054.99 210.377 L2054.99 194.87 Q2054.99 191.19 2053.56 189.362 Q2052.12 187.534 2049.25 187.534 Q2045.8 187.534 2043.81 189.732 Q2041.82 191.931 2041.82 195.727 L2041.82 210.377 L2037.54 210.377 L2037.54 184.456 L2041.82 184.456 L2041.82 188.483 Q2043.35 186.145 2045.41 184.988 Q2047.49 183.831 2050.2 183.831 Q2054.67 183.831 2056.96 186.608 Q2059.25 189.362 2059.25 194.731 Z\" fill=\"#000000\" fill-rule=\"evenodd\" fill-opacity=\"1\" /><path clip-path=\"url(#clip320)\" d=\"M2084.81 197.115 Q2084.81 192.487 2082.89 189.941 Q2080.99 187.395 2077.54 187.395 Q2074.11 187.395 2072.19 189.941 Q2070.29 192.487 2070.29 197.115 Q2070.29 201.721 2072.19 204.267 Q2074.11 206.812 2077.54 206.812 Q2080.99 206.812 2082.89 204.267 Q2084.81 201.721 2084.81 197.115 M2089.07 207.16 Q2089.07 213.779 2086.13 216.996 Q2083.19 220.236 2077.12 220.236 Q2074.88 220.236 2072.89 219.889 Q2070.9 219.565 2069.02 218.87 L2069.02 214.728 Q2070.9 215.746 2072.72 216.232 Q2074.55 216.718 2076.45 216.718 Q2080.64 216.718 2082.72 214.519 Q2084.81 212.344 2084.81 207.923 L2084.81 205.817 Q2083.49 208.108 2081.43 209.243 Q2079.37 210.377 2076.5 210.377 Q2071.73 210.377 2068.81 206.743 Q2065.9 203.109 2065.9 197.115 Q2065.9 191.098 2068.81 187.464 Q2071.73 183.831 2076.5 183.831 Q2079.37 183.831 2081.43 184.965 Q2083.49 186.099 2084.81 188.39 L2084.81 184.456 L2089.07 184.456 L2089.07 207.16 Z\" fill=\"#000000\" fill-rule=\"evenodd\" fill-opacity=\"1\" /></svg>\n"
      ]
     },
     "execution_count": 29,
     "metadata": {},
     "output_type": "execute_result"
    }
   ],
   "source": [
    "iterated_clf.controls[2] = Patience(4)\n",
    "fit!(mach, rows=1:500)\n",
    "\n",
    "plot(epochs, losses,\n",
    "     xlab = \"epoch\",\n",
    "     ylab = \"cross entropy\",\n",
    "     label=\"out-of-sample\")\n",
    "plot!(epochs, training_losses, label=\"training\")"
   ]
  },
  {
   "cell_type": "markdown",
   "metadata": {},
   "source": [
    "---\n",
    "\n",
    "*This notebook was generated using [Literate.jl](https://github.com/fredrikekre/Literate.jl).*"
   ]
  }
 ],
 "metadata": {
  "kernelspec": {
   "display_name": "Julia 1.7.3",
   "language": "julia",
   "name": "julia-1.7"
  },
  "language_info": {
   "file_extension": ".jl",
   "mimetype": "application/julia",
   "name": "julia",
   "version": "1.7.3"
  }
 },
 "nbformat": 4,
 "nbformat_minor": 3
}
