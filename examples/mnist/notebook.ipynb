{
 "cells": [
  {
   "cell_type": "markdown",
   "metadata": {},
   "source": [
    "# Using MLJ to classifiy the MNIST image dataset"
   ]
  },
  {
   "cell_type": "code",
   "execution_count": null,
   "metadata": {},
   "outputs": [],
   "source": [
    "using Pkg\n",
    "const DIR = @__DIR__\n",
    "Pkg.activate(DIR)\n",
    "Pkg.instantiate()"
   ]
  },
  {
   "cell_type": "markdown",
   "metadata": {},
   "source": [
    "**Julia version** is assumed to be ^1.10"
   ]
  },
  {
   "cell_type": "code",
   "execution_count": null,
   "metadata": {},
   "outputs": [],
   "source": [
    "using MLJ\n",
    "using Flux\n",
    "import MLJFlux\n",
    "import MLUtils\n",
    "import MLJIteration # for `skip`"
   ]
  },
  {
   "cell_type": "markdown",
   "metadata": {},
   "source": [
    "If running on a GPU, you will also need to `import CUDA` and `import cuDNN`."
   ]
  },
  {
   "cell_type": "code",
   "execution_count": null,
   "metadata": {},
   "outputs": [],
   "source": [
    "using Plots\n",
    "gr(size=(600, 300*(sqrt(5)-1)));"
   ]
  },
  {
   "cell_type": "markdown",
   "metadata": {},
   "source": [
    "## Basic training"
   ]
  },
  {
   "cell_type": "markdown",
   "metadata": {},
   "source": [
    "Downloading the MNIST image dataset:"
   ]
  },
  {
   "cell_type": "code",
   "execution_count": null,
   "metadata": {},
   "outputs": [],
   "source": [
    "import MLDatasets: MNIST\n",
    "\n",
    "ENV[\"DATADEPS_ALWAYS_ACCEPT\"] = true\n",
    "images, labels = MNIST(split=:train)[:];"
   ]
  },
  {
   "cell_type": "markdown",
   "metadata": {},
   "source": [
    "In MLJ, integers cannot be used for encoding categorical data, so we\n",
    "must force the labels to have the `Multiclass` [scientific\n",
    "type](https://juliaai.github.io/ScientificTypes.jl/dev/). For\n",
    "more on this, see [Working with Categorical\n",
    "Data](https://alan-turing-institute.github.io/MLJ.jl/dev/working_with_categorical_data/)."
   ]
  },
  {
   "cell_type": "code",
   "execution_count": null,
   "metadata": {},
   "outputs": [],
   "source": [
    "labels = coerce(labels, Multiclass);\n",
    "images = coerce(images, GrayImage);"
   ]
  },
  {
   "cell_type": "markdown",
   "metadata": {},
   "source": [
    "Checking scientific types:"
   ]
  },
  {
   "cell_type": "code",
   "execution_count": null,
   "metadata": {},
   "outputs": [],
   "source": [
    "@assert scitype(images) <: AbstractVector{<:Image}\n",
    "@assert scitype(labels) <: AbstractVector{<:Finite}"
   ]
  },
  {
   "cell_type": "markdown",
   "metadata": {},
   "source": [
    "Looks good."
   ]
  },
  {
   "cell_type": "markdown",
   "metadata": {},
   "source": [
    "For general instructions on coercing image data, see [Type coercion\n",
    "for image\n",
    "data](https://juliaai.github.io/ScientificTypes.jl/dev/#Type-coercion-for-image-data)"
   ]
  },
  {
   "cell_type": "code",
   "execution_count": null,
   "metadata": {},
   "outputs": [],
   "source": [
    "images[1]"
   ]
  },
  {
   "cell_type": "markdown",
   "metadata": {},
   "source": [
    "We start by defining a suitable `Builder` object. This is a recipe\n",
    "for building the neural network. Our builder will work for images of\n",
    "any (constant) size, whether they be color or black and white (ie,\n",
    "single or multi-channel).  The architecture always consists of six\n",
    "alternating convolution and max-pool layers, and a final dense\n",
    "layer; the filter size and the number of channels after each\n",
    "convolution layer is customisable."
   ]
  },
  {
   "cell_type": "code",
   "execution_count": null,
   "metadata": {},
   "outputs": [],
   "source": [
    "import MLJFlux\n",
    "struct MyConvBuilder\n",
    "    filter_size::Int\n",
    "    channels1::Int\n",
    "    channels2::Int\n",
    "    channels3::Int\n",
    "end\n",
    "\n",
    "function MLJFlux.build(b::MyConvBuilder, rng, n_in, n_out, n_channels)\n",
    "    k, c1, c2, c3 = b.filter_size, b.channels1, b.channels2, b.channels3\n",
    "    mod(k, 2) == 1 || error(\"`filter_size` must be odd. \")\n",
    "    p = div(k - 1, 2) # padding to preserve image size\n",
    "    init = Flux.glorot_uniform(rng)\n",
    "    front = Chain(\n",
    "        Conv((k, k), n_channels => c1, pad=(p, p), relu, init=init),\n",
    "        MaxPool((2, 2)),\n",
    "        Conv((k, k), c1 => c2, pad=(p, p), relu, init=init),\n",
    "        MaxPool((2, 2)),\n",
    "        Conv((k, k), c2 => c3, pad=(p, p), relu, init=init),\n",
    "        MaxPool((2 ,2)),\n",
    "        MLUtils.flatten)\n",
    "    d = Flux.outputsize(front, (n_in..., n_channels, 1)) |> first\n",
    "    return Chain(front, Dense(d, n_out, init=init))\n",
    "end"
   ]
  },
  {
   "cell_type": "markdown",
   "metadata": {},
   "source": [
    "**Notes.**"
   ]
  },
  {
   "cell_type": "markdown",
   "metadata": {},
   "source": [
    "- There is no final `softmax` here, as this is applied by default in all MLJFLux\n",
    "  classifiers. Customisation of this behaviour is controlled using using the `finaliser`\n",
    "  hyperparameter of the classifier.\n",
    "\n",
    "- Instead of calculating the padding `p`, Flux can infer the required padding in each\n",
    "  dimension, which you enable by replacing `pad = (p, p)` with `pad = SamePad()`."
   ]
  },
  {
   "cell_type": "markdown",
   "metadata": {},
   "source": [
    "We now define the MLJ model."
   ]
  },
  {
   "cell_type": "code",
   "execution_count": null,
   "metadata": {},
   "outputs": [],
   "source": [
    "ImageClassifier = @load ImageClassifier\n",
    "clf = ImageClassifier(\n",
    "    builder=MyConvBuilder(3, 16, 32, 32),\n",
    "    batch_size=50,\n",
    "    epochs=10,\n",
    "    rng=123,\n",
    ")"
   ]
  },
  {
   "cell_type": "markdown",
   "metadata": {},
   "source": [
    "You can add Flux options `optimiser=...` and `loss=...` in the above constructor\n",
    "call. At present, `loss` must be a Flux-compatible loss, not an MLJ measure. To run on a\n",
    "GPU, add to the constructor `acceleration=CUDALib()` and omit `rng`."
   ]
  },
  {
   "cell_type": "markdown",
   "metadata": {},
   "source": [
    "For illustration purposes, we won't use all the data here:"
   ]
  },
  {
   "cell_type": "code",
   "execution_count": null,
   "metadata": {},
   "outputs": [],
   "source": [
    "train = 1:500\n",
    "test = 501:1000"
   ]
  },
  {
   "cell_type": "markdown",
   "metadata": {},
   "source": [
    "Binding the model with data in an MLJ machine:"
   ]
  },
  {
   "cell_type": "code",
   "execution_count": null,
   "metadata": {},
   "outputs": [],
   "source": [
    "mach = machine(clf, images, labels);"
   ]
  },
  {
   "cell_type": "markdown",
   "metadata": {},
   "source": [
    "Training for 10 epochs on the first 500 images:"
   ]
  },
  {
   "cell_type": "code",
   "execution_count": null,
   "metadata": {},
   "outputs": [],
   "source": [
    "fit!(mach, rows=train, verbosity=2);"
   ]
  },
  {
   "cell_type": "markdown",
   "metadata": {},
   "source": [
    "Inspecting:"
   ]
  },
  {
   "cell_type": "code",
   "execution_count": null,
   "metadata": {},
   "outputs": [],
   "source": [
    "report(mach)"
   ]
  },
  {
   "cell_type": "code",
   "execution_count": null,
   "metadata": {},
   "outputs": [],
   "source": [
    "chain = fitted_params(mach)"
   ]
  },
  {
   "cell_type": "code",
   "execution_count": null,
   "metadata": {},
   "outputs": [],
   "source": [
    "Flux.params(chain)[2]"
   ]
  },
  {
   "cell_type": "markdown",
   "metadata": {},
   "source": [
    "Adding 20 more epochs:"
   ]
  },
  {
   "cell_type": "code",
   "execution_count": null,
   "metadata": {},
   "outputs": [],
   "source": [
    "clf.epochs = clf.epochs + 20\n",
    "fit!(mach, rows=train);"
   ]
  },
  {
   "cell_type": "markdown",
   "metadata": {},
   "source": [
    "Computing an out-of-sample estimate of the loss:"
   ]
  },
  {
   "cell_type": "code",
   "execution_count": null,
   "metadata": {},
   "outputs": [],
   "source": [
    "predicted_labels = predict(mach, rows=test);\n",
    "cross_entropy(predicted_labels, labels[test])"
   ]
  },
  {
   "cell_type": "markdown",
   "metadata": {},
   "source": [
    "Or, in one line:"
   ]
  },
  {
   "cell_type": "code",
   "execution_count": null,
   "metadata": {},
   "outputs": [],
   "source": [
    "evaluate!(mach,\n",
    "          resampling=Holdout(fraction_train=0.5),\n",
    "          measure=cross_entropy,\n",
    "          rows=1:1000,\n",
    "          verbosity=0)"
   ]
  },
  {
   "cell_type": "markdown",
   "metadata": {},
   "source": [
    "## Wrapping the MLJFlux model with iteration controls"
   ]
  },
  {
   "cell_type": "markdown",
   "metadata": {},
   "source": [
    "Any iterative MLJFlux model can be wrapped in *iteration controls*,\n",
    "as we demonstrate next. For more on MLJ's `IteratedModel` wrapper,\n",
    "see the [MLJ\n",
    "documentation](https://alan-turing-institute.github.io/MLJ.jl/dev/controlling_iterative_models/)."
   ]
  },
  {
   "cell_type": "markdown",
   "metadata": {},
   "source": [
    "The \"self-iterating\" classifier, called `iterated_clf` below, is for\n",
    "iterating the image classifier defined above until one of the\n",
    "following stopping criterion apply:"
   ]
  },
  {
   "cell_type": "markdown",
   "metadata": {},
   "source": [
    "- `Patience(3)`: 3 consecutive increases in the loss\n",
    "- `InvalidValue()`: an out-of-sample loss, or a training loss, is `NaN`, `Inf`, or `-Inf`\n",
    "- `TimeLimit(t=5/60)`: training time has exceeded 5 minutes\n",
    "\n",
    "These checks (and other controls) will be applied every two epochs\n",
    "(because of the `Step(2)` control). Additionally, training a\n",
    "machine bound to `iterated_clf` will:\n",
    "\n",
    "- save a snapshot of the machine every three control cycles (every six epochs)\n",
    "- record traces of the out-of-sample loss and training losses for plotting\n",
    "- record mean value traces of each Flux parameter for plotting"
   ]
  },
  {
   "cell_type": "markdown",
   "metadata": {},
   "source": [
    "For a complete list of controls, see [this\n",
    "table](https://alan-turing-institute.github.io/MLJ.jl/dev/controlling_iterative_models/#Controls-provided)."
   ]
  },
  {
   "cell_type": "markdown",
   "metadata": {},
   "source": [
    "### Wrapping the classifier"
   ]
  },
  {
   "cell_type": "markdown",
   "metadata": {},
   "source": [
    "Some helpers"
   ]
  },
  {
   "cell_type": "markdown",
   "metadata": {},
   "source": [
    "To extract Flux params from an MLJFlux machine"
   ]
  },
  {
   "cell_type": "code",
   "execution_count": null,
   "metadata": {},
   "outputs": [],
   "source": [
    "parameters(mach) = vec.(Flux.params(fitted_params(mach)));"
   ]
  },
  {
   "cell_type": "markdown",
   "metadata": {},
   "source": [
    "To store the traces:"
   ]
  },
  {
   "cell_type": "code",
   "execution_count": null,
   "metadata": {},
   "outputs": [],
   "source": [
    "losses = []\n",
    "training_losses = []\n",
    "parameter_means = Float32[];\n",
    "epochs = []"
   ]
  },
  {
   "cell_type": "markdown",
   "metadata": {},
   "source": [
    "To update the traces:"
   ]
  },
  {
   "cell_type": "code",
   "execution_count": null,
   "metadata": {},
   "outputs": [],
   "source": [
    "update_loss(loss) = push!(losses, loss)\n",
    "update_training_loss(losses) = push!(training_losses, losses[end])\n",
    "update_means(mach) = append!(parameter_means, mean.(parameters(mach)));\n",
    "update_epochs(epoch) = push!(epochs, epoch)"
   ]
  },
  {
   "cell_type": "markdown",
   "metadata": {},
   "source": [
    "The controls to apply:"
   ]
  },
  {
   "cell_type": "code",
   "execution_count": null,
   "metadata": {},
   "outputs": [],
   "source": [
    "save_control =\n",
    "    MLJIteration.skip(Save(joinpath(DIR, \"mnist.jls\")), predicate=3)\n",
    "\n",
    "controls=[\n",
    "    Step(2),\n",
    "    Patience(3),\n",
    "    InvalidValue(),\n",
    "    TimeLimit(5/60),\n",
    "    save_control,\n",
    "    WithLossDo(),\n",
    "    WithLossDo(update_loss),\n",
    "    WithTrainingLossesDo(update_training_loss),\n",
    "    Callback(update_means),\n",
    "    WithIterationsDo(update_epochs),\n",
    "];"
   ]
  },
  {
   "cell_type": "markdown",
   "metadata": {},
   "source": [
    "The \"self-iterating\" classifier:"
   ]
  },
  {
   "cell_type": "code",
   "execution_count": null,
   "metadata": {},
   "outputs": [],
   "source": [
    "iterated_clf = IteratedModel(\n",
    "    clf,\n",
    "    controls=controls,\n",
    "    resampling=Holdout(fraction_train=0.7),\n",
    "    measure=log_loss,\n",
    ")"
   ]
  },
  {
   "cell_type": "markdown",
   "metadata": {},
   "source": [
    "### Binding the wrapped model to data:"
   ]
  },
  {
   "cell_type": "code",
   "execution_count": null,
   "metadata": {},
   "outputs": [],
   "source": [
    "mach = machine(iterated_clf, images, labels);"
   ]
  },
  {
   "cell_type": "markdown",
   "metadata": {},
   "source": [
    "### Training"
   ]
  },
  {
   "cell_type": "code",
   "execution_count": null,
   "metadata": {},
   "outputs": [],
   "source": [
    "fit!(mach, rows=train);"
   ]
  },
  {
   "cell_type": "markdown",
   "metadata": {},
   "source": [
    "### Comparison of the training and out-of-sample losses:"
   ]
  },
  {
   "cell_type": "code",
   "execution_count": null,
   "metadata": {},
   "outputs": [],
   "source": [
    "plot(\n",
    "    epochs,\n",
    "    losses,\n",
    "    xlab = \"epoch\",\n",
    "    ylab = \"cross entropy\",\n",
    "    label=\"out-of-sample\",\n",
    ")\n",
    "plot!(epochs, training_losses, label=\"training\")\n",
    "\n",
    "savefig(joinpath(DIR, \"loss.png\"))"
   ]
  },
  {
   "cell_type": "markdown",
   "metadata": {},
   "source": [
    "### Evolution of weights"
   ]
  },
  {
   "cell_type": "code",
   "execution_count": null,
   "metadata": {},
   "outputs": [],
   "source": [
    "n_epochs =  length(losses)\n",
    "n_parameters = div(length(parameter_means), n_epochs)\n",
    "parameter_means2 = reshape(copy(parameter_means), n_parameters, n_epochs)'\n",
    "plot(\n",
    "    epochs,\n",
    "    parameter_means2,\n",
    "    title=\"Flux parameter mean weights\",\n",
    "    xlab = \"epoch\",\n",
    ")"
   ]
  },
  {
   "cell_type": "markdown",
   "metadata": {},
   "source": [
    "**Note.** The higher the number, the deeper the layer we are weight-averaging."
   ]
  },
  {
   "cell_type": "code",
   "execution_count": null,
   "metadata": {},
   "outputs": [],
   "source": [
    "savefig(joinpath(DIR, \"weights.png\"))"
   ]
  },
  {
   "cell_type": "markdown",
   "metadata": {},
   "source": [
    "### Retrieving a snapshot for a prediction:"
   ]
  },
  {
   "cell_type": "code",
   "execution_count": null,
   "metadata": {},
   "outputs": [],
   "source": [
    "mach2 = machine(joinpath(DIR, \"mnist3.jls\"))\n",
    "predict_mode(mach2, images[501:503])"
   ]
  },
  {
   "cell_type": "markdown",
   "metadata": {},
   "source": [
    "### Restarting training"
   ]
  },
  {
   "cell_type": "markdown",
   "metadata": {},
   "source": [
    "Mutating `iterated_clf.controls` or `clf.epochs` (which is otherwise\n",
    "ignored) will allow you to restart training from where it left off."
   ]
  },
  {
   "cell_type": "code",
   "execution_count": null,
   "metadata": {},
   "outputs": [],
   "source": [
    "iterated_clf.controls[2] = Patience(4)\n",
    "fit!(mach, rows=train)\n",
    "\n",
    "plot(\n",
    "    epochs,\n",
    "    losses,\n",
    "    xlab = \"epoch\",\n",
    "    ylab = \"cross entropy\",\n",
    "    label=\"out-of-sample\",\n",
    ")\n",
    "plot!(epochs, training_losses, label=\"training\")"
   ]
  },
  {
   "cell_type": "markdown",
   "metadata": {},
   "source": [
    "---\n",
    "\n",
    "*This notebook was generated using [Literate.jl](https://github.com/fredrikekre/Literate.jl).*"
   ]
  }
 ],
 "metadata": {
  "kernelspec": {
   "display_name": "Julia 1.10.3",
   "language": "julia",
   "name": "julia-1.10"
  },
  "language_info": {
   "file_extension": ".jl",
   "mimetype": "application/julia",
   "name": "julia",
   "version": "1.10.3"
  }
 },
 "nbformat": 4,
 "nbformat_minor": 4
}
