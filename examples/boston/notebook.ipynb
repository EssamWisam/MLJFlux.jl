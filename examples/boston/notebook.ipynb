{
 "cells": [
  {
   "cell_type": "markdown",
   "metadata": {},
   "source": [
    "# Building an MLJFlux regression model for the Boston house\n",
    "# price dataset"
   ]
  },
  {
   "cell_type": "code",
   "execution_count": 2,
   "metadata": {},
   "outputs": [
    {
     "name": "stderr",
     "output_type": "stream",
     "text": [
      "\u001b[32m\u001b[1m  Activating\u001b[22m\u001b[39m environment at `~/GoogleDrive/Julia/MLJ/MLJFlux/examples/boston/Project.toml`\n"
     ]
    }
   ],
   "source": [
    "using Pkg\n",
    "Pkg.activate(@__DIR__)\n",
    "Pkg.instantiate()"
   ]
  },
  {
   "cell_type": "markdown",
   "metadata": {},
   "source": [
    "**Julia version** is assumed to be 1.6.*"
   ]
  },
  {
   "cell_type": "code",
   "execution_count": 3,
   "metadata": {},
   "outputs": [],
   "source": [
    "using MLJ\n",
    "using MLJFlux\n",
    "using Flux\n",
    "using Plots"
   ]
  },
  {
   "cell_type": "markdown",
   "metadata": {},
   "source": [
    "This tutorial uses MLJ's `IteratedModel` wrapper to transform the\n",
    "MLJFlux `NeuralNetworkRegressor` into a model that **automatically\n",
    "selects the number of epochs** required to optimize an out-of-sample\n",
    "loss."
   ]
  },
  {
   "cell_type": "markdown",
   "metadata": {},
   "source": [
    "We also show how to include the model in a **pipeline** to carry out\n",
    "standardization of the features and target."
   ]
  },
  {
   "cell_type": "markdown",
   "metadata": {},
   "source": [
    "## Loading data"
   ]
  },
  {
   "cell_type": "code",
   "execution_count": 4,
   "metadata": {},
   "outputs": [],
   "source": [
    "data = OpenML.load(531); # Loads from https://www.openml.org/d/531"
   ]
  },
  {
   "cell_type": "markdown",
   "metadata": {},
   "source": [
    "The target `y` is `:MEDV` and everything else except `:CHAS` goes\n",
    "into the features `X`:"
   ]
  },
  {
   "cell_type": "code",
   "execution_count": 5,
   "metadata": {},
   "outputs": [],
   "source": [
    "y, X = unpack(data, ==(:MEDV), !=(:CHAS); rng=123);"
   ]
  },
  {
   "cell_type": "markdown",
   "metadata": {},
   "source": [
    "We specified the seed `rng` to shuffle the observations. The Charles\n",
    "River dummy variable `:CHAS` is dropped, as not deemed to be\n",
    "relevant."
   ]
  },
  {
   "cell_type": "markdown",
   "metadata": {},
   "source": [
    "Inspecting the scientific types:"
   ]
  },
  {
   "cell_type": "code",
   "execution_count": 6,
   "metadata": {},
   "outputs": [
    {
     "data": {
      "text/plain": [
       "AbstractVector{Continuous} (alias for AbstractArray{Continuous, 1})"
      ]
     },
     "execution_count": 6,
     "metadata": {},
     "output_type": "execute_result"
    }
   ],
   "source": [
    "scitype(y)"
   ]
  },
  {
   "cell_type": "code",
   "execution_count": 7,
   "metadata": {},
   "outputs": [
    {
     "data": {
      "text/plain": [
       "┌─────────┬───────────────┬──────────────────────────────────┐\n",
       "│\u001b[22m names   \u001b[0m│\u001b[22m scitypes      \u001b[0m│\u001b[22m types                            \u001b[0m│\n",
       "├─────────┼───────────────┼──────────────────────────────────┤\n",
       "│ CRIM    │ Continuous    │ Float64                          │\n",
       "│ ZN      │ Continuous    │ Float64                          │\n",
       "│ INDUS   │ Continuous    │ Float64                          │\n",
       "│ NOX     │ Continuous    │ Float64                          │\n",
       "│ RM      │ Continuous    │ Float64                          │\n",
       "│ AGE     │ Continuous    │ Float64                          │\n",
       "│ DIS     │ Continuous    │ Float64                          │\n",
       "│ RAD     │ Multiclass{9} │ CategoricalValue{String, UInt32} │\n",
       "│ TAX     │ Continuous    │ Float64                          │\n",
       "│ PTRATIO │ Continuous    │ Float64                          │\n",
       "│ B       │ Continuous    │ Float64                          │\n",
       "│ LSTAT   │ Continuous    │ Float64                          │\n",
       "└─────────┴───────────────┴──────────────────────────────────┘\n"
      ]
     },
     "execution_count": 7,
     "metadata": {},
     "output_type": "execute_result"
    }
   ],
   "source": [
    "schema(X)"
   ]
  },
  {
   "cell_type": "markdown",
   "metadata": {},
   "source": [
    "We'll regard `:RAD` (index of accessibility to radial highways) as\n",
    "`Continuous` as MLJFlux models don't handle ordered factors:"
   ]
  },
  {
   "cell_type": "code",
   "execution_count": 8,
   "metadata": {},
   "outputs": [],
   "source": [
    "X = coerce(X, :RAD => Continuous);"
   ]
  },
  {
   "cell_type": "markdown",
   "metadata": {},
   "source": [
    "Let's split off a test set for final testing:"
   ]
  },
  {
   "cell_type": "code",
   "execution_count": 9,
   "metadata": {},
   "outputs": [],
   "source": [
    "(X, Xtest), (y, ytest) = partition((X, y), 0.7, multi=true);"
   ]
  },
  {
   "cell_type": "markdown",
   "metadata": {},
   "source": [
    "## Defining a builder"
   ]
  },
  {
   "cell_type": "markdown",
   "metadata": {},
   "source": [
    "In the macro call below, `n_in` is expected to represent the number\n",
    "of inputs features and `rng` a RNG (builders are generic, ie can be\n",
    "applied to data with any number of input features):"
   ]
  },
  {
   "cell_type": "code",
   "execution_count": 10,
   "metadata": {},
   "outputs": [
    {
     "data": {
      "text/plain": [
       "GenericBuilder{#1#2}\n"
      ]
     },
     "execution_count": 10,
     "metadata": {},
     "output_type": "execute_result"
    }
   ],
   "source": [
    "builder = MLJFlux.@builder begin\n",
    "    init=Flux.glorot_uniform(rng)\n",
    "    Chain(Dense(n_in, 64, relu, init=init),\n",
    "          Dense(64, 32, relu, init=init),\n",
    "          Dense(32, 1, init=init))\n",
    "end"
   ]
  },
  {
   "cell_type": "markdown",
   "metadata": {},
   "source": [
    "## Defining a MLJFlux model:"
   ]
  },
  {
   "cell_type": "code",
   "execution_count": 11,
   "metadata": {},
   "outputs": [
    {
     "name": "stderr",
     "output_type": "stream",
     "text": [
      "┌ Info: For silent loading, specify `verbosity=0`. \n",
      "└ @ Main /Users/anthony/.julia/packages/MLJModels/Ci1zC/src/loading.jl:168\n"
     ]
    },
    {
     "name": "stdout",
     "output_type": "stream",
     "text": [
      "import MLJFlux ✔\n"
     ]
    },
    {
     "data": {
      "text/plain": [
       "NeuralNetworkRegressor(\n",
       "    builder = GenericBuilder(\n",
       "            apply = var\"#1#2\"()),\n",
       "    optimiser = ADAM(0.001, (0.9, 0.999), IdDict{Any, Any}()),\n",
       "    loss = Flux.Losses.mse,\n",
       "    epochs = 20,\n",
       "    batch_size = 1,\n",
       "    lambda = 0.0,\n",
       "    alpha = 0.0,\n",
       "    rng = 123,\n",
       "    optimiser_changes_trigger_retraining = false,\n",
       "    acceleration = CPU1{Nothing}(nothing))"
      ]
     },
     "execution_count": 11,
     "metadata": {},
     "output_type": "execute_result"
    }
   ],
   "source": [
    "NeuralNetworkRegressor = @load NeuralNetworkRegressor\n",
    "    model = NeuralNetworkRegressor(builder=builder,\n",
    "                                   rng=123,\n",
    "                                   epochs=20)"
   ]
  },
  {
   "cell_type": "markdown",
   "metadata": {},
   "source": [
    "## Standardization"
   ]
  },
  {
   "cell_type": "markdown",
   "metadata": {},
   "source": [
    "The following wraps our regressor in feature and target standardizations:"
   ]
  },
  {
   "cell_type": "code",
   "execution_count": 12,
   "metadata": {},
   "outputs": [
    {
     "data": {
      "text/plain": [
       "DeterministicPipeline(\n",
       "    standardizer = Standardizer(\n",
       "            features = Symbol[],\n",
       "            ignore = false,\n",
       "            ordered_factor = false,\n",
       "            count = false),\n",
       "    transformed_target_model_deterministic = TransformedTargetModelDeterministic(\n",
       "            model = NeuralNetworkRegressor{GenericBuilder{#1#2},…},\n",
       "            target = Standardizer,\n",
       "            inverse = nothing,\n",
       "            cache = true),\n",
       "    cache = true)"
      ]
     },
     "execution_count": 12,
     "metadata": {},
     "output_type": "execute_result"
    }
   ],
   "source": [
    "pipe = Standardizer |> TransformedTargetModel(model, target=Standardizer)"
   ]
  },
  {
   "cell_type": "markdown",
   "metadata": {},
   "source": [
    "Notice that our original neural network model is now a\n",
    "hyper-parameter of the composite `pipe`, with the automatically\n",
    "generated name, `:neural_network_regressor`."
   ]
  },
  {
   "cell_type": "markdown",
   "metadata": {},
   "source": [
    "## Choosing a learning rate"
   ]
  },
  {
   "cell_type": "markdown",
   "metadata": {},
   "source": [
    "Let's see how the training losses look for the default optimiser. For\n",
    "MLJFlux models, `fit!` will print these losses if we bump the\n",
    "verbosity level (default is always 1):"
   ]
  },
  {
   "cell_type": "code",
   "execution_count": 13,
   "metadata": {},
   "outputs": [
    {
     "name": "stderr",
     "output_type": "stream",
     "text": [
      "┌ Info: Training Machine{DeterministicPipeline{NamedTuple{,…},…},…}.\n",
      "└ @ MLJBase /Users/anthony/.julia/packages/MLJBase/GxHVg/src/machines.jl:464\n",
      "┌ Info: Training Machine{Standardizer,…}.\n",
      "└ @ MLJBase /Users/anthony/.julia/packages/MLJBase/GxHVg/src/machines.jl:464\n",
      "┌ Info: Features standarized: \n",
      "└ @ MLJModels /Users/anthony/.julia/packages/MLJModels/Ci1zC/src/builtins/Transformers.jl:825\n",
      "┌ Info:   :CRIM    mu=3.689791468926554  sigma=8.486186608186063\n",
      "└ @ MLJModels /Users/anthony/.julia/packages/MLJModels/Ci1zC/src/builtins/Transformers.jl:836\n",
      "┌ Info:   :ZN    mu=10.392655367231638  sigma=22.078531026900794\n",
      "└ @ MLJModels /Users/anthony/.julia/packages/MLJModels/Ci1zC/src/builtins/Transformers.jl:836\n",
      "┌ Info:   :INDUS    mu=11.477372881355933  sigma=6.83192917494762\n",
      "└ @ MLJModels /Users/anthony/.julia/packages/MLJModels/Ci1zC/src/builtins/Transformers.jl:836\n",
      "┌ Info:   :NOX    mu=0.5619451977401131  sigma=0.11706875291419269\n",
      "└ @ MLJModels /Users/anthony/.julia/packages/MLJModels/Ci1zC/src/builtins/Transformers.jl:836\n",
      "┌ Info:   :RM    mu=6.256881355932204  sigma=0.655703581671515\n",
      "└ @ MLJModels /Users/anthony/.julia/packages/MLJModels/Ci1zC/src/builtins/Transformers.jl:836\n",
      "┌ Info:   :AGE    mu=69.98474576271187  sigma=27.70464405221309\n",
      "└ @ MLJModels /Users/anthony/.julia/packages/MLJModels/Ci1zC/src/builtins/Transformers.jl:836\n",
      "┌ Info:   :DIS    mu=3.704779096045197  sigma=2.018034269570148\n",
      "└ @ MLJModels /Users/anthony/.julia/packages/MLJModels/Ci1zC/src/builtins/Transformers.jl:836\n",
      "┌ Info:   :RAD    mu=5.72316384180791  sigma=2.4534591735797426\n",
      "└ @ MLJModels /Users/anthony/.julia/packages/MLJModels/Ci1zC/src/builtins/Transformers.jl:836\n",
      "┌ Info:   :TAX    mu=415.97457627118644  sigma=172.0508915025351\n",
      "└ @ MLJModels /Users/anthony/.julia/packages/MLJModels/Ci1zC/src/builtins/Transformers.jl:836\n",
      "┌ Info:   :PTRATIO    mu=18.54971751412429  sigma=2.176727910395866\n",
      "└ @ MLJModels /Users/anthony/.julia/packages/MLJModels/Ci1zC/src/builtins/Transformers.jl:836\n",
      "┌ Info:   :B    mu=354.88437853107337  sigma=91.70747435121616\n",
      "└ @ MLJModels /Users/anthony/.julia/packages/MLJModels/Ci1zC/src/builtins/Transformers.jl:836\n",
      "┌ Info:   :LSTAT    mu=12.997796610169493  sigma=7.067143799083826\n",
      "└ @ MLJModels /Users/anthony/.julia/packages/MLJModels/Ci1zC/src/builtins/Transformers.jl:836\n",
      "┌ Info: Training Machine{TransformedTargetModelDeterministic{NeuralNetworkRegressor{GenericBuilder{#1#2},…}},…}.\n",
      "└ @ MLJBase /Users/anthony/.julia/packages/MLJBase/GxHVg/src/machines.jl:464\n",
      "┌ Info: Training Machine{Standardizer,…}.\n",
      "└ @ MLJBase /Users/anthony/.julia/packages/MLJBase/GxHVg/src/machines.jl:464\n",
      "┌ Info: Training Machine{NeuralNetworkRegressor{GenericBuilder{#1#2},…},…}.\n",
      "└ @ MLJBase /Users/anthony/.julia/packages/MLJBase/GxHVg/src/machines.jl:464\n",
      "┌ Info: Loss is 0.3687\n",
      "└ @ MLJFlux /Users/anthony/.julia/packages/MLJFlux/ex3rh/src/core.jl:127\n",
      "┌ Info: Loss is 0.2216\n",
      "└ @ MLJFlux /Users/anthony/.julia/packages/MLJFlux/ex3rh/src/core.jl:127\n",
      "┌ Info: Loss is 0.1775\n",
      "└ @ MLJFlux /Users/anthony/.julia/packages/MLJFlux/ex3rh/src/core.jl:127\n",
      "┌ Info: Loss is 0.1519\n",
      "└ @ MLJFlux /Users/anthony/.julia/packages/MLJFlux/ex3rh/src/core.jl:127\n",
      "┌ Info: Loss is 0.1322\n",
      "└ @ MLJFlux /Users/anthony/.julia/packages/MLJFlux/ex3rh/src/core.jl:127\n",
      "┌ Info: Loss is 0.117\n",
      "└ @ MLJFlux /Users/anthony/.julia/packages/MLJFlux/ex3rh/src/core.jl:127\n",
      "┌ Info: Loss is 0.1064\n",
      "└ @ MLJFlux /Users/anthony/.julia/packages/MLJFlux/ex3rh/src/core.jl:127\n",
      "┌ Info: Loss is 0.09521\n",
      "└ @ MLJFlux /Users/anthony/.julia/packages/MLJFlux/ex3rh/src/core.jl:127\n",
      "┌ Info: Loss is 0.08949\n",
      "└ @ MLJFlux /Users/anthony/.julia/packages/MLJFlux/ex3rh/src/core.jl:127\n",
      "┌ Info: Loss is 0.08277\n",
      "└ @ MLJFlux /Users/anthony/.julia/packages/MLJFlux/ex3rh/src/core.jl:127\n",
      "┌ Info: Loss is 0.07997\n",
      "└ @ MLJFlux /Users/anthony/.julia/packages/MLJFlux/ex3rh/src/core.jl:127\n",
      "┌ Info: Loss is 0.07727\n",
      "└ @ MLJFlux /Users/anthony/.julia/packages/MLJFlux/ex3rh/src/core.jl:127\n",
      "┌ Info: Loss is 0.0719\n",
      "└ @ MLJFlux /Users/anthony/.julia/packages/MLJFlux/ex3rh/src/core.jl:127\n",
      "┌ Info: Loss is 0.07051\n",
      "└ @ MLJFlux /Users/anthony/.julia/packages/MLJFlux/ex3rh/src/core.jl:127\n",
      "┌ Info: Loss is 0.06697\n",
      "└ @ MLJFlux /Users/anthony/.julia/packages/MLJFlux/ex3rh/src/core.jl:127\n",
      "┌ Info: Loss is 0.06423\n",
      "└ @ MLJFlux /Users/anthony/.julia/packages/MLJFlux/ex3rh/src/core.jl:127\n",
      "┌ Info: Loss is 0.06024\n",
      "└ @ MLJFlux /Users/anthony/.julia/packages/MLJFlux/ex3rh/src/core.jl:127\n",
      "┌ Info: Loss is 0.05974\n",
      "└ @ MLJFlux /Users/anthony/.julia/packages/MLJFlux/ex3rh/src/core.jl:127\n",
      "┌ Info: Loss is 0.05666\n",
      "└ @ MLJFlux /Users/anthony/.julia/packages/MLJFlux/ex3rh/src/core.jl:127\n",
      "┌ Info: Loss is 0.05577\n",
      "└ @ MLJFlux /Users/anthony/.julia/packages/MLJFlux/ex3rh/src/core.jl:127\n"
     ]
    },
    {
     "data": {
      "text/plain": [
       "Machine{DeterministicPipeline{NamedTuple{,…},…},…} trained 1 time; caches data\n",
       "  model: MLJBase.DeterministicPipeline{NamedTuple{(:standardizer, :transformed_target_model_deterministic), Tuple{Unsupervised, Deterministic}}, MLJModelInterface.predict}\n",
       "  args: \n",
       "    1:\tSource @768 ⏎ `Table{AbstractVector{Continuous}}`\n",
       "    2:\tSource @147 ⏎ `AbstractVector{Continuous}`\n"
      ]
     },
     "execution_count": 13,
     "metadata": {},
     "output_type": "execute_result"
    }
   ],
   "source": [
    "mach = machine(pipe, X, y)\n",
    "fit!(mach, verbosity=2)"
   ]
  },
  {
   "cell_type": "markdown",
   "metadata": {},
   "source": [
    "They are also extractable from the training report (which includes\n",
    "the pre-train loss):"
   ]
  },
  {
   "cell_type": "code",
   "execution_count": 14,
   "metadata": {},
   "outputs": [
    {
     "data": {
      "text/plain": [
       "21-element Vector{Float64}:\n",
       " 1.2838145640873329\n",
       " 0.3686760957021546\n",
       " 0.2215979652158559\n",
       " 0.17754900774597876\n",
       " 0.15194120480021098\n",
       " 0.13221864530853797\n",
       " 0.11697435053172738\n",
       " 0.10636408931390769\n",
       " 0.095208490765527\n",
       " 0.08948774179997945\n",
       " 0.08276797005304384\n",
       " 0.07997044943380421\n",
       " 0.07726719934689869\n",
       " 0.07190359246973332\n",
       " 0.07050712214306228\n",
       " 0.0669674161856798\n",
       " 0.06422548257753624\n",
       " 0.06024360408282619\n",
       " 0.05974192388977129\n",
       " 0.05666044439895874\n",
       " 0.055767894928594526"
      ]
     },
     "execution_count": 14,
     "metadata": {},
     "output_type": "execute_result"
    }
   ],
   "source": [
    "report(mach).transformed_target_model_deterministic.model.training_losses"
   ]
  },
  {
   "cell_type": "markdown",
   "metadata": {},
   "source": [
    "Next, let's visually compare a few learning rates:"
   ]
  },
  {
   "cell_type": "code",
   "execution_count": 15,
   "metadata": {},
   "outputs": [
    {
     "data": {
      "text/plain": [
       "5-element Vector{Float64}:\n",
       " 5.0e-5\n",
       " 0.0001\n",
       " 0.005\n",
       " 0.001\n",
       " 0.05"
      ]
     },
     "execution_count": 15,
     "metadata": {},
     "output_type": "execute_result"
    }
   ],
   "source": [
    "plt = plot()\n",
    "rates = [5e-5, 1e-4, 0.005, 0.001, 0.05]"
   ]
  },
  {
   "cell_type": "markdown",
   "metadata": {},
   "source": [
    "By default, changing only the optimiser will not trigger a\n",
    "cold-restart when we `fit!` (to allow for adaptive learning rate\n",
    "control). So we call `fit!` with the `force=true`\n",
    "option. (Alternatively, one can change the hyper-parameter\n",
    "`pipe.neural_network_regressor.optimiser_changes_trigger_retraining`\n",
    "to `true`.)"
   ]
  },
  {
   "cell_type": "markdown",
   "metadata": {},
   "source": [
    "We'll skip the first few losses to get a better vertical scale in\n",
    "our plot."
   ]
  },
  {
   "cell_type": "code",
   "execution_count": 16,
   "metadata": {},
   "outputs": [
    {
     "data": {
      "image/svg+xml": [
       "<?xml version=\"1.0\" encoding=\"utf-8\"?>\n",
       "<svg xmlns=\"http://www.w3.org/2000/svg\" xmlns:xlink=\"http://www.w3.org/1999/xlink\" width=\"600\" height=\"400\" viewBox=\"0 0 2400 1600\">\n",
       "<defs>\n",
       "  <clipPath id=\"clip480\">\n",
       "    <rect x=\"0\" y=\"0\" width=\"2400\" height=\"1600\"/>\n",
       "  </clipPath>\n",
       "</defs>\n",
       "<path clip-path=\"url(#clip480)\" d=\"\n",
       "M0 1600 L2400 1600 L2400 0 L0 0  Z\n",
       "  \" fill=\"#ffffff\" fill-rule=\"evenodd\" fill-opacity=\"1\"/>\n",
       "<defs>\n",
       "  <clipPath id=\"clip481\">\n",
       "    <rect x=\"480\" y=\"0\" width=\"1681\" height=\"1600\"/>\n",
       "  </clipPath>\n",
       "</defs>\n",
       "<path clip-path=\"url(#clip480)\" d=\"\n",
       "M156.598 1486.45 L2352.76 1486.45 L2352.76 47.2441 L156.598 47.2441  Z\n",
       "  \" fill=\"#ffffff\" fill-rule=\"evenodd\" fill-opacity=\"1\"/>\n",
       "<defs>\n",
       "  <clipPath id=\"clip482\">\n",
       "    <rect x=\"156\" y=\"47\" width=\"2197\" height=\"1440\"/>\n",
       "  </clipPath>\n",
       "</defs>\n",
       "<polyline clip-path=\"url(#clip482)\" style=\"stroke:#000000; stroke-linecap:butt; stroke-linejoin:round; stroke-width:2; stroke-opacity:0.1; fill:none\" points=\"\n",
       "  391.408,1486.45 391.408,47.2441 \n",
       "  \"/>\n",
       "<polyline clip-path=\"url(#clip482)\" style=\"stroke:#000000; stroke-linecap:butt; stroke-linejoin:round; stroke-width:2; stroke-opacity:0.1; fill:none\" points=\"\n",
       "  679.164,1486.45 679.164,47.2441 \n",
       "  \"/>\n",
       "<polyline clip-path=\"url(#clip482)\" style=\"stroke:#000000; stroke-linecap:butt; stroke-linejoin:round; stroke-width:2; stroke-opacity:0.1; fill:none\" points=\"\n",
       "  966.921,1486.45 966.921,47.2441 \n",
       "  \"/>\n",
       "<polyline clip-path=\"url(#clip482)\" style=\"stroke:#000000; stroke-linecap:butt; stroke-linejoin:round; stroke-width:2; stroke-opacity:0.1; fill:none\" points=\"\n",
       "  1254.68,1486.45 1254.68,47.2441 \n",
       "  \"/>\n",
       "<polyline clip-path=\"url(#clip482)\" style=\"stroke:#000000; stroke-linecap:butt; stroke-linejoin:round; stroke-width:2; stroke-opacity:0.1; fill:none\" points=\"\n",
       "  1542.43,1486.45 1542.43,47.2441 \n",
       "  \"/>\n",
       "<polyline clip-path=\"url(#clip482)\" style=\"stroke:#000000; stroke-linecap:butt; stroke-linejoin:round; stroke-width:2; stroke-opacity:0.1; fill:none\" points=\"\n",
       "  1830.19,1486.45 1830.19,47.2441 \n",
       "  \"/>\n",
       "<polyline clip-path=\"url(#clip482)\" style=\"stroke:#000000; stroke-linecap:butt; stroke-linejoin:round; stroke-width:2; stroke-opacity:0.1; fill:none\" points=\"\n",
       "  2117.95,1486.45 2117.95,47.2441 \n",
       "  \"/>\n",
       "<polyline clip-path=\"url(#clip480)\" style=\"stroke:#000000; stroke-linecap:butt; stroke-linejoin:round; stroke-width:4; stroke-opacity:1; fill:none\" points=\"\n",
       "  156.598,1486.45 2352.76,1486.45 \n",
       "  \"/>\n",
       "<polyline clip-path=\"url(#clip480)\" style=\"stroke:#000000; stroke-linecap:butt; stroke-linejoin:round; stroke-width:4; stroke-opacity:1; fill:none\" points=\"\n",
       "  391.408,1486.45 391.408,1467.55 \n",
       "  \"/>\n",
       "<polyline clip-path=\"url(#clip480)\" style=\"stroke:#000000; stroke-linecap:butt; stroke-linejoin:round; stroke-width:4; stroke-opacity:1; fill:none\" points=\"\n",
       "  679.164,1486.45 679.164,1467.55 \n",
       "  \"/>\n",
       "<polyline clip-path=\"url(#clip480)\" style=\"stroke:#000000; stroke-linecap:butt; stroke-linejoin:round; stroke-width:4; stroke-opacity:1; fill:none\" points=\"\n",
       "  966.921,1486.45 966.921,1467.55 \n",
       "  \"/>\n",
       "<polyline clip-path=\"url(#clip480)\" style=\"stroke:#000000; stroke-linecap:butt; stroke-linejoin:round; stroke-width:4; stroke-opacity:1; fill:none\" points=\"\n",
       "  1254.68,1486.45 1254.68,1467.55 \n",
       "  \"/>\n",
       "<polyline clip-path=\"url(#clip480)\" style=\"stroke:#000000; stroke-linecap:butt; stroke-linejoin:round; stroke-width:4; stroke-opacity:1; fill:none\" points=\"\n",
       "  1542.43,1486.45 1542.43,1467.55 \n",
       "  \"/>\n",
       "<polyline clip-path=\"url(#clip480)\" style=\"stroke:#000000; stroke-linecap:butt; stroke-linejoin:round; stroke-width:4; stroke-opacity:1; fill:none\" points=\"\n",
       "  1830.19,1486.45 1830.19,1467.55 \n",
       "  \"/>\n",
       "<polyline clip-path=\"url(#clip480)\" style=\"stroke:#000000; stroke-linecap:butt; stroke-linejoin:round; stroke-width:4; stroke-opacity:1; fill:none\" points=\"\n",
       "  2117.95,1486.45 2117.95,1467.55 \n",
       "  \"/>\n",
       "<path clip-path=\"url(#clip480)\" d=\"M363.144 1544.91 L379.463 1544.91 L379.463 1548.85 L357.519 1548.85 L357.519 1544.91 Q360.181 1542.16 364.764 1537.53 Q369.371 1532.88 370.551 1531.53 Q372.797 1529.01 373.676 1527.27 Q374.579 1525.51 374.579 1523.82 Q374.579 1521.07 372.634 1519.33 Q370.713 1517.6 367.611 1517.6 Q365.412 1517.6 362.959 1518.36 Q360.528 1519.13 357.75 1520.68 L357.75 1515.95 Q360.574 1514.82 363.028 1514.24 Q365.482 1513.66 367.519 1513.66 Q372.889 1513.66 376.084 1516.35 Q379.278 1519.03 379.278 1523.52 Q379.278 1525.65 378.468 1527.57 Q377.681 1529.47 375.574 1532.07 Q374.996 1532.74 371.894 1535.95 Q368.792 1539.15 363.144 1544.91 Z\" fill=\"#000000\" fill-rule=\"evenodd\" fill-opacity=\"1\" /><path clip-path=\"url(#clip480)\" d=\"M389.278 1542.97 L394.162 1542.97 L394.162 1548.85 L389.278 1548.85 L389.278 1542.97 Z\" fill=\"#000000\" fill-rule=\"evenodd\" fill-opacity=\"1\" /><path clip-path=\"url(#clip480)\" d=\"M404.394 1514.29 L422.75 1514.29 L422.75 1518.22 L408.676 1518.22 L408.676 1526.7 Q409.694 1526.35 410.713 1526.19 Q411.732 1526 412.75 1526 Q418.537 1526 421.917 1529.17 Q425.296 1532.34 425.296 1537.76 Q425.296 1543.34 421.824 1546.44 Q418.352 1549.52 412.032 1549.52 Q409.857 1549.52 407.588 1549.15 Q405.343 1548.78 402.935 1548.04 L402.935 1543.34 Q405.019 1544.47 407.241 1545.03 Q409.463 1545.58 411.94 1545.58 Q415.944 1545.58 418.282 1543.48 Q420.62 1541.37 420.62 1537.76 Q420.62 1534.15 418.282 1532.04 Q415.944 1529.94 411.94 1529.94 Q410.065 1529.94 408.19 1530.35 Q406.338 1530.77 404.394 1531.65 L404.394 1514.29 Z\" fill=\"#000000\" fill-rule=\"evenodd\" fill-opacity=\"1\" /><path clip-path=\"url(#clip480)\" d=\"M646.329 1514.29 L664.685 1514.29 L664.685 1518.22 L650.611 1518.22 L650.611 1526.7 Q651.629 1526.35 652.648 1526.19 Q653.667 1526 654.685 1526 Q660.472 1526 663.852 1529.17 Q667.231 1532.34 667.231 1537.76 Q667.231 1543.34 663.759 1546.44 Q660.287 1549.52 653.967 1549.52 Q651.792 1549.52 649.523 1549.15 Q647.278 1548.78 644.87 1548.04 L644.87 1543.34 Q646.954 1544.47 649.176 1545.03 Q651.398 1545.58 653.875 1545.58 Q657.879 1545.58 660.217 1543.48 Q662.555 1541.37 662.555 1537.76 Q662.555 1534.15 660.217 1532.04 Q657.879 1529.94 653.875 1529.94 Q652 1529.94 650.125 1530.35 Q648.273 1530.77 646.329 1531.65 L646.329 1514.29 Z\" fill=\"#000000\" fill-rule=\"evenodd\" fill-opacity=\"1\" /><path clip-path=\"url(#clip480)\" d=\"M676.444 1542.97 L681.328 1542.97 L681.328 1548.85 L676.444 1548.85 L676.444 1542.97 Z\" fill=\"#000000\" fill-rule=\"evenodd\" fill-opacity=\"1\" /><path clip-path=\"url(#clip480)\" d=\"M701.513 1517.37 Q697.902 1517.37 696.074 1520.93 Q694.268 1524.47 694.268 1531.6 Q694.268 1538.71 696.074 1542.27 Q697.902 1545.82 701.513 1545.82 Q705.148 1545.82 706.953 1542.27 Q708.782 1538.71 708.782 1531.6 Q708.782 1524.47 706.953 1520.93 Q705.148 1517.37 701.513 1517.37 M701.513 1513.66 Q707.324 1513.66 710.379 1518.27 Q713.458 1522.85 713.458 1531.6 Q713.458 1540.33 710.379 1544.94 Q707.324 1549.52 701.513 1549.52 Q695.703 1549.52 692.625 1544.94 Q689.569 1540.33 689.569 1531.6 Q689.569 1522.85 692.625 1518.27 Q695.703 1513.66 701.513 1513.66 Z\" fill=\"#000000\" fill-rule=\"evenodd\" fill-opacity=\"1\" /><path clip-path=\"url(#clip480)\" d=\"M933.24 1514.29 L955.462 1514.29 L955.462 1516.28 L942.916 1548.85 L938.032 1548.85 L949.837 1518.22 L933.24 1518.22 L933.24 1514.29 Z\" fill=\"#000000\" fill-rule=\"evenodd\" fill-opacity=\"1\" /><path clip-path=\"url(#clip480)\" d=\"M964.583 1542.97 L969.467 1542.97 L969.467 1548.85 L964.583 1548.85 L964.583 1542.97 Z\" fill=\"#000000\" fill-rule=\"evenodd\" fill-opacity=\"1\" /><path clip-path=\"url(#clip480)\" d=\"M979.698 1514.29 L998.055 1514.29 L998.055 1518.22 L983.981 1518.22 L983.981 1526.7 Q984.999 1526.35 986.018 1526.19 Q987.036 1526 988.055 1526 Q993.842 1526 997.221 1529.17 Q1000.6 1532.34 1000.6 1537.76 Q1000.6 1543.34 997.129 1546.44 Q993.657 1549.52 987.337 1549.52 Q985.161 1549.52 982.893 1549.15 Q980.647 1548.78 978.24 1548.04 L978.24 1543.34 Q980.323 1544.47 982.545 1545.03 Q984.768 1545.58 987.245 1545.58 Q991.249 1545.58 993.587 1543.48 Q995.925 1541.37 995.925 1537.76 Q995.925 1534.15 993.587 1532.04 Q991.249 1529.94 987.245 1529.94 Q985.37 1529.94 983.495 1530.35 Q981.643 1530.77 979.698 1531.65 L979.698 1514.29 Z\" fill=\"#000000\" fill-rule=\"evenodd\" fill-opacity=\"1\" /><path clip-path=\"url(#clip480)\" d=\"M1206.75 1544.91 L1214.39 1544.91 L1214.39 1518.55 L1206.08 1520.21 L1206.08 1515.95 L1214.34 1514.29 L1219.02 1514.29 L1219.02 1544.91 L1226.66 1544.91 L1226.66 1548.85 L1206.75 1548.85 L1206.75 1544.91 Z\" fill=\"#000000\" fill-rule=\"evenodd\" fill-opacity=\"1\" /><path clip-path=\"url(#clip480)\" d=\"M1246.1 1517.37 Q1242.49 1517.37 1240.66 1520.93 Q1238.86 1524.47 1238.86 1531.6 Q1238.86 1538.71 1240.66 1542.27 Q1242.49 1545.82 1246.1 1545.82 Q1249.73 1545.82 1251.54 1542.27 Q1253.37 1538.71 1253.37 1531.6 Q1253.37 1524.47 1251.54 1520.93 Q1249.73 1517.37 1246.1 1517.37 M1246.1 1513.66 Q1251.91 1513.66 1254.97 1518.27 Q1258.05 1522.85 1258.05 1531.6 Q1258.05 1540.33 1254.97 1544.94 Q1251.91 1549.52 1246.1 1549.52 Q1240.29 1549.52 1237.21 1544.94 Q1234.16 1540.33 1234.16 1531.6 Q1234.16 1522.85 1237.21 1518.27 Q1240.29 1513.66 1246.1 1513.66 Z\" fill=\"#000000\" fill-rule=\"evenodd\" fill-opacity=\"1\" /><path clip-path=\"url(#clip480)\" d=\"M1266.26 1542.97 L1271.15 1542.97 L1271.15 1548.85 L1266.26 1548.85 L1266.26 1542.97 Z\" fill=\"#000000\" fill-rule=\"evenodd\" fill-opacity=\"1\" /><path clip-path=\"url(#clip480)\" d=\"M1291.33 1517.37 Q1287.72 1517.37 1285.89 1520.93 Q1284.09 1524.47 1284.09 1531.6 Q1284.09 1538.71 1285.89 1542.27 Q1287.72 1545.82 1291.33 1545.82 Q1294.97 1545.82 1296.77 1542.27 Q1298.6 1538.71 1298.6 1531.6 Q1298.6 1524.47 1296.77 1520.93 Q1294.97 1517.37 1291.33 1517.37 M1291.33 1513.66 Q1297.14 1513.66 1300.2 1518.27 Q1303.28 1522.85 1303.28 1531.6 Q1303.28 1540.33 1300.2 1544.94 Q1297.14 1549.52 1291.33 1549.52 Q1285.52 1549.52 1282.44 1544.94 Q1279.39 1540.33 1279.39 1531.6 Q1279.39 1522.85 1282.44 1518.27 Q1285.52 1513.66 1291.33 1513.66 Z\" fill=\"#000000\" fill-rule=\"evenodd\" fill-opacity=\"1\" /><path clip-path=\"url(#clip480)\" d=\"M1495 1544.91 L1502.64 1544.91 L1502.64 1518.55 L1494.33 1520.21 L1494.33 1515.95 L1502.6 1514.29 L1507.27 1514.29 L1507.27 1544.91 L1514.91 1544.91 L1514.91 1548.85 L1495 1548.85 L1495 1544.91 Z\" fill=\"#000000\" fill-rule=\"evenodd\" fill-opacity=\"1\" /><path clip-path=\"url(#clip480)\" d=\"M1528.38 1544.91 L1544.7 1544.91 L1544.7 1548.85 L1522.76 1548.85 L1522.76 1544.91 Q1525.42 1542.16 1530 1537.53 Q1534.61 1532.88 1535.79 1531.53 Q1538.04 1529.01 1538.92 1527.27 Q1539.82 1525.51 1539.82 1523.82 Q1539.82 1521.07 1537.87 1519.33 Q1535.95 1517.6 1532.85 1517.6 Q1530.65 1517.6 1528.2 1518.36 Q1525.77 1519.13 1522.99 1520.68 L1522.99 1515.95 Q1525.81 1514.82 1528.27 1514.24 Q1530.72 1513.66 1532.76 1513.66 Q1538.13 1513.66 1541.32 1516.35 Q1544.52 1519.03 1544.52 1523.52 Q1544.52 1525.65 1543.71 1527.57 Q1542.92 1529.47 1540.81 1532.07 Q1540.23 1532.74 1537.13 1535.95 Q1534.03 1539.15 1528.38 1544.91 Z\" fill=\"#000000\" fill-rule=\"evenodd\" fill-opacity=\"1\" /><path clip-path=\"url(#clip480)\" d=\"M1554.52 1542.97 L1559.4 1542.97 L1559.4 1548.85 L1554.52 1548.85 L1554.52 1542.97 Z\" fill=\"#000000\" fill-rule=\"evenodd\" fill-opacity=\"1\" /><path clip-path=\"url(#clip480)\" d=\"M1569.63 1514.29 L1587.99 1514.29 L1587.99 1518.22 L1573.91 1518.22 L1573.91 1526.7 Q1574.93 1526.35 1575.95 1526.19 Q1576.97 1526 1577.99 1526 Q1583.78 1526 1587.16 1529.17 Q1590.54 1532.34 1590.54 1537.76 Q1590.54 1543.34 1587.06 1546.44 Q1583.59 1549.52 1577.27 1549.52 Q1575.1 1549.52 1572.83 1549.15 Q1570.58 1548.78 1568.17 1548.04 L1568.17 1543.34 Q1570.26 1544.47 1572.48 1545.03 Q1574.7 1545.58 1577.18 1545.58 Q1581.18 1545.58 1583.52 1543.48 Q1585.86 1541.37 1585.86 1537.76 Q1585.86 1534.15 1583.52 1532.04 Q1581.18 1529.94 1577.18 1529.94 Q1575.3 1529.94 1573.43 1530.35 Q1571.58 1530.77 1569.63 1531.65 L1569.63 1514.29 Z\" fill=\"#000000\" fill-rule=\"evenodd\" fill-opacity=\"1\" /><path clip-path=\"url(#clip480)\" d=\"M1782.26 1544.91 L1789.9 1544.91 L1789.9 1518.55 L1781.59 1520.21 L1781.59 1515.95 L1789.85 1514.29 L1794.53 1514.29 L1794.53 1544.91 L1802.17 1544.91 L1802.17 1548.85 L1782.26 1548.85 L1782.26 1544.91 Z\" fill=\"#000000\" fill-rule=\"evenodd\" fill-opacity=\"1\" /><path clip-path=\"url(#clip480)\" d=\"M1811.66 1514.29 L1830.02 1514.29 L1830.02 1518.22 L1815.94 1518.22 L1815.94 1526.7 Q1816.96 1526.35 1817.98 1526.19 Q1819 1526 1820.02 1526 Q1825.8 1526 1829.18 1529.17 Q1832.56 1532.34 1832.56 1537.76 Q1832.56 1543.34 1829.09 1546.44 Q1825.62 1549.52 1819.3 1549.52 Q1817.12 1549.52 1814.85 1549.15 Q1812.61 1548.78 1810.2 1548.04 L1810.2 1543.34 Q1812.29 1544.47 1814.51 1545.03 Q1816.73 1545.58 1819.21 1545.58 Q1823.21 1545.58 1825.55 1543.48 Q1827.89 1541.37 1827.89 1537.76 Q1827.89 1534.15 1825.55 1532.04 Q1823.21 1529.94 1819.21 1529.94 Q1817.33 1529.94 1815.46 1530.35 Q1813.6 1530.77 1811.66 1531.65 L1811.66 1514.29 Z\" fill=\"#000000\" fill-rule=\"evenodd\" fill-opacity=\"1\" /><path clip-path=\"url(#clip480)\" d=\"M1841.78 1542.97 L1846.66 1542.97 L1846.66 1548.85 L1841.78 1548.85 L1841.78 1542.97 Z\" fill=\"#000000\" fill-rule=\"evenodd\" fill-opacity=\"1\" /><path clip-path=\"url(#clip480)\" d=\"M1866.84 1517.37 Q1863.23 1517.37 1861.41 1520.93 Q1859.6 1524.47 1859.6 1531.6 Q1859.6 1538.71 1861.41 1542.27 Q1863.23 1545.82 1866.84 1545.82 Q1870.48 1545.82 1872.28 1542.27 Q1874.11 1538.71 1874.11 1531.6 Q1874.11 1524.47 1872.28 1520.93 Q1870.48 1517.37 1866.84 1517.37 M1866.84 1513.66 Q1872.66 1513.66 1875.71 1518.27 Q1878.79 1522.85 1878.79 1531.6 Q1878.79 1540.33 1875.71 1544.94 Q1872.66 1549.52 1866.84 1549.52 Q1861.03 1549.52 1857.96 1544.94 Q1854.9 1540.33 1854.9 1531.6 Q1854.9 1522.85 1857.96 1518.27 Q1861.03 1513.66 1866.84 1513.66 Z\" fill=\"#000000\" fill-rule=\"evenodd\" fill-opacity=\"1\" /><path clip-path=\"url(#clip480)\" d=\"M2070.52 1544.91 L2078.16 1544.91 L2078.16 1518.55 L2069.85 1520.21 L2069.85 1515.95 L2078.11 1514.29 L2082.78 1514.29 L2082.78 1544.91 L2090.42 1544.91 L2090.42 1548.85 L2070.52 1548.85 L2070.52 1544.91 Z\" fill=\"#000000\" fill-rule=\"evenodd\" fill-opacity=\"1\" /><path clip-path=\"url(#clip480)\" d=\"M2098.69 1514.29 L2120.91 1514.29 L2120.91 1516.28 L2108.36 1548.85 L2103.48 1548.85 L2115.28 1518.22 L2098.69 1518.22 L2098.69 1514.29 Z\" fill=\"#000000\" fill-rule=\"evenodd\" fill-opacity=\"1\" /><path clip-path=\"url(#clip480)\" d=\"M2130.03 1542.97 L2134.91 1542.97 L2134.91 1548.85 L2130.03 1548.85 L2130.03 1542.97 Z\" fill=\"#000000\" fill-rule=\"evenodd\" fill-opacity=\"1\" /><path clip-path=\"url(#clip480)\" d=\"M2145.15 1514.29 L2163.5 1514.29 L2163.5 1518.22 L2149.43 1518.22 L2149.43 1526.7 Q2150.45 1526.35 2151.46 1526.19 Q2152.48 1526 2153.5 1526 Q2159.29 1526 2162.67 1529.17 Q2166.05 1532.34 2166.05 1537.76 Q2166.05 1543.34 2162.58 1546.44 Q2159.1 1549.52 2152.78 1549.52 Q2150.61 1549.52 2148.34 1549.15 Q2146.09 1548.78 2143.69 1548.04 L2143.69 1543.34 Q2145.77 1544.47 2147.99 1545.03 Q2150.21 1545.58 2152.69 1545.58 Q2156.7 1545.58 2159.03 1543.48 Q2161.37 1541.37 2161.37 1537.76 Q2161.37 1534.15 2159.03 1532.04 Q2156.7 1529.94 2152.69 1529.94 Q2150.82 1529.94 2148.94 1530.35 Q2147.09 1530.77 2145.15 1531.65 L2145.15 1514.29 Z\" fill=\"#000000\" fill-rule=\"evenodd\" fill-opacity=\"1\" /><polyline clip-path=\"url(#clip482)\" style=\"stroke:#000000; stroke-linecap:butt; stroke-linejoin:round; stroke-width:2; stroke-opacity:0.1; fill:none\" points=\"\n",
       "  156.598,1244.56 2352.76,1244.56 \n",
       "  \"/>\n",
       "<polyline clip-path=\"url(#clip482)\" style=\"stroke:#000000; stroke-linecap:butt; stroke-linejoin:round; stroke-width:2; stroke-opacity:0.1; fill:none\" points=\"\n",
       "  156.598,965.622 2352.76,965.622 \n",
       "  \"/>\n",
       "<polyline clip-path=\"url(#clip482)\" style=\"stroke:#000000; stroke-linecap:butt; stroke-linejoin:round; stroke-width:2; stroke-opacity:0.1; fill:none\" points=\"\n",
       "  156.598,686.687 2352.76,686.687 \n",
       "  \"/>\n",
       "<polyline clip-path=\"url(#clip482)\" style=\"stroke:#000000; stroke-linecap:butt; stroke-linejoin:round; stroke-width:2; stroke-opacity:0.1; fill:none\" points=\"\n",
       "  156.598,407.751 2352.76,407.751 \n",
       "  \"/>\n",
       "<polyline clip-path=\"url(#clip482)\" style=\"stroke:#000000; stroke-linecap:butt; stroke-linejoin:round; stroke-width:2; stroke-opacity:0.1; fill:none\" points=\"\n",
       "  156.598,128.815 2352.76,128.815 \n",
       "  \"/>\n",
       "<polyline clip-path=\"url(#clip480)\" style=\"stroke:#000000; stroke-linecap:butt; stroke-linejoin:round; stroke-width:4; stroke-opacity:1; fill:none\" points=\"\n",
       "  156.598,1486.45 156.598,47.2441 \n",
       "  \"/>\n",
       "<polyline clip-path=\"url(#clip480)\" style=\"stroke:#000000; stroke-linecap:butt; stroke-linejoin:round; stroke-width:4; stroke-opacity:1; fill:none\" points=\"\n",
       "  156.598,1244.56 175.496,1244.56 \n",
       "  \"/>\n",
       "<polyline clip-path=\"url(#clip480)\" style=\"stroke:#000000; stroke-linecap:butt; stroke-linejoin:round; stroke-width:4; stroke-opacity:1; fill:none\" points=\"\n",
       "  156.598,965.622 175.496,965.622 \n",
       "  \"/>\n",
       "<polyline clip-path=\"url(#clip480)\" style=\"stroke:#000000; stroke-linecap:butt; stroke-linejoin:round; stroke-width:4; stroke-opacity:1; fill:none\" points=\"\n",
       "  156.598,686.687 175.496,686.687 \n",
       "  \"/>\n",
       "<polyline clip-path=\"url(#clip480)\" style=\"stroke:#000000; stroke-linecap:butt; stroke-linejoin:round; stroke-width:4; stroke-opacity:1; fill:none\" points=\"\n",
       "  156.598,407.751 175.496,407.751 \n",
       "  \"/>\n",
       "<polyline clip-path=\"url(#clip480)\" style=\"stroke:#000000; stroke-linecap:butt; stroke-linejoin:round; stroke-width:4; stroke-opacity:1; fill:none\" points=\"\n",
       "  156.598,128.815 175.496,128.815 \n",
       "  \"/>\n",
       "<path clip-path=\"url(#clip480)\" d=\"M65.0198 1230.36 Q61.4087 1230.36 59.58 1233.92 Q57.7745 1237.46 57.7745 1244.59 Q57.7745 1251.7 59.58 1255.26 Q61.4087 1258.81 65.0198 1258.81 Q68.6541 1258.81 70.4596 1255.26 Q72.2883 1251.7 72.2883 1244.59 Q72.2883 1237.46 70.4596 1233.92 Q68.6541 1230.36 65.0198 1230.36 M65.0198 1226.65 Q70.83 1226.65 73.8855 1231.26 Q76.9642 1235.84 76.9642 1244.59 Q76.9642 1253.32 73.8855 1257.93 Q70.83 1262.51 65.0198 1262.51 Q59.2097 1262.51 56.131 1257.93 Q53.0754 1253.32 53.0754 1244.59 Q53.0754 1235.84 56.131 1231.26 Q59.2097 1226.65 65.0198 1226.65 Z\" fill=\"#000000\" fill-rule=\"evenodd\" fill-opacity=\"1\" /><path clip-path=\"url(#clip480)\" d=\"M85.1818 1255.96 L90.066 1255.96 L90.066 1261.84 L85.1818 1261.84 L85.1818 1255.96 Z\" fill=\"#000000\" fill-rule=\"evenodd\" fill-opacity=\"1\" /><path clip-path=\"url(#clip480)\" d=\"M104.279 1257.9 L120.598 1257.9 L120.598 1261.84 L98.6539 1261.84 L98.6539 1257.9 Q101.316 1255.15 105.899 1250.52 Q110.506 1245.87 111.686 1244.52 Q113.932 1242 114.811 1240.26 Q115.714 1238.5 115.714 1236.82 Q115.714 1234.06 113.77 1232.32 Q111.848 1230.59 108.746 1230.59 Q106.547 1230.59 104.094 1231.35 Q101.663 1232.12 98.8854 1233.67 L98.8854 1228.94 Q101.709 1227.81 104.163 1227.23 Q106.617 1226.65 108.654 1226.65 Q114.024 1226.65 117.219 1229.34 Q120.413 1232.02 120.413 1236.51 Q120.413 1238.64 119.603 1240.57 Q118.816 1242.46 116.709 1245.06 Q116.131 1245.73 113.029 1248.94 Q109.927 1252.14 104.279 1257.9 Z\" fill=\"#000000\" fill-rule=\"evenodd\" fill-opacity=\"1\" /><path clip-path=\"url(#clip480)\" d=\"M62.9365 951.421 Q59.3254 951.421 57.4967 954.986 Q55.6912 958.527 55.6912 965.657 Q55.6912 972.764 57.4967 976.328 Q59.3254 979.87 62.9365 979.87 Q66.5707 979.87 68.3763 976.328 Q70.205 972.764 70.205 965.657 Q70.205 958.527 68.3763 954.986 Q66.5707 951.421 62.9365 951.421 M62.9365 947.717 Q68.7467 947.717 71.8022 952.324 Q74.8809 956.907 74.8809 965.657 Q74.8809 974.384 71.8022 978.99 Q68.7467 983.574 62.9365 983.574 Q57.1264 983.574 54.0477 978.99 Q50.9921 974.384 50.9921 965.657 Q50.9921 956.907 54.0477 952.324 Q57.1264 947.717 62.9365 947.717 Z\" fill=\"#000000\" fill-rule=\"evenodd\" fill-opacity=\"1\" /><path clip-path=\"url(#clip480)\" d=\"M83.0984 977.023 L87.9827 977.023 L87.9827 982.902 L83.0984 982.902 L83.0984 977.023 Z\" fill=\"#000000\" fill-rule=\"evenodd\" fill-opacity=\"1\" /><path clip-path=\"url(#clip480)\" d=\"M111.015 952.416 L99.2095 970.865 L111.015 970.865 L111.015 952.416 M109.788 948.342 L115.668 948.342 L115.668 970.865 L120.598 970.865 L120.598 974.754 L115.668 974.754 L115.668 982.902 L111.015 982.902 L111.015 974.754 L95.4132 974.754 L95.4132 970.24 L109.788 948.342 Z\" fill=\"#000000\" fill-rule=\"evenodd\" fill-opacity=\"1\" /><path clip-path=\"url(#clip480)\" d=\"M63.2606 672.485 Q59.6495 672.485 57.8208 676.05 Q56.0152 679.592 56.0152 686.721 Q56.0152 693.828 57.8208 697.392 Q59.6495 700.934 63.2606 700.934 Q66.8948 700.934 68.7004 697.392 Q70.5291 693.828 70.5291 686.721 Q70.5291 679.592 68.7004 676.05 Q66.8948 672.485 63.2606 672.485 M63.2606 668.782 Q69.0707 668.782 72.1263 673.388 Q75.205 677.971 75.205 686.721 Q75.205 695.448 72.1263 700.055 Q69.0707 704.638 63.2606 704.638 Q57.4504 704.638 54.3717 700.055 Q51.3162 695.448 51.3162 686.721 Q51.3162 677.971 54.3717 673.388 Q57.4504 668.782 63.2606 668.782 Z\" fill=\"#000000\" fill-rule=\"evenodd\" fill-opacity=\"1\" /><path clip-path=\"url(#clip480)\" d=\"M83.4225 698.087 L88.3067 698.087 L88.3067 703.967 L83.4225 703.967 L83.4225 698.087 Z\" fill=\"#000000\" fill-rule=\"evenodd\" fill-opacity=\"1\" /><path clip-path=\"url(#clip480)\" d=\"M109.071 684.823 Q105.922 684.823 104.071 686.976 Q102.242 689.129 102.242 692.879 Q102.242 696.605 104.071 698.781 Q105.922 700.934 109.071 700.934 Q112.219 700.934 114.047 698.781 Q115.899 696.605 115.899 692.879 Q115.899 689.129 114.047 686.976 Q112.219 684.823 109.071 684.823 M118.353 670.17 L118.353 674.43 Q116.594 673.596 114.788 673.157 Q113.006 672.717 111.246 672.717 Q106.617 672.717 104.163 675.842 Q101.733 678.967 101.385 685.286 Q102.751 683.272 104.811 682.207 Q106.871 681.119 109.348 681.119 Q114.557 681.119 117.566 684.291 Q120.598 687.439 120.598 692.879 Q120.598 698.203 117.45 701.42 Q114.302 704.638 109.071 704.638 Q103.075 704.638 99.9039 700.055 Q96.7326 695.448 96.7326 686.721 Q96.7326 678.527 100.621 673.666 Q104.51 668.782 111.061 668.782 Q112.82 668.782 114.603 669.129 Q116.408 669.476 118.353 670.17 Z\" fill=\"#000000\" fill-rule=\"evenodd\" fill-opacity=\"1\" /><path clip-path=\"url(#clip480)\" d=\"M63.5152 393.549 Q59.9041 393.549 58.0754 397.114 Q56.2699 400.656 56.2699 407.785 Q56.2699 414.892 58.0754 418.457 Q59.9041 421.998 63.5152 421.998 Q67.1494 421.998 68.955 418.457 Q70.7837 414.892 70.7837 407.785 Q70.7837 400.656 68.955 397.114 Q67.1494 393.549 63.5152 393.549 M63.5152 389.846 Q69.3254 389.846 72.3809 394.452 Q75.4596 399.035 75.4596 407.785 Q75.4596 416.512 72.3809 421.119 Q69.3254 425.702 63.5152 425.702 Q57.7051 425.702 54.6264 421.119 Q51.5708 416.512 51.5708 407.785 Q51.5708 399.035 54.6264 394.452 Q57.7051 389.846 63.5152 389.846 Z\" fill=\"#000000\" fill-rule=\"evenodd\" fill-opacity=\"1\" /><path clip-path=\"url(#clip480)\" d=\"M83.6771 419.151 L88.5614 419.151 L88.5614 425.031 L83.6771 425.031 L83.6771 419.151 Z\" fill=\"#000000\" fill-rule=\"evenodd\" fill-opacity=\"1\" /><path clip-path=\"url(#clip480)\" d=\"M108.746 408.619 Q105.413 408.619 103.492 410.401 Q101.594 412.184 101.594 415.309 Q101.594 418.434 103.492 420.216 Q105.413 421.998 108.746 421.998 Q112.08 421.998 114.001 420.216 Q115.922 418.41 115.922 415.309 Q115.922 412.184 114.001 410.401 Q112.103 408.619 108.746 408.619 M104.071 406.628 Q101.061 405.887 99.3715 403.827 Q97.7048 401.767 97.7048 398.804 Q97.7048 394.66 100.645 392.253 Q103.608 389.846 108.746 389.846 Q113.908 389.846 116.848 392.253 Q119.788 394.66 119.788 398.804 Q119.788 401.767 118.098 403.827 Q116.432 405.887 113.445 406.628 Q116.825 407.415 118.7 409.707 Q120.598 411.998 120.598 415.309 Q120.598 420.332 117.52 423.017 Q114.464 425.702 108.746 425.702 Q103.029 425.702 99.9502 423.017 Q96.8947 420.332 96.8947 415.309 Q96.8947 411.998 98.7928 409.707 Q100.691 407.415 104.071 406.628 M102.358 399.244 Q102.358 401.929 104.024 403.434 Q105.714 404.938 108.746 404.938 Q111.756 404.938 113.445 403.434 Q115.158 401.929 115.158 399.244 Q115.158 396.559 113.445 395.054 Q111.756 393.549 108.746 393.549 Q105.714 393.549 104.024 395.054 Q102.358 396.559 102.358 399.244 Z\" fill=\"#000000\" fill-rule=\"evenodd\" fill-opacity=\"1\" /><path clip-path=\"url(#clip480)\" d=\"M54.2328 142.16 L61.8717 142.16 L61.8717 115.794 L53.5616 117.461 L53.5616 113.202 L61.8254 111.535 L66.5013 111.535 L66.5013 142.16 L74.1402 142.16 L74.1402 146.095 L54.2328 146.095 L54.2328 142.16 Z\" fill=\"#000000\" fill-rule=\"evenodd\" fill-opacity=\"1\" /><path clip-path=\"url(#clip480)\" d=\"M83.5845 140.215 L88.4688 140.215 L88.4688 146.095 L83.5845 146.095 L83.5845 140.215 Z\" fill=\"#000000\" fill-rule=\"evenodd\" fill-opacity=\"1\" /><path clip-path=\"url(#clip480)\" d=\"M108.654 114.614 Q105.043 114.614 103.214 118.178 Q101.409 121.72 101.409 128.85 Q101.409 135.956 103.214 139.521 Q105.043 143.062 108.654 143.062 Q112.288 143.062 114.094 139.521 Q115.922 135.956 115.922 128.85 Q115.922 121.72 114.094 118.178 Q112.288 114.614 108.654 114.614 M108.654 110.91 Q114.464 110.91 117.52 115.516 Q120.598 120.1 120.598 128.85 Q120.598 137.576 117.52 142.183 Q114.464 146.766 108.654 146.766 Q102.844 146.766 99.765 142.183 Q96.7095 137.576 96.7095 128.85 Q96.7095 120.1 99.765 115.516 Q102.844 110.91 108.654 110.91 Z\" fill=\"#000000\" fill-rule=\"evenodd\" fill-opacity=\"1\" /><polyline clip-path=\"url(#clip482)\" style=\"stroke:#009af9; stroke-linecap:butt; stroke-linejoin:round; stroke-width:4; stroke-opacity:1; fill:none\" points=\"\n",
       "  218.754,675.335 333.856,908.461 448.959,1011.22 564.061,1064.63 679.164,1099.89 794.267,1126.19 909.369,1147.54 1024.47,1165.82 1139.57,1181.35 1254.68,1194.66 \n",
       "  1369.78,1205.99 1484.88,1216.6 1599.98,1226.28 1715.09,1235.35 1830.19,1244.24 1945.29,1252.65 2060.4,1260.21 2175.5,1267.27 2290.6,1273.88 \n",
       "  \"/>\n",
       "<polyline clip-path=\"url(#clip482)\" style=\"stroke:#e26f46; stroke-linecap:butt; stroke-linejoin:round; stroke-width:4; stroke-opacity:1; fill:none\" points=\"\n",
       "  218.754,955.93 333.856,1073.65 448.959,1127.6 564.061,1163.57 679.164,1190.34 794.267,1210.68 909.369,1228.18 1024.47,1243.56 1139.57,1257.93 1254.68,1271.15 \n",
       "  1369.78,1282.38 1484.88,1292.39 1599.98,1301.42 1715.09,1309.5 1830.19,1316.81 1945.29,1323.48 2060.4,1329.4 2175.5,1335.15 2290.6,1340.5 \n",
       "  \"/>\n",
       "<polyline clip-path=\"url(#clip482)\" style=\"stroke:#3da44d; stroke-linecap:butt; stroke-linejoin:round; stroke-width:4; stroke-opacity:1; fill:none\" points=\"\n",
       "  218.754,1177.86 333.856,1244.8 448.959,1230.76 564.061,1292.82 679.164,1326.24 794.267,1325.19 909.369,1336.43 1024.47,1344.32 1139.57,1365.93 1254.68,1363.65 \n",
       "  1369.78,1356.54 1484.88,1373.28 1599.98,1379.67 1715.09,1360.28 1830.19,1372.91 1945.29,1372.65 2060.4,1374.39 2175.5,1387.82 2290.6,1396.73 \n",
       "  \"/>\n",
       "<polyline clip-path=\"url(#clip482)\" style=\"stroke:#c271d2; stroke-linecap:butt; stroke-linejoin:round; stroke-width:4; stroke-opacity:1; fill:none\" points=\"\n",
       "  218.754,1214.44 333.856,1275.87 448.959,1311.58 564.061,1339.09 679.164,1360.35 794.267,1375.15 909.369,1390.71 1024.47,1398.69 1139.57,1408.06 1254.68,1411.96 \n",
       "  1369.78,1415.73 1484.88,1423.21 1599.98,1425.16 1715.09,1430.1 1830.19,1433.92 1945.29,1439.47 2060.4,1440.17 2175.5,1444.47 2290.6,1445.72 \n",
       "  \"/>\n",
       "<polyline clip-path=\"url(#clip482)\" style=\"stroke:#ac8d18; stroke-linecap:butt; stroke-linejoin:round; stroke-width:4; stroke-opacity:1; fill:none\" points=\"\n",
       "  218.754,130.994 333.856,89.0077 448.959,88.5729 564.061,88.3477 679.164,88.217 794.267,88.136 909.369,88.0837 1024.47,88.0492 1139.57,88.026 1254.68,88.0101 \n",
       "  1369.78,87.9993 1484.88,87.9918 1599.98,87.9867 1715.09,87.9831 1830.19,87.9806 1945.29,87.9789 2060.4,87.9777 2175.5,87.9769 2290.6,87.9763 \n",
       "  \"/>\n",
       "<path clip-path=\"url(#clip480)\" d=\"\n",
       "M1877.15 406.258 L2279.55 406.258 L2279.55 95.2176 L1877.15 95.2176  Z\n",
       "  \" fill=\"#ffffff\" fill-rule=\"evenodd\" fill-opacity=\"1\"/>\n",
       "<polyline clip-path=\"url(#clip480)\" style=\"stroke:#000000; stroke-linecap:butt; stroke-linejoin:round; stroke-width:4; stroke-opacity:1; fill:none\" points=\"\n",
       "  1877.15,406.258 2279.55,406.258 2279.55,95.2176 1877.15,95.2176 1877.15,406.258 \n",
       "  \"/>\n",
       "<polyline clip-path=\"url(#clip480)\" style=\"stroke:#009af9; stroke-linecap:butt; stroke-linejoin:round; stroke-width:4; stroke-opacity:1; fill:none\" points=\"\n",
       "  1901.56,147.058 2047.97,147.058 \n",
       "  \"/>\n",
       "<path clip-path=\"url(#clip480)\" d=\"M2073.83 129.778 L2092.18 129.778 L2092.18 133.713 L2078.11 133.713 L2078.11 142.185 Q2079.13 141.838 2080.15 141.676 Q2081.16 141.49 2082.18 141.49 Q2087.97 141.49 2091.35 144.662 Q2094.73 147.833 2094.73 153.25 Q2094.73 158.828 2091.26 161.93 Q2087.78 165.009 2081.47 165.009 Q2079.29 165.009 2077.02 164.638 Q2074.78 164.268 2072.37 163.527 L2072.37 158.828 Q2074.45 159.963 2076.67 160.518 Q2078.9 161.074 2081.37 161.074 Q2085.38 161.074 2087.72 158.967 Q2090.05 156.861 2090.05 153.25 Q2090.05 149.639 2087.72 147.532 Q2085.38 145.426 2081.37 145.426 Q2079.5 145.426 2077.62 145.842 Q2075.77 146.259 2073.83 147.139 L2073.83 129.778 Z\" fill=\"#000000\" fill-rule=\"evenodd\" fill-opacity=\"1\" /><path clip-path=\"url(#clip480)\" d=\"M2103.94 158.458 L2108.83 158.458 L2108.83 164.338 L2103.94 164.338 L2103.94 158.458 Z\" fill=\"#000000\" fill-rule=\"evenodd\" fill-opacity=\"1\" /><path clip-path=\"url(#clip480)\" d=\"M2129.01 132.856 Q2125.4 132.856 2123.57 136.421 Q2121.77 139.963 2121.77 147.092 Q2121.77 154.199 2123.57 157.764 Q2125.4 161.305 2129.01 161.305 Q2132.65 161.305 2134.45 157.764 Q2136.28 154.199 2136.28 147.092 Q2136.28 139.963 2134.45 136.421 Q2132.65 132.856 2129.01 132.856 M2129.01 129.153 Q2134.82 129.153 2137.88 133.759 Q2140.96 138.342 2140.96 147.092 Q2140.96 155.819 2137.88 160.426 Q2134.82 165.009 2129.01 165.009 Q2123.2 165.009 2120.12 160.426 Q2117.07 155.819 2117.07 147.092 Q2117.07 138.342 2120.12 133.759 Q2123.2 129.153 2129.01 129.153 Z\" fill=\"#000000\" fill-rule=\"evenodd\" fill-opacity=\"1\" /><path clip-path=\"url(#clip480)\" d=\"M2170.75 150.31 L2170.75 152.393 L2151.16 152.393 Q2151.44 156.791 2153.8 159.106 Q2156.19 161.398 2160.42 161.398 Q2162.88 161.398 2165.17 160.796 Q2167.48 160.194 2169.75 158.99 L2169.75 163.018 Q2167.46 163.99 2165.05 164.5 Q2162.65 165.009 2160.17 165.009 Q2153.97 165.009 2150.33 161.398 Q2146.72 157.787 2146.72 151.629 Q2146.72 145.264 2150.15 141.537 Q2153.59 137.787 2159.43 137.787 Q2164.66 137.787 2167.69 141.166 Q2170.75 144.523 2170.75 150.31 M2166.49 149.06 Q2166.44 145.565 2164.52 143.481 Q2162.62 141.398 2159.47 141.398 Q2155.91 141.398 2153.76 143.412 Q2151.63 145.426 2151.3 149.083 L2166.49 149.06 Z\" fill=\"#000000\" fill-rule=\"evenodd\" fill-opacity=\"1\" /><path clip-path=\"url(#clip480)\" d=\"M2175.59 149.453 L2188.06 149.453 L2188.06 153.25 L2175.59 153.25 L2175.59 149.453 Z\" fill=\"#000000\" fill-rule=\"evenodd\" fill-opacity=\"1\" /><path clip-path=\"url(#clip480)\" d=\"M2195.49 129.778 L2213.85 129.778 L2213.85 133.713 L2199.78 133.713 L2199.78 142.185 Q2200.79 141.838 2201.81 141.676 Q2202.83 141.49 2203.85 141.49 Q2209.64 141.49 2213.02 144.662 Q2216.4 147.833 2216.4 153.25 Q2216.4 158.828 2212.92 161.93 Q2209.45 165.009 2203.13 165.009 Q2200.96 165.009 2198.69 164.638 Q2196.44 164.268 2194.03 163.527 L2194.03 158.828 Q2196.12 159.963 2198.34 160.518 Q2200.56 161.074 2203.04 161.074 Q2207.04 161.074 2209.38 158.967 Q2211.72 156.861 2211.72 153.25 Q2211.72 149.639 2209.38 147.532 Q2207.04 145.426 2203.04 145.426 Q2201.16 145.426 2199.29 145.842 Q2197.44 146.259 2195.49 147.139 L2195.49 129.778 Z\" fill=\"#000000\" fill-rule=\"evenodd\" fill-opacity=\"1\" /><polyline clip-path=\"url(#clip480)\" style=\"stroke:#e26f46; stroke-linecap:butt; stroke-linejoin:round; stroke-width:4; stroke-opacity:1; fill:none\" points=\"\n",
       "  1901.56,198.898 2047.97,198.898 \n",
       "  \"/>\n",
       "<path clip-path=\"url(#clip480)\" d=\"M2084.31 184.696 Q2080.7 184.696 2078.87 188.261 Q2077.07 191.803 2077.07 198.932 Q2077.07 206.039 2078.87 209.604 Q2080.7 213.145 2084.31 213.145 Q2087.95 213.145 2089.75 209.604 Q2091.58 206.039 2091.58 198.932 Q2091.58 191.803 2089.75 188.261 Q2087.95 184.696 2084.31 184.696 M2084.31 180.993 Q2090.12 180.993 2093.18 185.599 Q2096.26 190.182 2096.26 198.932 Q2096.26 207.659 2093.18 212.266 Q2090.12 216.849 2084.31 216.849 Q2078.5 216.849 2075.42 212.266 Q2072.37 207.659 2072.37 198.932 Q2072.37 190.182 2075.42 185.599 Q2078.5 180.993 2084.31 180.993 Z\" fill=\"#000000\" fill-rule=\"evenodd\" fill-opacity=\"1\" /><path clip-path=\"url(#clip480)\" d=\"M2104.47 210.298 L2109.36 210.298 L2109.36 216.178 L2104.47 216.178 L2104.47 210.298 Z\" fill=\"#000000\" fill-rule=\"evenodd\" fill-opacity=\"1\" /><path clip-path=\"url(#clip480)\" d=\"M2129.54 184.696 Q2125.93 184.696 2124.1 188.261 Q2122.3 191.803 2122.3 198.932 Q2122.3 206.039 2124.1 209.604 Q2125.93 213.145 2129.54 213.145 Q2133.18 213.145 2134.98 209.604 Q2136.81 206.039 2136.81 198.932 Q2136.81 191.803 2134.98 188.261 Q2133.18 184.696 2129.54 184.696 M2129.54 180.993 Q2135.35 180.993 2138.41 185.599 Q2141.49 190.182 2141.49 198.932 Q2141.49 207.659 2138.41 212.266 Q2135.35 216.849 2129.54 216.849 Q2123.73 216.849 2120.66 212.266 Q2117.6 207.659 2117.6 198.932 Q2117.6 190.182 2120.66 185.599 Q2123.73 180.993 2129.54 180.993 Z\" fill=\"#000000\" fill-rule=\"evenodd\" fill-opacity=\"1\" /><path clip-path=\"url(#clip480)\" d=\"M2159.71 184.696 Q2156.09 184.696 2154.27 188.261 Q2152.46 191.803 2152.46 198.932 Q2152.46 206.039 2154.27 209.604 Q2156.09 213.145 2159.71 213.145 Q2163.34 213.145 2165.15 209.604 Q2166.97 206.039 2166.97 198.932 Q2166.97 191.803 2165.15 188.261 Q2163.34 184.696 2159.71 184.696 M2159.71 180.993 Q2165.52 180.993 2168.57 185.599 Q2171.65 190.182 2171.65 198.932 Q2171.65 207.659 2168.57 212.266 Q2165.52 216.849 2159.71 216.849 Q2153.9 216.849 2150.82 212.266 Q2147.76 207.659 2147.76 198.932 Q2147.76 190.182 2150.82 185.599 Q2153.9 180.993 2159.71 180.993 Z\" fill=\"#000000\" fill-rule=\"evenodd\" fill-opacity=\"1\" /><path clip-path=\"url(#clip480)\" d=\"M2189.87 184.696 Q2186.26 184.696 2184.43 188.261 Q2182.62 191.803 2182.62 198.932 Q2182.62 206.039 2184.43 209.604 Q2186.26 213.145 2189.87 213.145 Q2193.5 213.145 2195.31 209.604 Q2197.14 206.039 2197.14 198.932 Q2197.14 191.803 2195.31 188.261 Q2193.5 184.696 2189.87 184.696 M2189.87 180.993 Q2195.68 180.993 2198.73 185.599 Q2201.81 190.182 2201.81 198.932 Q2201.81 207.659 2198.73 212.266 Q2195.68 216.849 2189.87 216.849 Q2184.06 216.849 2180.98 212.266 Q2177.92 207.659 2177.92 198.932 Q2177.92 190.182 2180.98 185.599 Q2184.06 180.993 2189.87 180.993 Z\" fill=\"#000000\" fill-rule=\"evenodd\" fill-opacity=\"1\" /><path clip-path=\"url(#clip480)\" d=\"M2210.84 212.242 L2218.48 212.242 L2218.48 185.877 L2210.17 187.543 L2210.17 183.284 L2218.43 181.618 L2223.11 181.618 L2223.11 212.242 L2230.75 212.242 L2230.75 216.178 L2210.84 216.178 L2210.84 212.242 Z\" fill=\"#000000\" fill-rule=\"evenodd\" fill-opacity=\"1\" /><polyline clip-path=\"url(#clip480)\" style=\"stroke:#3da44d; stroke-linecap:butt; stroke-linejoin:round; stroke-width:4; stroke-opacity:1; fill:none\" points=\"\n",
       "  1901.56,250.738 2047.97,250.738 \n",
       "  \"/>\n",
       "<path clip-path=\"url(#clip480)\" d=\"M2084.31 236.536 Q2080.7 236.536 2078.87 240.101 Q2077.07 243.643 2077.07 250.772 Q2077.07 257.879 2078.87 261.444 Q2080.7 264.985 2084.31 264.985 Q2087.95 264.985 2089.75 261.444 Q2091.58 257.879 2091.58 250.772 Q2091.58 243.643 2089.75 240.101 Q2087.95 236.536 2084.31 236.536 M2084.31 232.833 Q2090.12 232.833 2093.18 237.439 Q2096.26 242.022 2096.26 250.772 Q2096.26 259.499 2093.18 264.106 Q2090.12 268.689 2084.31 268.689 Q2078.5 268.689 2075.42 264.106 Q2072.37 259.499 2072.37 250.772 Q2072.37 242.022 2075.42 237.439 Q2078.5 232.833 2084.31 232.833 Z\" fill=\"#000000\" fill-rule=\"evenodd\" fill-opacity=\"1\" /><path clip-path=\"url(#clip480)\" d=\"M2104.47 262.138 L2109.36 262.138 L2109.36 268.018 L2104.47 268.018 L2104.47 262.138 Z\" fill=\"#000000\" fill-rule=\"evenodd\" fill-opacity=\"1\" /><path clip-path=\"url(#clip480)\" d=\"M2129.54 236.536 Q2125.93 236.536 2124.1 240.101 Q2122.3 243.643 2122.3 250.772 Q2122.3 257.879 2124.1 261.444 Q2125.93 264.985 2129.54 264.985 Q2133.18 264.985 2134.98 261.444 Q2136.81 257.879 2136.81 250.772 Q2136.81 243.643 2134.98 240.101 Q2133.18 236.536 2129.54 236.536 M2129.54 232.833 Q2135.35 232.833 2138.41 237.439 Q2141.49 242.022 2141.49 250.772 Q2141.49 259.499 2138.41 264.106 Q2135.35 268.689 2129.54 268.689 Q2123.73 268.689 2120.66 264.106 Q2117.6 259.499 2117.6 250.772 Q2117.6 242.022 2120.66 237.439 Q2123.73 232.833 2129.54 232.833 Z\" fill=\"#000000\" fill-rule=\"evenodd\" fill-opacity=\"1\" /><path clip-path=\"url(#clip480)\" d=\"M2159.71 236.536 Q2156.09 236.536 2154.27 240.101 Q2152.46 243.643 2152.46 250.772 Q2152.46 257.879 2154.27 261.444 Q2156.09 264.985 2159.71 264.985 Q2163.34 264.985 2165.15 261.444 Q2166.97 257.879 2166.97 250.772 Q2166.97 243.643 2165.15 240.101 Q2163.34 236.536 2159.71 236.536 M2159.71 232.833 Q2165.52 232.833 2168.57 237.439 Q2171.65 242.022 2171.65 250.772 Q2171.65 259.499 2168.57 264.106 Q2165.52 268.689 2159.71 268.689 Q2153.9 268.689 2150.82 264.106 Q2147.76 259.499 2147.76 250.772 Q2147.76 242.022 2150.82 237.439 Q2153.9 232.833 2159.71 232.833 Z\" fill=\"#000000\" fill-rule=\"evenodd\" fill-opacity=\"1\" /><path clip-path=\"url(#clip480)\" d=\"M2179.91 233.458 L2198.27 233.458 L2198.27 237.393 L2184.2 237.393 L2184.2 245.865 Q2185.21 245.518 2186.23 245.356 Q2187.25 245.17 2188.27 245.17 Q2194.06 245.17 2197.44 248.342 Q2200.82 251.513 2200.82 256.93 Q2200.82 262.508 2197.34 265.61 Q2193.87 268.689 2187.55 268.689 Q2185.38 268.689 2183.11 268.318 Q2180.86 267.948 2178.46 267.207 L2178.46 262.508 Q2180.54 263.643 2182.76 264.198 Q2184.98 264.754 2187.46 264.754 Q2191.46 264.754 2193.8 262.647 Q2196.14 260.541 2196.14 256.93 Q2196.14 253.319 2193.8 251.212 Q2191.46 249.106 2187.46 249.106 Q2185.59 249.106 2183.71 249.522 Q2181.86 249.939 2179.91 250.819 L2179.91 233.458 Z\" fill=\"#000000\" fill-rule=\"evenodd\" fill-opacity=\"1\" /><polyline clip-path=\"url(#clip480)\" style=\"stroke:#c271d2; stroke-linecap:butt; stroke-linejoin:round; stroke-width:4; stroke-opacity:1; fill:none\" points=\"\n",
       "  1901.56,302.578 2047.97,302.578 \n",
       "  \"/>\n",
       "<path clip-path=\"url(#clip480)\" d=\"M2084.31 288.376 Q2080.7 288.376 2078.87 291.941 Q2077.07 295.483 2077.07 302.612 Q2077.07 309.719 2078.87 313.284 Q2080.7 316.825 2084.31 316.825 Q2087.95 316.825 2089.75 313.284 Q2091.58 309.719 2091.58 302.612 Q2091.58 295.483 2089.75 291.941 Q2087.95 288.376 2084.31 288.376 M2084.31 284.673 Q2090.12 284.673 2093.18 289.279 Q2096.26 293.862 2096.26 302.612 Q2096.26 311.339 2093.18 315.946 Q2090.12 320.529 2084.31 320.529 Q2078.5 320.529 2075.42 315.946 Q2072.37 311.339 2072.37 302.612 Q2072.37 293.862 2075.42 289.279 Q2078.5 284.673 2084.31 284.673 Z\" fill=\"#000000\" fill-rule=\"evenodd\" fill-opacity=\"1\" /><path clip-path=\"url(#clip480)\" d=\"M2104.47 313.978 L2109.36 313.978 L2109.36 319.858 L2104.47 319.858 L2104.47 313.978 Z\" fill=\"#000000\" fill-rule=\"evenodd\" fill-opacity=\"1\" /><path clip-path=\"url(#clip480)\" d=\"M2129.54 288.376 Q2125.93 288.376 2124.1 291.941 Q2122.3 295.483 2122.3 302.612 Q2122.3 309.719 2124.1 313.284 Q2125.93 316.825 2129.54 316.825 Q2133.18 316.825 2134.98 313.284 Q2136.81 309.719 2136.81 302.612 Q2136.81 295.483 2134.98 291.941 Q2133.18 288.376 2129.54 288.376 M2129.54 284.673 Q2135.35 284.673 2138.41 289.279 Q2141.49 293.862 2141.49 302.612 Q2141.49 311.339 2138.41 315.946 Q2135.35 320.529 2129.54 320.529 Q2123.73 320.529 2120.66 315.946 Q2117.6 311.339 2117.6 302.612 Q2117.6 293.862 2120.66 289.279 Q2123.73 284.673 2129.54 284.673 Z\" fill=\"#000000\" fill-rule=\"evenodd\" fill-opacity=\"1\" /><path clip-path=\"url(#clip480)\" d=\"M2159.71 288.376 Q2156.09 288.376 2154.27 291.941 Q2152.46 295.483 2152.46 302.612 Q2152.46 309.719 2154.27 313.284 Q2156.09 316.825 2159.71 316.825 Q2163.34 316.825 2165.15 313.284 Q2166.97 309.719 2166.97 302.612 Q2166.97 295.483 2165.15 291.941 Q2163.34 288.376 2159.71 288.376 M2159.71 284.673 Q2165.52 284.673 2168.57 289.279 Q2171.65 293.862 2171.65 302.612 Q2171.65 311.339 2168.57 315.946 Q2165.52 320.529 2159.71 320.529 Q2153.9 320.529 2150.82 315.946 Q2147.76 311.339 2147.76 302.612 Q2147.76 293.862 2150.82 289.279 Q2153.9 284.673 2159.71 284.673 Z\" fill=\"#000000\" fill-rule=\"evenodd\" fill-opacity=\"1\" /><path clip-path=\"url(#clip480)\" d=\"M2180.68 315.922 L2188.32 315.922 L2188.32 289.557 L2180.01 291.223 L2180.01 286.964 L2188.27 285.298 L2192.95 285.298 L2192.95 315.922 L2200.59 315.922 L2200.59 319.858 L2180.68 319.858 L2180.68 315.922 Z\" fill=\"#000000\" fill-rule=\"evenodd\" fill-opacity=\"1\" /><polyline clip-path=\"url(#clip480)\" style=\"stroke:#ac8d18; stroke-linecap:butt; stroke-linejoin:round; stroke-width:4; stroke-opacity:1; fill:none\" points=\"\n",
       "  1901.56,354.418 2047.97,354.418 \n",
       "  \"/>\n",
       "<path clip-path=\"url(#clip480)\" d=\"M2084.31 340.216 Q2080.7 340.216 2078.87 343.781 Q2077.07 347.323 2077.07 354.452 Q2077.07 361.559 2078.87 365.124 Q2080.7 368.665 2084.31 368.665 Q2087.95 368.665 2089.75 365.124 Q2091.58 361.559 2091.58 354.452 Q2091.58 347.323 2089.75 343.781 Q2087.95 340.216 2084.31 340.216 M2084.31 336.513 Q2090.12 336.513 2093.18 341.119 Q2096.26 345.702 2096.26 354.452 Q2096.26 363.179 2093.18 367.786 Q2090.12 372.369 2084.31 372.369 Q2078.5 372.369 2075.42 367.786 Q2072.37 363.179 2072.37 354.452 Q2072.37 345.702 2075.42 341.119 Q2078.5 336.513 2084.31 336.513 Z\" fill=\"#000000\" fill-rule=\"evenodd\" fill-opacity=\"1\" /><path clip-path=\"url(#clip480)\" d=\"M2104.47 365.818 L2109.36 365.818 L2109.36 371.698 L2104.47 371.698 L2104.47 365.818 Z\" fill=\"#000000\" fill-rule=\"evenodd\" fill-opacity=\"1\" /><path clip-path=\"url(#clip480)\" d=\"M2129.54 340.216 Q2125.93 340.216 2124.1 343.781 Q2122.3 347.323 2122.3 354.452 Q2122.3 361.559 2124.1 365.124 Q2125.93 368.665 2129.54 368.665 Q2133.18 368.665 2134.98 365.124 Q2136.81 361.559 2136.81 354.452 Q2136.81 347.323 2134.98 343.781 Q2133.18 340.216 2129.54 340.216 M2129.54 336.513 Q2135.35 336.513 2138.41 341.119 Q2141.49 345.702 2141.49 354.452 Q2141.49 363.179 2138.41 367.786 Q2135.35 372.369 2129.54 372.369 Q2123.73 372.369 2120.66 367.786 Q2117.6 363.179 2117.6 354.452 Q2117.6 345.702 2120.66 341.119 Q2123.73 336.513 2129.54 336.513 Z\" fill=\"#000000\" fill-rule=\"evenodd\" fill-opacity=\"1\" /><path clip-path=\"url(#clip480)\" d=\"M2149.75 337.138 L2168.11 337.138 L2168.11 341.073 L2154.03 341.073 L2154.03 349.545 Q2155.05 349.198 2156.07 349.036 Q2157.09 348.85 2158.11 348.85 Q2163.9 348.85 2167.28 352.022 Q2170.65 355.193 2170.65 360.61 Q2170.65 366.188 2167.18 369.29 Q2163.71 372.369 2157.39 372.369 Q2155.22 372.369 2152.95 371.998 Q2150.7 371.628 2148.29 370.887 L2148.29 366.188 Q2150.38 367.323 2152.6 367.878 Q2154.82 368.434 2157.3 368.434 Q2161.3 368.434 2163.64 366.327 Q2165.98 364.221 2165.98 360.61 Q2165.98 356.999 2163.64 354.892 Q2161.3 352.786 2157.3 352.786 Q2155.42 352.786 2153.55 353.202 Q2151.7 353.619 2149.75 354.499 L2149.75 337.138 Z\" fill=\"#000000\" fill-rule=\"evenodd\" fill-opacity=\"1\" /></svg>\n"
      ]
     },
     "execution_count": 16,
     "metadata": {},
     "output_type": "execute_result"
    }
   ],
   "source": [
    "foreach(rates) do η\n",
    "    pipe.transformed_target_model_deterministic.model.optimiser.eta = η\n",
    "    fit!(mach, force=true, verbosity=0)\n",
    "    losses =\n",
    "        report(mach).transformed_target_model_deterministic.model.training_losses[3:end]\n",
    "    plot!(1:length(losses), losses, label=η)\n",
    "end\n",
    "plt"
   ]
  },
  {
   "cell_type": "code",
   "execution_count": 17,
   "metadata": {},
   "outputs": [],
   "source": [
    "savefig(joinpath(\"assets\", \"learning_rate.png\"))"
   ]
  },
  {
   "cell_type": "markdown",
   "metadata": {},
   "source": [
    "We'll go with the second most conservative rate for now:"
   ]
  },
  {
   "cell_type": "code",
   "execution_count": 18,
   "metadata": {},
   "outputs": [
    {
     "data": {
      "text/plain": [
       "0.0001"
      ]
     },
     "execution_count": 18,
     "metadata": {},
     "output_type": "execute_result"
    }
   ],
   "source": [
    "pipe.transformed_target_model_deterministic.model.optimiser.eta = 0.0001"
   ]
  },
  {
   "cell_type": "markdown",
   "metadata": {},
   "source": [
    "## Wrapping in iteration control"
   ]
  },
  {
   "cell_type": "markdown",
   "metadata": {},
   "source": [
    "We want a model that trains until an out-of-sample loss satisfies\n",
    "the `NumberSinceBest(6)` stopping criterion. We'll add some fallback\n",
    "stopping criterion `InvalidValue` and `TimeLimit(1/60)`, and\n",
    "controls to print traces of the losses."
   ]
  },
  {
   "cell_type": "markdown",
   "metadata": {},
   "source": [
    "For initializing or clearing the traces:"
   ]
  },
  {
   "cell_type": "code",
   "execution_count": 19,
   "metadata": {},
   "outputs": [
    {
     "data": {
      "text/plain": [
       "clear (generic function with 1 method)"
      ]
     },
     "execution_count": 19,
     "metadata": {},
     "output_type": "execute_result"
    }
   ],
   "source": [
    "clear() = begin\n",
    "    global losses = []\n",
    "    global training_losses = []\n",
    "    global epochs = []\n",
    "    return nothing\n",
    "end"
   ]
  },
  {
   "cell_type": "markdown",
   "metadata": {},
   "source": [
    "And to update the traces:"
   ]
  },
  {
   "cell_type": "code",
   "execution_count": 20,
   "metadata": {},
   "outputs": [
    {
     "data": {
      "text/plain": [
       "update_epochs (generic function with 1 method)"
      ]
     },
     "execution_count": 20,
     "metadata": {},
     "output_type": "execute_result"
    }
   ],
   "source": [
    "update_loss(loss) = push!(losses, loss)\n",
    "update_training_loss(report) =\n",
    "    push!(training_losses,\n",
    "          report.transformed_target_model_deterministic.model.training_losses[end])\n",
    "update_epochs(epoch) = push!(epochs, epoch)"
   ]
  },
  {
   "cell_type": "markdown",
   "metadata": {},
   "source": [
    "The controls to apply (see\n",
    "[here](https://alan-turing-institute.github.io/MLJ.jl/dev/controlling_iterative_models/#Controls-provided)\n",
    "for the complete list):"
   ]
  },
  {
   "cell_type": "code",
   "execution_count": 21,
   "metadata": {},
   "outputs": [
    {
     "data": {
      "text/plain": [
       "7-element Vector{Any}:\n",
       " Step(1)\n",
       " NumberSinceBest(6)\n",
       " InvalidValue()\n",
       " TimeLimit(Dates.Millisecond(60000))\n",
       " WithLossDo{typeof(update_loss)}(update_loss, false, nothing)\n",
       " WithReportDo{typeof(update_training_loss)}(update_training_loss, false, nothing)\n",
       " WithIterationsDo{typeof(update_epochs)}(update_epochs, false, nothing)"
      ]
     },
     "execution_count": 21,
     "metadata": {},
     "output_type": "execute_result"
    }
   ],
   "source": [
    "controls=[Step(1),\n",
    "          NumberSinceBest(6),\n",
    "          InvalidValue(),\n",
    "          TimeLimit(1/60),\n",
    "          WithLossDo(update_loss),\n",
    "          WithReportDo(update_training_loss),\n",
    "          WithIterationsDo(update_epochs)]"
   ]
  },
  {
   "cell_type": "markdown",
   "metadata": {},
   "source": [
    "Next we create a \"self-iterating\" version of the pipeline. Note\n",
    "that the iteration parameter is a nested hyperparameter:"
   ]
  },
  {
   "cell_type": "code",
   "execution_count": 22,
   "metadata": {},
   "outputs": [
    {
     "data": {
      "text/plain": [
       "DeterministicIteratedModel(\n",
       "    model = DeterministicPipeline(\n",
       "            standardizer = Standardizer,\n",
       "            transformed_target_model_deterministic = TransformedTargetModelDeterministic{NeuralNetworkRegressor{GenericBuilder{#1#2},…}},\n",
       "            cache = true),\n",
       "    controls = Any[Step(1), NumberSinceBest(6), InvalidValue(), TimeLimit(Dates.Millisecond(60000)), WithLossDo{typeof(update_loss)}(update_loss, false, nothing), WithReportDo{typeof(update_training_loss)}(update_training_loss, false, nothing), WithIterationsDo{typeof(update_epochs)}(update_epochs, false, nothing)],\n",
       "    resampling = Holdout(\n",
       "            fraction_train = 0.8,\n",
       "            shuffle = false,\n",
       "            rng = Random._GLOBAL_RNG()),\n",
       "    measure = LPLoss(p = 2),\n",
       "    weights = nothing,\n",
       "    class_weights = nothing,\n",
       "    operation = MLJModelInterface.predict,\n",
       "    retrain = false,\n",
       "    check_measure = true,\n",
       "    iteration_parameter = :(neural_network_regressor.epochs),\n",
       "    cache = true)"
      ]
     },
     "execution_count": 22,
     "metadata": {},
     "output_type": "execute_result"
    }
   ],
   "source": [
    "iterated_pipe =\n",
    "    IteratedModel(model=pipe,\n",
    "                  controls=controls,\n",
    "                  resampling=Holdout(fraction_train=0.8),\n",
    "                  iteration_parameter=:(neural_network_regressor.epochs),\n",
    "                  measure = l2)"
   ]
  },
  {
   "cell_type": "markdown",
   "metadata": {},
   "source": [
    "Training the wrapped model on all the train/validation data:"
   ]
  },
  {
   "cell_type": "code",
   "execution_count": 23,
   "metadata": {},
   "outputs": [
    {
     "name": "stderr",
     "output_type": "stream",
     "text": [
      "┌ Info: Training Machine{DeterministicIteratedModel{DeterministicPipeline{NamedTuple{,…},…}},…}.\n",
      "└ @ MLJBase /Users/anthony/.julia/packages/MLJBase/GxHVg/src/machines.jl:464\n",
      "┌ Info: final loss: 18.029846309038444\n",
      "└ @ IterationControl /Users/anthony/.julia/packages/IterationControl/lO4bA/src/train.jl:44\n",
      "┌ Info: final training loss: 0.15870439154333713\n",
      "└ @ IterationControl /Users/anthony/.julia/packages/IterationControl/lO4bA/src/train.jl:46\n",
      "┌ Info: Stop triggered by NumberSinceBest(6) stopping criterion. \n",
      "└ @ IterationControl /Users/anthony/.julia/packages/IterationControl/lO4bA/src/stopping_controls.jl:54\n",
      "┌ Info: Total of 13 iterations. \n",
      "└ @ MLJIteration /Users/anthony/.julia/packages/MLJIteration/jtWxG/src/core.jl:35\n"
     ]
    },
    {
     "data": {
      "text/plain": [
       "Machine{DeterministicIteratedModel{DeterministicPipeline{NamedTuple{,…},…}},…} trained 1 time; does not cache data\n",
       "  model: MLJIteration.DeterministicIteratedModel{MLJBase.DeterministicPipeline{NamedTuple{(:standardizer, :transformed_target_model_deterministic), Tuple{Unsupervised, Deterministic}}, MLJModelInterface.predict}}\n",
       "  args: \n",
       "    1:\tSource @623 ⏎ `Table{AbstractVector{Continuous}}`\n",
       "    2:\tSource @109 ⏎ `AbstractVector{Continuous}`\n"
      ]
     },
     "execution_count": 23,
     "metadata": {},
     "output_type": "execute_result"
    }
   ],
   "source": [
    "clear()\n",
    "mach = machine(iterated_pipe, X, y)\n",
    "fit!(mach)"
   ]
  },
  {
   "cell_type": "markdown",
   "metadata": {},
   "source": [
    "And plotting the traces:"
   ]
  },
  {
   "cell_type": "code",
   "execution_count": 24,
   "metadata": {},
   "outputs": [
    {
     "data": {
      "image/svg+xml": [
       "<?xml version=\"1.0\" encoding=\"utf-8\"?>\n",
       "<svg xmlns=\"http://www.w3.org/2000/svg\" xmlns:xlink=\"http://www.w3.org/1999/xlink\" width=\"600\" height=\"400\" viewBox=\"0 0 2400 1600\">\n",
       "<defs>\n",
       "  <clipPath id=\"clip530\">\n",
       "    <rect x=\"0\" y=\"0\" width=\"2400\" height=\"1600\"/>\n",
       "  </clipPath>\n",
       "</defs>\n",
       "<path clip-path=\"url(#clip530)\" d=\"\n",
       "M0 1600 L2400 1600 L2400 0 L0 0  Z\n",
       "  \" fill=\"#ffffff\" fill-rule=\"evenodd\" fill-opacity=\"1\"/>\n",
       "<defs>\n",
       "  <clipPath id=\"clip531\">\n",
       "    <rect x=\"480\" y=\"0\" width=\"1681\" height=\"1600\"/>\n",
       "  </clipPath>\n",
       "</defs>\n",
       "<path clip-path=\"url(#clip530)\" d=\"\n",
       "M249.195 1423.18 L2352.76 1423.18 L2352.76 47.2441 L249.195 47.2441  Z\n",
       "  \" fill=\"#ffffff\" fill-rule=\"evenodd\" fill-opacity=\"1\"/>\n",
       "<defs>\n",
       "  <clipPath id=\"clip532\">\n",
       "    <rect x=\"249\" y=\"47\" width=\"2105\" height=\"1377\"/>\n",
       "  </clipPath>\n",
       "</defs>\n",
       "<polyline clip-path=\"url(#clip532)\" style=\"stroke:#000000; stroke-linecap:butt; stroke-linejoin:round; stroke-width:2; stroke-opacity:0.1; fill:none\" points=\"\n",
       "  556.791,1423.18 556.791,47.2441 \n",
       "  \"/>\n",
       "<polyline clip-path=\"url(#clip532)\" style=\"stroke:#000000; stroke-linecap:butt; stroke-linejoin:round; stroke-width:2; stroke-opacity:0.1; fill:none\" points=\"\n",
       "  970.227,1423.18 970.227,47.2441 \n",
       "  \"/>\n",
       "<polyline clip-path=\"url(#clip532)\" style=\"stroke:#000000; stroke-linecap:butt; stroke-linejoin:round; stroke-width:2; stroke-opacity:0.1; fill:none\" points=\"\n",
       "  1383.66,1423.18 1383.66,47.2441 \n",
       "  \"/>\n",
       "<polyline clip-path=\"url(#clip532)\" style=\"stroke:#000000; stroke-linecap:butt; stroke-linejoin:round; stroke-width:2; stroke-opacity:0.1; fill:none\" points=\"\n",
       "  1797.1,1423.18 1797.1,47.2441 \n",
       "  \"/>\n",
       "<polyline clip-path=\"url(#clip532)\" style=\"stroke:#000000; stroke-linecap:butt; stroke-linejoin:round; stroke-width:2; stroke-opacity:0.1; fill:none\" points=\"\n",
       "  2210.53,1423.18 2210.53,47.2441 \n",
       "  \"/>\n",
       "<polyline clip-path=\"url(#clip530)\" style=\"stroke:#000000; stroke-linecap:butt; stroke-linejoin:round; stroke-width:4; stroke-opacity:1; fill:none\" points=\"\n",
       "  249.195,1423.18 2352.76,1423.18 \n",
       "  \"/>\n",
       "<polyline clip-path=\"url(#clip530)\" style=\"stroke:#000000; stroke-linecap:butt; stroke-linejoin:round; stroke-width:4; stroke-opacity:1; fill:none\" points=\"\n",
       "  556.791,1423.18 556.791,1404.28 \n",
       "  \"/>\n",
       "<polyline clip-path=\"url(#clip530)\" style=\"stroke:#000000; stroke-linecap:butt; stroke-linejoin:round; stroke-width:4; stroke-opacity:1; fill:none\" points=\"\n",
       "  970.227,1423.18 970.227,1404.28 \n",
       "  \"/>\n",
       "<polyline clip-path=\"url(#clip530)\" style=\"stroke:#000000; stroke-linecap:butt; stroke-linejoin:round; stroke-width:4; stroke-opacity:1; fill:none\" points=\"\n",
       "  1383.66,1423.18 1383.66,1404.28 \n",
       "  \"/>\n",
       "<polyline clip-path=\"url(#clip530)\" style=\"stroke:#000000; stroke-linecap:butt; stroke-linejoin:round; stroke-width:4; stroke-opacity:1; fill:none\" points=\"\n",
       "  1797.1,1423.18 1797.1,1404.28 \n",
       "  \"/>\n",
       "<polyline clip-path=\"url(#clip530)\" style=\"stroke:#000000; stroke-linecap:butt; stroke-linejoin:round; stroke-width:4; stroke-opacity:1; fill:none\" points=\"\n",
       "  2210.53,1423.18 2210.53,1404.28 \n",
       "  \"/>\n",
       "<path clip-path=\"url(#clip530)\" d=\"M528.527 1481.64 L544.847 1481.64 L544.847 1485.58 L522.902 1485.58 L522.902 1481.64 Q525.564 1478.89 530.148 1474.26 Q534.754 1469.61 535.935 1468.27 Q538.18 1465.74 539.06 1464.01 Q539.962 1462.25 539.962 1460.56 Q539.962 1457.8 538.018 1456.07 Q536.097 1454.33 532.995 1454.33 Q530.796 1454.33 528.342 1455.09 Q525.912 1455.86 523.134 1457.41 L523.134 1452.69 Q525.958 1451.55 528.412 1450.97 Q530.865 1450.39 532.902 1450.39 Q538.273 1450.39 541.467 1453.08 Q544.661 1455.77 544.661 1460.26 Q544.661 1462.39 543.851 1464.31 Q543.064 1466.2 540.958 1468.8 Q540.379 1469.47 537.277 1472.69 Q534.175 1475.88 528.527 1481.64 Z\" fill=\"#000000\" fill-rule=\"evenodd\" fill-opacity=\"1\" /><path clip-path=\"url(#clip530)\" d=\"M554.661 1479.7 L559.546 1479.7 L559.546 1485.58 L554.661 1485.58 L554.661 1479.7 Z\" fill=\"#000000\" fill-rule=\"evenodd\" fill-opacity=\"1\" /><path clip-path=\"url(#clip530)\" d=\"M569.777 1451.02 L588.133 1451.02 L588.133 1454.96 L574.059 1454.96 L574.059 1463.43 Q575.078 1463.08 576.096 1462.92 Q577.115 1462.73 578.133 1462.73 Q583.92 1462.73 587.3 1465.9 Q590.68 1469.08 590.68 1474.49 Q590.68 1480.07 587.208 1483.17 Q583.735 1486.25 577.416 1486.25 Q575.24 1486.25 572.971 1485.88 Q570.726 1485.51 568.319 1484.77 L568.319 1480.07 Q570.402 1481.2 572.624 1481.76 Q574.846 1482.32 577.323 1482.32 Q581.328 1482.32 583.666 1480.21 Q586.004 1478.1 586.004 1474.49 Q586.004 1470.88 583.666 1468.77 Q581.328 1466.67 577.323 1466.67 Q575.448 1466.67 573.573 1467.08 Q571.721 1467.5 569.777 1468.38 L569.777 1451.02 Z\" fill=\"#000000\" fill-rule=\"evenodd\" fill-opacity=\"1\" /><path clip-path=\"url(#clip530)\" d=\"M937.391 1451.02 L955.748 1451.02 L955.748 1454.96 L941.674 1454.96 L941.674 1463.43 Q942.692 1463.08 943.711 1462.92 Q944.729 1462.73 945.748 1462.73 Q951.535 1462.73 954.914 1465.9 Q958.294 1469.08 958.294 1474.49 Q958.294 1480.07 954.822 1483.17 Q951.35 1486.25 945.03 1486.25 Q942.854 1486.25 940.586 1485.88 Q938.34 1485.51 935.933 1484.77 L935.933 1480.07 Q938.016 1481.2 940.238 1481.76 Q942.461 1482.32 944.938 1482.32 Q948.942 1482.32 951.28 1480.21 Q953.618 1478.1 953.618 1474.49 Q953.618 1470.88 951.28 1468.77 Q948.942 1466.67 944.938 1466.67 Q943.063 1466.67 941.188 1467.08 Q939.336 1467.5 937.391 1468.38 L937.391 1451.02 Z\" fill=\"#000000\" fill-rule=\"evenodd\" fill-opacity=\"1\" /><path clip-path=\"url(#clip530)\" d=\"M967.507 1479.7 L972.391 1479.7 L972.391 1485.58 L967.507 1485.58 L967.507 1479.7 Z\" fill=\"#000000\" fill-rule=\"evenodd\" fill-opacity=\"1\" /><path clip-path=\"url(#clip530)\" d=\"M992.576 1454.1 Q988.965 1454.1 987.136 1457.66 Q985.331 1461.2 985.331 1468.33 Q985.331 1475.44 987.136 1479.01 Q988.965 1482.55 992.576 1482.55 Q996.21 1482.55 998.016 1479.01 Q999.845 1475.44 999.845 1468.33 Q999.845 1461.2 998.016 1457.66 Q996.21 1454.1 992.576 1454.1 M992.576 1450.39 Q998.386 1450.39 1001.44 1455 Q1004.52 1459.58 1004.52 1468.33 Q1004.52 1477.06 1001.44 1481.67 Q998.386 1486.25 992.576 1486.25 Q986.766 1486.25 983.687 1481.67 Q980.632 1477.06 980.632 1468.33 Q980.632 1459.58 983.687 1455 Q986.766 1450.39 992.576 1450.39 Z\" fill=\"#000000\" fill-rule=\"evenodd\" fill-opacity=\"1\" /><path clip-path=\"url(#clip530)\" d=\"M1349.98 1451.02 L1372.2 1451.02 L1372.2 1453.01 L1359.66 1485.58 L1354.77 1485.58 L1366.58 1454.96 L1349.98 1454.96 L1349.98 1451.02 Z\" fill=\"#000000\" fill-rule=\"evenodd\" fill-opacity=\"1\" /><path clip-path=\"url(#clip530)\" d=\"M1381.32 1479.7 L1386.21 1479.7 L1386.21 1485.58 L1381.32 1485.58 L1381.32 1479.7 Z\" fill=\"#000000\" fill-rule=\"evenodd\" fill-opacity=\"1\" /><path clip-path=\"url(#clip530)\" d=\"M1396.44 1451.02 L1414.8 1451.02 L1414.8 1454.96 L1400.72 1454.96 L1400.72 1463.43 Q1401.74 1463.08 1402.76 1462.92 Q1403.78 1462.73 1404.8 1462.73 Q1410.58 1462.73 1413.96 1465.9 Q1417.34 1469.08 1417.34 1474.49 Q1417.34 1480.07 1413.87 1483.17 Q1410.4 1486.25 1404.08 1486.25 Q1401.9 1486.25 1399.63 1485.88 Q1397.39 1485.51 1394.98 1484.77 L1394.98 1480.07 Q1397.07 1481.2 1399.29 1481.76 Q1401.51 1482.32 1403.99 1482.32 Q1407.99 1482.32 1410.33 1480.21 Q1412.67 1478.1 1412.67 1474.49 Q1412.67 1470.88 1410.33 1468.77 Q1407.99 1466.67 1403.99 1466.67 Q1402.11 1466.67 1400.24 1467.08 Q1398.38 1467.5 1396.44 1468.38 L1396.44 1451.02 Z\" fill=\"#000000\" fill-rule=\"evenodd\" fill-opacity=\"1\" /><path clip-path=\"url(#clip530)\" d=\"M1749.17 1481.64 L1756.81 1481.64 L1756.81 1455.28 L1748.5 1456.95 L1748.5 1452.69 L1756.76 1451.02 L1761.44 1451.02 L1761.44 1481.64 L1769.08 1481.64 L1769.08 1485.58 L1749.17 1485.58 L1749.17 1481.64 Z\" fill=\"#000000\" fill-rule=\"evenodd\" fill-opacity=\"1\" /><path clip-path=\"url(#clip530)\" d=\"M1788.52 1454.1 Q1784.91 1454.1 1783.08 1457.66 Q1781.28 1461.2 1781.28 1468.33 Q1781.28 1475.44 1783.08 1479.01 Q1784.91 1482.55 1788.52 1482.55 Q1792.16 1482.55 1793.96 1479.01 Q1795.79 1475.44 1795.79 1468.33 Q1795.79 1461.2 1793.96 1457.66 Q1792.16 1454.1 1788.52 1454.1 M1788.52 1450.39 Q1794.33 1450.39 1797.39 1455 Q1800.47 1459.58 1800.47 1468.33 Q1800.47 1477.06 1797.39 1481.67 Q1794.33 1486.25 1788.52 1486.25 Q1782.71 1486.25 1779.63 1481.67 Q1776.58 1477.06 1776.58 1468.33 Q1776.58 1459.58 1779.63 1455 Q1782.71 1450.39 1788.52 1450.39 Z\" fill=\"#000000\" fill-rule=\"evenodd\" fill-opacity=\"1\" /><path clip-path=\"url(#clip530)\" d=\"M1808.68 1479.7 L1813.57 1479.7 L1813.57 1485.58 L1808.68 1485.58 L1808.68 1479.7 Z\" fill=\"#000000\" fill-rule=\"evenodd\" fill-opacity=\"1\" /><path clip-path=\"url(#clip530)\" d=\"M1833.75 1454.1 Q1830.14 1454.1 1828.31 1457.66 Q1826.51 1461.2 1826.51 1468.33 Q1826.51 1475.44 1828.31 1479.01 Q1830.14 1482.55 1833.75 1482.55 Q1837.39 1482.55 1839.19 1479.01 Q1841.02 1475.44 1841.02 1468.33 Q1841.02 1461.2 1839.19 1457.66 Q1837.39 1454.1 1833.75 1454.1 M1833.75 1450.39 Q1839.56 1450.39 1842.62 1455 Q1845.7 1459.58 1845.7 1468.33 Q1845.7 1477.06 1842.62 1481.67 Q1839.56 1486.25 1833.75 1486.25 Q1827.94 1486.25 1824.86 1481.67 Q1821.81 1477.06 1821.81 1468.33 Q1821.81 1459.58 1824.86 1455 Q1827.94 1450.39 1833.75 1450.39 Z\" fill=\"#000000\" fill-rule=\"evenodd\" fill-opacity=\"1\" /><path clip-path=\"url(#clip530)\" d=\"M2163.1 1481.64 L2170.74 1481.64 L2170.74 1455.28 L2162.43 1456.95 L2162.43 1452.69 L2170.7 1451.02 L2175.37 1451.02 L2175.37 1481.64 L2183.01 1481.64 L2183.01 1485.58 L2163.1 1485.58 L2163.1 1481.64 Z\" fill=\"#000000\" fill-rule=\"evenodd\" fill-opacity=\"1\" /><path clip-path=\"url(#clip530)\" d=\"M2196.48 1481.64 L2212.8 1481.64 L2212.8 1485.58 L2190.86 1485.58 L2190.86 1481.64 Q2193.52 1478.89 2198.1 1474.26 Q2202.71 1469.61 2203.89 1468.27 Q2206.14 1465.74 2207.02 1464.01 Q2207.92 1462.25 2207.92 1460.56 Q2207.92 1457.8 2205.97 1456.07 Q2204.05 1454.33 2200.95 1454.33 Q2198.75 1454.33 2196.3 1455.09 Q2193.87 1455.86 2191.09 1457.41 L2191.09 1452.69 Q2193.91 1451.55 2196.37 1450.97 Q2198.82 1450.39 2200.86 1450.39 Q2206.23 1450.39 2209.42 1453.08 Q2212.62 1455.77 2212.62 1460.26 Q2212.62 1462.39 2211.81 1464.31 Q2211.02 1466.2 2208.91 1468.8 Q2208.33 1469.47 2205.23 1472.69 Q2202.13 1475.88 2196.48 1481.64 Z\" fill=\"#000000\" fill-rule=\"evenodd\" fill-opacity=\"1\" /><path clip-path=\"url(#clip530)\" d=\"M2222.62 1479.7 L2227.5 1479.7 L2227.5 1485.58 L2222.62 1485.58 L2222.62 1479.7 Z\" fill=\"#000000\" fill-rule=\"evenodd\" fill-opacity=\"1\" /><path clip-path=\"url(#clip530)\" d=\"M2237.73 1451.02 L2256.09 1451.02 L2256.09 1454.96 L2242.02 1454.96 L2242.02 1463.43 Q2243.03 1463.08 2244.05 1462.92 Q2245.07 1462.73 2246.09 1462.73 Q2251.88 1462.73 2255.26 1465.9 Q2258.64 1469.08 2258.64 1474.49 Q2258.64 1480.07 2255.16 1483.17 Q2251.69 1486.25 2245.37 1486.25 Q2243.2 1486.25 2240.93 1485.88 Q2238.68 1485.51 2236.27 1484.77 L2236.27 1480.07 Q2238.36 1481.2 2240.58 1481.76 Q2242.8 1482.32 2245.28 1482.32 Q2249.28 1482.32 2251.62 1480.21 Q2253.96 1478.1 2253.96 1474.49 Q2253.96 1470.88 2251.62 1468.77 Q2249.28 1466.67 2245.28 1466.67 Q2243.4 1466.67 2241.53 1467.08 Q2239.68 1467.5 2237.73 1468.38 L2237.73 1451.02 Z\" fill=\"#000000\" fill-rule=\"evenodd\" fill-opacity=\"1\" /><path clip-path=\"url(#clip530)\" d=\"M1239.32 1548.76 L1239.32 1551.62 L1212.4 1551.62 Q1212.78 1557.67 1216.03 1560.85 Q1219.3 1564 1225.13 1564 Q1228.5 1564 1231.65 1563.17 Q1234.84 1562.35 1237.95 1560.69 L1237.95 1566.23 Q1234.8 1567.57 1231.49 1568.27 Q1228.18 1568.97 1224.78 1568.97 Q1216.25 1568.97 1211.25 1564 Q1206.29 1559.04 1206.29 1550.57 Q1206.29 1541.82 1211 1536.69 Q1215.74 1531.54 1223.76 1531.54 Q1230.95 1531.54 1235.12 1536.18 Q1239.32 1540.8 1239.32 1548.76 M1233.47 1547.04 Q1233.4 1542.23 1230.76 1539.37 Q1228.15 1536.5 1223.82 1536.5 Q1218.92 1536.5 1215.96 1539.27 Q1213.03 1542.04 1212.59 1547.07 L1233.47 1547.04 Z\" fill=\"#000000\" fill-rule=\"evenodd\" fill-opacity=\"1\" /><path clip-path=\"url(#clip530)\" d=\"M1254.6 1562.7 L1254.6 1581.6 L1248.71 1581.6 L1248.71 1532.4 L1254.6 1532.4 L1254.6 1537.81 Q1256.45 1534.62 1259.25 1533.1 Q1262.08 1531.54 1266 1531.54 Q1272.49 1531.54 1276.53 1536.69 Q1280.61 1541.85 1280.61 1550.25 Q1280.61 1558.65 1276.53 1563.81 Q1272.49 1568.97 1266 1568.97 Q1262.08 1568.97 1259.25 1567.44 Q1256.45 1565.88 1254.6 1562.7 M1274.53 1550.25 Q1274.53 1543.79 1271.85 1540.13 Q1269.21 1536.44 1264.56 1536.44 Q1259.92 1536.44 1257.24 1540.13 Q1254.6 1543.79 1254.6 1550.25 Q1254.6 1556.71 1257.24 1560.4 Q1259.92 1564.07 1264.56 1564.07 Q1269.21 1564.07 1271.85 1560.4 Q1274.53 1556.71 1274.53 1550.25 Z\" fill=\"#000000\" fill-rule=\"evenodd\" fill-opacity=\"1\" /><path clip-path=\"url(#clip530)\" d=\"M1304.13 1536.5 Q1299.42 1536.5 1296.68 1540.19 Q1293.94 1543.85 1293.94 1550.25 Q1293.94 1556.65 1296.65 1560.34 Q1299.38 1564 1304.13 1564 Q1308.81 1564 1311.54 1560.31 Q1314.28 1556.62 1314.28 1550.25 Q1314.28 1543.92 1311.54 1540.23 Q1308.81 1536.5 1304.13 1536.5 M1304.13 1531.54 Q1311.77 1531.54 1316.13 1536.5 Q1320.49 1541.47 1320.49 1550.25 Q1320.49 1559 1316.13 1564 Q1311.77 1568.97 1304.13 1568.97 Q1296.46 1568.97 1292.1 1564 Q1287.77 1559 1287.77 1550.25 Q1287.77 1541.47 1292.1 1536.5 Q1296.46 1531.54 1304.13 1531.54 Z\" fill=\"#000000\" fill-rule=\"evenodd\" fill-opacity=\"1\" /><path clip-path=\"url(#clip530)\" d=\"M1355.85 1533.76 L1355.85 1539.24 Q1353.37 1537.87 1350.85 1537.2 Q1348.37 1536.5 1345.82 1536.5 Q1340.12 1536.5 1336.97 1540.13 Q1333.82 1543.73 1333.82 1550.25 Q1333.82 1556.78 1336.97 1560.4 Q1340.12 1564 1345.82 1564 Q1348.37 1564 1350.85 1563.33 Q1353.37 1562.63 1355.85 1561.26 L1355.85 1566.68 Q1353.4 1567.82 1350.76 1568.39 Q1348.15 1568.97 1345.19 1568.97 Q1337.13 1568.97 1332.39 1563.91 Q1327.65 1558.85 1327.65 1550.25 Q1327.65 1541.53 1332.42 1536.53 Q1337.23 1531.54 1345.57 1531.54 Q1348.27 1531.54 1350.85 1532.11 Q1353.43 1532.65 1355.85 1533.76 Z\" fill=\"#000000\" fill-rule=\"evenodd\" fill-opacity=\"1\" /><path clip-path=\"url(#clip530)\" d=\"M1395.67 1546.53 L1395.67 1568.04 L1389.81 1568.04 L1389.81 1546.72 Q1389.81 1541.66 1387.84 1539.14 Q1385.86 1536.63 1381.92 1536.63 Q1377.17 1536.63 1374.44 1539.65 Q1371.7 1542.68 1371.7 1547.9 L1371.7 1568.04 L1365.81 1568.04 L1365.81 1518.52 L1371.7 1518.52 L1371.7 1537.93 Q1373.8 1534.72 1376.63 1533.13 Q1379.5 1531.54 1383.22 1531.54 Q1389.36 1531.54 1392.51 1535.36 Q1395.67 1539.14 1395.67 1546.53 Z\" fill=\"#000000\" fill-rule=\"evenodd\" fill-opacity=\"1\" /><polyline clip-path=\"url(#clip532)\" style=\"stroke:#000000; stroke-linecap:butt; stroke-linejoin:round; stroke-width:2; stroke-opacity:0.1; fill:none\" points=\"\n",
       "  249.195,1408.54 2352.76,1408.54 \n",
       "  \"/>\n",
       "<polyline clip-path=\"url(#clip532)\" style=\"stroke:#000000; stroke-linecap:butt; stroke-linejoin:round; stroke-width:2; stroke-opacity:0.1; fill:none\" points=\"\n",
       "  249.195,1205.16 2352.76,1205.16 \n",
       "  \"/>\n",
       "<polyline clip-path=\"url(#clip532)\" style=\"stroke:#000000; stroke-linecap:butt; stroke-linejoin:round; stroke-width:2; stroke-opacity:0.1; fill:none\" points=\"\n",
       "  249.195,1001.78 2352.76,1001.78 \n",
       "  \"/>\n",
       "<polyline clip-path=\"url(#clip532)\" style=\"stroke:#000000; stroke-linecap:butt; stroke-linejoin:round; stroke-width:2; stroke-opacity:0.1; fill:none\" points=\"\n",
       "  249.195,798.402 2352.76,798.402 \n",
       "  \"/>\n",
       "<polyline clip-path=\"url(#clip532)\" style=\"stroke:#000000; stroke-linecap:butt; stroke-linejoin:round; stroke-width:2; stroke-opacity:0.1; fill:none\" points=\"\n",
       "  249.195,595.023 2352.76,595.023 \n",
       "  \"/>\n",
       "<polyline clip-path=\"url(#clip532)\" style=\"stroke:#000000; stroke-linecap:butt; stroke-linejoin:round; stroke-width:2; stroke-opacity:0.1; fill:none\" points=\"\n",
       "  249.195,391.644 2352.76,391.644 \n",
       "  \"/>\n",
       "<polyline clip-path=\"url(#clip532)\" style=\"stroke:#000000; stroke-linecap:butt; stroke-linejoin:round; stroke-width:2; stroke-opacity:0.1; fill:none\" points=\"\n",
       "  249.195,188.265 2352.76,188.265 \n",
       "  \"/>\n",
       "<polyline clip-path=\"url(#clip530)\" style=\"stroke:#000000; stroke-linecap:butt; stroke-linejoin:round; stroke-width:4; stroke-opacity:1; fill:none\" points=\"\n",
       "  249.195,1423.18 249.195,47.2441 \n",
       "  \"/>\n",
       "<polyline clip-path=\"url(#clip530)\" style=\"stroke:#000000; stroke-linecap:butt; stroke-linejoin:round; stroke-width:4; stroke-opacity:1; fill:none\" points=\"\n",
       "  249.195,1408.54 268.092,1408.54 \n",
       "  \"/>\n",
       "<polyline clip-path=\"url(#clip530)\" style=\"stroke:#000000; stroke-linecap:butt; stroke-linejoin:round; stroke-width:4; stroke-opacity:1; fill:none\" points=\"\n",
       "  249.195,1205.16 268.092,1205.16 \n",
       "  \"/>\n",
       "<polyline clip-path=\"url(#clip530)\" style=\"stroke:#000000; stroke-linecap:butt; stroke-linejoin:round; stroke-width:4; stroke-opacity:1; fill:none\" points=\"\n",
       "  249.195,1001.78 268.092,1001.78 \n",
       "  \"/>\n",
       "<polyline clip-path=\"url(#clip530)\" style=\"stroke:#000000; stroke-linecap:butt; stroke-linejoin:round; stroke-width:4; stroke-opacity:1; fill:none\" points=\"\n",
       "  249.195,798.402 268.092,798.402 \n",
       "  \"/>\n",
       "<polyline clip-path=\"url(#clip530)\" style=\"stroke:#000000; stroke-linecap:butt; stroke-linejoin:round; stroke-width:4; stroke-opacity:1; fill:none\" points=\"\n",
       "  249.195,595.023 268.092,595.023 \n",
       "  \"/>\n",
       "<polyline clip-path=\"url(#clip530)\" style=\"stroke:#000000; stroke-linecap:butt; stroke-linejoin:round; stroke-width:4; stroke-opacity:1; fill:none\" points=\"\n",
       "  249.195,391.644 268.092,391.644 \n",
       "  \"/>\n",
       "<polyline clip-path=\"url(#clip530)\" style=\"stroke:#000000; stroke-linecap:butt; stroke-linejoin:round; stroke-width:4; stroke-opacity:1; fill:none\" points=\"\n",
       "  249.195,188.265 268.092,188.265 \n",
       "  \"/>\n",
       "<path clip-path=\"url(#clip530)\" d=\"M117.663 1421.88 L125.302 1421.88 L125.302 1395.52 L116.992 1397.18 L116.992 1392.92 L125.255 1391.26 L129.931 1391.26 L129.931 1421.88 L137.57 1421.88 L137.57 1425.82 L117.663 1425.82 L117.663 1421.88 Z\" fill=\"#000000\" fill-rule=\"evenodd\" fill-opacity=\"1\" /><path clip-path=\"url(#clip530)\" d=\"M145.834 1391.26 L168.056 1391.26 L168.056 1393.25 L155.51 1425.82 L150.626 1425.82 L162.431 1395.19 L145.834 1395.19 L145.834 1391.26 Z\" fill=\"#000000\" fill-rule=\"evenodd\" fill-opacity=\"1\" /><path clip-path=\"url(#clip530)\" d=\"M177.176 1419.94 L182.061 1419.94 L182.061 1425.82 L177.176 1425.82 L177.176 1419.94 Z\" fill=\"#000000\" fill-rule=\"evenodd\" fill-opacity=\"1\" /><path clip-path=\"url(#clip530)\" d=\"M192.292 1391.26 L210.649 1391.26 L210.649 1395.19 L196.575 1395.19 L196.575 1403.67 Q197.593 1403.32 198.612 1403.16 Q199.63 1402.97 200.649 1402.97 Q206.436 1402.97 209.815 1406.14 Q213.195 1409.31 213.195 1414.73 Q213.195 1420.31 209.723 1423.41 Q206.25 1426.49 199.931 1426.49 Q197.755 1426.49 195.487 1426.12 Q193.241 1425.75 190.834 1425.01 L190.834 1420.31 Q192.917 1421.44 195.139 1422 Q197.362 1422.55 199.838 1422.55 Q203.843 1422.55 206.181 1420.45 Q208.519 1418.34 208.519 1414.73 Q208.519 1411.12 206.181 1409.01 Q203.843 1406.91 199.838 1406.91 Q197.963 1406.91 196.088 1407.32 Q194.237 1407.74 192.292 1408.62 L192.292 1391.26 Z\" fill=\"#000000\" fill-rule=\"evenodd\" fill-opacity=\"1\" /><path clip-path=\"url(#clip530)\" d=\"M119.885 1218.5 L136.204 1218.5 L136.204 1222.44 L114.26 1222.44 L114.26 1218.5 Q116.922 1215.75 121.505 1211.12 Q126.112 1206.47 127.292 1205.12 Q129.538 1202.6 130.417 1200.87 Q131.32 1199.11 131.32 1197.42 Q131.32 1194.66 129.376 1192.93 Q127.455 1191.19 124.353 1191.19 Q122.154 1191.19 119.7 1191.95 Q117.269 1192.72 114.492 1194.27 L114.492 1189.55 Q117.316 1188.41 119.769 1187.83 Q122.223 1187.25 124.26 1187.25 Q129.63 1187.25 132.825 1189.94 Q136.019 1192.62 136.019 1197.12 Q136.019 1199.25 135.209 1201.17 Q134.422 1203.06 132.316 1205.66 Q131.737 1206.33 128.635 1209.55 Q125.533 1212.74 119.885 1218.5 Z\" fill=\"#000000\" fill-rule=\"evenodd\" fill-opacity=\"1\" /><path clip-path=\"url(#clip530)\" d=\"M156.019 1190.96 Q152.408 1190.96 150.579 1194.52 Q148.774 1198.06 148.774 1205.19 Q148.774 1212.3 150.579 1215.87 Q152.408 1219.41 156.019 1219.41 Q159.653 1219.41 161.459 1215.87 Q163.288 1212.3 163.288 1205.19 Q163.288 1198.06 161.459 1194.52 Q159.653 1190.96 156.019 1190.96 M156.019 1187.25 Q161.829 1187.25 164.885 1191.86 Q167.964 1196.44 167.964 1205.19 Q167.964 1213.92 164.885 1218.53 Q161.829 1223.11 156.019 1223.11 Q150.209 1223.11 147.13 1218.53 Q144.075 1213.92 144.075 1205.19 Q144.075 1196.44 147.13 1191.86 Q150.209 1187.25 156.019 1187.25 Z\" fill=\"#000000\" fill-rule=\"evenodd\" fill-opacity=\"1\" /><path clip-path=\"url(#clip530)\" d=\"M176.181 1216.56 L181.065 1216.56 L181.065 1222.44 L176.181 1222.44 L176.181 1216.56 Z\" fill=\"#000000\" fill-rule=\"evenodd\" fill-opacity=\"1\" /><path clip-path=\"url(#clip530)\" d=\"M201.25 1190.96 Q197.639 1190.96 195.811 1194.52 Q194.005 1198.06 194.005 1205.19 Q194.005 1212.3 195.811 1215.87 Q197.639 1219.41 201.25 1219.41 Q204.885 1219.41 206.69 1215.87 Q208.519 1212.3 208.519 1205.19 Q208.519 1198.06 206.69 1194.52 Q204.885 1190.96 201.25 1190.96 M201.25 1187.25 Q207.061 1187.25 210.116 1191.86 Q213.195 1196.44 213.195 1205.19 Q213.195 1213.92 210.116 1218.53 Q207.061 1223.11 201.25 1223.11 Q195.44 1223.11 192.362 1218.53 Q189.306 1213.92 189.306 1205.19 Q189.306 1196.44 192.362 1191.86 Q195.44 1187.25 201.25 1187.25 Z\" fill=\"#000000\" fill-rule=\"evenodd\" fill-opacity=\"1\" /><path clip-path=\"url(#clip530)\" d=\"M120.88 1015.13 L137.2 1015.13 L137.2 1019.06 L115.256 1019.06 L115.256 1015.13 Q117.918 1012.37 122.501 1007.74 Q127.107 1003.09 128.288 1001.75 Q130.533 999.223 131.413 997.487 Q132.316 995.727 132.316 994.038 Q132.316 991.283 130.371 989.547 Q128.45 987.811 125.348 987.811 Q123.149 987.811 120.695 988.575 Q118.265 989.339 115.487 990.889 L115.487 986.167 Q118.311 985.033 120.765 984.454 Q123.218 983.876 125.255 983.876 Q130.626 983.876 133.82 986.561 Q137.015 989.246 137.015 993.737 Q137.015 995.866 136.204 997.788 Q135.417 999.686 133.311 1002.28 Q132.732 1002.95 129.63 1006.17 Q126.529 1009.36 120.88 1015.13 Z\" fill=\"#000000\" fill-rule=\"evenodd\" fill-opacity=\"1\" /><path clip-path=\"url(#clip530)\" d=\"M151.042 1015.13 L167.362 1015.13 L167.362 1019.06 L145.417 1019.06 L145.417 1015.13 Q148.079 1012.37 152.663 1007.74 Q157.269 1003.09 158.45 1001.75 Q160.695 999.223 161.575 997.487 Q162.477 995.727 162.477 994.038 Q162.477 991.283 160.533 989.547 Q158.612 987.811 155.51 987.811 Q153.311 987.811 150.857 988.575 Q148.427 989.339 145.649 990.889 L145.649 986.167 Q148.473 985.033 150.927 984.454 Q153.38 983.876 155.417 983.876 Q160.788 983.876 163.982 986.561 Q167.177 989.246 167.177 993.737 Q167.177 995.866 166.366 997.788 Q165.579 999.686 163.473 1002.28 Q162.894 1002.95 159.792 1006.17 Q156.69 1009.36 151.042 1015.13 Z\" fill=\"#000000\" fill-rule=\"evenodd\" fill-opacity=\"1\" /><path clip-path=\"url(#clip530)\" d=\"M177.176 1013.18 L182.061 1013.18 L182.061 1019.06 L177.176 1019.06 L177.176 1013.18 Z\" fill=\"#000000\" fill-rule=\"evenodd\" fill-opacity=\"1\" /><path clip-path=\"url(#clip530)\" d=\"M192.292 984.501 L210.649 984.501 L210.649 988.436 L196.575 988.436 L196.575 996.908 Q197.593 996.561 198.612 996.399 Q199.63 996.214 200.649 996.214 Q206.436 996.214 209.815 999.385 Q213.195 1002.56 213.195 1007.97 Q213.195 1013.55 209.723 1016.65 Q206.25 1019.73 199.931 1019.73 Q197.755 1019.73 195.487 1019.36 Q193.241 1018.99 190.834 1018.25 L190.834 1013.55 Q192.917 1014.69 195.139 1015.24 Q197.362 1015.8 199.838 1015.8 Q203.843 1015.8 206.181 1013.69 Q208.519 1011.58 208.519 1007.97 Q208.519 1004.36 206.181 1002.26 Q203.843 1000.15 199.838 1000.15 Q197.963 1000.15 196.088 1000.57 Q194.237 1000.98 192.292 1001.86 L192.292 984.501 Z\" fill=\"#000000\" fill-rule=\"evenodd\" fill-opacity=\"1\" /><path clip-path=\"url(#clip530)\" d=\"M119.885 811.747 L136.204 811.747 L136.204 815.682 L114.26 815.682 L114.26 811.747 Q116.922 808.992 121.505 804.362 Q126.112 799.71 127.292 798.367 Q129.538 795.844 130.417 794.108 Q131.32 792.349 131.32 790.659 Q131.32 787.904 129.376 786.168 Q127.455 784.432 124.353 784.432 Q122.154 784.432 119.7 785.196 Q117.269 785.96 114.492 787.511 L114.492 782.788 Q117.316 781.654 119.769 781.075 Q122.223 780.497 124.26 780.497 Q129.63 780.497 132.825 783.182 Q136.019 785.867 136.019 790.358 Q136.019 792.487 135.209 794.409 Q134.422 796.307 132.316 798.899 Q131.737 799.571 128.635 802.788 Q125.533 805.983 119.885 811.747 Z\" fill=\"#000000\" fill-rule=\"evenodd\" fill-opacity=\"1\" /><path clip-path=\"url(#clip530)\" d=\"M146.066 781.122 L164.422 781.122 L164.422 785.057 L150.348 785.057 L150.348 793.529 Q151.366 793.182 152.385 793.02 Q153.403 792.835 154.422 792.835 Q160.209 792.835 163.589 796.006 Q166.968 799.177 166.968 804.594 Q166.968 810.173 163.496 813.274 Q160.024 816.353 153.704 816.353 Q151.528 816.353 149.26 815.983 Q147.015 815.612 144.607 814.872 L144.607 810.173 Q146.691 811.307 148.913 811.862 Q151.135 812.418 153.612 812.418 Q157.616 812.418 159.954 810.311 Q162.292 808.205 162.292 804.594 Q162.292 800.983 159.954 798.876 Q157.616 796.77 153.612 796.77 Q151.737 796.77 149.862 797.187 Q148.01 797.603 146.066 798.483 L146.066 781.122 Z\" fill=\"#000000\" fill-rule=\"evenodd\" fill-opacity=\"1\" /><path clip-path=\"url(#clip530)\" d=\"M176.181 809.802 L181.065 809.802 L181.065 815.682 L176.181 815.682 L176.181 809.802 Z\" fill=\"#000000\" fill-rule=\"evenodd\" fill-opacity=\"1\" /><path clip-path=\"url(#clip530)\" d=\"M201.25 784.2 Q197.639 784.2 195.811 787.765 Q194.005 791.307 194.005 798.437 Q194.005 805.543 195.811 809.108 Q197.639 812.649 201.25 812.649 Q204.885 812.649 206.69 809.108 Q208.519 805.543 208.519 798.437 Q208.519 791.307 206.69 787.765 Q204.885 784.2 201.25 784.2 M201.25 780.497 Q207.061 780.497 210.116 785.103 Q213.195 789.687 213.195 798.437 Q213.195 807.163 210.116 811.77 Q207.061 816.353 201.25 816.353 Q195.44 816.353 192.362 811.77 Q189.306 807.163 189.306 798.437 Q189.306 789.687 192.362 785.103 Q195.44 780.497 201.25 780.497 Z\" fill=\"#000000\" fill-rule=\"evenodd\" fill-opacity=\"1\" /><path clip-path=\"url(#clip530)\" d=\"M120.88 608.368 L137.2 608.368 L137.2 612.303 L115.256 612.303 L115.256 608.368 Q117.918 605.613 122.501 600.984 Q127.107 596.331 128.288 594.988 Q130.533 592.465 131.413 590.729 Q132.316 588.97 132.316 587.28 Q132.316 584.525 130.371 582.789 Q128.45 581.053 125.348 581.053 Q123.149 581.053 120.695 581.817 Q118.265 582.581 115.487 584.132 L115.487 579.41 Q118.311 578.275 120.765 577.697 Q123.218 577.118 125.255 577.118 Q130.626 577.118 133.82 579.803 Q137.015 582.488 137.015 586.979 Q137.015 589.109 136.204 591.03 Q135.417 592.928 133.311 595.521 Q132.732 596.192 129.63 599.409 Q126.529 602.604 120.88 608.368 Z\" fill=\"#000000\" fill-rule=\"evenodd\" fill-opacity=\"1\" /><path clip-path=\"url(#clip530)\" d=\"M145.834 577.743 L168.056 577.743 L168.056 579.734 L155.51 612.303 L150.626 612.303 L162.431 581.678 L145.834 581.678 L145.834 577.743 Z\" fill=\"#000000\" fill-rule=\"evenodd\" fill-opacity=\"1\" /><path clip-path=\"url(#clip530)\" d=\"M177.176 606.423 L182.061 606.423 L182.061 612.303 L177.176 612.303 L177.176 606.423 Z\" fill=\"#000000\" fill-rule=\"evenodd\" fill-opacity=\"1\" /><path clip-path=\"url(#clip530)\" d=\"M192.292 577.743 L210.649 577.743 L210.649 581.678 L196.575 581.678 L196.575 590.15 Q197.593 589.803 198.612 589.641 Q199.63 589.456 200.649 589.456 Q206.436 589.456 209.815 592.627 Q213.195 595.798 213.195 601.215 Q213.195 606.794 209.723 609.896 Q206.25 612.974 199.931 612.974 Q197.755 612.974 195.487 612.604 Q193.241 612.233 190.834 611.493 L190.834 606.794 Q192.917 607.928 195.139 608.484 Q197.362 609.039 199.838 609.039 Q203.843 609.039 206.181 606.933 Q208.519 604.826 208.519 601.215 Q208.519 597.604 206.181 595.497 Q203.843 593.391 199.838 593.391 Q197.963 593.391 196.088 593.808 Q194.237 594.224 192.292 595.104 L192.292 577.743 Z\" fill=\"#000000\" fill-rule=\"evenodd\" fill-opacity=\"1\" /><path clip-path=\"url(#clip530)\" d=\"M130.024 390.29 Q133.38 391.008 135.255 393.276 Q137.154 395.545 137.154 398.878 Q137.154 403.994 133.635 406.794 Q130.117 409.595 123.635 409.595 Q121.459 409.595 119.144 409.156 Q116.853 408.739 114.399 407.882 L114.399 403.369 Q116.343 404.503 118.658 405.082 Q120.973 405.66 123.496 405.66 Q127.894 405.66 130.186 403.924 Q132.501 402.188 132.501 398.878 Q132.501 395.822 130.348 394.109 Q128.218 392.373 124.399 392.373 L120.371 392.373 L120.371 388.531 L124.584 388.531 Q128.033 388.531 129.862 387.165 Q131.691 385.776 131.691 383.183 Q131.691 380.521 129.792 379.109 Q127.917 377.674 124.399 377.674 Q122.478 377.674 120.279 378.091 Q118.08 378.508 115.441 379.387 L115.441 375.221 Q118.103 374.48 120.418 374.109 Q122.755 373.739 124.816 373.739 Q130.14 373.739 133.242 376.17 Q136.343 378.577 136.343 382.697 Q136.343 385.568 134.7 387.558 Q133.056 389.526 130.024 390.29 Z\" fill=\"#000000\" fill-rule=\"evenodd\" fill-opacity=\"1\" /><path clip-path=\"url(#clip530)\" d=\"M156.019 377.443 Q152.408 377.443 150.579 381.008 Q148.774 384.549 148.774 391.679 Q148.774 398.785 150.579 402.35 Q152.408 405.892 156.019 405.892 Q159.653 405.892 161.459 402.35 Q163.288 398.785 163.288 391.679 Q163.288 384.549 161.459 381.008 Q159.653 377.443 156.019 377.443 M156.019 373.739 Q161.829 373.739 164.885 378.346 Q167.964 382.929 167.964 391.679 Q167.964 400.406 164.885 405.012 Q161.829 409.595 156.019 409.595 Q150.209 409.595 147.13 405.012 Q144.075 400.406 144.075 391.679 Q144.075 382.929 147.13 378.346 Q150.209 373.739 156.019 373.739 Z\" fill=\"#000000\" fill-rule=\"evenodd\" fill-opacity=\"1\" /><path clip-path=\"url(#clip530)\" d=\"M176.181 403.044 L181.065 403.044 L181.065 408.924 L176.181 408.924 L176.181 403.044 Z\" fill=\"#000000\" fill-rule=\"evenodd\" fill-opacity=\"1\" /><path clip-path=\"url(#clip530)\" d=\"M201.25 377.443 Q197.639 377.443 195.811 381.008 Q194.005 384.549 194.005 391.679 Q194.005 398.785 195.811 402.35 Q197.639 405.892 201.25 405.892 Q204.885 405.892 206.69 402.35 Q208.519 398.785 208.519 391.679 Q208.519 384.549 206.69 381.008 Q204.885 377.443 201.25 377.443 M201.25 373.739 Q207.061 373.739 210.116 378.346 Q213.195 382.929 213.195 391.679 Q213.195 400.406 210.116 405.012 Q207.061 409.595 201.25 409.595 Q195.44 409.595 192.362 405.012 Q189.306 400.406 189.306 391.679 Q189.306 382.929 192.362 378.346 Q195.44 373.739 201.25 373.739 Z\" fill=\"#000000\" fill-rule=\"evenodd\" fill-opacity=\"1\" /><path clip-path=\"url(#clip530)\" d=\"M131.019 186.911 Q134.376 187.629 136.251 189.897 Q138.149 192.166 138.149 195.499 Q138.149 200.615 134.63 203.416 Q131.112 206.217 124.63 206.217 Q122.455 206.217 120.14 205.777 Q117.848 205.36 115.394 204.504 L115.394 199.99 Q117.339 201.124 119.654 201.703 Q121.968 202.281 124.492 202.281 Q128.89 202.281 131.181 200.545 Q133.496 198.809 133.496 195.499 Q133.496 192.443 131.343 190.73 Q129.214 188.994 125.394 188.994 L121.367 188.994 L121.367 185.152 L125.58 185.152 Q129.029 185.152 130.857 183.786 Q132.686 182.397 132.686 179.805 Q132.686 177.143 130.788 175.731 Q128.913 174.295 125.394 174.295 Q123.473 174.295 121.274 174.712 Q119.075 175.129 116.436 176.008 L116.436 171.842 Q119.098 171.101 121.413 170.731 Q123.751 170.36 125.811 170.36 Q131.135 170.36 134.237 172.791 Q137.339 175.198 137.339 179.319 Q137.339 182.189 135.695 184.18 Q134.052 186.147 131.019 186.911 Z\" fill=\"#000000\" fill-rule=\"evenodd\" fill-opacity=\"1\" /><path clip-path=\"url(#clip530)\" d=\"M151.042 201.61 L167.362 201.61 L167.362 205.545 L145.417 205.545 L145.417 201.61 Q148.079 198.855 152.663 194.226 Q157.269 189.573 158.45 188.231 Q160.695 185.707 161.575 183.971 Q162.477 182.212 162.477 180.522 Q162.477 177.768 160.533 176.031 Q158.612 174.295 155.51 174.295 Q153.311 174.295 150.857 175.059 Q148.427 175.823 145.649 177.374 L145.649 172.652 Q148.473 171.518 150.927 170.939 Q153.38 170.36 155.417 170.36 Q160.788 170.36 163.982 173.045 Q167.177 175.731 167.177 180.221 Q167.177 182.351 166.366 184.272 Q165.579 186.17 163.473 188.763 Q162.894 189.434 159.792 192.652 Q156.69 195.846 151.042 201.61 Z\" fill=\"#000000\" fill-rule=\"evenodd\" fill-opacity=\"1\" /><path clip-path=\"url(#clip530)\" d=\"M177.176 199.666 L182.061 199.666 L182.061 205.545 L177.176 205.545 L177.176 199.666 Z\" fill=\"#000000\" fill-rule=\"evenodd\" fill-opacity=\"1\" /><path clip-path=\"url(#clip530)\" d=\"M192.292 170.985 L210.649 170.985 L210.649 174.92 L196.575 174.92 L196.575 183.393 Q197.593 183.045 198.612 182.883 Q199.63 182.698 200.649 182.698 Q206.436 182.698 209.815 185.869 Q213.195 189.041 213.195 194.457 Q213.195 200.036 209.723 203.138 Q206.25 206.217 199.931 206.217 Q197.755 206.217 195.487 205.846 Q193.241 205.476 190.834 204.735 L190.834 200.036 Q192.917 201.17 195.139 201.726 Q197.362 202.281 199.838 202.281 Q203.843 202.281 206.181 200.175 Q208.519 198.068 208.519 194.457 Q208.519 190.846 206.181 188.74 Q203.843 186.633 199.838 186.633 Q197.963 186.633 196.088 187.05 Q194.237 187.467 192.292 188.346 L192.292 170.985 Z\" fill=\"#000000\" fill-rule=\"evenodd\" fill-opacity=\"1\" /><path clip-path=\"url(#clip530)\" d=\"M35.1993 1145.86 Q31.2526 1143.67 29.3747 1140.61 Q27.4968 1137.56 27.4968 1133.42 Q27.4968 1127.85 31.4117 1124.83 Q35.2948 1121.8 42.4881 1121.8 L64.0042 1121.8 L64.0042 1127.69 L42.679 1127.69 Q37.5546 1127.69 35.072 1129.5 Q32.5894 1131.32 32.5894 1135.04 Q32.5894 1139.59 35.6131 1142.24 Q38.6368 1144.88 43.8567 1144.88 L64.0042 1144.88 L64.0042 1150.77 L42.679 1150.77 Q37.5228 1150.77 35.072 1152.58 Q32.5894 1154.39 32.5894 1158.18 Q32.5894 1162.67 35.6449 1165.31 Q38.6686 1167.95 43.8567 1167.95 L64.0042 1167.95 L64.0042 1173.84 L28.3562 1173.84 L28.3562 1167.95 L33.8944 1167.95 Q30.616 1165.95 29.0564 1163.15 Q27.4968 1160.35 27.4968 1156.49 Q27.4968 1152.61 29.4702 1149.91 Q31.4436 1147.17 35.1993 1145.86 Z\" fill=\"#000000\" fill-rule=\"evenodd\" fill-opacity=\"1\" /><path clip-path=\"url(#clip530)\" d=\"M44.7161 1079.63 L47.5806 1079.63 L47.5806 1106.56 Q53.6281 1106.17 56.8109 1102.93 Q59.9619 1099.65 59.9619 1093.82 Q59.9619 1090.45 59.1344 1087.3 Q58.3069 1084.12 56.6518 1081 L62.1899 1081 Q63.5267 1084.15 64.227 1087.46 Q64.9272 1090.77 64.9272 1094.17 Q64.9272 1102.7 59.9619 1107.7 Q54.9967 1112.67 46.5303 1112.67 Q37.7774 1112.67 32.6531 1107.96 Q27.4968 1103.21 27.4968 1095.19 Q27.4968 1088 32.1438 1083.83 Q36.7589 1079.63 44.7161 1079.63 M42.9973 1085.48 Q38.1912 1085.55 35.3266 1088.19 Q32.4621 1090.8 32.4621 1095.13 Q32.4621 1100.03 35.2312 1102.99 Q38.0002 1105.92 43.0292 1106.36 L42.9973 1085.48 Z\" fill=\"#000000\" fill-rule=\"evenodd\" fill-opacity=\"1\" /><path clip-path=\"url(#clip530)\" d=\"M46.0847 1053.82 Q46.0847 1060.91 47.7079 1063.65 Q49.3312 1066.39 53.2461 1066.39 Q56.3653 1066.39 58.2114 1064.35 Q60.0256 1062.28 60.0256 1058.75 Q60.0256 1053.88 56.5881 1050.95 Q53.1188 1047.99 47.3897 1047.99 L46.0847 1047.99 L46.0847 1053.82 M43.6657 1042.13 L64.0042 1042.13 L64.0042 1047.99 L58.5933 1047.99 Q61.8398 1050 63.3994 1052.99 Q64.9272 1055.98 64.9272 1060.31 Q64.9272 1065.78 61.8716 1069.03 Q58.7843 1072.24 53.6281 1072.24 Q47.6125 1072.24 44.5569 1068.23 Q41.5014 1064.19 41.5014 1056.2 L41.5014 1047.99 L40.9285 1047.99 Q36.8862 1047.99 34.6901 1050.66 Q32.4621 1053.31 32.4621 1058.11 Q32.4621 1061.17 33.1941 1064.06 Q33.9262 1066.96 35.3903 1069.63 L29.9795 1069.63 Q28.7381 1066.42 28.1334 1063.4 Q27.4968 1060.37 27.4968 1057.51 Q27.4968 1049.77 31.5072 1045.95 Q35.5176 1042.13 43.6657 1042.13 Z\" fill=\"#000000\" fill-rule=\"evenodd\" fill-opacity=\"1\" /><path clip-path=\"url(#clip530)\" d=\"M42.4881 1000.44 L64.0042 1000.44 L64.0042 1006.3 L42.679 1006.3 Q37.6183 1006.3 35.1038 1008.27 Q32.5894 1010.24 32.5894 1014.19 Q32.5894 1018.93 35.6131 1021.67 Q38.6368 1024.41 43.8567 1024.41 L64.0042 1024.41 L64.0042 1030.29 L28.3562 1030.29 L28.3562 1024.41 L33.8944 1024.41 Q30.6797 1022.31 29.0883 1019.47 Q27.4968 1016.61 27.4968 1012.88 Q27.4968 1006.74 31.3163 1003.59 Q35.1038 1000.44 42.4881 1000.44 Z\" fill=\"#000000\" fill-rule=\"evenodd\" fill-opacity=\"1\" /><path clip-path=\"url(#clip530)\" d=\"M29.4065 945.312 L34.9447 945.312 Q33.6716 947.795 33.035 950.468 Q32.3984 953.142 32.3984 956.007 Q32.3984 960.367 33.7352 962.563 Q35.072 964.728 37.7456 964.728 Q39.7826 964.728 40.9603 963.168 Q42.1061 961.608 43.1565 956.898 L43.6021 954.893 Q44.9389 948.654 47.3897 946.044 Q49.8086 943.402 54.1691 943.402 Q59.1344 943.402 62.0308 947.349 Q64.9272 951.264 64.9272 958.139 Q64.9272 961.004 64.3543 964.123 Q63.8132 967.21 62.6992 970.648 L56.6518 970.648 Q58.3387 967.401 59.198 964.25 Q60.0256 961.099 60.0256 958.012 Q60.0256 953.874 58.6251 951.646 Q57.1929 949.418 54.6147 949.418 Q52.2276 949.418 50.9545 951.041 Q49.6813 952.633 48.5037 958.075 L48.0262 960.112 Q46.8804 965.555 44.5251 967.974 Q42.138 970.393 38.0002 970.393 Q32.9713 970.393 30.2341 966.828 Q27.4968 963.263 27.4968 956.707 Q27.4968 953.46 27.9743 950.596 Q28.4517 947.731 29.4065 945.312 Z\" fill=\"#000000\" fill-rule=\"evenodd\" fill-opacity=\"1\" /><path clip-path=\"url(#clip530)\" d=\"M49.9359 934.681 L28.3562 934.681 L28.3562 928.825 L49.7131 928.825 Q54.7739 928.825 57.3202 926.852 Q59.8346 924.878 59.8346 920.931 Q59.8346 916.189 56.8109 913.452 Q53.7872 910.683 48.5673 910.683 L28.3562 910.683 L28.3562 904.826 L64.0042 904.826 L64.0042 910.683 L58.5296 910.683 Q61.7762 912.815 63.3676 915.648 Q64.9272 918.449 64.9272 922.173 Q64.9272 928.316 61.1078 931.499 Q57.2883 934.681 49.9359 934.681 M27.4968 919.945 L27.4968 919.945 Z\" fill=\"#000000\" fill-rule=\"evenodd\" fill-opacity=\"1\" /><path clip-path=\"url(#clip530)\" d=\"M35.1993 865.009 Q31.2526 862.813 29.3747 859.757 Q27.4968 856.701 27.4968 852.564 Q27.4968 846.994 31.4117 843.97 Q35.2948 840.946 42.4881 840.946 L64.0042 840.946 L64.0042 846.835 L42.679 846.835 Q37.5546 846.835 35.072 848.649 Q32.5894 850.463 32.5894 854.187 Q32.5894 858.739 35.6131 861.38 Q38.6368 864.022 43.8567 864.022 L64.0042 864.022 L64.0042 869.91 L42.679 869.91 Q37.5228 869.91 35.072 871.725 Q32.5894 873.539 32.5894 877.326 Q32.5894 881.814 35.6449 884.456 Q38.6686 887.098 43.8567 887.098 L64.0042 887.098 L64.0042 892.986 L28.3562 892.986 L28.3562 887.098 L33.8944 887.098 Q30.616 885.093 29.0564 882.292 Q27.4968 879.491 27.4968 875.639 Q27.4968 871.756 29.4702 869.051 Q31.4436 866.314 35.1993 865.009 Z\" fill=\"#000000\" fill-rule=\"evenodd\" fill-opacity=\"1\" /><path clip-path=\"url(#clip530)\" d=\"M32.4621 794.731 Q32.4621 799.442 36.1542 802.179 Q39.8145 804.916 46.212 804.916 Q52.6095 804.916 56.3017 802.211 Q59.9619 799.474 59.9619 794.731 Q59.9619 790.053 56.2698 787.315 Q52.5777 784.578 46.212 784.578 Q39.8781 784.578 36.186 787.315 Q32.4621 790.053 32.4621 794.731 M27.4968 794.731 Q27.4968 787.092 32.4621 782.732 Q37.4273 778.371 46.212 778.371 Q54.9649 778.371 59.9619 782.732 Q64.9272 787.092 64.9272 794.731 Q64.9272 802.402 59.9619 806.763 Q54.9649 811.091 46.212 811.091 Q37.4273 811.091 32.4621 806.763 Q27.4968 802.402 27.4968 794.731 Z\" fill=\"#000000\" fill-rule=\"evenodd\" fill-opacity=\"1\" /><path clip-path=\"url(#clip530)\" d=\"M14.479 750.617 L19.3487 750.617 L19.3487 756.219 Q19.3487 759.37 20.6219 760.611 Q21.895 761.821 25.2052 761.821 L28.3562 761.821 L28.3562 752.177 L32.9077 752.177 L32.9077 761.821 L64.0042 761.821 L64.0042 767.709 L32.9077 767.709 L32.9077 773.311 L28.3562 773.311 L28.3562 767.709 L25.8736 767.709 Q19.9216 767.709 17.2162 764.94 Q14.479 762.171 14.479 756.155 L14.479 750.617 Z\" fill=\"#000000\" fill-rule=\"evenodd\" fill-opacity=\"1\" /><path clip-path=\"url(#clip530)\" d=\"M29.4065 702.269 L34.9447 702.269 Q33.6716 704.752 33.035 707.426 Q32.3984 710.099 32.3984 712.964 Q32.3984 717.324 33.7352 719.521 Q35.072 721.685 37.7456 721.685 Q39.7826 721.685 40.9603 720.125 Q42.1061 718.566 43.1565 713.855 L43.6021 711.85 Q44.9389 705.611 47.3897 703.001 Q49.8086 700.36 54.1691 700.36 Q59.1344 700.36 62.0308 704.306 Q64.9272 708.221 64.9272 715.096 Q64.9272 717.961 64.3543 721.08 Q63.8132 724.167 62.6992 727.605 L56.6518 727.605 Q58.3387 724.358 59.198 721.207 Q60.0256 718.056 60.0256 714.969 Q60.0256 710.831 58.6251 708.603 Q57.1929 706.375 54.6147 706.375 Q52.2276 706.375 50.9545 707.999 Q49.6813 709.59 48.5037 715.033 L48.0262 717.07 Q46.8804 722.512 44.5251 724.931 Q42.138 727.35 38.0002 727.35 Q32.9713 727.35 30.2341 723.786 Q27.4968 720.221 27.4968 713.664 Q27.4968 710.418 27.9743 707.553 Q28.4517 704.688 29.4065 702.269 Z\" fill=\"#000000\" fill-rule=\"evenodd\" fill-opacity=\"1\" /><path clip-path=\"url(#clip530)\" d=\"M46.212 687.533 Q52.6732 687.533 56.3653 684.891 Q60.0256 682.217 60.0256 677.57 Q60.0256 672.924 56.3653 670.25 Q52.6732 667.576 46.212 667.576 Q39.7508 667.576 36.0905 670.25 Q32.3984 672.924 32.3984 677.57 Q32.3984 682.217 36.0905 684.891 Q39.7508 687.533 46.212 687.533 M58.657 667.576 Q61.8398 669.422 63.3994 672.255 Q64.9272 675.056 64.9272 679.003 Q64.9272 685.464 59.771 689.538 Q54.6147 693.58 46.212 693.58 Q37.8093 693.58 32.6531 689.538 Q27.4968 685.464 27.4968 679.003 Q27.4968 675.056 29.0564 672.255 Q30.5842 669.422 33.7671 667.576 L28.3562 667.576 L28.3562 661.72 L77.5631 661.72 L77.5631 667.576 L58.657 667.576 Z\" fill=\"#000000\" fill-rule=\"evenodd\" fill-opacity=\"1\" /><path clip-path=\"url(#clip530)\" d=\"M49.9359 650.262 L28.3562 650.262 L28.3562 644.405 L49.7131 644.405 Q54.7739 644.405 57.3202 642.432 Q59.8346 640.458 59.8346 636.512 Q59.8346 631.769 56.8109 629.032 Q53.7872 626.263 48.5673 626.263 L28.3562 626.263 L28.3562 620.406 L64.0042 620.406 L64.0042 626.263 L58.5296 626.263 Q61.7762 628.395 63.3676 631.228 Q64.9272 634.029 64.9272 637.753 Q64.9272 643.896 61.1078 647.079 Q57.2883 650.262 49.9359 650.262 M27.4968 635.525 L27.4968 635.525 Z\" fill=\"#000000\" fill-rule=\"evenodd\" fill-opacity=\"1\" /><path clip-path=\"url(#clip530)\" d=\"M46.0847 592.143 Q46.0847 599.24 47.7079 601.978 Q49.3312 604.715 53.2461 604.715 Q56.3653 604.715 58.2114 602.678 Q60.0256 600.609 60.0256 597.076 Q60.0256 592.206 56.5881 589.278 Q53.1188 586.318 47.3897 586.318 L46.0847 586.318 L46.0847 592.143 M43.6657 580.462 L64.0042 580.462 L64.0042 586.318 L58.5933 586.318 Q61.8398 588.323 63.3994 591.315 Q64.9272 594.307 64.9272 598.636 Q64.9272 604.11 61.8716 607.357 Q58.7843 610.571 53.6281 610.571 Q47.6125 610.571 44.5569 606.561 Q41.5014 602.519 41.5014 594.53 L41.5014 586.318 L40.9285 586.318 Q36.8862 586.318 34.6901 588.992 Q32.4621 591.633 32.4621 596.44 Q32.4621 599.495 33.1941 602.391 Q33.9262 605.288 35.3903 607.961 L29.9795 607.961 Q28.7381 604.747 28.1334 601.723 Q27.4968 598.699 27.4968 595.835 Q27.4968 588.1 31.5072 584.281 Q35.5176 580.462 43.6657 580.462 Z\" fill=\"#000000\" fill-rule=\"evenodd\" fill-opacity=\"1\" /><path clip-path=\"url(#clip530)\" d=\"M33.8307 547.742 Q33.2578 548.729 33.0032 549.906 Q32.7167 551.052 32.7167 552.453 Q32.7167 557.418 35.9632 560.091 Q39.1779 562.733 45.2253 562.733 L64.0042 562.733 L64.0042 568.621 L28.3562 568.621 L28.3562 562.733 L33.8944 562.733 Q30.6479 560.887 29.0883 557.927 Q27.4968 554.967 27.4968 550.734 Q27.4968 550.129 27.5923 549.397 Q27.656 548.665 27.8151 547.774 L33.8307 547.742 Z\" fill=\"#000000\" fill-rule=\"evenodd\" fill-opacity=\"1\" /><path clip-path=\"url(#clip530)\" d=\"M44.7161 512.54 L47.5806 512.54 L47.5806 539.466 Q53.6281 539.085 56.8109 535.838 Q59.9619 532.56 59.9619 526.735 Q59.9619 523.361 59.1344 520.21 Q58.3069 517.027 56.6518 513.908 L62.1899 513.908 Q63.5267 517.059 64.227 520.369 Q64.9272 523.68 64.9272 527.085 Q64.9272 535.615 59.9619 540.612 Q54.9967 545.578 46.5303 545.578 Q37.7774 545.578 32.6531 540.867 Q27.4968 536.124 27.4968 528.104 Q27.4968 520.91 32.1438 516.741 Q36.7589 512.54 44.7161 512.54 M42.9973 518.396 Q38.1912 518.46 35.3266 521.101 Q32.4621 523.711 32.4621 528.04 Q32.4621 532.942 35.2312 535.902 Q38.0002 538.83 43.0292 539.276 L42.9973 518.396 Z\" fill=\"#000000\" fill-rule=\"evenodd\" fill-opacity=\"1\" /><path clip-path=\"url(#clip530)\" d=\"M29.4065 480.202 L34.9447 480.202 Q33.6716 482.684 33.035 485.358 Q32.3984 488.032 32.3984 490.896 Q32.3984 495.257 33.7352 497.453 Q35.072 499.617 37.7456 499.617 Q39.7826 499.617 40.9603 498.058 Q42.1061 496.498 43.1565 491.787 L43.6021 489.782 Q44.9389 483.544 47.3897 480.934 Q49.8086 478.292 54.1691 478.292 Q59.1344 478.292 62.0308 482.239 Q64.9272 486.154 64.9272 493.029 Q64.9272 495.893 64.3543 499.012 Q63.8132 502.1 62.6992 505.537 L56.6518 505.537 Q58.3387 502.291 59.198 499.14 Q60.0256 495.989 60.0256 492.901 Q60.0256 488.764 58.6251 486.536 Q57.1929 484.308 54.6147 484.308 Q52.2276 484.308 50.9545 485.931 Q49.6813 487.522 48.5037 492.965 L48.0262 495.002 Q46.8804 500.445 44.5251 502.864 Q42.138 505.283 38.0002 505.283 Q32.9713 505.283 30.2341 501.718 Q27.4968 498.153 27.4968 491.596 Q27.4968 488.35 27.9743 485.485 Q28.4517 482.621 29.4065 480.202 Z\" fill=\"#000000\" fill-rule=\"evenodd\" fill-opacity=\"1\" /><path clip-path=\"url(#clip530)\" d=\"M44.7161 417.754 L47.5806 417.754 L47.5806 444.681 Q53.6281 444.299 56.8109 441.053 Q59.9619 437.774 59.9619 431.95 Q59.9619 428.576 59.1344 425.425 Q58.3069 422.242 56.6518 419.123 L62.1899 419.123 Q63.5267 422.274 64.227 425.584 Q64.9272 428.894 64.9272 432.3 Q64.9272 440.83 59.9619 445.827 Q54.9967 450.792 46.5303 450.792 Q37.7774 450.792 32.6531 446.082 Q27.4968 441.339 27.4968 433.318 Q27.4968 426.125 32.1438 421.956 Q36.7589 417.754 44.7161 417.754 M42.9973 423.611 Q38.1912 423.674 35.3266 426.316 Q32.4621 428.926 32.4621 433.255 Q32.4621 438.156 35.2312 441.116 Q38.0002 444.045 43.0292 444.49 L42.9973 423.611 Z\" fill=\"#000000\" fill-rule=\"evenodd\" fill-opacity=\"1\" /><path clip-path=\"url(#clip530)\" d=\"M33.8307 387.485 Q33.2578 388.472 33.0032 389.65 Q32.7167 390.795 32.7167 392.196 Q32.7167 397.161 35.9632 399.835 Q39.1779 402.476 45.2253 402.476 L64.0042 402.476 L64.0042 408.365 L28.3562 408.365 L28.3562 402.476 L33.8944 402.476 Q30.6479 400.63 29.0883 397.67 Q27.4968 394.71 27.4968 390.477 Q27.4968 389.872 27.5923 389.14 Q27.656 388.408 27.8151 387.517 L33.8307 387.485 Z\" fill=\"#000000\" fill-rule=\"evenodd\" fill-opacity=\"1\" /><path clip-path=\"url(#clip530)\" d=\"M33.8307 361.831 Q33.2578 362.818 33.0032 363.996 Q32.7167 365.142 32.7167 366.542 Q32.7167 371.507 35.9632 374.181 Q39.1779 376.823 45.2253 376.823 L64.0042 376.823 L64.0042 382.711 L28.3562 382.711 L28.3562 376.823 L33.8944 376.823 Q30.6479 374.977 29.0883 372.017 Q27.4968 369.057 27.4968 364.823 Q27.4968 364.219 27.5923 363.487 Q27.656 362.754 27.8151 361.863 L33.8307 361.831 Z\" fill=\"#000000\" fill-rule=\"evenodd\" fill-opacity=\"1\" /><path clip-path=\"url(#clip530)\" d=\"M32.4621 343.307 Q32.4621 348.018 36.1542 350.755 Q39.8145 353.492 46.212 353.492 Q52.6095 353.492 56.3017 350.787 Q59.9619 348.05 59.9619 343.307 Q59.9619 338.628 56.2698 335.891 Q52.5777 333.154 46.212 333.154 Q39.8781 333.154 36.186 335.891 Q32.4621 338.628 32.4621 343.307 M27.4968 343.307 Q27.4968 335.668 32.4621 331.308 Q37.4273 326.947 46.212 326.947 Q54.9649 326.947 59.9619 331.308 Q64.9272 335.668 64.9272 343.307 Q64.9272 350.978 59.9619 355.338 Q54.9649 359.667 46.212 359.667 Q37.4273 359.667 32.4621 355.338 Q27.4968 350.978 27.4968 343.307 Z\" fill=\"#000000\" fill-rule=\"evenodd\" fill-opacity=\"1\" /><path clip-path=\"url(#clip530)\" d=\"M33.8307 296.583 Q33.2578 297.57 33.0032 298.747 Q32.7167 299.893 32.7167 301.294 Q32.7167 306.259 35.9632 308.932 Q39.1779 311.574 45.2253 311.574 L64.0042 311.574 L64.0042 317.462 L28.3562 317.462 L28.3562 311.574 L33.8944 311.574 Q30.6479 309.728 29.0883 306.768 Q27.4968 303.808 27.4968 299.575 Q27.4968 298.97 27.5923 298.238 Q27.656 297.506 27.8151 296.615 L33.8307 296.583 Z\" fill=\"#000000\" fill-rule=\"evenodd\" fill-opacity=\"1\" /><polyline clip-path=\"url(#clip532)\" style=\"stroke:#009af9; stroke-linecap:butt; stroke-linejoin:round; stroke-width:4; stroke-opacity:1; fill:none\" points=\"\n",
       "  308.73,86.1857 474.104,1075.28 639.478,1282.17 804.852,1347.95 970.227,1370.22 1135.6,1379.48 1300.98,1384.24 1466.35,1384.01 1631.72,1378 1797.1,1377.46 \n",
       "  1962.47,1373.88 2127.85,1361.27 2293.22,1365.43 \n",
       "  \"/>\n",
       "<path clip-path=\"url(#clip530)\" d=\"\n",
       "M319.314 196.789 L876.096 196.789 L876.096 93.1086 L319.314 93.1086  Z\n",
       "  \" fill=\"#ffffff\" fill-rule=\"evenodd\" fill-opacity=\"1\"/>\n",
       "<polyline clip-path=\"url(#clip530)\" style=\"stroke:#000000; stroke-linecap:butt; stroke-linejoin:round; stroke-width:4; stroke-opacity:1; fill:none\" points=\"\n",
       "  319.314,196.789 876.096,196.789 876.096,93.1086 319.314,93.1086 319.314,196.789 \n",
       "  \"/>\n",
       "<polyline clip-path=\"url(#clip530)\" style=\"stroke:#009af9; stroke-linecap:butt; stroke-linejoin:round; stroke-width:4; stroke-opacity:1; fill:none\" points=\"\n",
       "  342.686,144.949 482.924,144.949 \n",
       "  \"/>\n",
       "<path clip-path=\"url(#clip530)\" d=\"M518.195 139.289 Q514.769 139.289 512.778 141.974 Q510.787 144.636 510.787 149.289 Q510.787 153.942 512.755 156.627 Q514.746 159.289 518.195 159.289 Q521.598 159.289 523.588 156.604 Q525.579 153.918 525.579 149.289 Q525.579 144.682 523.588 141.997 Q521.598 139.289 518.195 139.289 M518.195 135.678 Q523.75 135.678 526.922 139.289 Q530.093 142.9 530.093 149.289 Q530.093 155.655 526.922 159.289 Q523.75 162.9 518.195 162.9 Q512.616 162.9 509.445 159.289 Q506.297 155.655 506.297 149.289 Q506.297 142.9 509.445 139.289 Q512.616 135.678 518.195 135.678 Z\" fill=\"#000000\" fill-rule=\"evenodd\" fill-opacity=\"1\" /><path clip-path=\"url(#clip530)\" d=\"M536.713 151.997 L536.713 136.303 L540.972 136.303 L540.972 151.835 Q540.972 155.516 542.408 157.368 Q543.843 159.196 546.713 159.196 Q550.162 159.196 552.153 156.997 Q554.167 154.798 554.167 151.002 L554.167 136.303 L558.426 136.303 L558.426 162.229 L554.167 162.229 L554.167 158.247 Q552.616 160.608 550.556 161.766 Q548.519 162.9 545.81 162.9 Q541.343 162.9 539.028 160.122 Q536.713 157.344 536.713 151.997 M547.431 135.678 L547.431 135.678 Z\" fill=\"#000000\" fill-rule=\"evenodd\" fill-opacity=\"1\" /><path clip-path=\"url(#clip530)\" d=\"M571.412 128.942 L571.412 136.303 L580.185 136.303 L580.185 139.613 L571.412 139.613 L571.412 153.687 Q571.412 156.858 572.269 157.761 Q573.148 158.664 575.81 158.664 L580.185 158.664 L580.185 162.229 L575.81 162.229 Q570.88 162.229 569.005 160.4 Q567.13 158.548 567.13 153.687 L567.13 139.613 L564.005 139.613 L564.005 136.303 L567.13 136.303 L567.13 128.942 L571.412 128.942 Z\" fill=\"#000000\" fill-rule=\"evenodd\" fill-opacity=\"1\" /><path clip-path=\"url(#clip530)\" d=\"M583.634 147.344 L596.111 147.344 L596.111 151.141 L583.634 151.141 L583.634 147.344 Z\" fill=\"#000000\" fill-rule=\"evenodd\" fill-opacity=\"1\" /><path clip-path=\"url(#clip530)\" d=\"M613.819 139.289 Q610.393 139.289 608.403 141.974 Q606.412 144.636 606.412 149.289 Q606.412 153.942 608.38 156.627 Q610.37 159.289 613.819 159.289 Q617.222 159.289 619.213 156.604 Q621.204 153.918 621.204 149.289 Q621.204 144.682 619.213 141.997 Q617.222 139.289 613.819 139.289 M613.819 135.678 Q619.375 135.678 622.546 139.289 Q625.717 142.9 625.717 149.289 Q625.717 155.655 622.546 159.289 Q619.375 162.9 613.819 162.9 Q608.241 162.9 605.069 159.289 Q601.921 155.655 601.921 149.289 Q601.921 142.9 605.069 139.289 Q608.241 135.678 613.819 135.678 Z\" fill=\"#000000\" fill-rule=\"evenodd\" fill-opacity=\"1\" /><path clip-path=\"url(#clip530)\" d=\"M645.902 126.21 L645.902 129.752 L641.828 129.752 Q639.537 129.752 638.634 130.678 Q637.754 131.604 637.754 134.011 L637.754 136.303 L644.768 136.303 L644.768 139.613 L637.754 139.613 L637.754 162.229 L633.472 162.229 L633.472 139.613 L629.398 139.613 L629.398 136.303 L633.472 136.303 L633.472 134.497 Q633.472 130.169 635.486 128.201 Q637.5 126.21 641.875 126.21 L645.902 126.21 Z\" fill=\"#000000\" fill-rule=\"evenodd\" fill-opacity=\"1\" /><path clip-path=\"url(#clip530)\" d=\"M644.722 147.344 L657.199 147.344 L657.199 151.141 L644.722 151.141 L644.722 147.344 Z\" fill=\"#000000\" fill-rule=\"evenodd\" fill-opacity=\"1\" /><path clip-path=\"url(#clip530)\" d=\"M680.509 137.067 L680.509 141.094 Q678.703 140.169 676.759 139.706 Q674.814 139.243 672.731 139.243 Q669.56 139.243 667.963 140.215 Q666.388 141.187 666.388 143.131 Q666.388 144.613 667.523 145.469 Q668.657 146.303 672.083 147.067 L673.541 147.391 Q678.078 148.363 679.976 150.145 Q681.898 151.905 681.898 155.076 Q681.898 158.687 679.027 160.793 Q676.18 162.9 671.18 162.9 Q669.097 162.9 666.828 162.483 Q664.583 162.09 662.083 161.28 L662.083 156.881 Q664.444 158.108 666.736 158.733 Q669.027 159.335 671.273 159.335 Q674.282 159.335 675.902 158.317 Q677.523 157.275 677.523 155.4 Q677.523 153.664 676.342 152.738 Q675.185 151.812 671.226 150.956 L669.745 150.608 Q665.787 149.775 664.027 148.062 Q662.268 146.326 662.268 143.317 Q662.268 139.659 664.861 137.669 Q667.453 135.678 672.222 135.678 Q674.583 135.678 676.666 136.025 Q678.75 136.372 680.509 137.067 Z\" fill=\"#000000\" fill-rule=\"evenodd\" fill-opacity=\"1\" /><path clip-path=\"url(#clip530)\" d=\"M700.462 149.196 Q695.3 149.196 693.31 150.377 Q691.319 151.557 691.319 154.405 Q691.319 156.673 692.8 158.016 Q694.305 159.335 696.874 159.335 Q700.416 159.335 702.546 156.835 Q704.698 154.312 704.698 150.145 L704.698 149.196 L700.462 149.196 M708.958 147.437 L708.958 162.229 L704.698 162.229 L704.698 158.293 Q703.24 160.655 701.064 161.789 Q698.888 162.9 695.74 162.9 Q691.759 162.9 689.398 160.678 Q687.06 158.432 687.06 154.682 Q687.06 150.307 689.976 148.085 Q692.916 145.863 698.726 145.863 L704.698 145.863 L704.698 145.446 Q704.698 142.507 702.754 140.909 Q700.833 139.289 697.337 139.289 Q695.115 139.289 693.009 139.821 Q690.902 140.354 688.958 141.419 L688.958 137.483 Q691.296 136.581 693.495 136.141 Q695.694 135.678 697.777 135.678 Q703.402 135.678 706.18 138.594 Q708.958 141.511 708.958 147.437 Z\" fill=\"#000000\" fill-rule=\"evenodd\" fill-opacity=\"1\" /><path clip-path=\"url(#clip530)\" d=\"M737.916 141.28 Q739.513 138.409 741.735 137.044 Q743.957 135.678 746.967 135.678 Q751.018 135.678 753.217 138.525 Q755.416 141.349 755.416 146.581 L755.416 162.229 L751.133 162.229 L751.133 146.719 Q751.133 142.993 749.814 141.187 Q748.495 139.382 745.786 139.382 Q742.476 139.382 740.555 141.581 Q738.633 143.78 738.633 147.576 L738.633 162.229 L734.351 162.229 L734.351 146.719 Q734.351 142.969 733.032 141.187 Q731.712 139.382 728.958 139.382 Q725.694 139.382 723.772 141.604 Q721.851 143.803 721.851 147.576 L721.851 162.229 L717.569 162.229 L717.569 136.303 L721.851 136.303 L721.851 140.331 Q723.309 137.946 725.346 136.812 Q727.384 135.678 730.184 135.678 Q733.008 135.678 734.976 137.113 Q736.967 138.548 737.916 141.28 Z\" fill=\"#000000\" fill-rule=\"evenodd\" fill-opacity=\"1\" /><path clip-path=\"url(#clip530)\" d=\"M768.031 158.34 L768.031 172.09 L763.749 172.09 L763.749 136.303 L768.031 136.303 L768.031 140.238 Q769.374 137.923 771.411 136.812 Q773.471 135.678 776.318 135.678 Q781.041 135.678 783.98 139.428 Q786.943 143.178 786.943 149.289 Q786.943 155.4 783.98 159.15 Q781.041 162.9 776.318 162.9 Q773.471 162.9 771.411 161.789 Q769.374 160.655 768.031 158.34 M782.522 149.289 Q782.522 144.59 780.578 141.928 Q778.656 139.243 775.277 139.243 Q771.897 139.243 769.953 141.928 Q768.031 144.59 768.031 149.289 Q768.031 153.988 769.953 156.673 Q771.897 159.335 775.277 159.335 Q778.656 159.335 780.578 156.673 Q782.522 153.988 782.522 149.289 Z\" fill=\"#000000\" fill-rule=\"evenodd\" fill-opacity=\"1\" /><path clip-path=\"url(#clip530)\" d=\"M794.004 126.21 L798.263 126.21 L798.263 162.229 L794.004 162.229 L794.004 126.21 Z\" fill=\"#000000\" fill-rule=\"evenodd\" fill-opacity=\"1\" /><path clip-path=\"url(#clip530)\" d=\"M829.351 148.201 L829.351 150.284 L809.767 150.284 Q810.045 154.682 812.406 156.997 Q814.79 159.289 819.027 159.289 Q821.48 159.289 823.772 158.687 Q826.087 158.085 828.355 156.881 L828.355 160.909 Q826.064 161.881 823.656 162.391 Q821.249 162.9 818.772 162.9 Q812.568 162.9 808.934 159.289 Q805.323 155.678 805.323 149.52 Q805.323 143.155 808.749 139.428 Q812.198 135.678 818.031 135.678 Q823.263 135.678 826.295 139.057 Q829.351 142.414 829.351 148.201 M825.091 146.951 Q825.045 143.456 823.124 141.372 Q821.226 139.289 818.077 139.289 Q814.513 139.289 812.36 141.303 Q810.23 143.317 809.906 146.974 L825.091 146.951 Z\" fill=\"#000000\" fill-rule=\"evenodd\" fill-opacity=\"1\" /><path clip-path=\"url(#clip530)\" d=\"\n",
       "M249.195 1423.18 L2352.76 1423.18 L2352.76 47.2441 L249.195 47.2441  Z\n",
       "  \" fill=\"#000000\" fill-rule=\"evenodd\" fill-opacity=\"0\"/>\n",
       "<path clip-path=\"url(#clip530)\" d=\"M528.527 1481.64 L544.847 1481.64 L544.847 1485.58 L522.902 1485.58 L522.902 1481.64 Q525.564 1478.89 530.148 1474.26 Q534.754 1469.61 535.935 1468.27 Q538.18 1465.74 539.06 1464.01 Q539.962 1462.25 539.962 1460.56 Q539.962 1457.8 538.018 1456.07 Q536.097 1454.33 532.995 1454.33 Q530.796 1454.33 528.342 1455.09 Q525.912 1455.86 523.134 1457.41 L523.134 1452.69 Q525.958 1451.55 528.412 1450.97 Q530.865 1450.39 532.902 1450.39 Q538.273 1450.39 541.467 1453.08 Q544.661 1455.77 544.661 1460.26 Q544.661 1462.39 543.851 1464.31 Q543.064 1466.2 540.958 1468.8 Q540.379 1469.47 537.277 1472.69 Q534.175 1475.88 528.527 1481.64 Z\" fill=\"#000000\" fill-rule=\"evenodd\" fill-opacity=\"1\" /><path clip-path=\"url(#clip530)\" d=\"M554.661 1479.7 L559.546 1479.7 L559.546 1485.58 L554.661 1485.58 L554.661 1479.7 Z\" fill=\"#000000\" fill-rule=\"evenodd\" fill-opacity=\"1\" /><path clip-path=\"url(#clip530)\" d=\"M569.777 1451.02 L588.133 1451.02 L588.133 1454.96 L574.059 1454.96 L574.059 1463.43 Q575.078 1463.08 576.096 1462.92 Q577.115 1462.73 578.133 1462.73 Q583.92 1462.73 587.3 1465.9 Q590.68 1469.08 590.68 1474.49 Q590.68 1480.07 587.208 1483.17 Q583.735 1486.25 577.416 1486.25 Q575.24 1486.25 572.971 1485.88 Q570.726 1485.51 568.319 1484.77 L568.319 1480.07 Q570.402 1481.2 572.624 1481.76 Q574.846 1482.32 577.323 1482.32 Q581.328 1482.32 583.666 1480.21 Q586.004 1478.1 586.004 1474.49 Q586.004 1470.88 583.666 1468.77 Q581.328 1466.67 577.323 1466.67 Q575.448 1466.67 573.573 1467.08 Q571.721 1467.5 569.777 1468.38 L569.777 1451.02 Z\" fill=\"#000000\" fill-rule=\"evenodd\" fill-opacity=\"1\" /><path clip-path=\"url(#clip530)\" d=\"M937.391 1451.02 L955.748 1451.02 L955.748 1454.96 L941.674 1454.96 L941.674 1463.43 Q942.692 1463.08 943.711 1462.92 Q944.729 1462.73 945.748 1462.73 Q951.535 1462.73 954.914 1465.9 Q958.294 1469.08 958.294 1474.49 Q958.294 1480.07 954.822 1483.17 Q951.35 1486.25 945.03 1486.25 Q942.854 1486.25 940.586 1485.88 Q938.34 1485.51 935.933 1484.77 L935.933 1480.07 Q938.016 1481.2 940.238 1481.76 Q942.461 1482.32 944.938 1482.32 Q948.942 1482.32 951.28 1480.21 Q953.618 1478.1 953.618 1474.49 Q953.618 1470.88 951.28 1468.77 Q948.942 1466.67 944.938 1466.67 Q943.063 1466.67 941.188 1467.08 Q939.336 1467.5 937.391 1468.38 L937.391 1451.02 Z\" fill=\"#000000\" fill-rule=\"evenodd\" fill-opacity=\"1\" /><path clip-path=\"url(#clip530)\" d=\"M967.507 1479.7 L972.391 1479.7 L972.391 1485.58 L967.507 1485.58 L967.507 1479.7 Z\" fill=\"#000000\" fill-rule=\"evenodd\" fill-opacity=\"1\" /><path clip-path=\"url(#clip530)\" d=\"M992.576 1454.1 Q988.965 1454.1 987.136 1457.66 Q985.331 1461.2 985.331 1468.33 Q985.331 1475.44 987.136 1479.01 Q988.965 1482.55 992.576 1482.55 Q996.21 1482.55 998.016 1479.01 Q999.845 1475.44 999.845 1468.33 Q999.845 1461.2 998.016 1457.66 Q996.21 1454.1 992.576 1454.1 M992.576 1450.39 Q998.386 1450.39 1001.44 1455 Q1004.52 1459.58 1004.52 1468.33 Q1004.52 1477.06 1001.44 1481.67 Q998.386 1486.25 992.576 1486.25 Q986.766 1486.25 983.687 1481.67 Q980.632 1477.06 980.632 1468.33 Q980.632 1459.58 983.687 1455 Q986.766 1450.39 992.576 1450.39 Z\" fill=\"#000000\" fill-rule=\"evenodd\" fill-opacity=\"1\" /><path clip-path=\"url(#clip530)\" d=\"M1349.98 1451.02 L1372.2 1451.02 L1372.2 1453.01 L1359.66 1485.58 L1354.77 1485.58 L1366.58 1454.96 L1349.98 1454.96 L1349.98 1451.02 Z\" fill=\"#000000\" fill-rule=\"evenodd\" fill-opacity=\"1\" /><path clip-path=\"url(#clip530)\" d=\"M1381.32 1479.7 L1386.21 1479.7 L1386.21 1485.58 L1381.32 1485.58 L1381.32 1479.7 Z\" fill=\"#000000\" fill-rule=\"evenodd\" fill-opacity=\"1\" /><path clip-path=\"url(#clip530)\" d=\"M1396.44 1451.02 L1414.8 1451.02 L1414.8 1454.96 L1400.72 1454.96 L1400.72 1463.43 Q1401.74 1463.08 1402.76 1462.92 Q1403.78 1462.73 1404.8 1462.73 Q1410.58 1462.73 1413.96 1465.9 Q1417.34 1469.08 1417.34 1474.49 Q1417.34 1480.07 1413.87 1483.17 Q1410.4 1486.25 1404.08 1486.25 Q1401.9 1486.25 1399.63 1485.88 Q1397.39 1485.51 1394.98 1484.77 L1394.98 1480.07 Q1397.07 1481.2 1399.29 1481.76 Q1401.51 1482.32 1403.99 1482.32 Q1407.99 1482.32 1410.33 1480.21 Q1412.67 1478.1 1412.67 1474.49 Q1412.67 1470.88 1410.33 1468.77 Q1407.99 1466.67 1403.99 1466.67 Q1402.11 1466.67 1400.24 1467.08 Q1398.38 1467.5 1396.44 1468.38 L1396.44 1451.02 Z\" fill=\"#000000\" fill-rule=\"evenodd\" fill-opacity=\"1\" /><path clip-path=\"url(#clip530)\" d=\"M1749.17 1481.64 L1756.81 1481.64 L1756.81 1455.28 L1748.5 1456.95 L1748.5 1452.69 L1756.76 1451.02 L1761.44 1451.02 L1761.44 1481.64 L1769.08 1481.64 L1769.08 1485.58 L1749.17 1485.58 L1749.17 1481.64 Z\" fill=\"#000000\" fill-rule=\"evenodd\" fill-opacity=\"1\" /><path clip-path=\"url(#clip530)\" d=\"M1788.52 1454.1 Q1784.91 1454.1 1783.08 1457.66 Q1781.28 1461.2 1781.28 1468.33 Q1781.28 1475.44 1783.08 1479.01 Q1784.91 1482.55 1788.52 1482.55 Q1792.16 1482.55 1793.96 1479.01 Q1795.79 1475.44 1795.79 1468.33 Q1795.79 1461.2 1793.96 1457.66 Q1792.16 1454.1 1788.52 1454.1 M1788.52 1450.39 Q1794.33 1450.39 1797.39 1455 Q1800.47 1459.58 1800.47 1468.33 Q1800.47 1477.06 1797.39 1481.67 Q1794.33 1486.25 1788.52 1486.25 Q1782.71 1486.25 1779.63 1481.67 Q1776.58 1477.06 1776.58 1468.33 Q1776.58 1459.58 1779.63 1455 Q1782.71 1450.39 1788.52 1450.39 Z\" fill=\"#000000\" fill-rule=\"evenodd\" fill-opacity=\"1\" /><path clip-path=\"url(#clip530)\" d=\"M1808.68 1479.7 L1813.57 1479.7 L1813.57 1485.58 L1808.68 1485.58 L1808.68 1479.7 Z\" fill=\"#000000\" fill-rule=\"evenodd\" fill-opacity=\"1\" /><path clip-path=\"url(#clip530)\" d=\"M1833.75 1454.1 Q1830.14 1454.1 1828.31 1457.66 Q1826.51 1461.2 1826.51 1468.33 Q1826.51 1475.44 1828.31 1479.01 Q1830.14 1482.55 1833.75 1482.55 Q1837.39 1482.55 1839.19 1479.01 Q1841.02 1475.44 1841.02 1468.33 Q1841.02 1461.2 1839.19 1457.66 Q1837.39 1454.1 1833.75 1454.1 M1833.75 1450.39 Q1839.56 1450.39 1842.62 1455 Q1845.7 1459.58 1845.7 1468.33 Q1845.7 1477.06 1842.62 1481.67 Q1839.56 1486.25 1833.75 1486.25 Q1827.94 1486.25 1824.86 1481.67 Q1821.81 1477.06 1821.81 1468.33 Q1821.81 1459.58 1824.86 1455 Q1827.94 1450.39 1833.75 1450.39 Z\" fill=\"#000000\" fill-rule=\"evenodd\" fill-opacity=\"1\" /><path clip-path=\"url(#clip530)\" d=\"M2163.1 1481.64 L2170.74 1481.64 L2170.74 1455.28 L2162.43 1456.95 L2162.43 1452.69 L2170.7 1451.02 L2175.37 1451.02 L2175.37 1481.64 L2183.01 1481.64 L2183.01 1485.58 L2163.1 1485.58 L2163.1 1481.64 Z\" fill=\"#000000\" fill-rule=\"evenodd\" fill-opacity=\"1\" /><path clip-path=\"url(#clip530)\" d=\"M2196.48 1481.64 L2212.8 1481.64 L2212.8 1485.58 L2190.86 1485.58 L2190.86 1481.64 Q2193.52 1478.89 2198.1 1474.26 Q2202.71 1469.61 2203.89 1468.27 Q2206.14 1465.74 2207.02 1464.01 Q2207.92 1462.25 2207.92 1460.56 Q2207.92 1457.8 2205.97 1456.07 Q2204.05 1454.33 2200.95 1454.33 Q2198.75 1454.33 2196.3 1455.09 Q2193.87 1455.86 2191.09 1457.41 L2191.09 1452.69 Q2193.91 1451.55 2196.37 1450.97 Q2198.82 1450.39 2200.86 1450.39 Q2206.23 1450.39 2209.42 1453.08 Q2212.62 1455.77 2212.62 1460.26 Q2212.62 1462.39 2211.81 1464.31 Q2211.02 1466.2 2208.91 1468.8 Q2208.33 1469.47 2205.23 1472.69 Q2202.13 1475.88 2196.48 1481.64 Z\" fill=\"#000000\" fill-rule=\"evenodd\" fill-opacity=\"1\" /><path clip-path=\"url(#clip530)\" d=\"M2222.62 1479.7 L2227.5 1479.7 L2227.5 1485.58 L2222.62 1485.58 L2222.62 1479.7 Z\" fill=\"#000000\" fill-rule=\"evenodd\" fill-opacity=\"1\" /><path clip-path=\"url(#clip530)\" d=\"M2237.73 1451.02 L2256.09 1451.02 L2256.09 1454.96 L2242.02 1454.96 L2242.02 1463.43 Q2243.03 1463.08 2244.05 1462.92 Q2245.07 1462.73 2246.09 1462.73 Q2251.88 1462.73 2255.26 1465.9 Q2258.64 1469.08 2258.64 1474.49 Q2258.64 1480.07 2255.16 1483.17 Q2251.69 1486.25 2245.37 1486.25 Q2243.2 1486.25 2240.93 1485.88 Q2238.68 1485.51 2236.27 1484.77 L2236.27 1480.07 Q2238.36 1481.2 2240.58 1481.76 Q2242.8 1482.32 2245.28 1482.32 Q2249.28 1482.32 2251.62 1480.21 Q2253.96 1478.1 2253.96 1474.49 Q2253.96 1470.88 2251.62 1468.77 Q2249.28 1466.67 2245.28 1466.67 Q2243.4 1466.67 2241.53 1467.08 Q2239.68 1467.5 2237.73 1468.38 L2237.73 1451.02 Z\" fill=\"#000000\" fill-rule=\"evenodd\" fill-opacity=\"1\" /><polyline clip-path=\"url(#clip530)\" style=\"stroke:#000000; stroke-linecap:butt; stroke-linejoin:round; stroke-width:4; stroke-opacity:1; fill:none\" points=\"\n",
       "  2352.76,1423.18 2352.76,47.2441 \n",
       "  \"/>\n",
       "<polyline clip-path=\"url(#clip530)\" style=\"stroke:#000000; stroke-linecap:butt; stroke-linejoin:round; stroke-width:4; stroke-opacity:1; fill:none\" points=\"\n",
       "  2352.76,1303.72 2333.86,1303.72 \n",
       "  \"/>\n",
       "<polyline clip-path=\"url(#clip530)\" style=\"stroke:#000000; stroke-linecap:butt; stroke-linejoin:round; stroke-width:4; stroke-opacity:1; fill:none\" points=\"\n",
       "  2352.76,1108.75 2333.86,1108.75 \n",
       "  \"/>\n",
       "<polyline clip-path=\"url(#clip530)\" style=\"stroke:#000000; stroke-linecap:butt; stroke-linejoin:round; stroke-width:4; stroke-opacity:1; fill:none\" points=\"\n",
       "  2352.76,913.784 2333.86,913.784 \n",
       "  \"/>\n",
       "<polyline clip-path=\"url(#clip530)\" style=\"stroke:#000000; stroke-linecap:butt; stroke-linejoin:round; stroke-width:4; stroke-opacity:1; fill:none\" points=\"\n",
       "  2352.76,718.815 2333.86,718.815 \n",
       "  \"/>\n",
       "<polyline clip-path=\"url(#clip530)\" style=\"stroke:#000000; stroke-linecap:butt; stroke-linejoin:round; stroke-width:4; stroke-opacity:1; fill:none\" points=\"\n",
       "  2352.76,523.845 2333.86,523.845 \n",
       "  \"/>\n",
       "<polyline clip-path=\"url(#clip530)\" style=\"stroke:#000000; stroke-linecap:butt; stroke-linejoin:round; stroke-width:4; stroke-opacity:1; fill:none\" points=\"\n",
       "  2352.76,328.875 2333.86,328.875 \n",
       "  \"/>\n",
       "<polyline clip-path=\"url(#clip530)\" style=\"stroke:#000000; stroke-linecap:butt; stroke-linejoin:round; stroke-width:4; stroke-opacity:1; fill:none\" points=\"\n",
       "  2352.76,133.905 2333.86,133.905 \n",
       "  \"/>\n",
       "<path clip-path=\"url(#clip530)\" d=\"M2400.7 1289.52 Q2397.09 1289.52 2395.26 1293.09 Q2393.45 1296.63 2393.45 1303.76 Q2393.45 1310.87 2395.26 1314.43 Q2397.09 1317.97 2400.7 1317.97 Q2404.33 1317.97 2406.14 1314.43 Q2407.97 1310.87 2407.97 1303.76 Q2407.97 1296.63 2406.14 1293.09 Q2404.33 1289.52 2400.7 1289.52 M2400.7 1285.82 Q2406.51 1285.82 2409.57 1290.43 Q2412.64 1295.01 2412.64 1303.76 Q2412.64 1312.49 2409.57 1317.09 Q2406.51 1321.68 2400.7 1321.68 Q2394.89 1321.68 2391.81 1317.09 Q2388.76 1312.49 2388.76 1303.76 Q2388.76 1295.01 2391.81 1290.43 Q2394.89 1285.82 2400.7 1285.82 Z\" fill=\"#000000\" fill-rule=\"evenodd\" fill-opacity=\"1\" /><path clip-path=\"url(#clip530)\" d=\"M2420.86 1315.12 L2425.75 1315.12 L2425.75 1321 L2420.86 1321 L2420.86 1315.12 Z\" fill=\"#000000\" fill-rule=\"evenodd\" fill-opacity=\"1\" /><path clip-path=\"url(#clip530)\" d=\"M2439.96 1317.07 L2456.28 1317.07 L2456.28 1321 L2434.33 1321 L2434.33 1317.07 Q2437 1314.31 2441.58 1309.68 Q2446.19 1305.03 2447.37 1303.69 Q2449.61 1301.17 2450.49 1299.43 Q2451.39 1297.67 2451.39 1295.98 Q2451.39 1293.23 2449.45 1291.49 Q2447.53 1289.75 2444.43 1289.75 Q2442.23 1289.75 2439.77 1290.52 Q2437.34 1291.28 2434.57 1292.83 L2434.57 1288.11 Q2437.39 1286.98 2439.84 1286.4 Q2442.3 1285.82 2444.33 1285.82 Q2449.7 1285.82 2452.9 1288.5 Q2456.09 1291.19 2456.09 1295.68 Q2456.09 1297.81 2455.28 1299.73 Q2454.5 1301.63 2452.39 1304.22 Q2451.81 1304.89 2448.71 1308.11 Q2445.61 1311.31 2439.96 1317.07 Z\" fill=\"#000000\" fill-rule=\"evenodd\" fill-opacity=\"1\" /><path clip-path=\"url(#clip530)\" d=\"M2400.7 1094.55 Q2397.09 1094.55 2395.26 1098.12 Q2393.45 1101.66 2393.45 1108.79 Q2393.45 1115.9 2395.26 1119.46 Q2397.09 1123 2400.7 1123 Q2404.33 1123 2406.14 1119.46 Q2407.97 1115.9 2407.97 1108.79 Q2407.97 1101.66 2406.14 1098.12 Q2404.33 1094.55 2400.7 1094.55 M2400.7 1090.85 Q2406.51 1090.85 2409.57 1095.46 Q2412.64 1100.04 2412.64 1108.79 Q2412.64 1117.52 2409.57 1122.12 Q2406.51 1126.71 2400.7 1126.71 Q2394.89 1126.71 2391.81 1122.12 Q2388.76 1117.52 2388.76 1108.79 Q2388.76 1100.04 2391.81 1095.46 Q2394.89 1090.85 2400.7 1090.85 Z\" fill=\"#000000\" fill-rule=\"evenodd\" fill-opacity=\"1\" /><path clip-path=\"url(#clip530)\" d=\"M2420.86 1120.15 L2425.75 1120.15 L2425.75 1126.03 L2420.86 1126.03 L2420.86 1120.15 Z\" fill=\"#000000\" fill-rule=\"evenodd\" fill-opacity=\"1\" /><path clip-path=\"url(#clip530)\" d=\"M2450.1 1107.4 Q2453.45 1108.12 2455.33 1110.39 Q2457.23 1112.65 2457.23 1115.99 Q2457.23 1121.1 2453.71 1123.9 Q2450.19 1126.71 2443.71 1126.71 Q2441.53 1126.71 2439.22 1126.27 Q2436.93 1125.85 2434.47 1124.99 L2434.47 1120.48 Q2436.42 1121.61 2438.73 1122.19 Q2441.05 1122.77 2443.57 1122.77 Q2447.97 1122.77 2450.26 1121.03 Q2452.58 1119.3 2452.58 1115.99 Q2452.58 1112.93 2450.42 1111.22 Q2448.29 1109.48 2444.47 1109.48 L2440.45 1109.48 L2440.45 1105.64 L2444.66 1105.64 Q2448.11 1105.64 2449.94 1104.28 Q2451.76 1102.89 2451.76 1100.29 Q2451.76 1097.63 2449.87 1096.22 Q2447.99 1094.78 2444.47 1094.78 Q2442.55 1094.78 2440.35 1095.2 Q2438.15 1095.62 2435.51 1096.5 L2435.51 1092.33 Q2438.18 1091.59 2440.49 1091.22 Q2442.83 1090.85 2444.89 1090.85 Q2450.21 1090.85 2453.32 1093.28 Q2456.42 1095.69 2456.42 1099.81 Q2456.42 1102.68 2454.77 1104.67 Q2453.13 1106.64 2450.1 1107.4 Z\" fill=\"#000000\" fill-rule=\"evenodd\" fill-opacity=\"1\" /><path clip-path=\"url(#clip530)\" d=\"M2400.7 899.583 Q2397.09 899.583 2395.26 903.148 Q2393.45 906.69 2393.45 913.819 Q2393.45 920.926 2395.26 924.49 Q2397.09 928.032 2400.7 928.032 Q2404.33 928.032 2406.14 924.49 Q2407.97 920.926 2407.97 913.819 Q2407.97 906.69 2406.14 903.148 Q2404.33 899.583 2400.7 899.583 M2400.7 895.879 Q2406.51 895.879 2409.57 900.486 Q2412.64 905.069 2412.64 913.819 Q2412.64 922.546 2409.57 927.152 Q2406.51 931.736 2400.7 931.736 Q2394.89 931.736 2391.81 927.152 Q2388.76 922.546 2388.76 913.819 Q2388.76 905.069 2391.81 900.486 Q2394.89 895.879 2400.7 895.879 Z\" fill=\"#000000\" fill-rule=\"evenodd\" fill-opacity=\"1\" /><path clip-path=\"url(#clip530)\" d=\"M2420.86 925.185 L2425.75 925.185 L2425.75 931.064 L2420.86 931.064 L2420.86 925.185 Z\" fill=\"#000000\" fill-rule=\"evenodd\" fill-opacity=\"1\" /><path clip-path=\"url(#clip530)\" d=\"M2448.78 900.579 L2436.97 919.027 L2448.78 919.027 L2448.78 900.579 M2447.55 896.504 L2453.43 896.504 L2453.43 919.027 L2458.36 919.027 L2458.36 922.916 L2453.43 922.916 L2453.43 931.064 L2448.78 931.064 L2448.78 922.916 L2433.18 922.916 L2433.18 918.402 L2447.55 896.504 Z\" fill=\"#000000\" fill-rule=\"evenodd\" fill-opacity=\"1\" /><path clip-path=\"url(#clip530)\" d=\"M2400.7 704.613 Q2397.09 704.613 2395.26 708.178 Q2393.45 711.72 2393.45 718.849 Q2393.45 725.956 2395.26 729.521 Q2397.09 733.062 2400.7 733.062 Q2404.33 733.062 2406.14 729.521 Q2407.97 725.956 2407.97 718.849 Q2407.97 711.72 2406.14 708.178 Q2404.33 704.613 2400.7 704.613 M2400.7 700.91 Q2406.51 700.91 2409.57 705.516 Q2412.64 710.099 2412.64 718.849 Q2412.64 727.576 2409.57 732.183 Q2406.51 736.766 2400.7 736.766 Q2394.89 736.766 2391.81 732.183 Q2388.76 727.576 2388.76 718.849 Q2388.76 710.099 2391.81 705.516 Q2394.89 700.91 2400.7 700.91 Z\" fill=\"#000000\" fill-rule=\"evenodd\" fill-opacity=\"1\" /><path clip-path=\"url(#clip530)\" d=\"M2420.86 730.215 L2425.75 730.215 L2425.75 736.095 L2420.86 736.095 L2420.86 730.215 Z\" fill=\"#000000\" fill-rule=\"evenodd\" fill-opacity=\"1\" /><path clip-path=\"url(#clip530)\" d=\"M2435.98 701.535 L2454.33 701.535 L2454.33 705.47 L2440.26 705.47 L2440.26 713.942 Q2441.28 713.595 2442.3 713.433 Q2443.32 713.247 2444.33 713.247 Q2450.12 713.247 2453.5 716.419 Q2456.88 719.59 2456.88 725.007 Q2456.88 730.585 2453.41 733.687 Q2449.94 736.766 2443.62 736.766 Q2441.44 736.766 2439.17 736.395 Q2436.93 736.025 2434.52 735.284 L2434.52 730.585 Q2436.6 731.72 2438.83 732.275 Q2441.05 732.831 2443.52 732.831 Q2447.53 732.831 2449.87 730.724 Q2452.2 728.618 2452.2 725.007 Q2452.2 721.396 2449.87 719.289 Q2447.53 717.183 2443.52 717.183 Q2441.65 717.183 2439.77 717.599 Q2437.92 718.016 2435.98 718.896 L2435.98 701.535 Z\" fill=\"#000000\" fill-rule=\"evenodd\" fill-opacity=\"1\" /><path clip-path=\"url(#clip530)\" d=\"M2400.7 509.643 Q2397.09 509.643 2395.26 513.208 Q2393.45 516.75 2393.45 523.879 Q2393.45 530.986 2395.26 534.551 Q2397.09 538.092 2400.7 538.092 Q2404.33 538.092 2406.14 534.551 Q2407.97 530.986 2407.97 523.879 Q2407.97 516.75 2406.14 513.208 Q2404.33 509.643 2400.7 509.643 M2400.7 505.94 Q2406.51 505.94 2409.57 510.546 Q2412.64 515.129 2412.64 523.879 Q2412.64 532.606 2409.57 537.213 Q2406.51 541.796 2400.7 541.796 Q2394.89 541.796 2391.81 537.213 Q2388.76 532.606 2388.76 523.879 Q2388.76 515.129 2391.81 510.546 Q2394.89 505.94 2400.7 505.94 Z\" fill=\"#000000\" fill-rule=\"evenodd\" fill-opacity=\"1\" /><path clip-path=\"url(#clip530)\" d=\"M2420.86 535.245 L2425.75 535.245 L2425.75 541.125 L2420.86 541.125 L2420.86 535.245 Z\" fill=\"#000000\" fill-rule=\"evenodd\" fill-opacity=\"1\" /><path clip-path=\"url(#clip530)\" d=\"M2446.51 521.981 Q2443.36 521.981 2441.51 524.134 Q2439.68 526.287 2439.68 530.037 Q2439.68 533.764 2441.51 535.94 Q2443.36 538.092 2446.51 538.092 Q2449.66 538.092 2451.49 535.94 Q2453.34 533.764 2453.34 530.037 Q2453.34 526.287 2451.49 524.134 Q2449.66 521.981 2446.51 521.981 M2455.79 507.329 L2455.79 511.588 Q2454.03 510.754 2452.23 510.315 Q2450.45 509.875 2448.69 509.875 Q2444.06 509.875 2441.6 513 Q2439.17 516.125 2438.83 522.444 Q2440.19 520.43 2442.25 519.366 Q2444.31 518.278 2446.79 518.278 Q2452 518.278 2455.01 521.449 Q2458.04 524.597 2458.04 530.037 Q2458.04 535.361 2454.89 538.578 Q2451.74 541.796 2446.51 541.796 Q2440.51 541.796 2437.34 537.213 Q2434.17 532.606 2434.17 523.879 Q2434.17 515.685 2438.06 510.824 Q2441.95 505.94 2448.5 505.94 Q2450.26 505.94 2452.04 506.287 Q2453.85 506.634 2455.79 507.329 Z\" fill=\"#000000\" fill-rule=\"evenodd\" fill-opacity=\"1\" /><path clip-path=\"url(#clip530)\" d=\"M2400.7 314.673 Q2397.09 314.673 2395.26 318.238 Q2393.45 321.78 2393.45 328.909 Q2393.45 336.016 2395.26 339.581 Q2397.09 343.122 2400.7 343.122 Q2404.33 343.122 2406.14 339.581 Q2407.97 336.016 2407.97 328.909 Q2407.97 321.78 2406.14 318.238 Q2404.33 314.673 2400.7 314.673 M2400.7 310.97 Q2406.51 310.97 2409.57 315.576 Q2412.64 320.16 2412.64 328.909 Q2412.64 337.636 2409.57 342.243 Q2406.51 346.826 2400.7 346.826 Q2394.89 346.826 2391.81 342.243 Q2388.76 337.636 2388.76 328.909 Q2388.76 320.16 2391.81 315.576 Q2394.89 310.97 2400.7 310.97 Z\" fill=\"#000000\" fill-rule=\"evenodd\" fill-opacity=\"1\" /><path clip-path=\"url(#clip530)\" d=\"M2420.86 340.275 L2425.75 340.275 L2425.75 346.155 L2420.86 346.155 L2420.86 340.275 Z\" fill=\"#000000\" fill-rule=\"evenodd\" fill-opacity=\"1\" /><path clip-path=\"url(#clip530)\" d=\"M2434.75 311.595 L2456.97 311.595 L2456.97 313.585 L2444.43 346.155 L2439.54 346.155 L2451.35 315.53 L2434.75 315.53 L2434.75 311.595 Z\" fill=\"#000000\" fill-rule=\"evenodd\" fill-opacity=\"1\" /><path clip-path=\"url(#clip530)\" d=\"M2400.7 119.704 Q2397.09 119.704 2395.26 123.268 Q2393.45 126.81 2393.45 133.94 Q2393.45 141.046 2395.26 144.611 Q2397.09 148.152 2400.7 148.152 Q2404.33 148.152 2406.14 144.611 Q2407.97 141.046 2407.97 133.94 Q2407.97 126.81 2406.14 123.268 Q2404.33 119.704 2400.7 119.704 M2400.7 116 Q2406.51 116 2409.57 120.606 Q2412.64 125.19 2412.64 133.94 Q2412.64 142.666 2409.57 147.273 Q2406.51 151.856 2400.7 151.856 Q2394.89 151.856 2391.81 147.273 Q2388.76 142.666 2388.76 133.94 Q2388.76 125.19 2391.81 120.606 Q2394.89 116 2400.7 116 Z\" fill=\"#000000\" fill-rule=\"evenodd\" fill-opacity=\"1\" /><path clip-path=\"url(#clip530)\" d=\"M2420.86 145.305 L2425.75 145.305 L2425.75 151.185 L2420.86 151.185 L2420.86 145.305 Z\" fill=\"#000000\" fill-rule=\"evenodd\" fill-opacity=\"1\" /><path clip-path=\"url(#clip530)\" d=\"M2445.93 134.773 Q2442.6 134.773 2440.68 136.555 Q2438.78 138.338 2438.78 141.463 Q2438.78 144.588 2440.68 146.37 Q2442.6 148.152 2445.93 148.152 Q2449.26 148.152 2451.19 146.37 Q2453.11 144.565 2453.11 141.463 Q2453.11 138.338 2451.19 136.555 Q2449.29 134.773 2445.93 134.773 M2441.26 132.782 Q2438.25 132.041 2436.56 129.981 Q2434.89 127.921 2434.89 124.958 Q2434.89 120.815 2437.83 118.407 Q2440.79 116 2445.93 116 Q2451.09 116 2454.03 118.407 Q2456.97 120.815 2456.97 124.958 Q2456.97 127.921 2455.28 129.981 Q2453.62 132.041 2450.63 132.782 Q2454.01 133.569 2455.89 135.861 Q2457.78 138.153 2457.78 141.463 Q2457.78 146.486 2454.7 149.171 Q2451.65 151.856 2445.93 151.856 Q2440.21 151.856 2437.14 149.171 Q2434.08 146.486 2434.08 141.463 Q2434.08 138.153 2435.98 135.861 Q2437.88 133.569 2441.26 132.782 M2439.54 125.398 Q2439.54 128.083 2441.21 129.588 Q2442.9 131.092 2445.93 131.092 Q2448.94 131.092 2450.63 129.588 Q2452.34 128.083 2452.34 125.398 Q2452.34 122.713 2450.63 121.208 Q2448.94 119.704 2445.93 119.704 Q2442.9 119.704 2441.21 121.208 Q2439.54 122.713 2439.54 125.398 Z\" fill=\"#000000\" fill-rule=\"evenodd\" fill-opacity=\"1\" /><circle clip-path=\"url(#clip532)\" cx=\"308.73\" cy=\"86.1857\" r=\"14\" fill=\"#ff0000\" fill-rule=\"evenodd\" fill-opacity=\"1\" stroke=\"#000000\" stroke-opacity=\"1\" stroke-width=\"3.2\"/>\n",
       "<circle clip-path=\"url(#clip532)\" cx=\"474.104\" cy=\"831.119\" r=\"14\" fill=\"#ff0000\" fill-rule=\"evenodd\" fill-opacity=\"1\" stroke=\"#000000\" stroke-opacity=\"1\" stroke-width=\"3.2\"/>\n",
       "<circle clip-path=\"url(#clip532)\" cx=\"639.478\" cy=\"1034.73\" r=\"14\" fill=\"#ff0000\" fill-rule=\"evenodd\" fill-opacity=\"1\" stroke=\"#000000\" stroke-opacity=\"1\" stroke-width=\"3.2\"/>\n",
       "<circle clip-path=\"url(#clip532)\" cx=\"804.852\" cy=\"1122.8\" r=\"14\" fill=\"#ff0000\" fill-rule=\"evenodd\" fill-opacity=\"1\" stroke=\"#000000\" stroke-opacity=\"1\" stroke-width=\"3.2\"/>\n",
       "<circle clip-path=\"url(#clip532)\" cx=\"970.227\" cy=\"1180.19\" r=\"14\" fill=\"#ff0000\" fill-rule=\"evenodd\" fill-opacity=\"1\" stroke=\"#000000\" stroke-opacity=\"1\" stroke-width=\"3.2\"/>\n",
       "<circle clip-path=\"url(#clip532)\" cx=\"1135.6\" cy=\"1222.97\" r=\"14\" fill=\"#ff0000\" fill-rule=\"evenodd\" fill-opacity=\"1\" stroke=\"#000000\" stroke-opacity=\"1\" stroke-width=\"3.2\"/>\n",
       "<circle clip-path=\"url(#clip532)\" cx=\"1300.98\" cy=\"1256.29\" r=\"14\" fill=\"#ff0000\" fill-rule=\"evenodd\" fill-opacity=\"1\" stroke=\"#000000\" stroke-opacity=\"1\" stroke-width=\"3.2\"/>\n",
       "<circle clip-path=\"url(#clip532)\" cx=\"1466.35\" cy=\"1284.3\" r=\"14\" fill=\"#ff0000\" fill-rule=\"evenodd\" fill-opacity=\"1\" stroke=\"#000000\" stroke-opacity=\"1\" stroke-width=\"3.2\"/>\n",
       "<circle clip-path=\"url(#clip532)\" cx=\"1631.72\" cy=\"1308.62\" r=\"14\" fill=\"#ff0000\" fill-rule=\"evenodd\" fill-opacity=\"1\" stroke=\"#000000\" stroke-opacity=\"1\" stroke-width=\"3.2\"/>\n",
       "<circle clip-path=\"url(#clip532)\" cx=\"1797.1\" cy=\"1329.94\" r=\"14\" fill=\"#ff0000\" fill-rule=\"evenodd\" fill-opacity=\"1\" stroke=\"#000000\" stroke-opacity=\"1\" stroke-width=\"3.2\"/>\n",
       "<circle clip-path=\"url(#clip532)\" cx=\"1962.47\" cy=\"1350.13\" r=\"14\" fill=\"#ff0000\" fill-rule=\"evenodd\" fill-opacity=\"1\" stroke=\"#000000\" stroke-opacity=\"1\" stroke-width=\"3.2\"/>\n",
       "<circle clip-path=\"url(#clip532)\" cx=\"2127.85\" cy=\"1368.76\" r=\"14\" fill=\"#ff0000\" fill-rule=\"evenodd\" fill-opacity=\"1\" stroke=\"#000000\" stroke-opacity=\"1\" stroke-width=\"3.2\"/>\n",
       "<circle clip-path=\"url(#clip532)\" cx=\"2293.22\" cy=\"1384.24\" r=\"14\" fill=\"#ff0000\" fill-rule=\"evenodd\" fill-opacity=\"1\" stroke=\"#000000\" stroke-opacity=\"1\" stroke-width=\"3.2\"/>\n",
       "<path clip-path=\"url(#clip530)\" d=\"\n",
       "M1870.83 196.789 L2282.64 196.789 L2282.64 93.1086 L1870.83 93.1086  Z\n",
       "  \" fill=\"#ffffff\" fill-rule=\"evenodd\" fill-opacity=\"1\"/>\n",
       "<polyline clip-path=\"url(#clip530)\" style=\"stroke:#000000; stroke-linecap:butt; stroke-linejoin:round; stroke-width:4; stroke-opacity:1; fill:none\" points=\"\n",
       "  1870.83,196.789 2282.64,196.789 2282.64,93.1086 1870.83,93.1086 1870.83,196.789 \n",
       "  \"/>\n",
       "<circle clip-path=\"url(#clip530)\" cx=\"1964.32\" cy=\"144.949\" r=\"23\" fill=\"#ff0000\" fill-rule=\"evenodd\" fill-opacity=\"1\" stroke=\"#000000\" stroke-opacity=\"1\" stroke-width=\"5.12\"/>\n",
       "<path clip-path=\"url(#clip530)\" d=\"M2065.22 128.942 L2065.22 136.303 L2073.99 136.303 L2073.99 139.613 L2065.22 139.613 L2065.22 153.687 Q2065.22 156.858 2066.08 157.761 Q2066.96 158.664 2069.62 158.664 L2073.99 158.664 L2073.99 162.229 L2069.62 162.229 Q2064.69 162.229 2062.81 160.4 Q2060.94 158.548 2060.94 153.687 L2060.94 139.613 L2057.81 139.613 L2057.81 136.303 L2060.94 136.303 L2060.94 128.942 L2065.22 128.942 Z\" fill=\"#000000\" fill-rule=\"evenodd\" fill-opacity=\"1\" /><path clip-path=\"url(#clip530)\" d=\"M2094.62 140.284 Q2093.9 139.868 2093.04 139.682 Q2092.21 139.474 2091.19 139.474 Q2087.58 139.474 2085.64 141.835 Q2083.72 144.173 2083.72 148.571 L2083.72 162.229 L2079.43 162.229 L2079.43 136.303 L2083.72 136.303 L2083.72 140.331 Q2085.06 137.969 2087.21 136.835 Q2089.36 135.678 2092.44 135.678 Q2092.88 135.678 2093.42 135.747 Q2093.95 135.794 2094.6 135.909 L2094.62 140.284 Z\" fill=\"#000000\" fill-rule=\"evenodd\" fill-opacity=\"1\" /><path clip-path=\"url(#clip530)\" d=\"M2110.87 149.196 Q2105.71 149.196 2103.72 150.377 Q2101.73 151.557 2101.73 154.405 Q2101.73 156.673 2103.21 158.016 Q2104.71 159.335 2107.28 159.335 Q2110.82 159.335 2112.95 156.835 Q2115.11 154.312 2115.11 150.145 L2115.11 149.196 L2110.87 149.196 M2119.36 147.437 L2119.36 162.229 L2115.11 162.229 L2115.11 158.293 Q2113.65 160.655 2111.47 161.789 Q2109.29 162.9 2106.15 162.9 Q2102.17 162.9 2099.8 160.678 Q2097.47 158.432 2097.47 154.682 Q2097.47 150.307 2100.38 148.085 Q2103.32 145.863 2109.13 145.863 L2115.11 145.863 L2115.11 145.446 Q2115.11 142.507 2113.16 140.909 Q2111.24 139.289 2107.74 139.289 Q2105.52 139.289 2103.42 139.821 Q2101.31 140.354 2099.36 141.419 L2099.36 137.483 Q2101.7 136.581 2103.9 136.141 Q2106.1 135.678 2108.18 135.678 Q2113.81 135.678 2116.59 138.594 Q2119.36 141.511 2119.36 147.437 Z\" fill=\"#000000\" fill-rule=\"evenodd\" fill-opacity=\"1\" /><path clip-path=\"url(#clip530)\" d=\"M2128.14 136.303 L2132.4 136.303 L2132.4 162.229 L2128.14 162.229 L2128.14 136.303 M2128.14 126.21 L2132.4 126.21 L2132.4 131.604 L2128.14 131.604 L2128.14 126.21 Z\" fill=\"#000000\" fill-rule=\"evenodd\" fill-opacity=\"1\" /><path clip-path=\"url(#clip530)\" d=\"M2162.86 146.581 L2162.86 162.229 L2158.6 162.229 L2158.6 146.719 Q2158.6 143.039 2157.16 141.21 Q2155.73 139.382 2152.86 139.382 Q2149.41 139.382 2147.42 141.581 Q2145.43 143.78 2145.43 147.576 L2145.43 162.229 L2141.15 162.229 L2141.15 136.303 L2145.43 136.303 L2145.43 140.331 Q2146.96 137.993 2149.02 136.835 Q2151.1 135.678 2153.81 135.678 Q2158.28 135.678 2160.57 138.456 Q2162.86 141.21 2162.86 146.581 Z\" fill=\"#000000\" fill-rule=\"evenodd\" fill-opacity=\"1\" /><path clip-path=\"url(#clip530)\" d=\"M2171.35 136.303 L2175.61 136.303 L2175.61 162.229 L2171.35 162.229 L2171.35 136.303 M2171.35 126.21 L2175.61 126.21 L2175.61 131.604 L2171.35 131.604 L2171.35 126.21 Z\" fill=\"#000000\" fill-rule=\"evenodd\" fill-opacity=\"1\" /><path clip-path=\"url(#clip530)\" d=\"M2206.08 146.581 L2206.08 162.229 L2201.82 162.229 L2201.82 146.719 Q2201.82 143.039 2200.38 141.21 Q2198.95 139.382 2196.08 139.382 Q2192.63 139.382 2190.64 141.581 Q2188.65 143.78 2188.65 147.576 L2188.65 162.229 L2184.36 162.229 L2184.36 136.303 L2188.65 136.303 L2188.65 140.331 Q2190.17 137.993 2192.23 136.835 Q2194.32 135.678 2197.03 135.678 Q2201.49 135.678 2203.79 138.456 Q2206.08 141.21 2206.08 146.581 Z\" fill=\"#000000\" fill-rule=\"evenodd\" fill-opacity=\"1\" /><path clip-path=\"url(#clip530)\" d=\"M2231.63 148.965 Q2231.63 144.335 2229.71 141.789 Q2227.81 139.243 2224.36 139.243 Q2220.94 139.243 2219.02 141.789 Q2217.12 144.335 2217.12 148.965 Q2217.12 153.571 2219.02 156.118 Q2220.94 158.664 2224.36 158.664 Q2227.81 158.664 2229.71 156.118 Q2231.63 153.571 2231.63 148.965 M2235.89 159.011 Q2235.89 165.631 2232.95 168.849 Q2230.01 172.09 2223.95 172.09 Q2221.7 172.09 2219.71 171.742 Q2217.72 171.418 2215.85 170.724 L2215.85 166.58 Q2217.72 167.599 2219.55 168.085 Q2221.38 168.571 2223.28 168.571 Q2227.47 168.571 2229.55 166.372 Q2231.63 164.196 2231.63 159.775 L2231.63 157.668 Q2230.31 159.96 2228.25 161.094 Q2226.19 162.229 2223.32 162.229 Q2218.55 162.229 2215.64 158.594 Q2212.72 154.96 2212.72 148.965 Q2212.72 142.946 2215.64 139.312 Q2218.55 135.678 2223.32 135.678 Q2226.19 135.678 2228.25 136.812 Q2230.31 137.946 2231.63 140.238 L2231.63 136.303 L2235.89 136.303 L2235.89 159.011 Z\" fill=\"#000000\" fill-rule=\"evenodd\" fill-opacity=\"1\" /></svg>\n"
      ]
     },
     "execution_count": 24,
     "metadata": {},
     "output_type": "execute_result"
    }
   ],
   "source": [
    "plot(epochs, losses,\n",
    "     xlab = \"epoch\",\n",
    "     ylab = \"mean sum of squares error\",\n",
    "     label=\"out-of-sample\",\n",
    "     legend = :topleft);\n",
    "scatter!(twinx(), epochs, training_losses, label=\"training\", color=:red)"
   ]
  },
  {
   "cell_type": "code",
   "execution_count": 25,
   "metadata": {},
   "outputs": [],
   "source": [
    "savefig(joinpath(\"assets\", \"loss.png\"))"
   ]
  },
  {
   "cell_type": "markdown",
   "metadata": {},
   "source": [
    "**How `IteratedModel` works.** Training an `IteratedModel` means\n",
    "holding out some data (80% in this case) so an out-of-sample loss\n",
    "can be tracked and used in the specified stopping criterion,\n",
    "`NumberSinceBest(4)`. However, once the stop is triggered, the model\n",
    "wrapped by `IteratedModel` (our pipeline model) is retrained on all\n",
    "data for the same number of iterations. Calling `predict(mach,\n",
    "Xnew)` on new data uses the updated learned parameters."
   ]
  },
  {
   "cell_type": "markdown",
   "metadata": {},
   "source": [
    "In other words, `iterated_model` is a \"self-iterating\" version of\n",
    "the original model, where `epochs` has been transformed from\n",
    "hyper-parameter to *learned* parameter."
   ]
  },
  {
   "cell_type": "markdown",
   "metadata": {},
   "source": [
    "## An evaluation of the self-iterating model"
   ]
  },
  {
   "cell_type": "markdown",
   "metadata": {},
   "source": [
    "Here's an estimate of performance of our \"self-iterating\"\n",
    "model:"
   ]
  },
  {
   "cell_type": "code",
   "execution_count": 26,
   "metadata": {},
   "outputs": [
    {
     "name": "stderr",
     "output_type": "stream",
     "text": [
      "\u001b[33mEvaluating over 8 folds: 100%[=========================] Time: 0:00:12\u001b[39m\n"
     ]
    },
    {
     "data": {
      "text/plain": [
       "PerformanceEvaluation object with these fields:\n",
       "  measure, measurement, operation, per_fold,\n",
       "  per_observation, fitted_params_per_fold,\n",
       "  report_per_fold, train_test_pairs\n",
       "Extract:\n",
       "┌───────────────┬─────────────┬───────────┬─────────────────────────────────────\n",
       "│\u001b[22m measure       \u001b[0m│\u001b[22m measurement \u001b[0m│\u001b[22m operation \u001b[0m│\u001b[22m per_fold                          \u001b[0m ⋯\n",
       "├───────────────┼─────────────┼───────────┼─────────────────────────────────────\n",
       "│ LPLoss(p = 1) │ 2.64        │ predict   │ [2.38, 2.8, 2.96, 2.89, 1.81, 2.43 ⋯\n",
       "│ LPLoss(p = 2) │ 17.8        │ predict   │ [19.8, 24.4, 26.6, 14.4, 6.1, 10.6 ⋯\n",
       "└───────────────┴─────────────┴───────────┴─────────────────────────────────────\n",
       "\u001b[36m                                                                1 column omitted\u001b[0m\n"
      ]
     },
     "execution_count": 26,
     "metadata": {},
     "output_type": "execute_result"
    }
   ],
   "source": [
    "e = evaluate!(mach,\n",
    "              resampling=CV(nfolds=8),\n",
    "              measures=[l1, l2])"
   ]
  },
  {
   "cell_type": "code",
   "execution_count": 27,
   "metadata": {},
   "outputs": [
    {
     "name": "stdout",
     "output_type": "stream",
     "text": [
      "l1_loss = 2.64 ± 0.17\n"
     ]
    },
    {
     "data": {
      "text/latex": [
       "$2.64 \\pm 0.17$"
      ],
      "text/plain": [
       "2.64 ± 0.17"
      ]
     },
     "execution_count": 27,
     "metadata": {},
     "output_type": "execute_result"
    }
   ],
   "source": [
    "using Measurements\n",
    "l1_loss = e.measurement[1] ± std(e.per_fold[1])/sqrt(7)\n",
    "@show l1_loss"
   ]
  },
  {
   "cell_type": "markdown",
   "metadata": {},
   "source": [
    "We take this estimate of the uncertainty of the generalization error with a [grain of salt](https://direct.mit.edu/neco/article-abstract/10/7/1895/6224/Approximate-Statistical-Tests-for-Comparing))."
   ]
  },
  {
   "cell_type": "markdown",
   "metadata": {},
   "source": [
    "## Comparison with other models on the test set"
   ]
  },
  {
   "cell_type": "markdown",
   "metadata": {},
   "source": [
    "Although we cannot assign them statistical significance, here are\n",
    "comparisons, on the untouched test set, of the eror of our\n",
    "self-iterating neural network regressor with a couple of other\n",
    "models trained on the same data (using default hyperparameters):"
   ]
  },
  {
   "cell_type": "code",
   "execution_count": 28,
   "metadata": {},
   "outputs": [
    {
     "name": "stderr",
     "output_type": "stream",
     "text": [
      "┌ Info: Training Machine{DeterministicIteratedModel{DeterministicPipeline{NamedTuple{,…},…}},…}.\n",
      "└ @ MLJBase /Users/anthony/.julia/packages/MLJBase/GxHVg/src/machines.jl:464\n",
      "┌ Info: final loss: 18.029846309038444\n",
      "└ @ IterationControl /Users/anthony/.julia/packages/IterationControl/lO4bA/src/train.jl:44\n",
      "┌ Info: final training loss: 0.15870439154333713\n",
      "└ @ IterationControl /Users/anthony/.julia/packages/IterationControl/lO4bA/src/train.jl:46\n",
      "┌ Info: Stop triggered by NumberSinceBest(6) stopping criterion. \n",
      "└ @ IterationControl /Users/anthony/.julia/packages/IterationControl/lO4bA/src/stopping_controls.jl:54\n",
      "┌ Info: Total of 13 iterations. \n",
      "└ @ MLJIteration /Users/anthony/.julia/packages/MLJIteration/jtWxG/src/core.jl:35\n"
     ]
    },
    {
     "name": "stdout",
     "output_type": "stream",
     "text": [
      "import EvoTrees ✔\n"
     ]
    },
    {
     "name": "stderr",
     "output_type": "stream",
     "text": [
      "┌ Info: For silent loading, specify `verbosity=0`. \n",
      "└ @ Main /Users/anthony/.julia/packages/MLJModels/Ci1zC/src/loading.jl:168\n"
     ]
    },
    {
     "name": "stdout",
     "output_type": "stream",
     "text": [
      "import MLJLinearModels ✔"
     ]
    },
    {
     "name": "stderr",
     "output_type": "stream",
     "text": [
      "┌ Info: For silent loading, specify `verbosity=0`. \n",
      "└ @ Main /Users/anthony/.julia/packages/MLJModels/Ci1zC/src/loading.jl:168\n"
     ]
    },
    {
     "name": "stdout",
     "output_type": "stream",
     "text": [
      "\n"
     ]
    },
    {
     "name": "stderr",
     "output_type": "stream",
     "text": [
      "┌ Info: Training Machine{EvoTreeRegressor{Float64,…},…}.\n",
      "└ @ MLJBase /Users/anthony/.julia/packages/MLJBase/GxHVg/src/machines.jl:464\n",
      "┌ Info: Training Machine{LinearRegressor,…}.\n",
      "└ @ MLJBase /Users/anthony/.julia/packages/MLJBase/GxHVg/src/machines.jl:464\n",
      "┌ Info: Training Machine{DeterministicIteratedModel{DeterministicPipeline{NamedTuple{,…},…}},…}.\n",
      "└ @ MLJBase /Users/anthony/.julia/packages/MLJBase/GxHVg/src/machines.jl:464\n",
      "┌ Info: final loss: 18.029846309038444\n",
      "└ @ IterationControl /Users/anthony/.julia/packages/IterationControl/lO4bA/src/train.jl:44\n",
      "┌ Info: final training loss: 0.15870439154333713\n",
      "└ @ IterationControl /Users/anthony/.julia/packages/IterationControl/lO4bA/src/train.jl:46\n",
      "┌ Info: Stop triggered by NumberSinceBest(6) stopping criterion. \n",
      "└ @ IterationControl /Users/anthony/.julia/packages/IterationControl/lO4bA/src/stopping_controls.jl:54\n",
      "┌ Info: Total of 13 iterations. \n",
      "└ @ MLJIteration /Users/anthony/.julia/packages/MLJIteration/jtWxG/src/core.jl:35\n"
     ]
    },
    {
     "name": "stdout",
     "output_type": "stream",
     "text": [
      "┌────────────────────────────┬────────────────────┐\n",
      "│\u001b[1m models                     \u001b[0m│\u001b[1m mean_square_errors \u001b[0m│\n",
      "│\u001b[90m String                     \u001b[0m│\u001b[90m Float64            \u001b[0m│\n",
      "│\u001b[90m Textual                    \u001b[0m│\u001b[90m Continuous         \u001b[0m│\n",
      "├────────────────────────────┼────────────────────┤\n",
      "│ EvoTreeRegressor           │ 3.59326            │\n",
      "│ LinearRegressor            │ 3.56423            │\n",
      "│ DeterministicIteratedModel │ 2.7276             │\n",
      "└────────────────────────────┴────────────────────┘\n"
     ]
    }
   ],
   "source": [
    "function performance(model)\n",
    "    mach = machine(model, X, y) |> fit!\n",
    "    yhat = predict(mach, Xtest)\n",
    "    l1(yhat, ytest) |> mean\n",
    "end\n",
    "performance(iterated_pipe)\n",
    "\n",
    "three_models = [(@load EvoTreeRegressor)(), # tree boosting model\n",
    "                (@load LinearRegressor pkg=MLJLinearModels)(),\n",
    "                iterated_pipe]\n",
    "\n",
    "errs = performance.(three_models)\n",
    "\n",
    "(models=MLJ.name.(three_models), mean_square_errors=errs) |> pretty"
   ]
  },
  {
   "cell_type": "markdown",
   "metadata": {},
   "source": [
    "---\n",
    "\n",
    "*This notebook was generated using [Literate.jl](https://github.com/fredrikekre/Literate.jl).*"
   ]
  }
 ],
 "metadata": {
  "@webio": {
   "lastCommId": null,
   "lastKernelId": null
  },
  "kernelspec": {
   "display_name": "Julia 1.6.5",
   "language": "julia",
   "name": "julia-1.6"
  },
  "language_info": {
   "file_extension": ".jl",
   "mimetype": "application/julia",
   "name": "julia",
   "version": "1.6.5"
  }
 },
 "nbformat": 4,
 "nbformat_minor": 3
}
