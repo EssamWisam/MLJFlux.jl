{
 "cells": [
  {
   "cell_type": "code",
   "execution_count": 1,
   "metadata": {},
   "outputs": [
    {
     "name": "stdout",
     "output_type": "stream",
     "text": [
      "\u001b[32m\u001b[1m  Updating\u001b[22m\u001b[39m registry at `~/.julia/registries/General`\n",
      "\u001b[32m\u001b[1m  Updating\u001b[22m\u001b[39m git-repo `https://github.com/JuliaRegistries/General.git`\n",
      "\u001b[2K\u001b[?25h"
     ]
    }
   ],
   "source": [
    "using Pkg\n",
    "Pkg.activate(@__DIR__)\n",
    "Pkg.instantiate()"
   ]
  },
  {
   "cell_type": "code",
   "execution_count": 2,
   "metadata": {},
   "outputs": [
    {
     "name": "stderr",
     "output_type": "stream",
     "text": [
      "┌ Info: Recompiling stale cache file /home/ayush99/.julia/compiled/v1.1/MLJ/rAU56.ji for MLJ [add582a8-e3ab-11e8-2d5e-e98b27df1bc7]\n",
      "└ @ Base loading.jl:1184\n",
      "┌ Info: Recompiling stale cache file /home/ayush99/.julia/compiled/v1.1/Flux/QdkVy.ji for Flux [587475ba-b771-5e3f-ad9e-33799f191a9c]\n",
      "└ @ Base loading.jl:1184\n",
      "┌ Info: Recompiling stale cache file /home/ayush99/.julia/compiled/v1.1/MLJFlux/fHjkl.ji for MLJFlux [094fc8d1-fd35-5302-93ea-dabda2abf845]\n",
      "└ @ Base loading.jl:1184\n",
      "┌ Warning: Package MLJFlux does not have CategoricalArrays in its dependencies:\n",
      "│ - If you have MLJFlux checked out for development and have\n",
      "│   added CategoricalArrays as a dependency but haven't updated your primary\n",
      "│   environment's manifest file, try `Pkg.resolve()`.\n",
      "│ - Otherwise you may need to report an issue with MLJFlux\n",
      "└ Loading CategoricalArrays into MLJFlux from project dependency, future warnings for MLJFlux are suppressed.\n"
     ]
    }
   ],
   "source": [
    "using MLJ\n",
    "import Flux\n",
    "using MLJFlux\n",
    "using CategoricalArrays"
   ]
  },
  {
   "cell_type": "markdown",
   "metadata": {},
   "source": [
    "Loading the boston dataset:"
   ]
  },
  {
   "cell_type": "code",
   "execution_count": 3,
   "metadata": {},
   "outputs": [],
   "source": [
    "task = load_boston()\n",
    "X_, y_ = task();"
   ]
  },
  {
   "cell_type": "markdown",
   "metadata": {},
   "source": [
    "Standardizing the inputs:"
   ]
  },
  {
   "cell_type": "code",
   "execution_count": 4,
   "metadata": {},
   "outputs": [
    {
     "name": "stderr",
     "output_type": "stream",
     "text": [
      "┌ Info: Training \u001b[34mMachine{UnivariateStandardizer} @ 1…65\u001b[39m.\n",
      "└ @ MLJ /home/ayush99/.julia/packages/MLJ/XYSFt/src/machines.jl:135\n"
     ]
    }
   ],
   "source": [
    "ustand_model = UnivariateStandardizer()\n",
    "ustand = machine(ustand_model, y_)\n",
    "fit!(ustand)\n",
    "y = transform(ustand, y_);"
   ]
  },
  {
   "cell_type": "code",
   "execution_count": 5,
   "metadata": {},
   "outputs": [
    {
     "name": "stderr",
     "output_type": "stream",
     "text": [
      "┌ Info: Training \u001b[34mMachine{Standardizer} @ 1…97\u001b[39m.\n",
      "└ @ MLJ /home/ayush99/.julia/packages/MLJ/XYSFt/src/machines.jl:135\n"
     ]
    }
   ],
   "source": [
    "stand_model = Standardizer()\n",
    "stand = machine(stand_model, X_)\n",
    "fit!(stand)\n",
    "X = transform(stand, X_);"
   ]
  },
  {
   "cell_type": "markdown",
   "metadata": {},
   "source": [
    "Implementing a small NN "
   ]
  },
  {
   "cell_type": "code",
   "execution_count": 11,
   "metadata": {},
   "outputs": [
    {
     "data": {
      "text/plain": [
       "NeuralNetworkRegressor(builder = \u001b[34mShort @ 1…48\u001b[39m,\n",
       "                       optimiser = Flux.Optimise.Momentum(0.003, 0.9, IdDict{Any,Any}()),\n",
       "                       loss = Flux.mse,\n",
       "                       n = 10,\n",
       "                       batch_size = 1,\n",
       "                       lambda = 0.0,\n",
       "                       alpha = 0.0,\n",
       "                       optimiser_changes_trigger_retraining = false,\n",
       "                       embedding_choice = :entity_embedding,)\u001b[34m @ 5…58\u001b[39m"
      ]
     },
     "execution_count": 11,
     "metadata": {},
     "output_type": "execute_result"
    }
   ],
   "source": [
    "builder = MLJFlux.Short()\n",
    "optimiser = Flux.Momentum(0.003)\n",
    "nnmodel = NeuralNetworkRegressor(builder=builder, optimiser=optimiser, embedding_choice=:entity_embedding)"
   ]
  },
  {
   "cell_type": "code",
   "execution_count": 12,
   "metadata": {},
   "outputs": [
    {
     "data": {
      "text/plain": [
       "\u001b[34mMachine{NeuralNetworkRegressor} @ 1…62\u001b[39m\n"
      ]
     },
     "execution_count": 12,
     "metadata": {},
     "output_type": "execute_result"
    }
   ],
   "source": [
    "mach = machine(nnmodel, X, y)"
   ]
  },
  {
   "cell_type": "code",
   "execution_count": 13,
   "metadata": {},
   "outputs": [
    {
     "name": "stderr",
     "output_type": "stream",
     "text": [
      "┌ Info: Training \u001b[34mMachine{NeuralNetworkRegressor} @ 1…62\u001b[39m.\n",
      "└ @ MLJ /home/ayush99/.julia/packages/MLJ/XYSFt/src/machines.jl:135\n"
     ]
    },
    {
     "name": "stdout",
     "output_type": "stream",
     "text": [
      "Loss is 468.85205773687596\n",
      "Loss is 459.90886444075613\n",
      "Loss is 432.5289814687344\n",
      "Loss is 456.89556067943533\n",
      "Loss is 409.1867059074019\n",
      "Loss is 508.9516599232585\n",
      "Loss is 421.36345508593985\n",
      "Loss is 342.75609156416385\n",
      "Loss is 314.7598726462114\n",
      "Loss is 382.0540871664296\n"
     ]
    },
    {
     "data": {
      "text/plain": [
       "\u001b[34mMachine{NeuralNetworkRegressor} @ 1…62\u001b[39m\n"
      ]
     },
     "execution_count": 13,
     "metadata": {},
     "output_type": "execute_result"
    }
   ],
   "source": [
    "fit!(mach, verbosity=2)"
   ]
  },
  {
   "cell_type": "raw",
   "metadata": {},
   "source": [
    "Changing a parameter and retraining:"
   ]
  },
  {
   "cell_type": "code",
   "execution_count": 9,
   "metadata": {},
   "outputs": [
    {
     "data": {
      "text/plain": [
       "20"
      ]
     },
     "execution_count": 9,
     "metadata": {},
     "output_type": "execute_result"
    }
   ],
   "source": [
    "nnmodel.n = 20"
   ]
  },
  {
   "cell_type": "code",
   "execution_count": 10,
   "metadata": {},
   "outputs": [
    {
     "name": "stderr",
     "output_type": "stream",
     "text": [
      "┌ Info: Updating \u001b[34mMachine{NeuralNetworkRegressor} @ 1…66\u001b[39m.\n",
      "└ @ MLJ /home/ayush99/.julia/packages/MLJ/XYSFt/src/machines.jl:147\n"
     ]
    },
    {
     "name": "stdout",
     "output_type": "stream",
     "text": [
      "Loss is 399.90564562761534\n",
      "Loss is 429.97053926397297\n",
      "Loss is 422.1505175376968\n",
      "Loss is 387.94903548497666\n",
      "Loss is 435.0446561578859\n",
      "Loss is 369.027124679459\n",
      "Loss is 343.7610727606283\n",
      "Loss is 413.519834234033\n",
      "Loss is 370.0416672164816\n",
      "Loss is 392.73581579884404\n"
     ]
    },
    {
     "data": {
      "text/plain": [
       "\u001b[34mMachine{NeuralNetworkRegressor} @ 1…66\u001b[39m\n"
      ]
     },
     "execution_count": 10,
     "metadata": {},
     "output_type": "execute_result"
    }
   ],
   "source": [
    "fit!(mach, verbosity= 2)"
   ]
  },
  {
   "cell_type": "markdown",
   "metadata": {},
   "source": [
    "Defining our own NN:"
   ]
  },
  {
   "cell_type": "code",
   "execution_count": 11,
   "metadata": {},
   "outputs": [],
   "source": [
    "struct mynn <: MLJFlux.Builder\n",
    "    d1\n",
    "    d2\n",
    "end\n",
    "\n",
    "function MLJFlux.fit(nn::mynn, a, b)\n",
    "    return Flux.Chain(Flux.Dense(a, nn.d1), Flux.Dense(nn.d1, nn.d2), Flux.Dense(nn.d2, b))\n",
    "end"
   ]
  },
  {
   "cell_type": "code",
   "execution_count": 12,
   "metadata": {},
   "outputs": [
    {
     "data": {
      "text/plain": [
       "NeuralNetworkRegressor(builder = \u001b[34mmynn @ 9…34\u001b[39m,\n",
       "                       optimiser = Flux.Optimise.Momentum(3.0e-5, 0.9, IdDict{Any,Any}()),\n",
       "                       loss = Flux.mse,\n",
       "                       n = 10,\n",
       "                       batch_size = 1,\n",
       "                       lambda = 0.0,\n",
       "                       alpha = 0.0,\n",
       "                       optimiser_changes_trigger_retraining = false,\n",
       "                       embedding_choice = :onehot,)\u001b[34m @ 1…56\u001b[39m"
      ]
     },
     "execution_count": 12,
     "metadata": {},
     "output_type": "execute_result"
    }
   ],
   "source": [
    "optimiser = Flux.Momentum(0.00003)\n",
    "builder = mynn(3, 4)\n",
    "nnmodel = NeuralNetworkRegressor(builder=builder, optimiser=optimiser)"
   ]
  },
  {
   "cell_type": "code",
   "execution_count": 13,
   "metadata": {},
   "outputs": [
    {
     "data": {
      "text/plain": [
       "\u001b[34mMachine{NeuralNetworkRegressor} @ 7…20\u001b[39m\n"
      ]
     },
     "execution_count": 13,
     "metadata": {},
     "output_type": "execute_result"
    }
   ],
   "source": [
    "mymach = machine(nnmodel, X, y)"
   ]
  },
  {
   "cell_type": "code",
   "execution_count": 14,
   "metadata": {},
   "outputs": [
    {
     "name": "stderr",
     "output_type": "stream",
     "text": [
      "┌ Info: Training \u001b[34mMachine{NeuralNetworkRegressor} @ 7…20\u001b[39m.\n",
      "└ @ MLJ /home/ayush99/.julia/packages/MLJ/XYSFt/src/machines.jl:135\n",
      "┌ Info: Training \u001b[34mMachine{OneHotEncoder} @ 1…02\u001b[39m.\n",
      "└ @ MLJ /home/ayush99/.julia/packages/MLJ/XYSFt/src/machines.jl:135\n"
     ]
    },
    {
     "name": "stdout",
     "output_type": "stream",
     "text": [
      "Loss is 422.2894499164513\n",
      "Loss is 374.83798083360784\n",
      "Loss is 351.5705866582662\n",
      "Loss is 334.0529805043895\n",
      "Loss is 318.0786496610275\n",
      "Loss is 302.8122034567332\n",
      "Loss is 288.16916863482874\n",
      "Loss is 274.23267152479906\n",
      "Loss is 261.11540756272274\n",
      "Loss is 248.91781787424466\n"
     ]
    },
    {
     "data": {
      "text/plain": [
       "\u001b[34mMachine{NeuralNetworkRegressor} @ 7…20\u001b[39m\n"
      ]
     },
     "execution_count": 14,
     "metadata": {},
     "output_type": "execute_result"
    }
   ],
   "source": [
    "fit!(mymach, verbosity=2)"
   ]
  },
  {
   "cell_type": "code",
   "execution_count": 15,
   "metadata": {},
   "outputs": [
    {
     "name": "stderr",
     "output_type": "stream",
     "text": [
      "┌ Info: Training \u001b[34mMachine{DeterministicTunedModel} @ 9…58\u001b[39m.\n",
      "└ @ MLJ /home/ayush99/.julia/packages/MLJ/XYSFt/src/machines.jl:135\n",
      "\u001b[33mIterating over a 30-point grid:   3%[>                        ]  ETA: 0:00:03\u001b[39m┌ Info: Training \u001b[34mMachine{OneHotEncoder} @ 1…45\u001b[39m.\n",
      "└ @ MLJ /home/ayush99/.julia/packages/MLJ/XYSFt/src/machines.jl:135\n",
      "\u001b[33mIterating over a 30-point grid: 100%[=========================] Time: 0:00:06\u001b[39m\n",
      "┌ Info: Not retraining \u001b[34mMachine{DeterministicTunedModel} @ 9…58\u001b[39m.\n",
      "│  It appears up-to-date. Use force=true to force retraining.\n",
      "└ @ MLJ /home/ayush99/.julia/packages/MLJ/XYSFt/src/machines.jl:141\n",
      "┌ Info: Not retraining \u001b[34mMachine{DeterministicTunedModel} @ 9…58\u001b[39m.\n",
      "│  It appears up-to-date. Use force=true to force retraining.\n",
      "└ @ MLJ /home/ayush99/.julia/packages/MLJ/XYSFt/src/machines.jl:141\n",
      "┌ Info: Not retraining \u001b[34mMachine{DeterministicTunedModel} @ 9…58\u001b[39m.\n",
      "│  It appears up-to-date. Use force=true to force retraining.\n",
      "└ @ MLJ /home/ayush99/.julia/packages/MLJ/XYSFt/src/machines.jl:141\n"
     ]
    },
    {
     "data": {
      "image/png": "[encoded data removed]"
     },
     "execution_count": 15,
     "metadata": {},
     "output_type": "execute_result"
    }
   ],
   "source": [
    "# learning curves:\n",
    "nn = machine(nnmodel, X, y)\n",
    "r = range(nnmodel, :n, lower=1, upper=50)\n",
    "curve = learning_curve!(nn, nested_range=(n=r,), n=4)\n",
    "\n",
    "using Plots\n",
    "pyplot()\n",
    "\n",
    "plot(curve.parameter_values, curve.measurements,\n",
    "     xlab=curve.parameter_name)"
   ]
  },
  {
   "cell_type": "code",
   "execution_count": null,
   "metadata": {},
   "outputs": [],
   "source": []
  }
 ],
 "metadata": {
  "kernelspec": {
   "display_name": "Julia 1.1.1",
   "language": "julia",
   "name": "julia-1.1"
  },
  "language_info": {
   "file_extension": ".jl",
   "mimetype": "application/julia",
   "name": "julia",
   "version": "1.1.1"
  }
 },
 "nbformat": 4,
 "nbformat_minor": 2
}
