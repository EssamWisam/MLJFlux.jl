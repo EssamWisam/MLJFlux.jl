{
 "cells": [
  {
   "cell_type": "code",
   "execution_count": 1,
   "metadata": {},
   "outputs": [
    {
     "name": "stderr",
     "output_type": "stream",
     "text": [
      "┌ Info: Recompiling stale cache file /home/ayush99/.julia/compiled/v1.1/MLJ/rAU56.ji for MLJ [add582a8-e3ab-11e8-2d5e-e98b27df1bc7]\n",
      "└ @ Base loading.jl:1184\n",
      "┌ Info: Recompiling stale cache file /home/ayush99/.julia/compiled/v1.1/MLJFlux/fHjkl.ji for MLJFlux [094fc8d1-fd35-5302-93ea-dabda2abf845]\n",
      "└ @ Base loading.jl:1184\n"
     ]
    }
   ],
   "source": [
    "using MLJ\n",
    "import Flux\n",
    "using MLJFlux\n",
    "using CategoricalArrays"
   ]
  },
  {
   "cell_type": "markdown",
   "metadata": {},
   "source": [
    "Loading the boston dataset:"
   ]
  },
  {
   "cell_type": "code",
   "execution_count": 2,
   "metadata": {},
   "outputs": [],
   "source": [
    "task = load_boston()\n",
    "X_, y_ = task();"
   ]
  },
  {
   "cell_type": "markdown",
   "metadata": {},
   "source": [
    "Standardizing the inputs:"
   ]
  },
  {
   "cell_type": "code",
   "execution_count": 3,
   "metadata": {},
   "outputs": [
    {
     "name": "stderr",
     "output_type": "stream",
     "text": [
      "┌ Info: Training \u001b[34mMachine{UnivariateStandardizer} @ 2…49\u001b[39m.\n",
      "└ @ MLJ /home/ayush99/.julia/dev/MLJ/src/machines.jl:130\n"
     ]
    }
   ],
   "source": [
    "ustand_model = UnivariateStandardizer()\n",
    "ustand = machine(ustand_model, y_)\n",
    "fit!(ustand)\n",
    "y = transform(ustand, y_);"
   ]
  },
  {
   "cell_type": "code",
   "execution_count": 4,
   "metadata": {},
   "outputs": [
    {
     "name": "stderr",
     "output_type": "stream",
     "text": [
      "┌ Info: Training \u001b[34mMachine{Standardizer} @ 9…66\u001b[39m.\n",
      "└ @ MLJ /home/ayush99/.julia/dev/MLJ/src/machines.jl:130\n"
     ]
    }
   ],
   "source": [
    "stand_model = Standardizer()\n",
    "stand = machine(stand_model, X_)\n",
    "fit!(stand)\n",
    "X = transform(stand, X_);"
   ]
  },
  {
   "cell_type": "markdown",
   "metadata": {},
   "source": [
    "Implementing a small NN "
   ]
  },
  {
   "cell_type": "code",
   "execution_count": 13,
   "metadata": {},
   "outputs": [
    {
     "data": {
      "text/plain": [
       "NeuralNetworkRegressor(builder = \u001b[34mShort{} @ 1…14\u001b[39m,\n",
       "                       optimiser = Flux.Optimise.Momentum(0.003, 0.9, IdDict{Any,Any}()),\n",
       "                       loss = Flux.mse,\n",
       "                       n = 10,\n",
       "                       batch_size = 1,\n",
       "                       lambda = 0.0,\n",
       "                       alpha = 0.0,\n",
       "                       optimiser_changes_trigger_retraining = false,)\u001b[34m @ 5…65\u001b[39m"
      ]
     },
     "execution_count": 13,
     "metadata": {},
     "output_type": "execute_result"
    }
   ],
   "source": [
    "builder = MLJFlux.Short()\n",
    "optimiser = Flux.Momentum(0.003)\n",
    "nnmodel = NeuralNetworkRegressor(builder=builder, optimiser=optimiser)"
   ]
  },
  {
   "cell_type": "code",
   "execution_count": 14,
   "metadata": {},
   "outputs": [
    {
     "name": "stdout",
     "output_type": "stream",
     "text": [
      "Loss is 578.8946527063584\n",
      "Loss is 522.3698119542399\n",
      "Loss is 529.8241578172281\n",
      "Loss is 461.97008764570865\n",
      "Loss is 463.0274592913024\n",
      "Loss is 406.3109550431108\n",
      "Loss is 380.0925931998502\n",
      "Loss is 426.39846902909335\n",
      "Loss is 406.5012867167901\n",
      "Loss is 384.3981816169468\n"
     ]
    }
   ],
   "source": [
    "fitresult, cache, report = MLJ.fit(nnmodel, 2, X, y);"
   ]
  },
  {
   "cell_type": "code",
   "execution_count": 11,
   "metadata": {},
   "outputs": [
    {
     "data": {
      "text/plain": [
       "NeuralNetworkRegressor(builder = \u001b[34mShort{} @ 1…11\u001b[39m,\n",
       "                       optimiser = Flux.Optimise.Momentum(0.003, 0.9, IdDict{Any,Any}()),\n",
       "                       loss = Flux.mse,\n",
       "                       n = 20,\n",
       "                       batch_size = 1,\n",
       "                       lambda = 0.0,\n",
       "                       alpha = 0.0,\n",
       "                       optimiser_changes_trigger_retraining = false,)\u001b[34m @ 9…86\u001b[39m"
      ]
     },
     "execution_count": 11,
     "metadata": {},
     "output_type": "execute_result"
    }
   ],
   "source": [
    "model = NeuralNetworkRegressor(builder=builder, optimiser=optimiser, n =20)"
   ]
  },
  {
   "cell_type": "code",
   "execution_count": 12,
   "metadata": {},
   "outputs": [
    {
     "name": "stdout",
     "output_type": "stream",
     "text": [
      "Loss is 407.3300088810131\n",
      "Loss is 364.7834471244176\n",
      "Loss is 420.30522018002824\n",
      "Loss is 435.2097666951982\n",
      "Loss is 362.9675558876044\n",
      "Loss is 374.33056646166085\n",
      "Loss is 321.15864335763627\n",
      "Loss is 421.98317275407527\n",
      "Loss is 380.92586582559034\n",
      "Loss is 340.0498469946497\n"
     ]
    },
    {
     "data": {
      "text/plain": [
       "((Chain(Dense(12, 3, NNlib.σ), Flux.Dropout{Float64}(0.5, Colon(), false), Dense(3, 1)), false), (\u001b[34mNeuralNetworkRegressor{} @ 1…31\u001b[39m, Tuple{Array{Float64,2},Array{Float64,1}}[([-0.419367; 0.284548; … ; 0.440616; -1.0745], [0.159528]), ([-0.416927; -0.48724; … ; 0.440616; -0.491953], [-0.101424]), ([-0.416929; -0.48724; … ; 0.396035; -1.20753], [1.32294]), ([-0.416338; -0.48724; … ; 0.415751; -1.36017], [1.18159]), ([-0.412074; -0.48724; … ; 0.440616; -1.02549], [1.48603]), ([-0.416631; -0.48724; … ; 0.410165; -1.04229], [0.670558]), ([-0.409837; 0.048724; … ; 0.426376; -0.0312367], [0.0399249]), ([-0.403297; 0.048724; … ; 0.440616; 0.9098], [0.49659]), ([-0.395543; 0.048724; … ; 0.328123; 2.41938], [-0.655946]), ([-0.400333; 0.048724; … ; 0.329; 0.622728], [-0.394995])  …  ([-0.386433; -0.48724; … ; 0.440616; 1.18847], [-0.308011]), ([-0.3889; -0.48724; … ; 0.440616; 0.202622], [-0.460233]), ([-0.392302; -0.48724; … ; 0.440616; 0.0373805], [-0.144916]), ([-0.399427; -0.48724; … ; 0.428238; 0.342657], [-0.547216]), ([-0.394016; -0.48724; … ; 0.440616; 0.23483], [-0.623327]), ([-0.41282; -0.48724; … ; 0.386834; -0.417734], [-0.01444]), ([-0.414839; -0.48724; … ; 0.440616; -0.500355], [-0.210154]), ([-0.413038; -0.48724; … ; 0.440616; -0.982076], [0.148655]), ([-0.407361; -0.48724; … ; 0.402826; -0.864446], [-0.057932]), ([-0.41459; -0.48724; … ; 0.440616; -0.668397], [-1.1561])], [614.396, 557.161, 506.199, 402.099, 455.919, 508.519, 452.889, 328.593, 413.352, 381.986, 407.33, 364.783, 420.305, 435.21, 362.968, 374.331, 321.159, 421.983, 380.926, 340.05]), (training_losses = [614.396, 557.161, 506.199, 402.099, 455.919, 508.519, 452.889, 328.593, 413.352, 381.986, 407.33, 364.783, 420.305, 435.21, 362.968, 374.331, 321.159, 421.983, 380.926, 340.05],))"
      ]
     },
     "execution_count": 12,
     "metadata": {},
     "output_type": "execute_result"
    }
   ],
   "source": [
    "fitresult_new, cache_new, report_new = MLJ.update(model, 2, fitresult, cache, X, y)"
   ]
  },
  {
   "cell_type": "markdown",
   "metadata": {},
   "source": [
    "Defining our own NN:"
   ]
  },
  {
   "cell_type": "code",
   "execution_count": 25,
   "metadata": {},
   "outputs": [],
   "source": [
    "struct mynn <: MLJFlux.Builder\n",
    "    d1\n",
    "    d2\n",
    "end\n",
    "\n",
    "function MLJFlux.fit(nn::mynn, a, b)\n",
    "    return Flux.Chain(Flux.Dense(a, nn.d1), Flux.Dense(nn.d1, nn.d2), Flux.Dense(nn.d2, b))\n",
    "end"
   ]
  },
  {
   "cell_type": "code",
   "execution_count": 28,
   "metadata": {},
   "outputs": [
    {
     "data": {
      "text/plain": [
       "NeuralNetworkRegressor(builder = \u001b[34mmynn{} @ 6…99\u001b[39m,\n",
       "                       optimiser = Flux.Optimise.Momentum(3.0e-5, 0.9, IdDict{Any,Any}()),\n",
       "                       loss = Flux.mse,\n",
       "                       n = 10,\n",
       "                       batch_size = 1,\n",
       "                       lambda = 0.0,\n",
       "                       alpha = 0.0,\n",
       "                       optimiser_changes_trigger_retraining = false,)\u001b[34m @ 4…70\u001b[39m"
      ]
     },
     "execution_count": 28,
     "metadata": {},
     "output_type": "execute_result"
    }
   ],
   "source": [
    "optimiser = Flux.Momentum(0.00003)\n",
    "builder = mynn(3, 4)\n",
    "nnmodel = NeuralNetworkRegressor(builder=builder, optimiser=optimiser)"
   ]
  },
  {
   "cell_type": "code",
   "execution_count": 29,
   "metadata": {},
   "outputs": [
    {
     "name": "stdout",
     "output_type": "stream",
     "text": [
      "Loss is 364.4814569413559\n",
      "Loss is 278.63231647769413\n",
      "Loss is 235.69849498109986\n",
      "Loss is 213.50896526621412\n",
      "Loss is 200.82036709841546\n",
      "Loss is 192.3304622194287\n",
      "Loss is 185.96632319587954\n",
      "Loss is 180.8950639185371\n",
      "Loss is 176.7181708714614\n",
      "Loss is 173.20630295175266\n"
     ]
    }
   ],
   "source": [
    "fitresult, cache, report = MLJ.fit(nnmodel, 2, X, y);"
   ]
  },
  {
   "cell_type": "code",
   "execution_count": 31,
   "metadata": {},
   "outputs": [
    {
     "name": "stderr",
     "output_type": "stream",
     "text": [
      "┌ Info: Training \u001b[34mMachine{DeterministicTunedModel} @ 1…74\u001b[39m.\n",
      "└ @ MLJ /home/ayush99/.julia/dev/MLJ/src/machines.jl:130\n",
      "\u001b[33mIterating over a 30-point grid: 100%[=========================] Time: 0:00:03\u001b[39m\n",
      "┌ Info: Not retraining \u001b[34mMachine{DeterministicTunedModel} @ 1…74\u001b[39m.\n",
      "│  It appears up-to-date. Use force=true to force retraining.\n",
      "└ @ MLJ /home/ayush99/.julia/dev/MLJ/src/machines.jl:136\n",
      "┌ Info: Not retraining \u001b[34mMachine{DeterministicTunedModel} @ 1…74\u001b[39m.\n",
      "│  It appears up-to-date. Use force=true to force retraining.\n",
      "└ @ MLJ /home/ayush99/.julia/dev/MLJ/src/machines.jl:136\n",
      "┌ Info: Not retraining \u001b[34mMachine{DeterministicTunedModel} @ 1…74\u001b[39m.\n",
      "│  It appears up-to-date. Use force=true to force retraining.\n",
      "└ @ MLJ /home/ayush99/.julia/dev/MLJ/src/machines.jl:136\n",
      "┌ Info: Recompiling stale cache file /home/ayush99/.julia/compiled/v1.1/PyPlot/oatAj.ji for PyPlot [d330b81b-6aea-500a-939a-2ce795aea3ee]\n",
      "└ @ Base loading.jl:1184\n",
      "┌ Warning: `getindex(o::PyObject, s::AbstractString)` is deprecated in favor of dot overloading (`getproperty`) so elements should now be accessed as e.g. `o.\"s\"` instead of `o[\"s\"]`.\n",
      "│   caller = top-level scope at none:0\n",
      "└ @ Core none:0\n",
      "┌ Warning: `getindex(f::Figure, x)` is deprecated, use `getproperty(f, x)` instead.\n",
      "│   caller = _before_layout_calcs(::Plots.Plot{Plots.PyPlotBackend}) at pyplot.jl:935\n",
      "└ @ Plots /home/ayush99/.julia/packages/Plots/gylTh/src/backends/pyplot.jl:935\n",
      "┌ Warning: `getindex(f::Figure, x)` is deprecated, use `getproperty(f, x)` instead.\n",
      "│   caller = _before_layout_calcs(::Plots.Plot{Plots.PyPlotBackend}) at pyplot.jl:937\n",
      "└ @ Plots /home/ayush99/.julia/packages/Plots/gylTh/src/backends/pyplot.jl:937\n",
      "┌ Warning: `getindex(f::Figure, x)` is deprecated, use `getproperty(f, x)` instead.\n",
      "│   caller = _before_layout_calcs(::Plots.Plot{Plots.PyPlotBackend}) at pyplot.jl:938\n",
      "└ @ Plots /home/ayush99/.julia/packages/Plots/gylTh/src/backends/pyplot.jl:938\n",
      "┌ Warning: `getindex(f::Figure, x)` is deprecated, use `getproperty(f, x)` instead.\n",
      "│   caller = _before_layout_calcs(::Plots.Plot{Plots.PyPlotBackend}) at pyplot.jl:939\n",
      "└ @ Plots /home/ayush99/.julia/packages/Plots/gylTh/src/backends/pyplot.jl:939\n",
      "┌ Warning: `getindex(o::PyObject, s::Symbol)` is deprecated in favor of dot overloading (`getproperty`) so elements should now be accessed as e.g. `o.s` instead of `o[:s]`.\n",
      "│   caller = _before_layout_calcs(::Plots.Plot{Plots.PyPlotBackend}) at pyplot.jl:942\n",
      "└ @ Plots /home/ayush99/.julia/packages/Plots/gylTh/src/backends/pyplot.jl:942\n",
      "┌ Warning: `getindex(o::PyObject, s::Symbol)` is deprecated in favor of dot overloading (`getproperty`) so elements should now be accessed as e.g. `o.s` instead of `o[:s]`.\n",
      "│   caller = _before_layout_calcs(::Plots.Plot{Plots.PyPlotBackend}) at pyplot.jl:942\n",
      "└ @ Plots /home/ayush99/.julia/packages/Plots/gylTh/src/backends/pyplot.jl:942\n",
      "┌ Warning: `getindex(f::Figure, x)` is deprecated, use `getproperty(f, x)` instead.\n",
      "│   caller = py_init_subplot(::Plots.Plot{Plots.PyPlotBackend}, ::Plots.Subplot{Plots.PyPlotBackend}) at pyplot.jl:342\n",
      "└ @ Plots /home/ayush99/.julia/packages/Plots/gylTh/src/backends/pyplot.jl:342\n",
      "┌ Warning: `getindex(o::PyObject, s::Symbol)` is deprecated in favor of dot overloading (`getproperty`) so elements should now be accessed as e.g. `o.s` instead of `o[:s]`.\n",
      "│   caller = py_add_series(::Plots.Plot{Plots.PyPlotBackend}, ::Plots.Series) at pyplot.jl:443\n",
      "└ @ Plots /home/ayush99/.julia/packages/Plots/gylTh/src/backends/pyplot.jl:443\n",
      "┌ Warning: `getindex(o::PyObject, s::Symbol)` is deprecated in favor of dot overloading (`getproperty`) so elements should now be accessed as e.g. `o.s` instead of `o[:s]`.\n",
      "│   caller = _before_layout_calcs(::Plots.Plot{Plots.PyPlotBackend}) at pyplot.jl:1029\n",
      "└ @ Plots /home/ayush99/.julia/packages/Plots/gylTh/src/backends/pyplot.jl:1029\n",
      "┌ Warning: `getindex(o::PyObject, s::Symbol)` is deprecated in favor of dot overloading (`getproperty`) so elements should now be accessed as e.g. `o.s` instead of `o[:s]`.\n",
      "│   caller = _before_layout_calcs(::Plots.Plot{Plots.PyPlotBackend}) at pyplot.jl:1029\n",
      "└ @ Plots /home/ayush99/.julia/packages/Plots/gylTh/src/backends/pyplot.jl:1029\n",
      "┌ Warning: `getindex(o::PyObject, s::Symbol)` is deprecated in favor of dot overloading (`getproperty`) so elements should now be accessed as e.g. `o.s` instead of `o[:s]`.\n",
      "│   caller = _before_layout_calcs(::Plots.Plot{Plots.PyPlotBackend}) at pyplot.jl:1030\n",
      "└ @ Plots /home/ayush99/.julia/packages/Plots/gylTh/src/backends/pyplot.jl:1030\n",
      "┌ Warning: `getindex(o::PyObject, s::Symbol)` is deprecated in favor of dot overloading (`getproperty`) so elements should now be accessed as e.g. `o.s` instead of `o[:s]`.\n",
      "│   caller = _before_layout_calcs(::Plots.Plot{Plots.PyPlotBackend}) at pyplot.jl:1030\n",
      "└ @ Plots /home/ayush99/.julia/packages/Plots/gylTh/src/backends/pyplot.jl:1030\n",
      "┌ Warning: `getindex(o::PyObject, s::Symbol)` is deprecated in favor of dot overloading (`getproperty`) so elements should now be accessed as e.g. `o.s` instead of `o[:s]`.\n",
      "│   caller = _before_layout_calcs(::Plots.Plot{Plots.PyPlotBackend}) at pyplot.jl:1038\n",
      "└ @ Plots /home/ayush99/.julia/packages/Plots/gylTh/src/backends/pyplot.jl:1038\n",
      "┌ Warning: `getindex(o::PyObject, s::Symbol)` is deprecated in favor of dot overloading (`getproperty`) so elements should now be accessed as e.g. `o.s` instead of `o[:s]`.\n",
      "│   caller = _before_layout_calcs(::Plots.Plot{Plots.PyPlotBackend}) at pyplot.jl:1038\n",
      "└ @ Plots /home/ayush99/.julia/packages/Plots/gylTh/src/backends/pyplot.jl:1038\n",
      "┌ Warning: `getindex(o::PyObject, s::Symbol)` is deprecated in favor of dot overloading (`getproperty`) so elements should now be accessed as e.g. `o.s` instead of `o[:s]`.\n",
      "│   caller = _before_layout_calcs(::Plots.Plot{Plots.PyPlotBackend}) at pyplot.jl:1039\n",
      "└ @ Plots /home/ayush99/.julia/packages/Plots/gylTh/src/backends/pyplot.jl:1039\n",
      "┌ Warning: `getindex(o::PyObject, s::Symbol)` is deprecated in favor of dot overloading (`getproperty`) so elements should now be accessed as e.g. `o.s` instead of `o[:s]`.\n",
      "│   caller = _before_layout_calcs(::Plots.Plot{Plots.PyPlotBackend}) at pyplot.jl:1039\n",
      "└ @ Plots /home/ayush99/.julia/packages/Plots/gylTh/src/backends/pyplot.jl:1039\n",
      "┌ Warning: `haskey(o::PyObject, s::Union{Symbol, AbstractString})` is deprecated, use `hasproperty(o, s)` instead.\n",
      "│   caller = _before_layout_calcs(::Plots.Plot{Plots.PyPlotBackend}) at pyplot.jl:1058\n",
      "└ @ Plots /home/ayush99/.julia/packages/Plots/gylTh/src/backends/pyplot.jl:1058\n",
      "┌ Warning: `getindex(o::PyObject, s::Symbol)` is deprecated in favor of dot overloading (`getproperty`) so elements should now be accessed as e.g. `o.s` instead of `o[:s]`.\n",
      "│   caller = _before_layout_calcs(::Plots.Plot{Plots.PyPlotBackend}) at pyplot.jl:1060\n",
      "└ @ Plots /home/ayush99/.julia/packages/Plots/gylTh/src/backends/pyplot.jl:1060\n",
      "┌ Warning: `getindex(o::PyObject, s::Symbol)` is deprecated in favor of dot overloading (`getproperty`) so elements should now be accessed as e.g. `o.s` instead of `o[:s]`.\n",
      "│   caller = py_set_scale(::PyCall.PyObject, ::Plots.Axis) at pyplot.jl:894\n",
      "└ @ Plots /home/ayush99/.julia/packages/Plots/gylTh/src/backends/pyplot.jl:894\n",
      "┌ Warning: `getindex(o::PyObject, s::Symbol)` is deprecated in favor of dot overloading (`getproperty`) so elements should now be accessed as e.g. `o.s` instead of `o[:s]`.\n",
      "│   caller = py_set_lims(::PyCall.PyObject, ::Plots.Axis) at pyplot.jl:844\n",
      "└ @ Plots /home/ayush99/.julia/packages/Plots/gylTh/src/backends/pyplot.jl:844\n",
      "┌ Warning: `getindex(o::PyObject, s::Symbol)` is deprecated in favor of dot overloading (`getproperty`) so elements should now be accessed as e.g. `o.s` instead of `o[:s]`.\n",
      "│   caller = py_set_ticks(::PyCall.PyObject, ::Tuple{Array{Float64,1},Array{String,1}}, ::Symbol) at pyplot.jl:849\n",
      "└ @ Plots /home/ayush99/.julia/packages/Plots/gylTh/src/backends/pyplot.jl:849\n",
      "┌ Warning: `getindex(o::PyObject, s::Symbol)` is deprecated in favor of dot overloading (`getproperty`) so elements should now be accessed as e.g. `o.s` instead of `o[:s]`.\n",
      "│   caller = py_set_ticks(::PyCall.PyObject, ::Tuple{Array{Float64,1},Array{String,1}}, ::Symbol) at pyplot.jl:863\n",
      "└ @ Plots /home/ayush99/.julia/packages/Plots/gylTh/src/backends/pyplot.jl:863\n",
      "┌ Warning: `getindex(o::PyObject, s::Symbol)` is deprecated in favor of dot overloading (`getproperty`) so elements should now be accessed as e.g. `o.s` instead of `o[:s]`.\n",
      "│   caller = py_set_ticks(::PyCall.PyObject, ::Tuple{Array{Float64,1},Array{String,1}}, ::Symbol) at pyplot.jl:864\n",
      "└ @ Plots /home/ayush99/.julia/packages/Plots/gylTh/src/backends/pyplot.jl:864\n",
      "┌ Warning: `getindex(o::PyObject, s::Symbol)` is deprecated in favor of dot overloading (`getproperty`) so elements should now be accessed as e.g. `o.s` instead of `o[:s]`.\n",
      "│   caller = _before_layout_calcs(::Plots.Plot{Plots.PyPlotBackend}) at pyplot.jl:1081\n",
      "└ @ Plots /home/ayush99/.julia/packages/Plots/gylTh/src/backends/pyplot.jl:1081\n",
      "┌ Warning: `getindex(o::PyObject, s::Symbol)` is deprecated in favor of dot overloading (`getproperty`) so elements should now be accessed as e.g. `o.s` instead of `o[:s]`.\n",
      "│   caller = _before_layout_calcs(::Plots.Plot{Plots.PyPlotBackend}) at pyplot.jl:1082\n",
      "└ @ Plots /home/ayush99/.julia/packages/Plots/gylTh/src/backends/pyplot.jl:1082\n",
      "┌ Warning: `getindex(o::PyObject, s::Symbol)` is deprecated in favor of dot overloading (`getproperty`) so elements should now be accessed as e.g. `o.s` instead of `o[:s]`.\n",
      "│   caller = _before_layout_calcs(::Plots.Plot{Plots.PyPlotBackend}) at pyplot.jl:1086\n",
      "└ @ Plots /home/ayush99/.julia/packages/Plots/gylTh/src/backends/pyplot.jl:1086\n",
      "┌ Warning: `getindex(o::PyObject, s::Symbol)` is deprecated in favor of dot overloading (`getproperty`) so elements should now be accessed as e.g. `o.s` instead of `o[:s]`.\n",
      "│   caller = _before_layout_calcs(::Plots.Plot{Plots.PyPlotBackend}) at pyplot.jl:1086\n",
      "└ @ Plots /home/ayush99/.julia/packages/Plots/gylTh/src/backends/pyplot.jl:1086\n",
      "┌ Warning: `getindex(o::PyObject, s::Symbol)` is deprecated in favor of dot overloading (`getproperty`) so elements should now be accessed as e.g. `o.s` instead of `o[:s]`.\n",
      "│   caller = _before_layout_calcs(::Plots.Plot{Plots.PyPlotBackend}) at pyplot.jl:1087\n",
      "└ @ Plots /home/ayush99/.julia/packages/Plots/gylTh/src/backends/pyplot.jl:1087\n",
      "┌ Warning: `getindex(o::PyObject, s::Symbol)` is deprecated in favor of dot overloading (`getproperty`) so elements should now be accessed as e.g. `o.s` instead of `o[:s]`.\n",
      "│   caller = _before_layout_calcs(::Plots.Plot{Plots.PyPlotBackend}) at pyplot.jl:1087\n",
      "└ @ Plots /home/ayush99/.julia/packages/Plots/gylTh/src/backends/pyplot.jl:1087\n",
      "┌ Warning: `getindex(o::PyObject, s::Symbol)` is deprecated in favor of dot overloading (`getproperty`) so elements should now be accessed as e.g. `o.s` instead of `o[:s]`.\n",
      "│   caller = _before_layout_calcs(::Plots.Plot{Plots.PyPlotBackend}) at pyplot.jl:1088\n",
      "└ @ Plots /home/ayush99/.julia/packages/Plots/gylTh/src/backends/pyplot.jl:1088\n",
      "┌ Warning: `getindex(o::PyObject, s::Symbol)` is deprecated in favor of dot overloading (`getproperty`) so elements should now be accessed as e.g. `o.s` instead of `o[:s]`.\n",
      "│   caller = _before_layout_calcs(::Plots.Plot{Plots.PyPlotBackend}) at pyplot.jl:1089\n",
      "└ @ Plots /home/ayush99/.julia/packages/Plots/gylTh/src/backends/pyplot.jl:1089\n",
      "┌ Warning: `getindex(o::PyObject, s::Symbol)` is deprecated in favor of dot overloading (`getproperty`) so elements should now be accessed as e.g. `o.s` instead of `o[:s]`.\n",
      "│   caller = _before_layout_calcs(::Plots.Plot{Plots.PyPlotBackend}) at pyplot.jl:1090\n",
      "└ @ Plots /home/ayush99/.julia/packages/Plots/gylTh/src/backends/pyplot.jl:1090\n",
      "┌ Warning: `getindex(o::PyObject, s::Symbol)` is deprecated in favor of dot overloading (`getproperty`) so elements should now be accessed as e.g. `o.s` instead of `o[:s]`.\n",
      "│   caller = _before_layout_calcs(::Plots.Plot{Plots.PyPlotBackend}) at pyplot.jl:1091\n",
      "└ @ Plots /home/ayush99/.julia/packages/Plots/gylTh/src/backends/pyplot.jl:1091\n",
      "┌ Warning: `getindex(o::PyObject, s::Symbol)` is deprecated in favor of dot overloading (`getproperty`) so elements should now be accessed as e.g. `o.s` instead of `o[:s]`.\n",
      "│   caller = _before_layout_calcs(::Plots.Plot{Plots.PyPlotBackend}) at pyplot.jl:1095\n",
      "└ @ Plots /home/ayush99/.julia/packages/Plots/gylTh/src/backends/pyplot.jl:1095\n",
      "┌ Warning: `getindex(o::PyObject, s::Symbol)` is deprecated in favor of dot overloading (`getproperty`) so elements should now be accessed as e.g. `o.s` instead of `o[:s]`.\n",
      "│   caller = _before_layout_calcs(::Plots.Plot{Plots.PyPlotBackend}) at pyplot.jl:1100\n",
      "└ @ Plots /home/ayush99/.julia/packages/Plots/gylTh/src/backends/pyplot.jl:1100\n",
      "┌ Warning: `getindex(o::PyObject, s::Symbol)` is deprecated in favor of dot overloading (`getproperty`) so elements should now be accessed as e.g. `o.s` instead of `o[:s]`.\n",
      "│   caller = py_set_axis_colors(::Plots.Subplot{Plots.PyPlotBackend}, ::PyCall.PyObject, ::Plots.Axis) at pyplot.jl:914\n",
      "└ @ Plots /home/ayush99/.julia/packages/Plots/gylTh/src/backends/pyplot.jl:914\n",
      "┌ Warning: `getindex(o::PyObject, s::Symbol)` is deprecated in favor of dot overloading (`getproperty`) so elements should now be accessed as e.g. `o.s` instead of `o[:s]`.\n",
      "│   caller = py_set_axis_colors(::Plots.Subplot{Plots.PyPlotBackend}, ::PyCall.PyObject, ::Plots.Axis) at pyplot.jl:915\n",
      "└ @ Plots /home/ayush99/.julia/packages/Plots/gylTh/src/backends/pyplot.jl:915\n",
      "┌ Warning: `haskey(o::PyObject, s::Union{Symbol, AbstractString})` is deprecated, use `hasproperty(o, s)` instead.\n",
      "│   caller = py_set_axis_colors(::Plots.Subplot{Plots.PyPlotBackend}, ::PyCall.PyObject, ::Plots.Axis) at pyplot.jl:918\n",
      "└ @ Plots /home/ayush99/.julia/packages/Plots/gylTh/src/backends/pyplot.jl:918\n",
      "┌ Warning: `getindex(o::PyObject, s::Symbol)` is deprecated in favor of dot overloading (`getproperty`) so elements should now be accessed as e.g. `o.s` instead of `o[:s]`.\n",
      "│   caller = py_set_axis_colors(::Plots.Subplot{Plots.PyPlotBackend}, ::PyCall.PyObject, ::Plots.Axis) at pyplot.jl:920\n",
      "└ @ Plots /home/ayush99/.julia/packages/Plots/gylTh/src/backends/pyplot.jl:920\n",
      "┌ Warning: `getindex(o::PyObject, s::Symbol)` is deprecated in favor of dot overloading (`getproperty`) so elements should now be accessed as e.g. `o.s` instead of `o[:s]`.\n",
      "│   caller = py_set_axis_colors(::Plots.Subplot{Plots.PyPlotBackend}, ::PyCall.PyObject, ::Plots.Axis) at pyplot.jl:923\n",
      "└ @ Plots /home/ayush99/.julia/packages/Plots/gylTh/src/backends/pyplot.jl:923\n",
      "┌ Warning: `getindex(o::PyObject, s::Symbol)` is deprecated in favor of dot overloading (`getproperty`) so elements should now be accessed as e.g. `o.s` instead of `o[:s]`.\n",
      "│   caller = py_set_axis_colors(::Plots.Subplot{Plots.PyPlotBackend}, ::PyCall.PyObject, ::Plots.Axis) at pyplot.jl:923\n",
      "└ @ Plots /home/ayush99/.julia/packages/Plots/gylTh/src/backends/pyplot.jl:923\n",
      "┌ Warning: `getindex(o::PyObject, s::Symbol)` is deprecated in favor of dot overloading (`getproperty`) so elements should now be accessed as e.g. `o.s` instead of `o[:s]`.\n",
      "│   caller = py_set_axis_colors(::Plots.Subplot{Plots.PyPlotBackend}, ::PyCall.PyObject, ::Plots.Axis) at pyplot.jl:923\n",
      "└ @ Plots /home/ayush99/.julia/packages/Plots/gylTh/src/backends/pyplot.jl:923\n",
      "┌ Warning: `getindex(o::PyObject, s::Symbol)` is deprecated in favor of dot overloading (`getproperty`) so elements should now be accessed as e.g. `o.s` instead of `o[:s]`.\n",
      "│   caller = py_add_legend(::Plots.Plot{Plots.PyPlotBackend}, ::Plots.Subplot{Plots.PyPlotBackend}, ::PyCall.PyObject) at pyplot.jl:1254\n",
      "└ @ Plots /home/ayush99/.julia/packages/Plots/gylTh/src/backends/pyplot.jl:1254\n",
      "┌ Warning: `getindex(o::PyObject, s::Symbol)` is deprecated in favor of dot overloading (`getproperty`) so elements should now be accessed as e.g. `o.s` instead of `o[:s]`.\n",
      "│   caller = py_add_legend(::Plots.Plot{Plots.PyPlotBackend}, ::Plots.Subplot{Plots.PyPlotBackend}, ::PyCall.PyObject) at pyplot.jl:1271\n",
      "└ @ Plots /home/ayush99/.julia/packages/Plots/gylTh/src/backends/pyplot.jl:1271\n",
      "┌ Warning: `getindex(o::PyObject, s::Symbol)` is deprecated in favor of dot overloading (`getproperty`) so elements should now be accessed as e.g. `o.s` instead of `o[:s]`.\n",
      "│   caller = py_add_legend(::Plots.Plot{Plots.PyPlotBackend}, ::Plots.Subplot{Plots.PyPlotBackend}, ::PyCall.PyObject) at pyplot.jl:1280\n",
      "└ @ Plots /home/ayush99/.julia/packages/Plots/gylTh/src/backends/pyplot.jl:1280\n",
      "┌ Warning: `getindex(o::PyObject, s::Symbol)` is deprecated in favor of dot overloading (`getproperty`) so elements should now be accessed as e.g. `o.s` instead of `o[:s]`.\n",
      "│   caller = py_add_legend(::Plots.Plot{Plots.PyPlotBackend}, ::Plots.Subplot{Plots.PyPlotBackend}, ::PyCall.PyObject) at pyplot.jl:1281\n",
      "└ @ Plots /home/ayush99/.julia/packages/Plots/gylTh/src/backends/pyplot.jl:1281\n",
      "┌ Warning: `getindex(o::PyObject, s::Symbol)` is deprecated in favor of dot overloading (`getproperty`) so elements should now be accessed as e.g. `o.s` instead of `o[:s]`.\n",
      "│   caller = py_add_legend(::Plots.Plot{Plots.PyPlotBackend}, ::Plots.Subplot{Plots.PyPlotBackend}, ::PyCall.PyObject) at pyplot.jl:1282\n",
      "└ @ Plots /home/ayush99/.julia/packages/Plots/gylTh/src/backends/pyplot.jl:1282\n",
      "┌ Warning: `getindex(o::PyObject, s::Symbol)` is deprecated in favor of dot overloading (`getproperty`) so elements should now be accessed as e.g. `o.s` instead of `o[:s]`.\n",
      "│   caller = py_add_legend(::Plots.Plot{Plots.PyPlotBackend}, ::Plots.Subplot{Plots.PyPlotBackend}, ::PyCall.PyObject) at pyplot.jl:1285\n",
      "└ @ Plots /home/ayush99/.julia/packages/Plots/gylTh/src/backends/pyplot.jl:1285\n",
      "┌ Warning: `getindex(o::PyObject, s::Symbol)` is deprecated in favor of dot overloading (`getproperty`) so elements should now be accessed as e.g. `o.s` instead of `o[:s]`.\n",
      "│   caller = py_add_legend(::Plots.Plot{Plots.PyPlotBackend}, ::Plots.Subplot{Plots.PyPlotBackend}, ::PyCall.PyObject) at pyplot.jl:1286\n",
      "└ @ Plots /home/ayush99/.julia/packages/Plots/gylTh/src/backends/pyplot.jl:1286\n",
      "┌ Warning: `getindex(o::PyObject, s::Symbol)` is deprecated in favor of dot overloading (`getproperty`) so elements should now be accessed as e.g. `o.s` instead of `o[:s]`.\n",
      "│   caller = _before_layout_calcs(::Plots.Plot{Plots.PyPlotBackend}) at pyplot.jl:1148\n",
      "└ @ Plots /home/ayush99/.julia/packages/Plots/gylTh/src/backends/pyplot.jl:1148\n",
      "┌ Warning: `getindex(f::Figure, x)` is deprecated, use `getproperty(f, x)` instead.\n",
      "│   caller = py_drawfig(::PyPlot.Figure) at pyplot.jl:257\n",
      "└ @ Plots /home/ayush99/.julia/packages/Plots/gylTh/src/backends/pyplot.jl:257\n",
      "┌ Warning: `getindex(f::Figure, x)` is deprecated, use `getproperty(f, x)` instead.\n",
      "│   caller = py_canvas at pyplot.jl:251 [inlined]\n",
      "└ @ Core /home/ayush99/.julia/packages/Plots/gylTh/src/backends/pyplot.jl:251\n",
      "┌ Warning: `getindex(o::PyObject, s::Symbol)` is deprecated in favor of dot overloading (`getproperty`) so elements should now be accessed as e.g. `o.s` instead of `o[:s]`.\n",
      "│   caller = py_renderer(::PyPlot.Figure) at pyplot.jl:254\n",
      "└ @ Plots /home/ayush99/.julia/packages/Plots/gylTh/src/backends/pyplot.jl:254\n",
      "┌ Warning: `getindex(o::PyObject, s::Symbol)` is deprecated in favor of dot overloading (`getproperty`) so elements should now be accessed as e.g. `o.s` instead of `o[:s]`.\n",
      "│   caller = py_bbox(::PyCall.PyObject) at pyplot.jl:266\n",
      "└ @ Plots /home/ayush99/.julia/packages/Plots/gylTh/src/backends/pyplot.jl:266\n",
      "┌ Warning: `getindex(f::Figure, x)` is deprecated, use `getproperty(f, x)` instead.\n",
      "│   caller = py_extents(::PyPlot.Figure) at pyplot.jl:261\n",
      "└ @ Plots /home/ayush99/.julia/packages/Plots/gylTh/src/backends/pyplot.jl:261\n",
      "┌ Warning: `getindex(o::PyObject, s::Symbol)` is deprecated in favor of dot overloading (`getproperty`) so elements should now be accessed as e.g. `o.s` instead of `o[:s]`.\n",
      "│   caller = py_extents(::PyPlot.Figure) at pyplot.jl:261\n",
      "└ @ Plots /home/ayush99/.julia/packages/Plots/gylTh/src/backends/pyplot.jl:261\n",
      "┌ Warning: `getindex(o::PyObject, s::Symbol)` is deprecated in favor of dot overloading (`getproperty`) so elements should now be accessed as e.g. `o.s` instead of `o[:s]`.\n",
      "│   caller = py_extents(::PyCall.PyObject) at pyplot.jl:261\n",
      "└ @ Plots /home/ayush99/.julia/packages/Plots/gylTh/src/backends/pyplot.jl:261\n",
      "┌ Warning: `getindex(o::PyObject, s::Symbol)` is deprecated in favor of dot overloading (`getproperty`) so elements should now be accessed as e.g. `o.s` instead of `o[:s]`.\n",
      "│   caller = py_extents(::PyCall.PyObject) at pyplot.jl:261\n",
      "└ @ Plots /home/ayush99/.julia/packages/Plots/gylTh/src/backends/pyplot.jl:261\n",
      "┌ Warning: `getindex(o::PyObject, s::Symbol)` is deprecated in favor of dot overloading (`getproperty`) so elements should now be accessed as e.g. `o.s` instead of `o[:s]`.\n",
      "│   caller = py_bbox_ticks(::PyCall.PyObject, ::String) at pyplot.jl:282\n",
      "└ @ Plots /home/ayush99/.julia/packages/Plots/gylTh/src/backends/pyplot.jl:282\n",
      "┌ Warning: `getindex(o::PyObject, s::Symbol)` is deprecated in favor of dot overloading (`getproperty`) so elements should now be accessed as e.g. `o.s` instead of `o[:s]`.\n",
      "│   caller = py_bbox_axislabel(::PyCall.PyObject, ::String) at pyplot.jl:288\n",
      "└ @ Plots /home/ayush99/.julia/packages/Plots/gylTh/src/backends/pyplot.jl:288\n",
      "┌ Warning: `getindex(o::PyObject, s::Symbol)` is deprecated in favor of dot overloading (`getproperty`) so elements should now be accessed as e.g. `o.s` instead of `o[:s]`.\n",
      "│   caller = py_bbox_axislabel(::PyCall.PyObject, ::String) at pyplot.jl:288\n",
      "└ @ Plots /home/ayush99/.julia/packages/Plots/gylTh/src/backends/pyplot.jl:288\n",
      "┌ Warning: `getindex(o::PyObject, s::Symbol)` is deprecated in favor of dot overloading (`getproperty`) so elements should now be accessed as e.g. `o.s` instead of `o[:s]`.\n",
      "│   caller = py_bbox_title(::PyCall.PyObject) at pyplot.jl:304\n",
      "└ @ Plots /home/ayush99/.julia/packages/Plots/gylTh/src/backends/pyplot.jl:304\n",
      "┌ Warning: `getindex(o::PyObject, s::Symbol)` is deprecated in favor of dot overloading (`getproperty`) so elements should now be accessed as e.g. `o.s` instead of `o[:s]`.\n",
      "│   caller = py_bbox_title(::PyCall.PyObject) at pyplot.jl:304\n",
      "└ @ Plots /home/ayush99/.julia/packages/Plots/gylTh/src/backends/pyplot.jl:304\n",
      "┌ Warning: `getindex(o::PyObject, s::Symbol)` is deprecated in favor of dot overloading (`getproperty`) so elements should now be accessed as e.g. `o.s` instead of `o[:s]`.\n",
      "│   caller = py_bbox_title(::PyCall.PyObject) at pyplot.jl:304\n",
      "└ @ Plots /home/ayush99/.julia/packages/Plots/gylTh/src/backends/pyplot.jl:304\n"
     ]
    },
    {
     "data": {
      "image/png": "[encoded data removed]"
     },
     "execution_count": 31,
     "metadata": {},
     "output_type": "execute_result"
    },
    {
     "name": "stderr",
     "output_type": "stream",
     "text": [
      "┌ Warning: `getindex(o::PyObject, s::Symbol)` is deprecated in favor of dot overloading (`getproperty`) so elements should now be accessed as e.g. `o.s` instead of `o[:s]`.\n",
      "│   caller = _update_plot_object(::Plots.Plot{Plots.PyPlotBackend}) at pyplot.jl:1304\n",
      "└ @ Plots /home/ayush99/.julia/packages/Plots/gylTh/src/backends/pyplot.jl:1304\n",
      "┌ Warning: `getindex(f::Figure, x)` is deprecated, use `getproperty(f, x)` instead.\n",
      "│   caller = _show(::Base64.Base64EncodePipe, ::MIME{Symbol(\"image/png\")}, ::Plots.Plot{Plots.PyPlotBackend}) at pyplot.jl:1343\n",
      "└ @ Plots /home/ayush99/.julia/packages/Plots/gylTh/src/backends/pyplot.jl:1343\n",
      "┌ Warning: `getindex(o::PyObject, s::Symbol)` is deprecated in favor of dot overloading (`getproperty`) so elements should now be accessed as e.g. `o.s` instead of `o[:s]`.\n",
      "│   caller = _show(::Base64.Base64EncodePipe, ::MIME{Symbol(\"image/png\")}, ::Plots.Plot{Plots.PyPlotBackend}) at pyplot.jl:1343\n",
      "└ @ Plots /home/ayush99/.julia/packages/Plots/gylTh/src/backends/pyplot.jl:1343\n",
      "┌ Warning: `getindex(f::Figure, x)` is deprecated, use `getproperty(f, x)` instead.\n",
      "│   caller = _show(::Base64.Base64EncodePipe, ::MIME{Symbol(\"image/png\")}, ::Plots.Plot{Plots.PyPlotBackend}) at pyplot.jl:1343\n",
      "└ @ Plots /home/ayush99/.julia/packages/Plots/gylTh/src/backends/pyplot.jl:1343\n"
     ]
    }
   ],
   "source": [
    "# learning curves:\n",
    "nn = machine(nnmodel, X, y)\n",
    "r = range(nnmodel, :n, lower=1, upper=50)\n",
    "curve = learning_curve!(nn, nested_range=(n=r,), n=4)\n",
    "\n",
    "using Plots\n",
    "pyplot()\n",
    "\n",
    "plot(curve.parameter_values, curve.measurements,\n",
    "     xlab=curve.parameter_name)"
   ]
  },
  {
   "cell_type": "code",
   "execution_count": null,
   "metadata": {},
   "outputs": [],
   "source": []
  }
 ],
 "metadata": {
  "kernelspec": {
   "display_name": "Julia 1.1.0",
   "language": "julia",
   "name": "julia-1.1"
  },
  "language_info": {
   "file_extension": ".jl",
   "mimetype": "application/julia",
   "name": "julia",
   "version": "1.1.0"
  }
 },
 "nbformat": 4,
 "nbformat_minor": 2
}
