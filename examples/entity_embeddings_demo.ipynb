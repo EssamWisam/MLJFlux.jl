{
 "cells": [
  {
   "cell_type": "code",
   "execution_count": 1,
   "metadata": {},
   "outputs": [
    {
     "name": "stderr",
     "output_type": "stream",
     "text": [
      "┌ Info: Recompiling stale cache file /home/ayush99/.julia/compiled/v1.1/MLJFlux/fHjkl.ji for MLJFlux [094fc8d1-fd35-5302-93ea-dabda2abf845]\n",
      "└ @ Base loading.jl:1184\n",
      "[ Info: Loading model metadata\n",
      "┌ Warning: Package MLJFlux does not have CategoricalArrays in its dependencies:\n",
      "│ - If you have MLJFlux checked out for development and have\n",
      "│   added CategoricalArrays as a dependency but haven't updated your primary\n",
      "│   environment's manifest file, try `Pkg.resolve()`.\n",
      "│ - Otherwise you may need to report an issue with MLJFlux\n",
      "└ Loading CategoricalArrays into MLJFlux from project dependency, future warnings for MLJFlux are suppressed.\n",
      "┌ Info: Loading model metadata\n",
      "└ @ MLJ /home/ayush99/.julia/dev/MLJ/src/MLJ.jl:114\n"
     ]
    }
   ],
   "source": [
    "using MLJFlux\n",
    "using MLJ"
   ]
  },
  {
   "cell_type": "code",
   "execution_count": 2,
   "metadata": {},
   "outputs": [],
   "source": [
    "using CategoricalArrays"
   ]
  },
  {
   "cell_type": "code",
   "execution_count": 3,
   "metadata": {},
   "outputs": [],
   "source": [
    "using Flux"
   ]
  },
  {
   "cell_type": "code",
   "execution_count": 4,
   "metadata": {},
   "outputs": [],
   "source": [
    "x = (x1 = CategoricalArray(rand(\"abc\", 10)),\n",
    "    x2 = CategoricalArray(rand(\"xyz\", 10)),\n",
    "    x3 = CategoricalArray(rand(\"efg\", 10)),\n",
    "    x4 = CategoricalArray(rand(\"hij\", 10)));"
   ]
  },
  {
   "cell_type": "code",
   "execution_count": 5,
   "metadata": {},
   "outputs": [],
   "source": [
    "y = rand(10,);"
   ]
  },
  {
   "cell_type": "code",
   "execution_count": 6,
   "metadata": {},
   "outputs": [],
   "source": [
    "mutable struct mynn <: MLJFlux.Builder\n",
    "    n1\n",
    "    n2\n",
    "    n3\n",
    "end\n",
    "\n",
    "function MLJFlux.fit(nn :: mynn, n, m)\n",
    "    return Chain(Dense(n, nn.n1), Dense(nn.n1, nn.n2), Dense(nn.n2, nn.n3), Dense(nn.n3, m))\n",
    "end"
   ]
  },
  {
   "cell_type": "code",
   "execution_count": 7,
   "metadata": {},
   "outputs": [
    {
     "data": {
      "text/plain": [
       "NeuralNetworkRegressor(builder = \u001b[34mmynn @ 3…09\u001b[39m,\n",
       "                       optimiser = ADAM(0.001, (0.9, 0.999), IdDict{Any,Any}()),\n",
       "                       loss = Flux.mse,\n",
       "                       n = 10,\n",
       "                       batch_size = 1,\n",
       "                       lambda = 0.0,\n",
       "                       alpha = 0.0,\n",
       "                       optimiser_changes_trigger_retraining = false,\n",
       "                       embedding_choice = :onehot,)\u001b[34m @ 1…20\u001b[39m"
      ]
     },
     "execution_count": 7,
     "metadata": {},
     "output_type": "execute_result"
    }
   ],
   "source": [
    "nnreg = NeuralNetworkRegressor(builder = mynn(5,5,5))"
   ]
  },
  {
   "cell_type": "code",
   "execution_count": 8,
   "metadata": {},
   "outputs": [
    {
     "name": "stderr",
     "output_type": "stream",
     "text": [
      "┌ Warning: The scitypes of elements of X, in machine(model, X, y), should be a subtype of Continuous. \n",
      "└ @ MLJ /home/ayush99/.julia/dev/MLJ/src/machines.jl:37\n"
     ]
    },
    {
     "data": {
      "text/plain": [
       "\u001b[34mMachine{NeuralNetworkRegressor} @ 9…17\u001b[39m\n"
      ]
     },
     "execution_count": 8,
     "metadata": {},
     "output_type": "execute_result"
    }
   ],
   "source": [
    "mach= machine(nnreg, x, vec(y))"
   ]
  },
  {
   "cell_type": "code",
   "execution_count": 9,
   "metadata": {},
   "outputs": [
    {
     "name": "stderr",
     "output_type": "stream",
     "text": [
      "┌ Info: Training \u001b[34mMachine{NeuralNetworkRegressor} @ 9…17\u001b[39m.\n",
      "└ @ MLJ /home/ayush99/.julia/dev/MLJ/src/machines.jl:140\n"
     ]
    },
    {
     "name": "stdout",
     "output_type": "stream",
     "text": [
      "Loss is 1.8190072671325053\n",
      "Loss is 1.140113594482804\n",
      "Loss is 0.9061604386346438\n",
      "Loss is 0.8587735106381289\n",
      "Loss is 0.8388550366451888\n",
      "Loss is 0.8135766793248528\n",
      "Loss is 0.7900765943641694\n",
      "Loss is 0.7703825714470272\n",
      "Loss is 0.7527274519184055\n",
      "Loss is 0.7361754949301368\n"
     ]
    },
    {
     "data": {
      "text/plain": [
       "\u001b[34mMachine{NeuralNetworkRegressor} @ 9…17\u001b[39m\n"
      ]
     },
     "execution_count": 9,
     "metadata": {},
     "output_type": "execute_result"
    }
   ],
   "source": [
    "fit!(mach, verbosity=2)"
   ]
  },
  {
   "cell_type": "code",
   "execution_count": null,
   "metadata": {},
   "outputs": [],
   "source": []
  }
 ],
 "metadata": {
  "kernelspec": {
   "display_name": "Julia 1.1.1",
   "language": "julia",
   "name": "julia-1.1"
  },
  "language_info": {
   "file_extension": ".jl",
   "mimetype": "application/julia",
   "name": "julia",
   "version": "1.1.1"
  }
 },
 "nbformat": 4,
 "nbformat_minor": 2
}
